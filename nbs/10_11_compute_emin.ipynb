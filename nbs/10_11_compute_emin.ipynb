{
 "cells": [
  {
   "cell_type": "raw",
   "metadata": {},
   "source": [
    "---\n",
    "description: 'AUTHORS: __Julien Ruffault (julien.ruff@gmail.com), Nicolas Martin-StPaul\n",
    "  (nicolas.martin@inrae.fr)__'\n",
    "output-file: compute_emin.html\n",
    "title: Compute minimum transpiration\n",
    "---\n",
    "\n"
   ]
  },
  {
   "cell_type": "code",
   "execution_count": null,
   "metadata": {},
   "outputs": [],
   "source": [
    "# | default_exp compute_emin"
   ]
  },
  {
   "cell_type": "code",
   "execution_count": null,
   "metadata": {},
   "outputs": [],
   "source": [
    "# | hide\n",
    "from nbdev.showdoc import *\n",
    "from fastcore.test import *"
   ]
  },
  {
   "cell_type": "code",
   "execution_count": null,
   "metadata": {},
   "outputs": [],
   "source": [
    "# | export\n",
    "import numpy as np"
   ]
  },
  {
   "cell_type": "code",
   "execution_count": null,
   "metadata": {},
   "outputs": [],
   "source": [
    "# | export\n",
    "\n",
    "# Osmotic potential\n",
    "def compute_emin(gmin:float, # minimum conductance\n",
    "                 vpd:float,  # Vapor Pressure Deficit  (kPa)\n",
    "                 g_bl:float, # Unknown parameter definition\n",
    "                 g_crown:float, # Unknown parameter definition\n",
    "                 air_pressure:float = 101.3, # Surface air pressure (kPa)\n",
    "                 ) -> float:\n",
    "\n",
    "        \"Calculate minimum transpiration (emin)\"\n",
    "\n",
    "        gmin_tot = 1/(1/gmin+ 1/g_bl + 1/g_crown)\n",
    "        return gmin_tot * (vpd /air_pressure)"
   ]
  }
 ],
 "metadata": {
  "kernelspec": {
   "display_name": "python3",
   "language": "python",
   "name": "python3"
  },
  "language_info": {
   "codemirror_mode": {
    "name": "ipython",
    "version": 3
   },
   "file_extension": ".py",
   "mimetype": "text/x-python",
   "name": "python",
   "nbconvert_exporter": "python",
   "pygments_lexer": "ipython3",
   "version": "3.9.18"
  }
 },
 "nbformat": 4,
 "nbformat_minor": 4
}
