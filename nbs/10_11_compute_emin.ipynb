{
 "cells": [
  {
   "cell_type": "raw",
   "metadata": {},
   "source": [
    "---\n",
    "description: 'AUTHORS: __Julien Ruffault (julien.ruff@gmail.com), Nicolas Martin-StPaul\n",
    "  (nicolas.martin@inrae.fr)__'\n",
    "output-file: compute_emin.html\n",
    "title: Compute minimum transpiration\n",
    "---\n",
    "\n"
   ]
  },
  {
   "cell_type": "code",
   "execution_count": null,
   "metadata": {},
   "outputs": [],
   "source": [
    "# | default_exp compute_emin"
   ]
  },
  {
   "cell_type": "code",
   "execution_count": null,
   "metadata": {},
   "outputs": [],
   "source": [
    "# | hide\n",
    "from nbdev.showdoc import *\n",
    "from fastcore.test import *"
   ]
  },
  {
   "cell_type": "code",
   "execution_count": null,
   "metadata": {},
   "outputs": [],
   "source": [
    "# | export\n",
    "import numpy as np"
   ]
  },
  {
   "cell_type": "code",
   "execution_count": null,
   "metadata": {},
   "outputs": [],
   "source": [
    "# | export\n",
    "\n",
    "# Osmotic potential\n",
    "def compute_emin(gmin:float, # minimum conductance\n",
    "                 vpd:float,  # Vapor Pressure Deficit  (kPa)\n",
    "                 g_bl:float, # Unknown parameter definition\n",
    "                 g_crown:float, # Unknown parameter definition\n",
    "                 air_pressure:float = 101.3, # Surface air pressure (kPa)\n",
    "                 ) -> float:\n",
    "\n",
    "        \"Calculate minimum transpiration (emin)\"\n",
    "\n",
    "        gmin_tot = 1/(1/gmin+ 1/g_bl + 1/g_crown)\n",
    "        return gmin_tot * (vpd /air_pressure)"
   ]
  }
 ],
 "metadata": {
  "kernelspec": {
   "display_name": "python3",
   "language": "python",
   "name": "python3"
  }
 },
 "nbformat": 4,
 "nbformat_minor": 4
}
