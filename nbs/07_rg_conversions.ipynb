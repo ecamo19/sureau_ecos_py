{
 "cells": [
  {
   "cell_type": "raw",
   "metadata": {},
   "source": [
    "---\n",
    "description: 'AUTHORS: __Julien Ruffault (julien.ruff@gmail.com), Nicolas Martin-StPaul\n",
    "  (nicolas.martin@inrae.fr)__'\n",
    "output-file: rg_conversions.html\n",
    "title: Global radiation conversions\n",
    "\n",
    "---\n",
    "\n"
   ]
  },
  {
   "cell_type": "code",
   "execution_count": null,
   "metadata": {},
   "outputs": [],
   "source": [
    "# | default_exp rg_conversions"
   ]
  },
  {
   "cell_type": "code",
   "execution_count": null,
   "metadata": {},
   "outputs": [],
   "source": [
    "# | hide\n",
    "from nbdev.showdoc import *\n",
    "from fastcore.test import *"
   ]
  },
  {
   "cell_type": "code",
   "execution_count": null,
   "metadata": {},
   "outputs": [],
   "source": [
    "# | export\n",
    "\n",
    "\n",
    "def rg_convertions(\n",
    "    rg_watts: float = None,  # instantaneous radiation (watt)\n",
    "    rg_mj: float = None,  # instantaneous radiation (in Mega Jule?)\n",
    "    nhours: float = None,\n",
    "):\n",
    "    \"Convert instantaneous radiation in watt to dialy cumulative radiation in MJ (MJ.day-1)\"\n",
    "\n",
    "    if rg_watts is not None and rg_mj is None:\n",
    "        print(\"Conversion of rg from watts to Mega Jules\")\n",
    "\n",
    "        # Conversion from watts to Mega Jules\n",
    "        return rg_watts * 0.0864\n",
    "\n",
    "    if rg_mj is not None and rg_watts is None and nhours is None:\n",
    "        print(\"Conversion of rg from Mega Jules to Watts\")\n",
    "\n",
    "        # Conversion from Mega Jules to watts\n",
    "        return rg_mj * (1 / 0.0864)\n",
    "\n",
    "    if rg_mj is not None and rg_watts is None and nhours is not None:\n",
    "        print(\"Conversion of rg from Mega Jules to Watts/hour\")\n",
    "\n",
    "        # Conversion from Mega Jules to watts/hour\n",
    "        return rg_mj * (10**6 / (nhours * 3600))\n",
    "\n",
    "    elif rg_mj is not None and rg_watts is not None:\n",
    "        return print(\"Select one conversion rg_mj or rg_watts\")\n",
    "\n",
    "    else:\n",
    "        print(\"No conversions performed\")"
   ]
  },
  {
   "cell_type": "code",
   "execution_count": null,
   "metadata": {},
   "outputs": [
    {
     "name": "stdout",
     "output_type": "stream",
     "text": [
      "Conversion of rg from watts to Mega Jules\n"
     ]
    },
    {
     "data": {
      "text/plain": [
       "0.0864"
      ]
     },
     "execution_count": null,
     "metadata": {},
     "output_type": "execute_result"
    }
   ],
   "source": [
    "rg_convertions(rg_watts=1)"
   ]
  },
  {
   "cell_type": "code",
   "execution_count": null,
   "metadata": {},
   "outputs": [
    {
     "name": "stdout",
     "output_type": "stream",
     "text": [
      "Conversion of rg from Mega Jules to Watts\n"
     ]
    },
    {
     "data": {
      "text/plain": [
       "11.574074074074073"
      ]
     },
     "execution_count": null,
     "metadata": {},
     "output_type": "execute_result"
    }
   ],
   "source": [
    "rg_convertions(rg_mj=1)"
   ]
  },
  {
   "cell_type": "code",
   "execution_count": null,
   "metadata": {},
   "outputs": [
    {
     "name": "stdout",
     "output_type": "stream",
     "text": [
      "Conversion of rg from Mega Jules to Watts/hour\n"
     ]
    },
    {
     "data": {
      "text/plain": [
       "2.7777777777777777"
      ]
     },
     "execution_count": null,
     "metadata": {},
     "output_type": "execute_result"
    }
   ],
   "source": [
    "rg_convertions(rg_mj=1, nhours=100)"
   ]
  },
  {
   "cell_type": "code",
   "execution_count": null,
   "metadata": {},
   "outputs": [
    {
     "data": {
      "text/plain": [
       "'Select one conversion rg_mj or rg_watts'"
      ]
     },
     "execution_count": null,
     "metadata": {},
     "output_type": "execute_result"
    }
   ],
   "source": [
    "rg_convertions(rg_watts=1, rg_mj=1, nhours=1)"
   ]
  }
 ],
 "metadata": {
  "kernelspec": {
   "display_name": "python3",
   "language": "python",
   "name": "python3"
  }
 },
 "nbformat": 4,
 "nbformat_minor": 4
}
