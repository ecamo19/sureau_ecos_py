{
 "cells": [
  {
   "cell_type": "raw",
   "metadata": {},
   "source": [
    "---\n",
    "description: 'AUTHORS: __Julien Ruffault (julien.ruff@gmail.com), Nicolas Martin-StPaul\n",
    "  (nicolas.martin@inrae.fr)__'\n",
    "output-file: create_simulation_parameters.html\n",
    "title: Create simulation parameters\n",
    "\n",
    "---\n",
    "\n"
   ]
  },
  {
   "cell_type": "code",
   "execution_count": 1,
   "metadata": {},
   "outputs": [],
   "source": [
    "# | default_exp create_simulation_parameters"
   ]
  },
  {
   "cell_type": "code",
   "execution_count": 2,
   "metadata": {},
   "outputs": [],
   "source": [
    "# | hide\n",
    "from nbdev.showdoc import *\n",
    "from fastcore.test import *\n",
    "from fastcore.utils import *"
   ]
  },
  {
   "cell_type": "code",
   "execution_count": 3,
   "metadata": {},
   "outputs": [],
   "source": [
    "# | export\n",
    "import collections\n",
    "import os\n",
    "import shutil"
   ]
  },
  {
   "cell_type": "code",
   "execution_count": 5,
   "metadata": {},
   "outputs": [],
   "source": [
    "# | export\n",
    "\n",
    "\n",
    "def create_simulation_parameters(\n",
    "    main_dir: str,\n",
    "    start_year_simulation: int,  # Integer indicating the starting year for the simulation\n",
    "    end_year_simulation: int,  # Integer indicating the ending year for the simulation (must match the dates of the input climate data file)\n",
    "    output_path: str,  # Path of output result file.\n",
    "    output_type: str = None,  # The output variables of the model that should be written in the output model file.\n",
    "    resolution_output: str = \"subdaily\",  # the resolution chosen to write variables in files, `subdaily`, `daily` or `yearly`.\n",
    "    overwrite: bool = False,  # Indicates whether the output result file can be overwritten if it already exists\n",
    "):\n",
    "    \"\"\"\n",
    "    Create a dictionary with the simulation parameters to run SureauEcos. Can be used as an input in\n",
    "    \"\"\"\n",
    "\n",
    "    simulation_parameters = collections.defaultdict(list)\n",
    "\n",
    "    assert isinstance(main_dir, str)\n",
    "    if not os.path.isdir(main_dir):\n",
    "        return f\"Directory: {main_dir}, does not exist, check presence or spelling\"\n",
    "\n",
    "    simulation_parameters[\"main_dir\"] = main_dir\n",
    "\n",
    "    # Make sure that resolution output only has three options\n",
    "    assert resolution_output in [\n",
    "        \"subdaily\",\n",
    "        \"daily\",\n",
    "        \"yearly\",\n",
    "    ], f'{resolution_output} not a valid option, select \"subdaily\", \"daily\" or \"yearly\"'\n",
    "\n",
    "    simulation_parameters[\"resolution_output\"] = resolution_output\n",
    "\n",
    "    assert output_type in [\n",
    "        None,\n",
    "        \"simple_subdaily\",\n",
    "        \"simple_daily\",\n",
    "        \"simple_yearly\"\n",
    "    ], f'{output_type} not a valid option, select  None, \"simple_subdaily\", \"simple_daily\" or \"simple_yearly\"'\n",
    "\n",
    "    if output_type is None:\n",
    "        if resolution_output == \"subdaily\":\n",
    "            simulation_parameters[\"output_type\"] = \"simple_subdaily\"\n",
    "\n",
    "        elif resolution_output == \"daily\":\n",
    "            simulation_parameters[\"output_type\"] = \"simple_daily\"\n",
    "\n",
    "        elif resolution_output == \"yearly\":\n",
    "            simulation_parameters[\"output_type\"] = \"simple_yearly\"\n",
    "    else:\n",
    "        simulation_parameters[\"output_type\"] = output_type\n",
    "\n",
    "    # Create directory for storing output\n",
    "\n",
    "    assert isinstance(output_path, str)\n",
    "    output_path = os.path.join(output_path, \"sureau_output\")\n",
    "\n",
    "    if not os.path.exists(output_path):\n",
    "        os.mkdir(output_path)\n",
    "        simulation_parameters[\"output_path\"] = output_path\n",
    "\n",
    "    elif os.path.exists(output_path) and overwrite is True:\n",
    "        shutil.rmtree(output_path)\n",
    "        os.makedirs(output_path)\n",
    "        simulation_parameters[\"output_path\"] = output_path\n",
    "\n",
    "    elif os.path.exists(output_path) and overwrite is False:\n",
    "        return \"file already exists and 'overwrite' option is set to False, change 'outputPath' or set 'overwrite' to True\"\n",
    "\n",
    "    # Compare end_year_simulation is larger than start_year_simulation\n",
    "    assert (\n",
    "        start_year_simulation <= end_year_simulation\n",
    "    ), \"Make sure that `end_year_simulation` is larger than or equal `start_year_simulation`\"\n",
    "\n",
    "    simulation_parameters[\"start_year_simulation\"] = start_year_simulation\n",
    "    simulation_parameters[\"end_year_simulation\"] = end_year_simulation\n",
    "\n",
    "    return simulation_parameters"
   ]
  },
  {
   "cell_type": "code",
   "execution_count": 9,
   "metadata": {},
   "outputs": [
    {
     "data": {
      "text/plain": [
       "defaultdict(list,\n",
       "            {'main_dir': './test_folder',\n",
       "             'resolution_output': 'subdaily',\n",
       "             'output_type': 'simple_daily',\n",
       "             'output_path': './test_folder/sureau_output',\n",
       "             'start_year_simulation': 1991,\n",
       "             'end_year_simulation': 1991})"
      ]
     },
     "execution_count": 9,
     "metadata": {},
     "output_type": "execute_result"
    }
   ],
   "source": [
    "create_simulation_parameters(\n",
    "    main_dir=\"./test_folder\",\n",
    "    start_year_simulation=1991,\n",
    "    end_year_simulation=1991,\n",
    "    output_type=\"simple_daily\",\n",
    "    output_path=\"./test_folder\",\n",
    "    overwrite=True,\n",
    "    resolution_output=\"subdaily\",\n",
    ")"
   ]
  }
 ],
 "metadata": {
  "kernelspec": {
   "display_name": "python3",
   "language": "python",
   "name": "python3"
  },
  "language_info": {
   "codemirror_mode": {
    "name": "ipython",
    "version": 3
   },
   "file_extension": ".py",
   "mimetype": "text/x-python",
   "name": "python",
   "nbconvert_exporter": "python",
   "pygments_lexer": "ipython3",
   "version": "3.9.18"
  }
 },
 "nbformat": 4,
 "nbformat_minor": 4
}
