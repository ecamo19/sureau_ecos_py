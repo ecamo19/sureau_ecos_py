{
 "cells": [
  {
   "cell_type": "raw",
   "metadata": {},
   "source": [
    "---\n",
    "description: 'AUTHORS: __Julien Ruffault (julien.ruff@gmail.com), Nicolas Martin-StPaul\n",
    "  (nicolas.martin@inrae.fr)__'\n",
    "output-file: compute_g_crown.html\n",
    "title: Compute g_crown\n",
    "---\n",
    "\n"
   ]
  },
  {
   "cell_type": "code",
   "execution_count": null,
   "metadata": {},
   "outputs": [],
   "source": [
    "# | default_exp compute_g_crown"
   ]
  },
  {
   "cell_type": "code",
   "execution_count": null,
   "metadata": {},
   "outputs": [],
   "source": [
    "# | hide\n",
    "from nbdev.showdoc import *\n",
    "from fastcore.test import *"
   ]
  },
  {
   "cell_type": "code",
   "execution_count": null,
   "metadata": {},
   "outputs": [],
   "source": [
    "# | export\n",
    "\n",
    "def compute_g_crown(g_crown0:float, # Unknown parameter definition\n",
    "                    wind_speed:float # Unknown parameter definition\n",
    "                    ) -> float:\n",
    "\n",
    "        \"Calcultate g_crown\"\n",
    "\n",
    "        # to avoid very high conductance values\n",
    "        wind_speed=  max(0.1, wind_speed)\n",
    "\n",
    "        return g_crown0*wind_speed**0.6"
   ]
  }
 ],
 "metadata": {
  "kernelspec": {
   "display_name": "python3",
   "language": "python",
   "name": "python3"
  }
 },
 "nbformat": 4,
 "nbformat_minor": 4
}
