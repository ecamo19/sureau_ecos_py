{
 "cells": [
  {
   "cell_type": "raw",
   "metadata": {},
   "source": [
    "---\n",
    "description: 'AUTHORS: __Julien Ruffault (julien.ruff@gmail.com), Nicolas Martin-StPaul\n",
    "  (nicolas.martin@inrae.fr)__'\n",
    "output-file: create_climate_data.html\n",
    "title: Create climate data\n",
    "\n",
    "---\n",
    "\n"
   ]
  },
  {
   "cell_type": "code",
   "execution_count": 1,
   "metadata": {},
   "outputs": [],
   "source": [
    "# | default_exp create_climate_data"
   ]
  },
  {
   "cell_type": "code",
   "execution_count": 2,
   "metadata": {},
   "outputs": [],
   "source": [
    "# | hide\n",
    "from nbdev.showdoc import *\n",
    "from fastcore.test import *\n",
    "from fastcore.utils import *\n"
   ]
  },
  {
   "cell_type": "code",
   "execution_count": 20,
   "metadata": {},
   "outputs": [],
   "source": [
    "# | export\n",
    "import pandas as pd\n",
    "from pathlib import Path\n",
    "from typing import List\n",
    "import os\n",
    "import pandera as pa\n",
    "from pandera.typing import DataFrame, Series\n",
    "import numpy as np\n",
    "\n",
    "\n",
    "from sureau_ecos_py.core import *"
   ]
  },
  {
   "cell_type": "code",
   "execution_count": 21,
   "metadata": {},
   "outputs": [
    {
     "ename": "AttributeError",
     "evalue": "module 'sureau_ecos_py.core' has no attribute 'compute'",
     "output_type": "error",
     "traceback": [
      "\u001b[0;31m---------------------------------------------------------------------------\u001b[0m",
      "\u001b[0;31mAttributeError\u001b[0m                            Traceback (most recent call last)",
      "\u001b[1;32m/workspaces/sureau_ecos_py/nbs/13_testing_functions.ipynb Cell 5\u001b[0m line \u001b[0;36m1\n\u001b[0;32m----> <a href='vscode-notebook-cell://dev-container%2B7b22686f737450617468223a222f55736572732f6563616d6f31392f446f63756d656e74732f70726f6a656374732f7375726561752f7375726561755f65636f735f7079222c226c6f63616c446f636b6572223a66616c73652c2273657474696e6773223a7b22636f6e74657874223a226465736b746f702d6c696e7578227d2c22636f6e66696746696c65223a7b22246d6964223a312c22667350617468223a222f55736572732f6563616d6f31392f446f63756d656e74732f70726f6a656374732f7375726561752f7375726561755f65636f735f70792f2e646576636f6e7461696e65722f646576636f6e7461696e65722e6a736f6e222c2265787465726e616c223a2266696c653a2f2f2f55736572732f6563616d6f31392f446f63756d656e74732f70726f6a656374732f7375726561752f7375726561755f65636f735f70792f2e646576636f6e7461696e65722f646576636f6e7461696e65722e6a736f6e222c2270617468223a222f55736572732f6563616d6f31392f446f63756d656e74732f70726f6a656374732f7375726561752f7375726561755f65636f735f70792f2e646576636f6e7461696e65722f646576636f6e7461696e65722e6a736f6e222c22736368656d65223a2266696c65227d7d/workspaces/sureau_ecos_py/nbs/13_testing_functions.ipynb#W6sdnNjb2RlLXJlbW90ZQ%3D%3D?line=0'>1</a>\u001b[0m sureau\u001b[39m.\u001b[39;49mcompute\n",
      "\u001b[0;31mAttributeError\u001b[0m: module 'sureau_ecos_py.core' has no attribute 'compute'"
     ]
    }
   ],
   "source": [
    "sureau_ecos_py.compute_vpd_from_t_rh(relative_humidity=80, temperature=25)"
   ]
  },
  {
   "cell_type": "code",
   "execution_count": 19,
   "metadata": {},
   "outputs": [
    {
     "ename": "AttributeError",
     "evalue": "module 'sureau_ecos_py.core' has no attribute 'create_climate_data'",
     "output_type": "error",
     "traceback": [
      "\u001b[0;31m---------------------------------------------------------------------------\u001b[0m",
      "\u001b[0;31mAttributeError\u001b[0m                            Traceback (most recent call last)",
      "\u001b[1;32m/workspaces/sureau_ecos_py/nbs/13_testing_functions.ipynb Cell 6\u001b[0m line \u001b[0;36m1\n\u001b[0;32m----> <a href='vscode-notebook-cell://dev-container%2B7b22686f737450617468223a222f55736572732f6563616d6f31392f446f63756d656e74732f70726f6a656374732f7375726561752f7375726561755f65636f735f7079222c226c6f63616c446f636b6572223a66616c73652c2273657474696e6773223a7b22636f6e74657874223a226465736b746f702d6c696e7578227d2c22636f6e66696746696c65223a7b22246d6964223a312c22667350617468223a222f55736572732f6563616d6f31392f446f63756d656e74732f70726f6a656374732f7375726561752f7375726561755f65636f735f70792f2e646576636f6e7461696e65722f646576636f6e7461696e65722e6a736f6e222c2265787465726e616c223a2266696c653a2f2f2f55736572732f6563616d6f31392f446f63756d656e74732f70726f6a656374732f7375726561752f7375726561755f65636f735f70792f2e646576636f6e7461696e65722f646576636f6e7461696e65722e6a736f6e222c2270617468223a222f55736572732f6563616d6f31392f446f63756d656e74732f70726f6a656374732f7375726561752f7375726561755f65636f735f70792f2e646576636f6e7461696e65722f646576636f6e7461696e65722e6a736f6e222c22736368656d65223a2266696c65227d7d/workspaces/sureau_ecos_py/nbs/13_testing_functions.ipynb#W5sdnNjb2RlLXJlbW90ZQ%3D%3D?line=0'>1</a>\u001b[0m sureau\u001b[39m.\u001b[39;49mcreate_climate_data(\n\u001b[1;32m      <a href='vscode-notebook-cell://dev-container%2B7b22686f737450617468223a222f55736572732f6563616d6f31392f446f63756d656e74732f70726f6a656374732f7375726561752f7375726561755f65636f735f7079222c226c6f63616c446f636b6572223a66616c73652c2273657474696e6773223a7b22636f6e74657874223a226465736b746f702d6c696e7578227d2c22636f6e66696746696c65223a7b22246d6964223a312c22667350617468223a222f55736572732f6563616d6f31392f446f63756d656e74732f70726f6a656374732f7375726561752f7375726561755f65636f735f70792f2e646576636f6e7461696e65722f646576636f6e7461696e65722e6a736f6e222c2265787465726e616c223a2266696c653a2f2f2f55736572732f6563616d6f31392f446f63756d656e74732f70726f6a656374732f7375726561752f7375726561755f65636f735f70792f2e646576636f6e7461696e65722f646576636f6e7461696e65722e6a736f6e222c2270617468223a222f55736572732f6563616d6f31392f446f63756d656e74732f70726f6a656374732f7375726561752f7375726561755f65636f735f70792f2e646576636f6e7461696e65722f646576636f6e7461696e65722e6a736f6e222c22736368656d65223a2266696c65227d7d/workspaces/sureau_ecos_py/nbs/13_testing_functions.ipynb#W5sdnNjb2RlLXJlbW90ZQ%3D%3D?line=1'>2</a>\u001b[0m     \u001b[39m\"\u001b[39m\u001b[39m./test_folder/climat_example.csv\u001b[39m\u001b[39m\"\u001b[39m, sep\u001b[39m=\u001b[39m\u001b[39m\"\u001b[39m\u001b[39m;\u001b[39m\u001b[39m\"\u001b[39m, modeling_options\u001b[39m=\u001b[39m\u001b[39mFalse\u001b[39;00m\n\u001b[1;32m      <a href='vscode-notebook-cell://dev-container%2B7b22686f737450617468223a222f55736572732f6563616d6f31392f446f63756d656e74732f70726f6a656374732f7375726561752f7375726561755f65636f735f7079222c226c6f63616c446f636b6572223a66616c73652c2273657474696e6773223a7b22636f6e74657874223a226465736b746f702d6c696e7578227d2c22636f6e66696746696c65223a7b22246d6964223a312c22667350617468223a222f55736572732f6563616d6f31392f446f63756d656e74732f70726f6a656374732f7375726561752f7375726561755f65636f735f70792f2e646576636f6e7461696e65722f646576636f6e7461696e65722e6a736f6e222c2265787465726e616c223a2266696c653a2f2f2f55736572732f6563616d6f31392f446f63756d656e74732f70726f6a656374732f7375726561752f7375726561755f65636f735f70792f2e646576636f6e7461696e65722f646576636f6e7461696e65722e6a736f6e222c2270617468223a222f55736572732f6563616d6f31392f446f63756d656e74732f70726f6a656374732f7375726561752f7375726561755f65636f735f70792f2e646576636f6e7461696e65722f646576636f6e7461696e65722e6a736f6e222c22736368656d65223a2266696c65227d7d/workspaces/sureau_ecos_py/nbs/13_testing_functions.ipynb#W5sdnNjb2RlLXJlbW90ZQ%3D%3D?line=2'>3</a>\u001b[0m )\u001b[39m.\u001b[39mhead()\n",
      "\u001b[0;31mAttributeError\u001b[0m: module 'sureau_ecos_py.core' has no attribute 'create_climate_data'"
     ]
    }
   ],
   "source": [
    "sureau.create_climate_data(\n",
    "    \"./test_folder/climat_example.csv\", sep=\";\", modeling_options=False\n",
    ").head()"
   ]
  }
 ],
 "metadata": {
  "kernelspec": {
   "display_name": "python3",
   "language": "python",
   "name": "python3"
  },
  "language_info": {
   "codemirror_mode": {
    "name": "ipython",
    "version": 3
   },
   "file_extension": ".py",
   "mimetype": "text/x-python",
   "name": "python",
   "nbconvert_exporter": "python",
   "pygments_lexer": "ipython3",
   "version": "3.9.18"
  }
 },
 "nbformat": 4,
 "nbformat_minor": 4
}
