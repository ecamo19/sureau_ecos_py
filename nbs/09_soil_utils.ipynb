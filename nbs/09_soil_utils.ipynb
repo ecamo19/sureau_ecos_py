{
 "cells": [
  {
   "cell_type": "raw",
   "metadata": {},
   "source": [
    "---\n",
    "description: 'AUTHORS: __Julien Ruffault (julien.ruff@gmail.com), Nicolas Martin-StPaul\n",
    "  (nicolas.martin@inrae.fr)__'\n",
    "output-file: compute_vpd.html\n",
    "title: Soil utils functions\n",
    "\n",
    "---\n",
    "\n"
   ]
  },
  {
   "cell_type": "code",
   "execution_count": null,
   "metadata": {},
   "outputs": [],
   "source": [
    "# | default_exp compute_b\n",
    "# | default_exp compute_b_gc\n",
    "# | default_exp compute_k_soil\n",
    "# | default_exp compute_k_soil_camp\n",
    "# | default_exp compute_p_soil\n",
    "# | default_exp compute_p_soil_camp\n",
    "# | default_exp compute_theta_at_given_p_soil\n",
    "# | default_exp compute_theta_at_given_p_soil_camp"
   ]
  },
  {
   "cell_type": "code",
   "execution_count": null,
   "metadata": {},
   "outputs": [],
   "source": [
    "# | hide\n",
    "from nbdev.showdoc import *\n",
    "from fastcore.test import *"
   ]
  },
  {
   "cell_type": "code",
   "execution_count": null,
   "metadata": {},
   "outputs": [],
   "source": [
    "# | export\n",
    "import numpy as np\n",
    "from math import pi\n",
    "import collections"
   ]
  },
  {
   "cell_type": "code",
   "execution_count": 11,
   "metadata": {},
   "outputs": [],
   "source": [
    "# | export\n",
    "def compute_b(lv: float # length of fine root per unit volume\n",
    "              ):\n",
    "\n",
    "  '''\n",
    "  Calculate b used to compute the B of the Gardnar-Cowen model\n",
    "  '''\n",
    "  return 1 / np.sqrt(pi * lv)"
   ]
  },
  {
   "cell_type": "code",
   "execution_count": null,
   "metadata": {},
   "outputs": [],
   "source": [
    "# | export\n",
    "def compute_b_gc(la:float,\n",
    "                 b:float, # Calculated using the `compute_b` function\n",
    "                 root_radius:float\n",
    "                 ):\n",
    "  '''\n",
    "  Calculate B Gardner cowen thhe scaling factor for soil conductance\n",
    "  '''\n",
    "\n",
    "  return la * 2 * pi / np.log(b/root_radius)\n"
   ]
  },
  {
   "cell_type": "code",
   "execution_count": null,
   "metadata": {},
   "outputs": [],
   "source": [
    "# | export\n",
    "\n",
    "def compute_k_soil(rew:float,\n",
    "                   i_vg:float,\n",
    "                   n_vg:float,\n",
    "                   k_sat_vg:float,\n",
    "                   b_gc:float # Calculated using the `compute_b_gc` function\n",
    "                   ):\n",
    "\n",
    "  # Create empty dict for storing params\n",
    "  k_soil_parameters = collections.defaultdict(list)\n",
    "\n",
    "  m = 1 - (1 / n_vg)\n",
    "\n",
    "  k_soil = k_sat_vg * rew **(i_vg) * (1 - (1 - rew**(1 / m))**m)**2\n",
    "\n",
    "  k_soil_gc = 1000 * b_gc * k_soil\n",
    "\n",
    "  k_soil_parameters[\"k_soil\"] = k_soil\n",
    "  k_soil_parameters[\"k_soil_gc\"] = k_soil_gc\n",
    "\n",
    "  return k_soil_parameters"
   ]
  },
  {
   "cell_type": "code",
   "execution_count": null,
   "metadata": {},
   "outputs": [],
   "source": [
    "# | export\n",
    "def compute_k_soil_camp(sws:float,\n",
    "                        tsc:float,\n",
    "                        b_camp:float,\n",
    "                        k_sat_campbell:float\n",
    "                        ):\n",
    "\n",
    "  return k_sat_campbell*(sws / tsc)**(-b_camp * 2 + 2)"
   ]
  },
  {
   "cell_type": "code",
   "execution_count": 2,
   "metadata": {},
   "outputs": [],
   "source": [
    "# | export\n",
    "def compute_p_soil(rew:float,\n",
    "                   alpha_vg:float,\n",
    "                   n_vg:float\n",
    "                   ):\n",
    "\n",
    "  m = 1 - (1 / n_vg)\n",
    "\n",
    "  # diviser par 10000 pour passer de cm à MPa\n",
    "  return (-1 * ((((1 / rew)**(1 / m)) - 1)**(1 / n_vg)) / alpha_vg / 10000)\n"
   ]
  },
  {
   "cell_type": "code",
   "execution_count": null,
   "metadata": {},
   "outputs": [],
   "source": [
    "# | export\n",
    "def compute_p_soil_camp(sws:float,\n",
    "                        tsc:float,\n",
    "                        b_camp:float,\n",
    "                        psie:float\n",
    "                        ):\n",
    "\n",
    "  return -1 * (psie * ((sws / tsc)** -b_camp))\n"
   ]
  },
  {
   "cell_type": "code",
   "execution_count": null,
   "metadata": {},
   "outputs": [],
   "source": [
    "# | export\n",
    "def compute_theta_at_given_p_soil(psi_target:float,\n",
    "                                  theta_res:float,\n",
    "                                  theta_sat:float,\n",
    "                                  alpha_vg:float,\n",
    "                                  n_vg:float\n",
    "                                  ):\n",
    "\n",
    "  return theta_res + (theta_sat - theta_res)/(1 + (alpha_vg * psi_target * 10000)**n_vg)**(1-1/n_vg)"
   ]
  },
  {
   "cell_type": "code",
   "execution_count": 4,
   "metadata": {},
   "outputs": [],
   "source": [
    "# | export\n",
    "def compute_theta_at_given_p_soil_camp(theta_sat:float,\n",
    "                                       psi_target:float,\n",
    "                                       psie:float,\n",
    "                                       b_camp:float\n",
    "                                       ):\n",
    "\n",
    "  return theta_sat*(psi_target / -psie)**(1 / -b_camp)"
   ]
  }
 ],
 "metadata": {
  "kernelspec": {
   "display_name": "python3",
   "language": "python",
   "name": "python3"
  },
  "language_info": {
   "codemirror_mode": {
    "name": "ipython",
    "version": 3
   },
   "file_extension": ".py",
   "mimetype": "text/x-python",
   "name": "python",
   "nbconvert_exporter": "python",
   "pygments_lexer": "ipython3",
   "version": "3.9.18"
  }
 },
 "nbformat": 4,
 "nbformat_minor": 4
}
