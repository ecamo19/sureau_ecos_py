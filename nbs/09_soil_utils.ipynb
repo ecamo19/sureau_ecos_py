{
 "cells": [
  {
   "cell_type": "raw",
   "metadata": {},
   "source": [
    "---\n",
    "description: 'AUTHORS: __Julien Ruffault (julien.ruff@gmail.com), Nicolas Martin-StPaul\n",
    "  (nicolas.martin@inrae.fr)__'\n",
    "output-file: compute_vpd.html\n",
    "title: Soil utils functions\n",
    "\n",
    "---\n",
    "\n"
   ]
  },
  {
   "cell_type": "code",
   "execution_count": null,
   "metadata": {},
   "outputs": [],
   "source": [
    "# | default_exp compute_b\n",
    "# | default_exp\n",
    "# | default_exp\n",
    "# | default_exp\n",
    "# | default_exp\n",
    "# | default_exp\n",
    "# | default_exp\n",
    "\n",
    "\n"
   ]
  },
  {
   "cell_type": "code",
   "execution_count": null,
   "metadata": {},
   "outputs": [],
   "source": [
    "# | hide\n",
    "from nbdev.showdoc import *\n",
    "from fastcore.test import *"
   ]
  },
  {
   "cell_type": "code",
   "execution_count": null,
   "metadata": {},
   "outputs": [],
   "source": [
    "# | export\n",
    "import numpy as np\n",
    "from math import pi\n",
    "import collections"
   ]
  },
  {
   "cell_type": "code",
   "execution_count": 11,
   "metadata": {},
   "outputs": [],
   "source": [
    "def compute_b(lv: float # length of fine root per unit volume\n",
    "              ):\n",
    "\n",
    "  '''\n",
    "  Calculate b used to compute the B of the Gardnar-Cowen model\n",
    "  '''\n",
    "  return 1 / np.sqrt(pi * lv)"
   ]
  },
  {
   "cell_type": "code",
   "execution_count": null,
   "metadata": {},
   "outputs": [],
   "source": [
    "\n",
    "def compute_b_gc(la:float,\n",
    "                 b:float, # Calculated using the `compute_b` function\n",
    "                 root_radius:float\n",
    "                 ):\n",
    "  '''\n",
    "  Calculate B Gardner cowen thhe scaling factor for soil conductance\n",
    "  '''\n",
    "\n",
    "  return la * 2 * pi / np.log(b/root_radius)\n"
   ]
  },
  {
   "cell_type": "code",
   "execution_count": null,
   "metadata": {},
   "outputs": [],
   "source": [
    "\n",
    "def compute_k_soil(rew:float,\n",
    "                   i_vg:float,\n",
    "                   n_vg:float,\n",
    "                   k_sat_vg:float,\n",
    "                   b_gc:float # Calculated using the `compute_b_gc` function\n",
    "                   ):\n",
    "\n",
    "  # Create empty dict for storing params\n",
    "  k_soil_parameters = collections.defaultdict(list)\n",
    "\n",
    "  m = 1 - (1 / n_vg)\n",
    "\n",
    "  k_soil = k_sat_vg * rew **(i_vg) * (1 - (1 - rew**(1 / m))**m)**2\n",
    "\n",
    "  k_soil_gc = 1000 * b_gc * k_soil\n",
    "\n",
    "  k_soil_parameters[\"k_soil\"] = k_soil\n",
    "  k_soil_parameters[\"k_soil_gc\"] = k_soil_gc\n",
    "\n",
    "  return k_soil_parameters"
   ]
  },
  {
   "cell_type": "code",
   "execution_count": null,
   "metadata": {},
   "outputs": [],
   "source": [
    "\n",
    "compute.thetaAtGivenPSoil <- function(PsiTarget, thetaRes, thetaSat, alpha_vg, n_vg)\n",
    "  {\n",
    "\n",
    "  thetaAtGivenPSoil = thetaRes+(thetaSat-thetaRes)/(1+(alpha_vg*PsiTarget*10000)^n_vg)^(1-1/n_vg)\n",
    "\n",
    "  return(thetaAtGivenPSoil)\n",
    "\n",
    "}\n",
    "\n"
   ]
  },
  {
   "cell_type": "code",
   "execution_count": null,
   "metadata": {},
   "outputs": [],
   "source": [
    "\n",
    "compute.PSoil <- function(REW, alpha_vg, n_vg) {\n",
    "  m <- (1 - 1 / n_vg)\n",
    "  Psoil = (-1 * ((((1 / REW)^(1 / m)) - 1)^(1 / n_vg)) / alpha_vg / 10000)\n",
    "  # diviser par 10000 pour passer de cm à MPa\n",
    "  return(Psoil)\n",
    "\n",
    "}\n"
   ]
  },
  {
   "cell_type": "code",
   "execution_count": null,
   "metadata": {},
   "outputs": [],
   "source": [
    "\n",
    "#--------------------\n",
    "#Campbell\n",
    "compute.PSoil.Camp <- function(SWS, tsc, b_camp, psie) {\n",
    "  Psoil <- -1 * (psie * ((SWS / tsc)^-b_camp))\n",
    "  return(Psoil)\n",
    "}\n"
   ]
  },
  {
   "cell_type": "code",
   "execution_count": null,
   "metadata": {},
   "outputs": [],
   "source": [
    "\n",
    "\n",
    "compute.KSoil.Camp <- function(SWS, tsc, b_camp, Ksat_campbell) {\n",
    "  ksoil <- Ksat_campbell*(SWS / tsc)^(-b_camp * 2 + 2)\n",
    "  return(ksoil)\n",
    "}\n",
    "\n",
    "#compute.KSoil.Camp(0.1,0.5, -4, 1.69)\n"
   ]
  },
  {
   "cell_type": "code",
   "execution_count": null,
   "metadata": {},
   "outputs": [],
   "source": [
    "\n",
    "compute.thetaAtGivenPSoil.Camp <- function(thetaSat, PsiTarget, psie, b_camp) {\n",
    "\n",
    "  thetaAtGivenPSoil =  thetaSat*(PsiTarget/-psie)^(1/-b_camp)\n",
    "\n",
    "  return(thetaAtGivenPSoil)\n",
    "}\n",
    "\n"
   ]
  }
 ],
 "metadata": {
  "kernelspec": {
   "display_name": "python3",
   "language": "python",
   "name": "python3"
  },
  "language_info": {
   "name": "python",
   "version": "3.9.18"
  }
 },
 "nbformat": 4,
 "nbformat_minor": 4
}
