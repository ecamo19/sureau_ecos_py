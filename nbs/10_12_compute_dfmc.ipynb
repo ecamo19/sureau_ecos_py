{
 "cells": [
  {
   "cell_type": "raw",
   "metadata": {},
   "source": [
    "---\n",
    "description: 'AUTHORS: __Julien Ruffault (julien.ruff@gmail.com), Nicolas Martin-StPaul\n",
    "  (nicolas.martin@inrae.fr)__'\n",
    "output-file: compute_dfmc.html\n",
    "title: Compute dead fuel moisture content\n",
    "---\n",
    "\n"
   ]
  },
  {
   "cell_type": "code",
   "execution_count": null,
   "metadata": {},
   "outputs": [],
   "source": [
    "# | default_exp compute_dfmc"
   ]
  },
  {
   "cell_type": "code",
   "execution_count": null,
   "metadata": {},
   "outputs": [],
   "source": [
    "# | hide\n",
    "from nbdev.showdoc import *\n",
    "from fastcore.test import *"
   ]
  },
  {
   "cell_type": "code",
   "execution_count": null,
   "metadata": {},
   "outputs": [],
   "source": [
    "# | export\n",
    "import numpy as np"
   ]
  },
  {
   "cell_type": "code",
   "execution_count": null,
   "metadata": {},
   "outputs": [],
   "source": [
    "# | export\n",
    "\n",
    "def compute_dfmc(vpd:float, # Vapor pressure deficit (kPA)\n",
    "                 fm0 = 5.43, # Minimum fuel moisture content (% dry weight)\n",
    "                 fm1 = 52.91, # Maximum fuel moisture content (% dry weight)\n",
    "                 m = 0.64 # Rate of decay\n",
    "                 ) -> float: # Fuel moisture content (% dry weight)\n",
    "\n",
    "        \"Compute dead fuel moisture content from VPD following De Dios et al. (2015)\"\n",
    "        return fm0 + fm1 * np.exp(-m * vpd)"
   ]
  }
 ],
 "metadata": {
  "kernelspec": {
   "display_name": "python3",
   "language": "python",
   "name": "python3"
  }
 },
 "nbformat": 4,
 "nbformat_minor": 4
}
