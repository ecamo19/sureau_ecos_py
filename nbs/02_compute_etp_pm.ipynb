{
 "cells": [
  {
   "cell_type": "raw",
   "metadata": {},
   "source": [
    "---\n",
    "description: 'AUTHORS: __Julien Ruffault (julien.ruff@gmail.com), Nicolas Martin-StPaul\n",
    "  (nicolas.martin@inrae.fr)__'\n",
    "output-file: compute_etp_pm.html\n",
    "title: Compute ETP using Penman Formulation\n",
    "\n",
    "---\n",
    "\n"
   ]
  },
  {
   "cell_type": "code",
   "execution_count": null,
   "metadata": {},
   "outputs": [],
   "source": [
    "# | default_exp compute_etp_pm"
   ]
  },
  {
   "cell_type": "code",
   "execution_count": null,
   "metadata": {},
   "outputs": [],
   "source": [
    "# | hide\n",
    "from nbdev.showdoc import *\n",
    "from fastcore.test import *"
   ]
  },
  {
   "cell_type": "code",
   "execution_count": null,
   "metadata": {},
   "outputs": [],
   "source": [
    "# | export\n",
    "import numpy as np"
   ]
  },
  {
   "cell_type": "code",
   "execution_count": null,
   "metadata": {},
   "outputs": [],
   "source": [
    "# | export\n",
    "\n",
    "\n",
    "def compute_etp_pm(\n",
    "    tmoy: float,  # Mean temperature over the considered time step (degrees Celsius)\n",
    "    net_radiation: float,  # Cumulative Net radiation over the considered  time sep  (MJ.m2)\n",
    "    u: float,  #  wind speed (m.s-1)\n",
    "    vpd: float,  # Vapor pressure deficit (kpa)\n",
    "    g: float = 0,\n",
    "):\n",
    "    \"Compute reference ETP from Penmman formulation\"\n",
    "\n",
    "    # Constants ---------------------------------------------------------------\n",
    "\n",
    "    # Stefan-Boltzman constant [MJ.K^-4.m^-2.day^-1]\n",
    "    sb_constant = 4.903 * 10**9\n",
    "\n",
    "    # Psychometer constant\n",
    "    gamma = 0.0666\n",
    "\n",
    "    # Latent heat of vaporisation\n",
    "    lamb = 2.45\n",
    "\n",
    "    # Compute ETP -------------------------------------------------------------\n",
    "\n",
    "    #  s: slope of the saturation vapour pressure function (AO 1998)\n",
    "    # delta = 4098 * 0.6108 * exp((17.27 * Tmoy) / (Tmoy + 237.3)) / ((Tmoy + 237.3)^2)\n",
    "    delta = (\n",
    "        4098 * 0.6108 * np.exp((17.27 * tmoy) / (tmoy + 237.3)) / ((tmoy + 237.3) ** 2)\n",
    "    )\n",
    "\n",
    "    ga = 0.34 * max(u, 0.001)\n",
    "\n",
    "    u2 = u * (4.87 / np.log(67.8 * 10 - 5.42))\n",
    "\n",
    "    n1 = 0.408 * delta * net_radiation\n",
    "    n2 = gamma * (37 / (tmoy + 273)) * u2 * vpd\n",
    "    d = delta + gamma * (1 + 0.34 * u2)\n",
    "\n",
    "    # Return E\n",
    "    return (n1 + n2) / (d)"
   ]
  },
  {
   "cell_type": "code",
   "execution_count": null,
   "metadata": {},
   "outputs": [
    {
     "data": {
      "text/plain": [
       "0.3434387636191171"
      ]
     },
     "execution_count": null,
     "metadata": {},
     "output_type": "execute_result"
    }
   ],
   "source": [
    "compute_etp_pm(tmoy=20, net_radiation=1, u=2, vpd=2)"
   ]
  },
  {
   "cell_type": "code",
   "execution_count": null,
   "metadata": {},
   "outputs": [],
   "source": [
    "# | hide\n",
    "\n",
    "# Test that function return a positive value\n",
    "assert compute_etp_pm(tmoy=20, net_radiation=1, u=2, vpd=2) > 0"
   ]
  },
  {
   "cell_type": "code",
   "execution_count": null,
   "metadata": {},
   "outputs": [
    {
     "data": {
      "text/plain": [
       "True"
      ]
     },
     "execution_count": null,
     "metadata": {},
     "output_type": "execute_result"
    }
   ],
   "source": [
    "# | hide\n",
    "\n",
    "# Test that function return a known anwser\n",
    "is_close(compute_etp_pm(tmoy=20, net_radiation=1, u=2, vpd=2), 0.3434, eps=1e-02)"
   ]
  }
 ],
 "metadata": {
  "kernelspec": {
   "display_name": "python3",
   "language": "python",
   "name": "python3"
  }
 },
 "nbformat": 4,
 "nbformat_minor": 4
}
