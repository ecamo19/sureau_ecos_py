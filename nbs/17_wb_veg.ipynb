{
 "cells": [
  {
   "cell_type": "raw",
   "metadata": {},
   "source": [
    "---\n",
    "description: 'AUTHORS: __Julien Ruffault (julien.ruff@gmail.com), Nicolas Martin-StPaul\n",
    "  (nicolas.martin@inrae.fr)__'\n",
    "output-file: wb_veg.html\n",
    "title: wb veg functions\n",
    "\n",
    "---"
   ]
  },
  {
   "cell_type": "code",
   "execution_count": null,
   "metadata": {
    "vscode": {
     "languageId": "python"
    }
   },
   "outputs": [],
   "source": [
    "# | default_exp wb_veg"
   ]
  },
  {
   "cell_type": "code",
   "execution_count": 8,
   "metadata": {
    "vscode": {
     "languageId": "python"
    }
   },
   "outputs": [],
   "source": [
    "# | hide\n",
    "from nbdev.showdoc import *\n",
    "from fastcore.test import *\n",
    "from fastcore.utils import *"
   ]
  },
  {
   "cell_type": "code",
   "execution_count": 9,
   "metadata": {
    "vscode": {
     "languageId": "python"
    }
   },
   "outputs": [
    {
     "ename": "ModuleNotFoundError",
     "evalue": "No module named 'sureau_ecos_py'",
     "output_type": "error",
     "traceback": [
      "\u001b[0;31m---------------------------------------------------------------------------\u001b[0m",
      "\u001b[0;31mModuleNotFoundError\u001b[0m                       Traceback (most recent call last)",
      "Cell \u001b[0;32mIn[9], line 7\u001b[0m\n\u001b[1;32m      5\u001b[0m \u001b[38;5;28;01mimport\u001b[39;00m \u001b[38;5;21;01mnumpy\u001b[39;00m \u001b[38;5;28;01mas\u001b[39;00m \u001b[38;5;21;01mnp\u001b[39;00m\n\u001b[1;32m      6\u001b[0m \u001b[38;5;28;01mfrom\u001b[39;00m \u001b[38;5;21;01mtyping\u001b[39;00m \u001b[38;5;28;01mimport\u001b[39;00m Dict\n\u001b[0;32m----> 7\u001b[0m \u001b[38;5;28;01mfrom\u001b[39;00m \u001b[38;5;21;01msureau_ecos_py\u001b[39;00m\u001b[38;5;21;01m.\u001b[39;00m\u001b[38;5;21;01mplant_utils\u001b[39;00m \u001b[38;5;28;01mimport\u001b[39;00m (\n\u001b[1;32m      8\u001b[0m     plc_comp,\n\u001b[1;32m      9\u001b[0m     rs_comp\n\u001b[1;32m     10\u001b[0m )\n\u001b[1;32m     12\u001b[0m \u001b[38;5;28;01mfrom\u001b[39;00m \u001b[38;5;21;01msureau_ecos_py\u001b[39;00m\u001b[38;5;21;01m.\u001b[39;00m\u001b[38;5;21;01mcreate_vegetation_parameters\u001b[39;00m \u001b[38;5;28;01mimport\u001b[39;00m (\n\u001b[1;32m     13\u001b[0m     create_vegetation_parameters\n\u001b[1;32m     14\u001b[0m )\n\u001b[1;32m     15\u001b[0m \u001b[38;5;28;01mfrom\u001b[39;00m \u001b[38;5;21;01msureau_ecos_py\u001b[39;00m\u001b[38;5;21;01m.\u001b[39;00m\u001b[38;5;21;01mcreate_modeling_options\u001b[39;00m \u001b[38;5;28;01mimport\u001b[39;00m create_modeling_options\n",
      "\u001b[0;31mModuleNotFoundError\u001b[0m: No module named 'sureau_ecos_py'"
     ]
    }
   ],
   "source": [
    "# | export\n",
    "\n",
    "import warnings\n",
    "import collections\n",
    "import numpy as np\n",
    "from typing import Dict\n",
    "from sureau_ecos_py.plant_utils import (\n",
    "    plc_comp,\n",
    "    rs_comp\n",
    ")\n",
    "\n",
    "from sureau_ecos_py.create_vegetation_parameters import (\n",
    "    create_vegetation_parameters\n",
    ")\n",
    "from sureau_ecos_py.create_modeling_options import create_modeling_options\n",
    "from sureau_ecos_py.create_soil_parameters import create_soil_parameters\n",
    "from sureau_ecos_py.create_stand_parameters import create_stand_parameters"
   ]
  },
  {
   "cell_type": "code",
   "execution_count": null,
   "metadata": {
    "vscode": {
     "languageId": "python"
    }
   },
   "outputs": [],
   "source": [
    "# | export\n",
    "def new_wb_veg(veg_params:Dict # Dictionary created using the `create_vegetation_parameters` function\n",
    ") -> Dict:\n",
    "\n",
    "    \"Create an object wb_veg from veg_params\"\n",
    "\n",
    "    # Assert parameters ---------------------------------------------------------\n",
    "    assert (\n",
    "        isinstance(veg_params, Dict)\n",
    "    ), f\"veg_param must be a Dictionary not a {type(veg_params)}\"\n",
    "\n",
    "\n",
    "    # Add params to wb_veg dictionary -------------------------------------------\n",
    "\n",
    "    # Create Empty dict\n",
    "    wb_veg = collections.defaultdict(list)\n",
    "\n",
    "    # Add veg_params\n",
    "    wb_veg[\"params\"] = veg_params\n",
    "\n",
    "    # Add Stem and Leaf turgor point\n",
    "    wb_veg['params']['psi_tlp_leaf'] = wb_veg[\"params\"][\"pifullturgor_leaf\"]*wb_veg[\"params\"][\"epsilonsym_leaf\"]/(wb_veg[\"params\"][\"pifullturgor_leaf\"]+wb_veg[\"params\"][\"epsilonsym_leaf\"])\n",
    "    wb_veg['params']['psi_tlp_stem'] = wb_veg[\"params\"][\"pifullturgor_stem\"]*wb_veg[\"params\"][\"epsilonsym_stem\"]/(wb_veg[\"params\"][\"pifullturgor_stem\"]+wb_veg[\"params\"][\"epsilonsym_stem\"])\n",
    "\n",
    "    # Add potentials\n",
    "    wb_veg['psi_lapo'] = 0\n",
    "    wb_veg['psi_sapo'] = 0\n",
    "    wb_veg['psi_lsym'] = 0\n",
    "    wb_veg['psi_ssym'] = 0\n",
    "\n",
    "    # FP replaced \"mem\" by \"cav\" (when cavitation starts)\n",
    "    wb_veg['psi_lapo_cav'] = 0\n",
    "    wb_veg['psi_sapo_cav'] = 0\n",
    "    wb_veg['psi_all_soil'] = 0\n",
    "\n",
    "    # Conductance & capacitance (mmol/m2/s/MPa) Here on leaf area basis but they\n",
    "    # are to be updated as a function symplasm conductance and leaf area hydraulic\n",
    "    # conductances\n",
    "\n",
    "    # constant value during simulation\n",
    "    wb_veg[\"k_plant\"] =  wb_veg[\"params\"][\"k_plant_init\"]\n",
    "\n",
    "    # constant value during simulation\n",
    "    wb_veg[\"k_lsym\"]  =  wb_veg[\"params\"][\"k_lsym_init\"]\n",
    "\n",
    "    # constant value during simulation\n",
    "    wb_veg[\"k_ssym\"]  =  wb_veg[\"params\"][\"k_ssyminit\"]\n",
    "\n",
    "    # Value is updated in compute_kplant_wb_veg\n",
    "    wb_veg[\"k_rsapo\"] =  np.nan\n",
    "\n",
    "    # Value is updated in compute_kplant_wb_veg\n",
    "    wb_veg[\"k_slapo\"] =  np.nan\n",
    "\n",
    "    # Conductance rhisophere for each soil layer\n",
    "    wb_veg['k_soil_to_stem'] = np.array([np.nan, np.nan, np.nan], dtype=float)\n",
    "\n",
    "    # Capacitances\n",
    "    # Symplasm capacitance updated as a function of water content and Leaf area\n",
    "    # (mmol/m2leaf/MPa) /updated in update.capacitancesSymAndApo()\n",
    "    # (NM : 25/10/2021)\n",
    "\n",
    "    wb_veg['c_lsym'] = np.nan\n",
    "    wb_veg['c_sapo'] = np.nan\n",
    "\n",
    "    # Leaf and canopy conductance\n",
    "\n",
    "    # initialised at 0 to compute Tleaf on first time step considering gs = 0\n",
    "    # and not NA s\n",
    "    wb_veg['gmin'] = 0\n",
    "\n",
    "    # Gmin for stem and branches\n",
    "    wb_veg['gmin_s'] = wb_veg[\"params\"][\"gmin_s\"]\n",
    "\n",
    "    # TODO voir si y'a besoin d'initialiser\n",
    "    # see if there is a need to initialize\n",
    "\n",
    "    wb_veg['regul_fact'] = 0.01\n",
    "\n",
    "    # TODO voir pour mettre tout en NA si TranspirationMod = 0\n",
    "    # see to put everything in NA if TranspirationMod = 0\n",
    "\n",
    "    wb_veg['gs_bound'] = np.nan\n",
    "\n",
    "    # initialised to 0 to compute Tleaf on first time step considering gs = 0\n",
    "    # and not NA\n",
    "    wb_veg['gs_lim'] = 0\n",
    "    wb_veg['gcanopy_bound'] = np.nan\n",
    "    wb_veg['gcanopy_lim'] = np.nan\n",
    "    wb_veg['g_bl'] = np.nan\n",
    "    wb_veg['g_crown'] = np.nan\n",
    "\n",
    "    # Fluxes\n",
    "    wb_veg['e_prime'] = 0\n",
    "    wb_veg['e_min'] = 0\n",
    "    wb_veg['e_min_s'] = 0\n",
    "    wb_veg['e_bound'] = 0\n",
    "    wb_veg['e_lim'] = 0\n",
    "    wb_veg['flux_soil_to_stem'] = np.zeros(3)\n",
    "    wb_veg['transpiration_mm'] = 0\n",
    "    wb_veg['e_min_mm'] = 0\n",
    "    wb_veg['e_min_s_mm'] = 0\n",
    "\n",
    "    # LAI and LAI-dependent variables\n",
    "    wb_veg['lai_pheno'] = np.zeros(1)\n",
    "    wb_veg['lai']      = np.zeros(1)\n",
    "    wb_veg['canopy_storage_capacity'] = np.zeros(1)\n",
    "\n",
    "    # rainfall and interception\n",
    "\n",
    "    # precipitation (ppt) that reach the soil\n",
    "    wb_veg['ppt_soil'] = 0\n",
    "\n",
    "    # interceptedWater /quantite d'eau dans la canopee\n",
    "    wb_veg['intercepted_water_amount'] = 0\n",
    "    wb_veg['evaporation_intercepted'] = 0\n",
    "    wb_veg['etpr'] = 0\n",
    "\n",
    "    # defoliation // no defoliation (add an option to set defoliation due to\n",
    "    # cavitation of the Plant Above)\n",
    "    wb_veg['defoliation'] = 0\n",
    "    wb_veg['lai_dead'] = 0\n",
    "\n",
    "    # Cavitation\n",
    "    # percent loss of conductivity in the leaf [%]\n",
    "    wb_veg[\"plc_leaf\"] = 0\n",
    "\n",
    "    # percent loss of conductivity in the stem [%]\n",
    "    wb_veg[\"plc_stem\"] = 0\n",
    "\n",
    "    # leaf temp\n",
    "    wb_veg[\"leaf_temperature\"] = np.nan\n",
    "\n",
    "    # Pheno, parameters if deciduous\n",
    "    if wb_veg[\"params\"][\"foliage\"] == \"deciduous\":\n",
    "\n",
    "        wb_veg['lai_pheno'] = 0\n",
    "\n",
    "        # temmpeerature sum to determine budburst\n",
    "        wb_veg['sum_temperature'] = 0\n",
    "\n",
    "        # budburst date\n",
    "        wb_veg['bud_burst_date'] = np.nan\n",
    "\n",
    "        print(\"wb_veg params for deciduous forest created\")\n",
    "    else:\n",
    "        print(f'wb_veg params for {wb_veg[\"params\"][\"foliage\"]} created')\n",
    "\n",
    "    # water storage in canopy\n",
    "\n",
    "    # Fuel moisture content of the dead compartment (gH20/gMS)\n",
    "    wb_veg['dfmc']     = np.nan\n",
    "\n",
    "    # Live fuel moisture content of the apoplasmic compartment (gH20/gMS)\n",
    "    wb_veg['lfmc_apo']  = np.nan\n",
    "\n",
    "    # Live fuel moisture content of the apoplasmic compartment (gH20/gMS)\n",
    "    wb_veg['lfmc_symp'] = np.nan\n",
    "\n",
    "    # live fuel moisture content (gH20/gMS)\n",
    "    wb_veg['lfmc']     = np.nan\n",
    "\n",
    "    # Live Canopy dry matter [gMS/m2 soil]\n",
    "    wb_veg['dm_live_canopy']  = np.nan\n",
    "\n",
    "    # Dead Canopy dry matter [gMS/m2 soil]\n",
    "    wb_veg['dm_dead_canopy']  = 0\n",
    "\n",
    "    # Q leaf apo (mol/m2leaf)\n",
    "    wb_veg['q_lapo_sat_mmol'] = 0\n",
    "    wb_veg['q_lapo_sat_l'] = 0\n",
    "\n",
    "    # Q stem apo (mol/m2leaf)\n",
    "    wb_veg['q_sapo_sat_mmol'] = 0\n",
    "    wb_veg['q_sapo_sat_l'] = 0\n",
    "\n",
    "    # Q leaf symplasm (mol/m2leaf)\n",
    "    wb_veg['q_lsym_sat_mmol'] = 0\n",
    "    wb_veg['q_lsym_sat_l']    = 0\n",
    "\n",
    "    # Q Stem symplasm (mol/m2leaf)\n",
    "    wb_veg['q_ssym_sat_mmol'] = 0\n",
    "    wb_veg['q_ssym_sat_l']    = 0\n",
    "\n",
    "    # Q Stem and Leaf apo and symp in liter/kg TODO 13/08/2021: better in mmol?\n",
    "    wb_veg['q_lapo_l'] = 0\n",
    "    wb_veg['q_sapo_l'] = 0\n",
    "    wb_veg['q_lsym_l'] = 0\n",
    "    wb_veg['q_ssym_l'] = 0\n",
    "\n",
    "    wb_veg['delta_q_lapo_mmol_diag'] = 0\n",
    "\n",
    "    # Water from the cavitated part, term from equations 6 and 7 in the\n",
    "    # SurEau-Ecos paper\n",
    "    wb_veg['f_l_cav'] = 0\n",
    "    wb_veg['f_s_cav'] = 0\n",
    "\n",
    "    # Compute PLC\n",
    "\n",
    "    # Leaf\n",
    "    wb_veg['plc_leaf'] = plc_comp(psi = wb_veg['psi_lapo'],\n",
    "                                  slope = wb_veg['params']['slope_vc_leaf'],\n",
    "                                  p50 = wb_veg['params']['p50_vc_leaf']\n",
    "                                  )\n",
    "    # Stem\n",
    "    wb_veg['plc_stem'] = plc_comp(psi = wb_veg['psi_sapo'],\n",
    "                                  slope = wb_veg['params']['slope_vc_stem'],\n",
    "                                  p50 = wb_veg['params']['p50_vc_stem']\n",
    "                                  )\n",
    "\n",
    "\n",
    "    return wb_veg\n"
   ]
  },
  {
   "cell_type": "markdown",
   "metadata": {},
   "source": [
    "#### __Example: Create wb_veg dictionary__"
   ]
  },
  {
   "cell_type": "code",
   "execution_count": null,
   "metadata": {
    "vscode": {
     "languageId": "python"
    }
   },
   "outputs": [],
   "source": [
    "modeling_options_dict = create_modeling_options(\n",
    "    time_step_for_evapo=2,\n",
    "    reset_swc=True,\n",
    "    avoid_water_soil_transfer=True,\n",
    "    constant_climate=False,\n",
    "    defoliation=True,\n",
    "    soil_evapo=True,\n",
    "    threshold_mortality=51,\n",
    "    etp_formulation=\"pt\",\n",
    "    rn_formulation=\"linear\",\n",
    "    comp_options_for_evapo=\"custom\",\n",
    "    stomatal_reg_formulation=\"sigmoid\",\n",
    "    transpiration_model=\"jarvis\",\n",
    "    numerical_scheme=\"implicit\",\n",
    "    pedo_transfer_formulation=\"campbell\",\n",
    ")"
   ]
  },
  {
   "cell_type": "code",
   "execution_count": null,
   "metadata": {
    "vscode": {
     "languageId": "python"
    }
   },
   "outputs": [],
   "source": [
    "stand_params = create_stand_parameters(\n",
    "    file_path=\"./sample_data/stand_example.csv\",\n",
    "    lai_max=None,\n",
    "    latitude=None,\n",
    "    longitude=None,\n",
    "    sep=\";\",\n",
    ")"
   ]
  },
  {
   "cell_type": "code",
   "execution_count": null,
   "metadata": {
    "vscode": {
     "languageId": "python"
    }
   },
   "outputs": [],
   "source": [
    "soil_params = create_soil_parameters(\n",
    "    file_path=\"./sample_data/soil_example.csv\",\n",
    "    modeling_options=modeling_options_dict,\n",
    "    default_soil=False,\n",
    "    offset_psoil=1,\n",
    "    psoil_at_field_capacity=-1,\n",
    ")"
   ]
  },
  {
   "cell_type": "code",
   "execution_count": null,
   "metadata": {
    "vscode": {
     "languageId": "python"
    }
   },
   "outputs": [],
   "source": [
    "vegetation_params = create_vegetation_parameters(\n",
    "    file_path=\"./sample_data/vegetation_example_deciduous_beech_wide.csv\",\n",
    "    list_of_parameters=None,\n",
    "    soil_parameters=soil_params,\n",
    "    stand_parameters=stand_params,\n",
    "    modeling_options=modeling_options_dict,\n",
    "    sep=\",\",\n",
    ")"
   ]
  },
  {
   "cell_type": "code",
   "execution_count": null,
   "metadata": {
    "vscode": {
     "languageId": "python"
    }
   },
   "outputs": [],
   "source": [
    "new_wb_veg(vegetation_params)"
   ]
  },
  {
   "cell_type": "code",
   "execution_count": null,
   "metadata": {
    "vscode": {
     "languageId": "python"
    }
   },
   "outputs": [],
   "source": [
    "# | export\n",
    "def compute_pheno_wb_veg(wb_veg:Dict, # Dictionary created using the `new_wb_veg` function\n",
    "                         temperature:float, # daily tempeature  (degC)\n",
    "                         day_of_year:int,\n",
    "                         ) -> Dict:\n",
    "\n",
    "    \"Compute phenology and leaf area index (lai) for wb_veg dictionary in sureau_ecos_py\"\n",
    "    # Assert parameters ---------------------------------------------------------\n",
    "\n",
    "    # wb_veg\n",
    "    assert (\n",
    "        isinstance(wb_veg, Dict)\n",
    "    ), f\"wb_veg must be a Dictionary not a {type(wb_veg)}\"\n",
    "\n",
    "    # Temperature\n",
    "    assert (\n",
    "        -40 <= temperature <= 70\n",
    "    ), \"Unrealistic air temperature, value must be a value between -40 and 70\"\n",
    "\n",
    "    # Day of year\n",
    "    assert (\n",
    "        isinstance(day_of_year, int) and 366 >= day_of_year >= 1\n",
    "    ), \"day_of_year must be a integer value between 1-366\"\n",
    "\n",
    "\n",
    "    # Set to initial parameters at the beggining of the year --------------------\n",
    "    if day_of_year == 1:\n",
    "        print(f'Setting initial parameters at the beggining of the year (day number:{day_of_year})')\n",
    "\n",
    "        if wb_veg['params']['foliage'] ==  \"evergreen\":\n",
    "\n",
    "            wb_veg['lai_pheno'] = wb_veg['params']['lai_max']\n",
    "\n",
    "        elif wb_veg['params']['foliage'] ==  \"deciduous\":\n",
    "            wb_veg['lai_pheno'] = 0\n",
    "            wb_veg['sum_temperature'] = 0\n",
    "            wb_veg['bud_burst_date'] = np.nan\n",
    "\n",
    "        elif wb_veg['params']['foliage'] ==  \"forced\":\n",
    "            wb_veg['lai_pheno'] = 0\n",
    "            wb_veg['sum_temperature'] = 0\n",
    "            wb_veg['bud_burst_date'] = np.nan\n",
    "\n",
    "        else:\n",
    "            raise ValueError(\n",
    "                'Error in setting initial parameters in compute_pheno_wb_veg function'\n",
    "        )\n",
    "\n",
    "    # Setting parameters for deciduous vegetation -------------------------------\n",
    "    if wb_veg['params']['foliage'] ==  \"deciduous\":\n",
    "\n",
    "        # if no budburst\n",
    "        if np.isnan(wb_veg['bud_burst_date']):\n",
    "\n",
    "            if temperature > wb_veg['params']['t_base'] and day_of_year >= wb_veg['params']['day_start']:\n",
    "\n",
    "                # Update sum_temperature if temp > t_base\n",
    "                wb_veg['sum_temperature'] = wb_veg['sum_temperature'] + temperature\n",
    "\n",
    "            elif wb_veg['sum_temperature'] > wb_veg['params']['f_crit']:\n",
    "                wb_veg['bud_burst_date'] = day_of_year\n",
    "\n",
    "            else:\n",
    "                raise ValueError(\n",
    "                'Error setting sum_temperature for deciduous vegetation in compute_pheno_wb_veg function'\n",
    "                )\n",
    "\n",
    "        # loss of leaves on day 270\n",
    "        elif day_of_year >= 280:\n",
    "            wb_veg['lai_pheno'] = np.maximum(0, wb_veg['lai'] - np.maximum(0, wb_veg['params']['lai_max']/wb_veg['params']['nbday_lai']))\n",
    "\n",
    "\n",
    "        elif np.isnan(wb_veg['bud_burst_date']) is False:\n",
    "\n",
    "            # if bud break and leaf construction period\n",
    "            if day_of_year < wb_veg['bud_burst_date'] + wb_veg['params']['nbday_lai']:\n",
    "                wb_veg['lai_pheno'] = wb_veg['lai_pheno'] + np.maximum(0, wb_veg['params']['lai_max']/wb_veg['params']['nbday_lai'])\n",
    "\n",
    "            else:\n",
    "                raise ValueError(\n",
    "                    'Error setting lai_pheno for deciduous vegetation in compute_pheno_wb_veg function'\n",
    "                )\n",
    "\n",
    "        else:\n",
    "            raise ValueError(\n",
    "                'Error setting parameters for deciduous vegetation in compute_pheno_wb_veg function'\n",
    "                )\n",
    "\n",
    "    # Setting parameters for forced vegetation ----------------------------------\n",
    "    if wb_veg['params']['foliage'] ==  \"forced\":\n",
    "\n",
    "        # No bud_burst_date\n",
    "        if np.isnan(wb_veg['bud_burst_date']):\n",
    "            if day_of_year >= wb_veg['params']['day_start_forced']:\n",
    "                wb_veg['bud_burst_date'] = day_of_year\n",
    "\n",
    "            else:\n",
    "                raise ValueError(\n",
    "                    'Error setting bud_burst_date for forced vegetation in compute_pheno_wb_veg function'\n",
    "                )\n",
    "\n",
    "        #  Leaf shedding\n",
    "        elif day_of_year >= wb_veg['params']['day_end_forced']:\n",
    "            wb_veg['lai_pheno'] = np.maximum(0, wb_veg['lai'] - np.maximum(0, wb_veg['params']['lai_max']/wb_veg['params']['nbday_lai']))\n",
    "\n",
    "        elif np.isnan(wb_veg['bud_burst_date']) is False:\n",
    "\n",
    "            # After bud burst and before full LAI\n",
    "            if day_of_year < wb_veg['bud_burst_date'] + wb_veg['params']['nbday_lai']:\n",
    "                wb_veg['lai_pheno'] = wb_veg['lai_pheno'] + np.maximum(0, wb_veg['params']['lai_max']/wb_veg['params']['nbday_lai'])\n",
    "\n",
    "            else:\n",
    "                raise ValueError(\n",
    "                    'Error setting lai_pheno for forced vegetation in compute_pheno_wb_veg function'\n",
    "                    )\n",
    "\n",
    "        else:\n",
    "            raise ValueError(\n",
    "                'Error setting parameters for forced vegetation in compute_pheno_wb_veg function'\n",
    "                )\n",
    "\n",
    "\n",
    "    return wb_veg"
   ]
  },
  {
   "cell_type": "markdown",
   "metadata": {},
   "source": [
    "#### __Example: Compute phenology for wb_veg dictionary__"
   ]
  },
  {
   "cell_type": "code",
   "execution_count": null,
   "metadata": {
    "vscode": {
     "languageId": "python"
    }
   },
   "outputs": [],
   "source": [
    "modeling_options_dict = create_modeling_options(\n",
    "    time_step_for_evapo=2,\n",
    "    reset_swc=True,\n",
    "    avoid_water_soil_transfer=True,\n",
    "    constant_climate=False,\n",
    "    defoliation=True,\n",
    "    soil_evapo=True,\n",
    "    threshold_mortality=51,\n",
    "    etp_formulation=\"pt\",\n",
    "    rn_formulation=\"linear\",\n",
    "    comp_options_for_evapo=\"custom\",\n",
    "    stomatal_reg_formulation=\"sigmoid\",\n",
    "    transpiration_model=\"jarvis\",\n",
    "    numerical_scheme=\"implicit\",\n",
    "    pedo_transfer_formulation=\"campbell\",\n",
    ")"
   ]
  },
  {
   "cell_type": "code",
   "execution_count": null,
   "metadata": {
    "vscode": {
     "languageId": "python"
    }
   },
   "outputs": [],
   "source": [
    "stand_params = create_stand_parameters(\n",
    "    file_path=\"./sample_data/stand_example.csv\",\n",
    "    lai_max=None,\n",
    "    latitude=None,\n",
    "    longitude=None,\n",
    "    sep=\";\",\n",
    ")"
   ]
  },
  {
   "cell_type": "code",
   "execution_count": null,
   "metadata": {
    "vscode": {
     "languageId": "python"
    }
   },
   "outputs": [],
   "source": [
    "soil_params = create_soil_parameters(\n",
    "    file_path=\"./sample_data/soil_example.csv\",\n",
    "    modeling_options=modeling_options_dict,\n",
    "    default_soil=False,\n",
    "    offset_psoil=1,\n",
    "    psoil_at_field_capacity=-1,\n",
    ")"
   ]
  },
  {
   "cell_type": "code",
   "execution_count": null,
   "metadata": {
    "vscode": {
     "languageId": "python"
    }
   },
   "outputs": [],
   "source": [
    "vegetation_params_evergreen = create_vegetation_parameters(\n",
    "    file_path=\"./sample_data/vegetation_example_wide.csv\",\n",
    "    list_of_parameters=None,\n",
    "    soil_parameters=soil_params,\n",
    "    stand_parameters=stand_params,\n",
    "    modeling_options=modeling_options_dict,\n",
    "    sep=\",\",\n",
    ")"
   ]
  },
  {
   "cell_type": "code",
   "execution_count": null,
   "metadata": {
    "vscode": {
     "languageId": "python"
    }
   },
   "outputs": [],
   "source": [
    "wb_veg = new_wb_veg(vegetation_params)"
   ]
  },
  {
   "cell_type": "code",
   "execution_count": null,
   "metadata": {
    "vscode": {
     "languageId": "python"
    }
   },
   "outputs": [],
   "source": [
    "compute_pheno_wb_veg(wb_veg=wb_veg,\n",
    "                     temperature=20,\n",
    "                     day_of_year=1\n",
    ")"
   ]
  },
  {
   "cell_type": "code",
   "execution_count": null,
   "metadata": {
    "vscode": {
     "languageId": "python"
    }
   },
   "outputs": [],
   "source": [
    "# | export\n",
    "def update_capacitances_apo_and_sym_wb_veg(wb_veg:Dict, # Dictionary created using the `new_wb_veg` function\n",
    "    ) -> Dict:\n",
    "\n",
    "    \"Update symplasmic plant capacitances for trunk and leaves\"\n",
    "\n",
    "    # Assert parameters ---------------------------------------------------------\n",
    "    # wb_veg\n",
    "    assert (\n",
    "        isinstance(wb_veg, Dict)\n",
    "    ), f\"wb_veg must be a Dictionary not a {type(wb_veg)}\"\n",
    "\n",
    "    # NM minimal double to avoid-INF\n",
    "    dbxmin = 1e-100\n",
    "\n",
    "    # Compute the relative water content of the symplasm ------------------------\n",
    "    rwc_lsym = 1 - rs_comp(pi_ft = wb_veg['params']['pifullturgor_leaf'],\n",
    "                           e_symp = wb_veg['params']['epsilonsym_leaf'],\n",
    "                           psi = wb_veg['psi_lsym'] - dbxmin\n",
    "                           )\n",
    "    # Compute the derivative of the relative water content of the symplasm\n",
    "    if wb_veg['psi_lsym'] > wb_veg['params']['psi_tlp_leaf']:\n",
    "\n",
    "        # FP derivative of -Pi0- Eps(1-RWC)+Pi0/RWC\n",
    "        rwc_lsym_prime = rwc_lsym / (-wb_veg['params']['pifullturgor_leaf'] - wb_veg['psi_lsym'] - wb_veg['params']['epsilonsym_leaf'] + 2 * wb_veg['params']['epsilonsym_leaf'] * rwc_lsym)\n",
    "\n",
    "    else:\n",
    "        # FP derivative of Pi0/Psi\n",
    "        rwc_lsym_prime = -wb_veg['params']['pifullturgor_leaf'] / wb_veg['psi_lsym']**2\n",
    "\n",
    "\n",
    "    # Compute the leaf capacitance (mmol/MPa/m2_sol)\n",
    "    if wb_veg['lai'] == 0:\n",
    "        wb_veg['c_lsym'] = 0\n",
    "\n",
    "    else:\n",
    "        wb_veg['c_lsym'] = wb_veg['q_lsym_sat_mmol_per_leaf_area'] * rwc_lsym_prime\n",
    "\n",
    "    # Stem symplasmic canopy water content --------------------------------------\n",
    "    rwc_ssym = 1 - rs_comp(pi_ft = wb_veg['params']['pifullturgor_stem'],\n",
    "                           e_symp = wb_veg['params']['epsilonsym_stem'],\n",
    "                           psi = wb_veg['psi_ssym'] - dbxmin\n",
    "                           )\n",
    "\n",
    "    # Compute the derivative of the relative water content of the symplasm\n",
    "    if wb_veg['psi_ssym'] > wb_veg['params']['psi_tlp_stem']:\n",
    "\n",
    "        # FP derivative of -Pi0- Eps(1-RWC)+Pi0/RWC\n",
    "        rwc_ssym_prime = rwc_ssym / (-wb_veg['params']['pifullturgor_stem'] - wb_veg['psi_ssym'] - wb_veg['params']['epsilonsym_stem'] + 2 * wb_veg['params']['epsilonsym_stem'] * rwc_ssym)\n",
    "\n",
    "    else:\n",
    "        # FP derivative of Pi0/Psi\n",
    "        rwc_ssym_prime = -wb_veg['params']['pifullturgor_stem'] / wb_veg['psi_ssym']**2\n",
    "\n",
    "\n",
    "    # Compute the capacitance (mmol/MPa/m2_leaf)\n",
    "    # Stem capacitance per leaf area can only decrease with LAI\n",
    "    # (cannot increase when LAI<1 )\n",
    "    wb_veg['c_ssym'] = wb_veg['q_ssym_sat_mmol_per_leaf_area'] * rwc_ssym_prime\n",
    "\n",
    "    # Add c_sapo and c_lapo -----------------------------------------------------\n",
    "    wb_veg['c_sapo'] = wb_veg['params']['c_sapoinit']\n",
    "    wb_veg['c_lapo'] = wb_veg['params']['c_lapoinit']\n",
    "\n",
    "    return wb_veg\n"
   ]
  },
  {
   "cell_type": "code",
   "execution_count": null,
   "metadata": {
    "vscode": {
     "languageId": "python"
    }
   },
   "outputs": [],
   "source": [
    "# | export\n",
    "def update_lai_and_stocks_wb_veg(wb_veg:Dict, # Dictionary created using the `new_wb_veg` function\n",
    "                                modeling_options: Dict, # Dictionary created using the `create_modeling_options` function\n",
    "                                ) -> Dict:\n",
    "    \"Update leaf area index (LAI) as a function of lai_pheno and caviation and update LAI dependent parameters\"\n",
    "\n",
    "    # Assert parameters ---------------------------------------------------------\n",
    "\n",
    "    # wb_veg\n",
    "    assert (\n",
    "        isinstance(wb_veg, Dict)\n",
    "    ), f\"wb_veg must be a Dictionary not a {type(wb_veg)}\"\n",
    "\n",
    "\n",
    "    # Make sure that modeling_options is a dictionary\n",
    "    assert isinstance(\n",
    "        modeling_options, Dict\n",
    "    ), f\"modeling_options must be a dictionary not a {type(modeling_options)}\"\n",
    "\n",
    "    # Set lai_dead parameter ----------------------------------------------------\n",
    "\n",
    "    # Cavitation does not affect LAI\n",
    "    if modeling_options['defoliation'] is False:\n",
    "        wb_veg['lai_dead'] = 0\n",
    "\n",
    "    # Cavitation does affect LAI\n",
    "    elif modeling_options['defoliation'] is True:\n",
    "\n",
    "        # Leaf shedding because of cavitation. Starts only if PLCabove > 10%\n",
    "        if wb_veg['plc_leaf'] > 10:\n",
    "            wb_veg['lai_dead'] = np.maximum(0, wb_veg['lai_pheno'] * wb_veg['plc_leaf'] / 100)\n",
    "\n",
    "        else:\n",
    "            wb_veg['lai_dead'] = 0\n",
    "    else:\n",
    "        raise ValueError(\n",
    "                    'Error setting lai_dead in update_lai_and_stocks_wb_veg function'\n",
    "                    )\n",
    "\n",
    "    # Update lai ----------------------------------------------------------------\n",
    "    wb_veg['lai'] = wb_veg['lai_pheno'] - wb_veg['lai_dead']\n",
    "\n",
    "    # Update LAI-dependent variables --------------------------------------------\n",
    "    wb_veg['fcc'] = (1 - np.exp(-wb_veg['params']['k'] * wb_veg['lai']))\n",
    "    wb_veg['canopy_storage_capacity'] = 1.5 * wb_veg['lai']\n",
    "\n",
    "    # Update water storing capacities of the dead and living canopy -------------\n",
    "    # Water storing capacities of the living component\n",
    "    wb_veg['dm_live_canopy'] = wb_veg['lai'] * wb_veg['params']['lma']\n",
    "\n",
    "    # water storing capacities of the dead component\n",
    "    wb_veg['dm_dead_canopy'] = wb_veg['lai_dead'] * wb_veg['params']['lma']\n",
    "\n",
    "    # Calculate symplastic water content ----------------------------------------\n",
    "\n",
    "    # Leaf symplastic water content in l/m2 (i.e. mm)\n",
    "    wb_veg['q_lsym_sat_l'] = (1 / (wb_veg['params']['ldmc'] / 1000) - 1) * wb_veg['dm_live_canopy'] * (1 - wb_veg['params']['apofrac_leaf'])/1000\n",
    "\n",
    "    wb_veg['q_lsym_sat_mmol'] = wb_veg['q_lsym_sat_l'] * 1000000/18\n",
    "\n",
    "    # Calculate q_lsym_sat_mmol_per_leaf_area\n",
    "    if wb_veg['lai'] == 0:\n",
    "        wb_veg['q_lsym_sat_mmol_per_leaf_area'] = 0\n",
    "\n",
    "    else:\n",
    "        wb_veg['q_lsym_sat_mmol_per_leaf_area'] = wb_veg['q_lsym_sat_mmol'] / np.maximum(1, wb_veg['lai'])\n",
    "\n",
    "    # Stem symplastic water content in l/m2 (i.e. mm)\n",
    "    wb_veg['q_ssym_sat_l'] = wb_veg['params']['vol_stem'] * wb_veg['params']['symfrac_stem']\n",
    "\n",
    "    wb_veg['q_ssym_sat_mmol'] = wb_veg['q_ssym_sat_l'] * 1000000/18\n",
    "\n",
    "    # used max(1,LAI) to avoid that Q_SSym_sat_mmol_perLeafArea--> inF when\n",
    "    # LAI --> 0 (limit imposed by computing water fluxes by m2leaf)\n",
    "    wb_veg['q_ssym_sat_mmol_per_leaf_area'] = wb_veg['q_ssym_sat_mmol'] / np.maximum(1, wb_veg['lai'])\n",
    "\n",
    "\n",
    "    # Calculate apoplastic water content ----------------------------------------\n",
    "    # Leaf apoplastic water content in l/m2 (i.e. mm)\n",
    "    wb_veg['q_lapo_sat_l'] = (1 / (wb_veg['params']['ldmc'] / 1000) - 1) * wb_veg['dm_live_canopy'] * (wb_veg['params']['apofrac_leaf'])/1000\n",
    "\n",
    "    wb_veg['q_lapo_sat_mmol'] = wb_veg['q_lapo_sat_l'] * 1000000/18\n",
    "\n",
    "    # Calculate q_lsym_sat_mmol_per_leaf_area\n",
    "    if wb_veg['lai'] == 0:\n",
    "        wb_veg['q_lapo_sat_mmol_per_leaf_area'] = 0\n",
    "\n",
    "    else:\n",
    "        wb_veg['q_lapo_sat_mmol_per_leaf_area'] = wb_veg['q_lapo_sat_mmol'] / np.maximum(1, wb_veg['lai'])\n",
    "\n",
    "    # Stem apoplastic water content in l/m2 (i.e. mm)\n",
    "    wb_veg['q_sapo_sat_l'] = wb_veg['params']['vol_stem'] * wb_veg['params']['apofrac_stem']\n",
    "\n",
    "    wb_veg['q_sapo_sat_mmol'] = wb_veg['q_sapo_sat_l'] * 1000000/18\n",
    "\n",
    "    # Used max(1,LAI) to avoid that Q_SApo_sat_mmol_perLeafArea--> inF when\n",
    "    # LAI --> 0 (limit imposed by computing water fluxes by m2leaf)\n",
    "    wb_veg['q_s_sat_mmol_per_leaf_area'] = wb_veg['q_sapo_sat_mmol'] / np.maximum(1, wb_veg['lai'])\n",
    "\n",
    "    return update_capacitances_apo_and_sym_wb_veg(wb_veg)"
   ]
  },
  {
   "cell_type": "markdown",
   "metadata": {},
   "source": [
    "#### __Example: __"
   ]
  },
  {
   "cell_type": "code",
   "execution_count": null,
   "metadata": {
    "vscode": {
     "languageId": "python"
    }
   },
   "outputs": [],
   "source": []
  },
  {
   "cell_type": "markdown",
   "metadata": {},
   "source": [
    "#### __Example: __"
   ]
  },
  {
   "cell_type": "code",
   "execution_count": null,
   "metadata": {
    "vscode": {
     "languageId": "python"
    }
   },
   "outputs": [],
   "source": []
  }
 ],
 "metadata": {
  "kernelspec": {
   "display_name": "python3",
   "language": "python",
   "name": "python3"
  }
 },
 "nbformat": 4,
 "nbformat_minor": 4
}
