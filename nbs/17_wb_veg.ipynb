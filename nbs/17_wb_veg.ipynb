{
 "cells": [
  {
   "cell_type": "raw",
   "metadata": {},
   "source": [
    "---\n",
    "description: 'AUTHORS: __Julien Ruffault (julien.ruff@gmail.com), Nicolas Martin-StPaul\n",
    "  (nicolas.martin@inrae.fr)__'\n",
    "output-file: wb_veg.html\n",
    "title: wb veg functions\n",
    "\n",
    "---"
   ]
  },
  {
   "cell_type": "code",
   "execution_count": null,
   "metadata": {},
   "outputs": [],
   "source": [
    "# | default_exp wb_veg"
   ]
  },
  {
   "cell_type": "code",
   "execution_count": null,
   "metadata": {},
   "outputs": [],
   "source": [
    "# | hide\n",
    "from nbdev.showdoc import *\n",
    "from fastcore.test import *\n",
    "from fastcore.utils import *"
   ]
  },
  {
   "cell_type": "code",
   "execution_count": 1,
   "metadata": {},
   "outputs": [],
   "source": [
    "# | export\n",
    "\n",
    "import warnings\n",
    "import collections\n",
    "import numpy as np\n",
    "from typing import Dict\n",
    "from pandera.typing import DataFrame\n",
    "from sureau_ecos_py.climate_utils import (\n",
    "    day_length,\n",
    "    compute_pet,\n",
    "    potential_par,\n",
    "    rg_units_conversion,\n",
    "    compute_vpd_from_t_rh,\n",
    "    calculate_rh_diurnal_pattern,\n",
    "    rg_watt_ppfd_umol_conversions,\n",
    "    calculate_radiation_diurnal_pattern,\n",
    "    calculate_temperature_diurnal_pattern,\n",
    ")\n",
    "from sureau_ecos_py.create_vegetation_parameters import (\n",
    "    create_vegetation_parameters\n",
    ")\n",
    "from sureau_ecos_py.create_climate_data import create_climate_data\n",
    "from sureau_ecos_py.create_modeling_options import create_modeling_options\n",
    "from sureau_ecos_py.create_soil_parameters import create_soil_parameters\n",
    "from sureau_ecos_py.create_stand_parameters import create_stand_parameters"
   ]
  },
  {
   "cell_type": "code",
   "execution_count": 12,
   "metadata": {},
   "outputs": [],
   "source": [
    "# | export\n",
    "def new_wb_veg(veg_params:Dict # Dictionary created using the `create_vegetation_parameters` functions\n",
    ") -> Dict:\n",
    "\n",
    "    \"Create an object wb_veg from veg_params\"\n",
    "\n",
    "    # Assert parameters ---------------------------------------------------------\n",
    "    assert (\n",
    "        isinstance(veg_params, Dict)\n",
    "    ), f\"veg_param must be a Dictionary not a {type(veg_params)}\"\n",
    "\n",
    "\n",
    "    # Add params to wb_veg dictionary -------------------------------------------\n",
    "\n",
    "    # Create Empty dict\n",
    "    wb_veg = collections.defaultdict(list)\n",
    "\n",
    "    # Add veg_params\n",
    "    wb_veg[\"params\"] = veg_params\n",
    "\n",
    "    # Add Stem and Leaf turgor point\n",
    "    wb_veg['params']['psi_tlp_leaf'] = wb_veg[\"params\"][\"pifullturgor_leaf\"]*wb_veg[\"params\"][\"epsilonsym_leaf\"]/(wb_veg[\"params\"][\"pifullturgor_leaf\"]+wb_veg[\"params\"][\"epsilonsym_leaf\"])\n",
    "    wb_veg['params']['psi_tlp_stem'] = wb_veg[\"params\"][\"pifullturgor_stem\"]*wb_veg[\"params\"][\"epsilonsym_stem\"]/(wb_veg[\"params\"][\"pifullturgor_stem\"]+wb_veg[\"params\"][\"epsilonsym_stem\"])\n",
    "\n",
    "    # Add potentials\n",
    "    wb_veg['psi_lapo'] = 0\n",
    "    wb_veg['psi_sapo'] = 0\n",
    "    wb_veg['psi_lsym'] = 0\n",
    "    wb_veg['psi_ssym'] = 0\n",
    "\n",
    "    # FP replaced \"mem\" by \"cav\" (when cavitation starts)\n",
    "    wb_veg['psi_lapo_cav'] = 0\n",
    "    wb_veg['psi_sapo_cav'] = 0\n",
    "    wb_veg['psi_all_soil'] = 0\n",
    "\n",
    "    # Conductance & capacitance (mmol/m2/s/MPa) Here on leaf area basis but they\n",
    "    # are to be updated as a function symplasm conductance and leaf area hydraulic\n",
    "    # conductances\n",
    "\n",
    "    # constant value during simulation\n",
    "    wb_veg[\"k_plant\"] =  wb_veg[\"params\"][\"k_plant_init\"]\n",
    "\n",
    "    # constant value during simulation\n",
    "    wb_veg[\"k_lsym\"]  =  wb_veg[\"params\"][\"k_lsym_init\"]\n",
    "\n",
    "    # constant value during simulation\n",
    "    #wb_veg[\"k_ssym\"]  =  wb_veg[\"params\"][\"k_ssym_init\"]\n",
    "\n",
    "\n",
    "    return wb_veg\n"
   ]
  },
  {
   "cell_type": "markdown",
   "metadata": {},
   "source": [
    "#### __Example: __"
   ]
  },
  {
   "cell_type": "code",
   "execution_count": 3,
   "metadata": {},
   "outputs": [],
   "source": [
    "modeling_options_dict = create_modeling_options(\n",
    "    time_step_for_evapo=2,\n",
    "    reset_swc=True,\n",
    "    avoid_water_soil_transfer=True,\n",
    "    constant_climate=False,\n",
    "    defoliation=True,\n",
    "    soil_evapo=True,\n",
    "    threshold_mortality=51,\n",
    "    etp_formulation=\"pt\",\n",
    "    rn_formulation=\"linear\",\n",
    "    comp_options_for_evapo=\"custom\",\n",
    "    stomatal_reg_formulation=\"sigmoid\",\n",
    "    transpiration_model=\"jarvis\",\n",
    "    numerical_scheme=\"implicit\",\n",
    "    pedo_transfer_formulation=\"campbell\",\n",
    ")"
   ]
  },
  {
   "cell_type": "code",
   "execution_count": 4,
   "metadata": {},
   "outputs": [],
   "source": [
    "stand_params = create_stand_parameters(\n",
    "    file_path=\"./sample_data/stand_example.csv\",\n",
    "    lai_max=None,\n",
    "    latitude=None,\n",
    "    longitude=None,\n",
    "    sep=\";\",\n",
    ")"
   ]
  },
  {
   "cell_type": "code",
   "execution_count": 5,
   "metadata": {},
   "outputs": [
    {
     "name": "stdout",
     "output_type": "stream",
     "text": [
      "There is an offset on Psoil of 1 MPa\n",
      "Psoil at field capacity = -0.001 MPa\n",
      "You are using campbell pedotransfer formulation\n",
      "Available water capacity Wilting: 273.74477742718403 mm\n",
      "Available water capacity Residual: 307.81195119276424 mm\n",
      "Can soil_params[\"v_soil_storage_capacity\"] be negative?? Ask\n"
     ]
    }
   ],
   "source": [
    "soil_params = create_soil_parameters(\n",
    "    file_path=\"./sample_data/soil_example.csv\",\n",
    "    modeling_options=modeling_options_dict,\n",
    "    default_soil=False,\n",
    "    offset_psoil=1,\n",
    "    psoil_at_field_capacity=-1,\n",
    ")"
   ]
  },
  {
   "cell_type": "code",
   "execution_count": 14,
   "metadata": {},
   "outputs": [
    {
     "name": "stdout",
     "output_type": "stream",
     "text": [
      "frac_leaf_sym' set to 0.4\n",
      "Available water capacity @Tlp (Campbell):280.7301527422195 mm\n",
      "Available water capacity @P50 (Campbell):283.4407203700769 mm\n"
     ]
    },
    {
     "name": "stderr",
     "output_type": "stream",
     "text": [
      "/workspaces/sureau_ecos_py/sureau_ecos_py/plant_utils.py:899: UserWarning: Foliage evergreen has no params\n",
      "  warnings.warn(\"Foliage evergreen has no params\")\n",
      "/workspaces/sureau_ecos_py/sureau_ecos_py/create_vegetation_parameters.py:106: UserWarning: Make sure that depth from soil_parameters is in meters\n",
      "  warnings.warn(\"Make sure that depth from soil_parameters is in meters\")\n"
     ]
    },
    {
     "data": {
      "text/plain": [
       "defaultdict(list,\n",
       "            {'c_lapoinit': 1e-05,\n",
       "             'c_sapoinit': 2e-05,\n",
       "             'fcrit': 450,\n",
       "             'foliage': 'evergreen',\n",
       "             'jarvis_par': 0.006,\n",
       "             'k': 0.5,\n",
       "             'k_plantinit': 0.62,\n",
       "             'k_ssyminit': 0.26,\n",
       "             'ldmc': 570,\n",
       "             'lma': 106,\n",
       "             'p12_gs': -2.07,\n",
       "             'p50_vc_leaf': -3.4,\n",
       "             'p50_vc_stem': -3.4,\n",
       "             'p88_gs': -2.62,\n",
       "             'pt_coeff': 1.14,\n",
       "             'pifullturgor_leaf': -2.1,\n",
       "             'pifullturgor_stem': -2.1,\n",
       "             'psi_close': -2,\n",
       "             'psi_start_closing': -0.5,\n",
       "             'q10_1_gmin': 1.2,\n",
       "             'q10_2_gmin': 4.8,\n",
       "             'tphase_gmin': 37.5,\n",
       "             'tbase': 3,\n",
       "             'tgs_optim': 25,\n",
       "             'tgs_sens': 17,\n",
       "             'apofrac_leaf': 0.4,\n",
       "             'apofrac_stem': 0.4,\n",
       "             'betarootprofile': 0.97,\n",
       "             'canopystorageparam': 1.5,\n",
       "             'daystart': 55,\n",
       "             'epsilonsym_leaf': 10,\n",
       "             'epsilonsym_stem': 10,\n",
       "             'froottoleaf': 1,\n",
       "             'ftrbtoleaf': 0.8,\n",
       "             'g_crown0': 45,\n",
       "             'gmin20': 4,\n",
       "             'gmin_s': 3,\n",
       "             'gs_max': 200,\n",
       "             'gs_night': 20,\n",
       "             'nbdaylai': 21,\n",
       "             'rootradius': 0.0002,\n",
       "             'slope_vc_leaf': 60,\n",
       "             'slope_vc_stem': 60,\n",
       "             'symfrac_stem': 0.2,\n",
       "             'turgor_pressure_at_gs_max': 2,\n",
       "             'vol_stem': 40,\n",
       "             'frac_leaf_sym': 0.4,\n",
       "             'p50_gs': -2.3449999999999998,\n",
       "             'slope_gs': 181.81818181818173,\n",
       "             'lai_max': 4.5,\n",
       "             'root_distribution': array([0.45620566, 0.49624184, 0.04755251]),\n",
       "             'taw_at_tlp': 280.7301527422195,\n",
       "             'taw_at_p50': 283.4407203700769,\n",
       "             'la': array([1633.66617127, 1777.03517271,  170.28487559]),\n",
       "             'lv': array([32673.32342536, 12340.52203273,   946.02708659]),\n",
       "             'k_slapo_init': 3.1,\n",
       "             'k_rsapo_init': array([0.70711877, 0.76917484, 0.07370639]),\n",
       "             'k_lsym_init': 1.5499999999999998,\n",
       "             'k_plant_init': 0.62})"
      ]
     },
     "execution_count": 14,
     "metadata": {},
     "output_type": "execute_result"
    }
   ],
   "source": [
    "vegetation_params = create_vegetation_parameters(\n",
    "    file_path=\"./sample_data/vegetation_example_wide.csv\",\n",
    "    list_of_parameters=None,\n",
    "    soil_parameters=soil_params,\n",
    "    stand_parameters=stand_params,\n",
    "    modeling_options=modeling_options_dict,\n",
    "    sep=\",\",\n",
    ")\n",
    "vegetation_params"
   ]
  },
  {
   "cell_type": "code",
   "execution_count": 13,
   "metadata": {},
   "outputs": [
    {
     "data": {
      "text/plain": [
       "defaultdict(list,\n",
       "            {'params': defaultdict(list,\n",
       "                         {'c_lapoinit': 1e-05,\n",
       "                          'c_sapoinit': 2e-05,\n",
       "                          'fcrit': 450,\n",
       "                          'foliage': 'evergreen',\n",
       "                          'jarvis_par': 0.006,\n",
       "                          'k': 0.5,\n",
       "                          'k_plantinit': 0.62,\n",
       "                          'k_ssyminit': 0.26,\n",
       "                          'ldmc': 570,\n",
       "                          'lma': 106,\n",
       "                          'p12_gs': -2.07,\n",
       "                          'p50_vc_leaf': -3.4,\n",
       "                          'p50_vc_stem': -3.4,\n",
       "                          'p88_gs': -2.62,\n",
       "                          'pt_coeff': 1.14,\n",
       "                          'pifullturgor_leaf': -2.1,\n",
       "                          'pifullturgor_stem': -2.1,\n",
       "                          'psi_close': -2,\n",
       "                          'psi_start_closing': -0.5,\n",
       "                          'q10_1_gmin': 1.2,\n",
       "                          'q10_2_gmin': 4.8,\n",
       "                          'tphase_gmin': 37.5,\n",
       "                          'tbase': 3,\n",
       "                          'tgs_optim': 25,\n",
       "                          'tgs_sens': 17,\n",
       "                          'apofrac_leaf': 0.4,\n",
       "                          'apofrac_stem': 0.4,\n",
       "                          'betarootprofile': 0.97,\n",
       "                          'canopystorageparam': 1.5,\n",
       "                          'daystart': 55,\n",
       "                          'epsilonsym_leaf': 10,\n",
       "                          'epsilonsym_stem': 10,\n",
       "                          'froottoleaf': 1,\n",
       "                          'ftrbtoleaf': 0.8,\n",
       "                          'g_crown0': 45,\n",
       "                          'gmin20': 4,\n",
       "                          'gmin_s': 3,\n",
       "                          'gs_max': 200,\n",
       "                          'gs_night': 20,\n",
       "                          'nbdaylai': 21,\n",
       "                          'rootradius': 0.0002,\n",
       "                          'slope_vc_leaf': 60,\n",
       "                          'slope_vc_stem': 60,\n",
       "                          'symfrac_stem': 0.2,\n",
       "                          'turgor_pressure_at_gs_max': 2,\n",
       "                          'vol_stem': 40,\n",
       "                          'frac_leaf_sym': 0.4,\n",
       "                          'p50_gs': -2.3449999999999998,\n",
       "                          'slope_gs': 181.81818181818173,\n",
       "                          'lai_max': 4.5,\n",
       "                          'root_distribution': array([0.45620566, 0.49624184, 0.04755251]),\n",
       "                          'taw_at_tlp': 280.7301527422195,\n",
       "                          'taw_at_p50': 283.4407203700769,\n",
       "                          'la': array([1633.66617127, 1777.03517271,  170.28487559]),\n",
       "                          'lv': array([32673.32342536, 12340.52203273,   946.02708659]),\n",
       "                          'k_slapo_init': 3.1,\n",
       "                          'k_rsapo_init': array([0.70711877, 0.76917484, 0.07370639]),\n",
       "                          'k_lsym_init': 1.5499999999999998,\n",
       "                          'k_plant_init': 0.62,\n",
       "                          'psi_tlp_leaf': -2.6582278481012658,\n",
       "                          'psi_tlp_stem': -2.6582278481012658,\n",
       "                          'k_ssym_init': []}),\n",
       "             'psi_lapo': 0,\n",
       "             'psi_sapo': 0,\n",
       "             'psi_lsym': 0,\n",
       "             'psi_ssym': 0,\n",
       "             'psi_lapo_cav': 0,\n",
       "             'psi_sapo_cav': 0,\n",
       "             'psi_all_soil': 0,\n",
       "             'k_plant': 0.62,\n",
       "             'k_lsym': 1.5499999999999998})"
      ]
     },
     "execution_count": 13,
     "metadata": {},
     "output_type": "execute_result"
    }
   ],
   "source": [
    "new_wb_veg(vegetation_params)"
   ]
  }
 ],
 "metadata": {
  "kernelspec": {
   "display_name": "python3",
   "language": "python",
   "name": "python3"
  },
  "language_info": {
   "codemirror_mode": {
    "name": "ipython",
    "version": 3
   },
   "file_extension": ".py",
   "mimetype": "text/x-python",
   "name": "python",
   "nbconvert_exporter": "python",
   "pygments_lexer": "ipython3",
   "version": "3.9.18"
  }
 },
 "nbformat": 4,
 "nbformat_minor": 4
}
