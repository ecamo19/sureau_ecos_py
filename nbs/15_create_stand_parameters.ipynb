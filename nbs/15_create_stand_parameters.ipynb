{
 "cells": [
  {
   "cell_type": "raw",
   "metadata": {},
   "source": [
    "---\n",
    "description: 'AUTHORS: __Julien Ruffault (julien.ruff@gmail.com), Nicolas Martin-StPaul\n",
    "  (nicolas.martin@inrae.fr)__'\n",
    "output-file: create_stand_parameters.html\n",
    "title: Create stand parameters\n",
    "\n",
    "---\n",
    "\n"
   ]
  },
  {
   "cell_type": "code",
   "execution_count": null,
   "metadata": {},
   "outputs": [],
   "source": [
    "# | default_exp create_stand_parameters"
   ]
  },
  {
   "cell_type": "code",
   "execution_count": null,
   "metadata": {},
   "outputs": [],
   "source": [
    "# | hide\n",
    "from nbdev.showdoc import *\n",
    "from fastcore.test import *\n",
    "from fastcore.utils import *"
   ]
  },
  {
   "cell_type": "code",
   "execution_count": null,
   "metadata": {},
   "outputs": [],
   "source": [
    "# | export\n",
    "import os\n",
    "import collections\n",
    "import pandas as pd\n",
    "import pandera as pa\n",
    "from typing import Dict\n",
    "from pathlib import Path\n",
    "from pandera.typing import Series"
   ]
  },
  {
   "cell_type": "code",
   "execution_count": null,
   "metadata": {},
   "outputs": [],
   "source": [
    "# | export\n",
    "\n",
    "# This class was created for validating the input dataframe\n",
    "# If the data don't follow the structure specified the function will fail\n",
    "class StandFile(pa.SchemaModel):\n",
    "    \"Schema for validating the input stand parameter data. The CSV must contain columns with the plot_id, lai_max, latitude, and longitude\"\n",
    "\n",
    "    # plot_id: Series[str] = pa.Field(\n",
    "    #    description=\"Plot id from which the data was collected\"\n",
    "    # )\n",
    "    lai_max: Series[float] = pa.Field(\n",
    "        ge=0, description=\"Maximum leaf area index of the stand (m2/m2)\"\n",
    "    )\n",
    "    latitude: Series[float] = pa.Field(description=\"Latitude of the stand\")\n",
    "    longitude: Series[float] = pa.Field(description=\"Longitude of the stand\")\n",
    "\n",
    "    # Added for making sure that it only accepts the columns specified above\n",
    "    class Config:\n",
    "        strict = True\n",
    "\n",
    "\n",
    "def create_stand_parameters(\n",
    "    file_path: Path = None,  # Path to a csv file containing lai_max, latitude and longitude values i.e path/to/parameter_values.csv\n",
    "    lai_max: float = None,  # Value indicating the maximum leaf area index of the stand (m2/m2)\n",
    "    latitude: float = None,  # Value indicating the latitude of the stand\n",
    "    longitude: float = None,  # Value indicating the longitude of the stand\n",
    "    sep: str = \";\",  # CSV file separator can be ',' or ';'\n",
    ") -> Dict:  # Dictionary containing parameters\n",
    "    \"Create a dictionary with stand parameters that can be used as in input in \\code{run.SureauR}\"\n",
    "\n",
    "    # Assert parameters ---------------------------------------------------------\n",
    "\n",
    "    # Make sure the file_path exist or is None\n",
    "    assert file_path is None or os.path.exists(\n",
    "        file_path\n",
    "    ), f\"Path: {file_path} not found, check spelling\"\n",
    "\n",
    "    # Make sure that if file_path is None, the other params are provided and\n",
    "    # are the correct data type\n",
    "    if file_path is None:\n",
    "        assert isinstance(\n",
    "            lai_max, float\n",
    "        ), \"Missing lai_max or incorrect data type. Provide lai_max as a floating point i.e. lai_max = 6.0011\"\n",
    "\n",
    "        assert (\n",
    "            isinstance(latitude, float) and isinstance(longitude, float)\n",
    "        ), \"Missing latitude and/or longitude. Provide latitude and/or longitude as Coordinates points i.e. latitude = 41.40338, longitude = 2.17403\"\n",
    "\n",
    "    # Raise error if file_path and parameters are provided\n",
    "    if file_path is not None:\n",
    "        assert (\n",
    "            lai_max is None and latitude is None and longitude is None\n",
    "        ), \"file_path, lai_max, latitude and longitude were provided. If CSV file is provided set lai_max, latitude and longitude to None\"\n",
    "\n",
    "    # Create stand_parameters from csv file -------------------------------------\n",
    "    if file_path is not None:\n",
    "        # Read file\n",
    "        stand_params_csv = pd.read_csv(file_path, header=0, sep=sep)\n",
    "\n",
    "        # Raise error if stand_params_csv don't follow the StandFile Schema\n",
    "        StandFile.validate(stand_params_csv)\n",
    "\n",
    "        # Convert a plot_id column to rownames\n",
    "        # stand_params_csv = stand_params_csv.set_index(\"plot_id\")\n",
    "\n",
    "        # Create dictionary with params\n",
    "\n",
    "        # Reshape dataframe for converting it to a list\n",
    "        stand_params_csv = pd.DataFrame(\n",
    "            stand_params_csv.melt(ignore_index=True).reset_index()[\n",
    "                [\"variable\", \"value\"]\n",
    "            ]\n",
    "        )\n",
    "\n",
    "        # Transform data to a list and then create dictionary\n",
    "        stand_params = collections.defaultdict(\n",
    "            list,\n",
    "            {\n",
    "                each_cell[0]: each_cell[1]\n",
    "                for each_cell in stand_params_csv.values.tolist()\n",
    "            },\n",
    "        )\n",
    "\n",
    "    # Create stand_parameters from function inputs ------------------------------\n",
    "\n",
    "    elif file_path is None:\n",
    "        # Create empty dictionary\n",
    "        stand_params = collections.defaultdict(list)\n",
    "\n",
    "        # Add params to empty dict\n",
    "        stand_params[\"lai_max\"] = lai_max\n",
    "        stand_params[\"latitude\"] = latitude\n",
    "        stand_params[\"longitude\"] = longitude\n",
    "\n",
    "    return stand_params"
   ]
  },
  {
   "cell_type": "markdown",
   "metadata": {},
   "source": [
    "#### __Example: Create stand parameters dictionary__"
   ]
  },
  {
   "cell_type": "code",
   "execution_count": null,
   "metadata": {},
   "outputs": [
    {
     "data": {
      "text/plain": [
       "defaultdict(list, {'lai_max': 4.5, 'latitude': 48.73, 'longitude': 6.23})"
      ]
     },
     "execution_count": null,
     "metadata": {},
     "output_type": "execute_result"
    }
   ],
   "source": [
    "create_stand_parameters(\n",
    "    file_path=\"./sample_data/stand_example.csv\",\n",
    "    lai_max=None,\n",
    "    latitude=None,\n",
    "    longitude=None,\n",
    "    sep=\";\",\n",
    ")"
   ]
  },
  {
   "cell_type": "code",
   "execution_count": null,
   "metadata": {},
   "outputs": [
    {
     "data": {
      "text/plain": [
       "defaultdict(list, {'lai_max': 2.0, 'latitude': 41.1, 'longitude': 2.1})"
      ]
     },
     "execution_count": null,
     "metadata": {},
     "output_type": "execute_result"
    }
   ],
   "source": [
    "create_stand_parameters(\n",
    "    file_path=None, lai_max=2.0, latitude=41.1, longitude=2.1\n",
    ")"
   ]
  }
 ],
 "metadata": {
  "kernelspec": {
   "display_name": "python3",
   "language": "python",
   "name": "python3"
  }
 },
 "nbformat": 4,
 "nbformat_minor": 4
}
