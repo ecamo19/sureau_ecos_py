{
 "cells": [
  {
   "cell_type": "raw",
   "metadata": {},
   "source": [
    "---\n",
    "description: 'AUTHORS: __Julien Ruffault (julien.ruff@gmail.com), Nicolas Martin-StPaul\n",
    "  (nicolas.martin@inrae.fr)__'\n",
    "output-file: compute_theta_at_given_p_soil_camp.html\n",
    "title: Compute theta at given psoil camp\n",
    "\n",
    "---\n",
    "\n"
   ]
  },
  {
   "cell_type": "code",
   "execution_count": null,
   "metadata": {},
   "outputs": [],
   "source": [
    "# | default_exp compute_theta_at_given_p_soil_camp"
   ]
  },
  {
   "cell_type": "code",
   "execution_count": null,
   "metadata": {},
   "outputs": [],
   "source": [
    "# | hide\n",
    "from nbdev.showdoc import *\n",
    "from fastcore.test import *"
   ]
  },
  {
   "cell_type": "code",
   "execution_count": 1,
   "metadata": {},
   "outputs": [],
   "source": [
    "# | export\n",
    "import numpy as np"
   ]
  },
  {
   "cell_type": "code",
   "execution_count": 1,
   "metadata": {},
   "outputs": [],
   "source": [
    "# | export\n",
    "def compute_theta_at_given_p_soil_camp(\n",
    "    theta_sat: float, # Unknown parameter definition\n",
    "    psi_target: float, # Unknown parameter definition\n",
    "    psie: float, # Unknown parameter definition\n",
    "    b_camp: float # Unknown parameter definition\n",
    ") -> float:\n",
    "\n",
    "    # Assert that values are negative.\n",
    "    # Using np.testing instead of assert because parameters can be np.arrays OR\n",
    "    # single values (i.e. 1). assert only works when params are always one\n",
    "    # type\n",
    "\n",
    "    np.testing.assert_array_less(np.array(psie), 0,\n",
    "                                 err_msg='\\nError: psie values must be negative\\n')\n",
    "\n",
    "    np.testing.assert_array_less(np.array(b_camp), 0,\n",
    "                                 err_msg='\\nError: b_camp values must be negative\\n')\n",
    "\n",
    "    np.testing.assert_array_less(np.array(psi_target), 0,\n",
    "                                 err_msg='\\nError: psi_target values must be negative\\n')\n",
    "\n",
    "\n",
    "    return theta_sat * (psi_target / psie) ** (1 / b_camp)\n"
   ]
  },
  {
   "cell_type": "markdown",
   "metadata": {},
   "source": [
    "## Compute theta"
   ]
  },
  {
   "cell_type": "code",
   "execution_count": 2,
   "metadata": {},
   "outputs": [
    {
     "ename": "NameError",
     "evalue": "name 'np' is not defined",
     "output_type": "error",
     "traceback": [
      "\u001b[0;31m---------------------------------------------------------------------------\u001b[0m",
      "\u001b[0;31mNameError\u001b[0m                                 Traceback (most recent call last)",
      "Cell \u001b[0;32mIn[2], line 1\u001b[0m\n\u001b[0;32m----> 1\u001b[0m \u001b[43mcompute_theta_at_given_p_soil_camp\u001b[49m\u001b[43m(\u001b[49m\u001b[43mpsi_target\u001b[49m\u001b[38;5;241;43m=\u001b[39;49m\u001b[43m \u001b[49m\u001b[38;5;241;43m-\u001b[39;49m\u001b[38;5;241;43m1.5\u001b[39;49m\u001b[43m \u001b[49m\u001b[43m,\u001b[49m\n\u001b[1;32m      2\u001b[0m \u001b[43m                                   \u001b[49m\u001b[43mtheta_sat\u001b[49m\u001b[43m \u001b[49m\u001b[38;5;241;43m=\u001b[39;49m\u001b[43m \u001b[49m\u001b[38;5;241;43m0.39\u001b[39;49m\u001b[43m,\u001b[49m\n\u001b[1;32m      3\u001b[0m \u001b[43m                                   \u001b[49m\u001b[43mpsie\u001b[49m\u001b[43m \u001b[49m\u001b[38;5;241;43m=\u001b[39;49m\u001b[43m  \u001b[49m\u001b[38;5;241;43m-\u001b[39;49m\u001b[38;5;241;43m0.025\u001b[39;49m\u001b[43m,\u001b[49m\n\u001b[1;32m      4\u001b[0m \u001b[43m                                   \u001b[49m\u001b[43mb_camp\u001b[49m\u001b[38;5;241;43m=\u001b[39;49m\u001b[43m \u001b[49m\u001b[38;5;241;43m-\u001b[39;49m\u001b[38;5;241;43m4.0\u001b[39;49m\u001b[43m)\u001b[49m\n",
      "Cell \u001b[0;32mIn[1], line 14\u001b[0m, in \u001b[0;36mcompute_theta_at_given_p_soil_camp\u001b[0;34m(theta_sat, psi_target, psie, b_camp)\u001b[0m\n\u001b[1;32m      2\u001b[0m \u001b[38;5;28;01mdef\u001b[39;00m \u001b[38;5;21mcompute_theta_at_given_p_soil_camp\u001b[39m(\n\u001b[1;32m      3\u001b[0m     theta_sat: \u001b[38;5;28mfloat\u001b[39m, \u001b[38;5;66;03m# Unknown parameter definition\u001b[39;00m\n\u001b[1;32m      4\u001b[0m     psi_target: \u001b[38;5;28mfloat\u001b[39m, \u001b[38;5;66;03m# Unknown parameter definition\u001b[39;00m\n\u001b[0;32m   (...)\u001b[0m\n\u001b[1;32m     11\u001b[0m     \u001b[38;5;66;03m# single values (i.e. 1). assert only works when params are always one\u001b[39;00m\n\u001b[1;32m     12\u001b[0m     \u001b[38;5;66;03m# type\u001b[39;00m\n\u001b[0;32m---> 14\u001b[0m     \u001b[43mnp\u001b[49m\u001b[38;5;241m.\u001b[39mtesting\u001b[38;5;241m.\u001b[39massert_array_less(np\u001b[38;5;241m.\u001b[39marray(psie), \u001b[38;5;241m0\u001b[39m,\n\u001b[1;32m     15\u001b[0m                                  err_msg\u001b[38;5;241m=\u001b[39m\u001b[38;5;124m'\u001b[39m\u001b[38;5;130;01m\\n\u001b[39;00m\u001b[38;5;124mError: psie values must be negative\u001b[39m\u001b[38;5;130;01m\\n\u001b[39;00m\u001b[38;5;124m'\u001b[39m)\n\u001b[1;32m     17\u001b[0m     np\u001b[38;5;241m.\u001b[39mtesting\u001b[38;5;241m.\u001b[39massert_array_less(np\u001b[38;5;241m.\u001b[39marray(b_camp), \u001b[38;5;241m0\u001b[39m,\n\u001b[1;32m     18\u001b[0m                                  err_msg\u001b[38;5;241m=\u001b[39m\u001b[38;5;124m'\u001b[39m\u001b[38;5;130;01m\\n\u001b[39;00m\u001b[38;5;124mError: b_camp values must be negative\u001b[39m\u001b[38;5;130;01m\\n\u001b[39;00m\u001b[38;5;124m'\u001b[39m)\n\u001b[1;32m     20\u001b[0m     np\u001b[38;5;241m.\u001b[39mtesting\u001b[38;5;241m.\u001b[39massert_array_less(np\u001b[38;5;241m.\u001b[39marray(psi_target), \u001b[38;5;241m0\u001b[39m,\n\u001b[1;32m     21\u001b[0m                                  err_msg\u001b[38;5;241m=\u001b[39m\u001b[38;5;124m'\u001b[39m\u001b[38;5;130;01m\\n\u001b[39;00m\u001b[38;5;124mError: psi_target values must be negative\u001b[39m\u001b[38;5;130;01m\\n\u001b[39;00m\u001b[38;5;124m'\u001b[39m)\n",
      "\u001b[0;31mNameError\u001b[0m: name 'np' is not defined"
     ]
    }
   ],
   "source": [
    "compute_theta_at_given_p_soil_camp(psi_target= -1.5 ,\n",
    "                                   theta_sat = 0.39,\n",
    "                                   psie =  -0.025,\n",
    "                                   b_camp= -4.0)"
   ]
  },
  {
   "cell_type": "code",
   "execution_count": 72,
   "metadata": {},
   "outputs": [
    {
     "data": {
      "text/plain": [
       "array([0.25151288, 0.78572343])"
      ]
     },
     "execution_count": 72,
     "metadata": {},
     "output_type": "execute_result"
    }
   ],
   "source": [
    "compute_theta_at_given_p_soil_camp(psi_target= np.array([-1.5, -2]) ,\n",
    "                                   theta_sat = np.array([0.70]),\n",
    "                                   psie =  np.array([-0.025, -4]),\n",
    "                                   b_camp= np.array([-4.0, -6])\n",
    "                                   )"
   ]
  }
 ],
 "metadata": {
  "kernelspec": {
   "display_name": "python3",
   "language": "python",
   "name": "python3"
  },
  "language_info": {
   "codemirror_mode": {
    "name": "ipython",
    "version": 3
   },
   "file_extension": ".py",
   "mimetype": "text/x-python",
   "name": "python",
   "nbconvert_exporter": "python",
   "pygments_lexer": "ipython3",
   "version": "3.9.18"
  }
 },
 "nbformat": 4,
 "nbformat_minor": 4
}
