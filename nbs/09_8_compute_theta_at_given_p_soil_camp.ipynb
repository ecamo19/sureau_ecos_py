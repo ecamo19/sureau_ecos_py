{
 "cells": [
  {
   "cell_type": "raw",
   "metadata": {},
   "source": [
    "---\n",
    "description: 'AUTHORS: __Julien Ruffault (julien.ruff@gmail.com), Nicolas Martin-StPaul\n",
    "  (nicolas.martin@inrae.fr)__'\n",
    "output-file: compute_theta_at_given_p_soil_camp.html\n",
    "title: Compute theta at given psoil camp\n",
    "\n",
    "---\n",
    "\n"
   ]
  },
  {
   "cell_type": "code",
   "execution_count": null,
   "metadata": {},
   "outputs": [],
   "source": [
    "# | default_exp compute_theta_at_given_p_soil_camp"
   ]
  },
  {
   "cell_type": "code",
   "execution_count": null,
   "metadata": {},
   "outputs": [],
   "source": [
    "# | hide\n",
    "from nbdev.showdoc import *\n",
    "from fastcore.test import *"
   ]
  },
  {
   "cell_type": "code",
   "execution_count": null,
   "metadata": {},
   "outputs": [],
   "source": [
    "# | export\n",
    "import numpy as np"
   ]
  },
  {
   "cell_type": "code",
   "execution_count": null,
   "metadata": {},
   "outputs": [],
   "source": [
    "# | export\n",
    "def compute_theta_at_given_p_soil_camp(\n",
    "    theta_sat: float, # Unknown parameter definition\n",
    "    psi_target: float, # Unknown parameter definition\n",
    "    psie: float, # Unknown parameter definition\n",
    "    b_camp: float # Unknown parameter definition\n",
    ") -> float:\n",
    "\n",
    "    # Assert that values are negative.\n",
    "    # Using np.testing instead of assert because parameters can be np.arrays OR\n",
    "    # single values (i.e. 1). assert only works when params are always one\n",
    "    # type\n",
    "\n",
    "    np.testing.assert_array_less(np.array(psie), 0,\n",
    "                                 err_msg='\\nError: psie values must be negative\\n')\n",
    "\n",
    "    np.testing.assert_array_less(np.array(b_camp), 0,\n",
    "                                 err_msg='\\nError: b_camp values must be negative\\n')\n",
    "\n",
    "    np.testing.assert_array_less(np.array(psi_target), 0,\n",
    "                                 err_msg='\\nError: psi_target values must be negative\\n')\n",
    "\n",
    "\n",
    "    return theta_sat * (psi_target / psie) ** (1 / b_camp)\n"
   ]
  },
  {
   "cell_type": "markdown",
   "metadata": {},
   "source": [
    "## Compute theta"
   ]
  },
  {
   "cell_type": "code",
   "execution_count": null,
   "metadata": {},
   "outputs": [
    {
     "data": {
      "text/plain": [
       "0.14012860366560284"
      ]
     },
     "execution_count": null,
     "metadata": {},
     "output_type": "execute_result"
    }
   ],
   "source": [
    "compute_theta_at_given_p_soil_camp(psi_target= -1.5 ,\n",
    "                                   theta_sat = 0.39,\n",
    "                                   psie =  -0.025,\n",
    "                                   b_camp= -4.0)"
   ]
  },
  {
   "cell_type": "code",
   "execution_count": null,
   "metadata": {},
   "outputs": [
    {
     "data": {
      "text/plain": [
       "array([0.25151288, 0.78572343])"
      ]
     },
     "execution_count": null,
     "metadata": {},
     "output_type": "execute_result"
    }
   ],
   "source": [
    "compute_theta_at_given_p_soil_camp(psi_target= np.array([-1.5, -2]) ,\n",
    "                                   theta_sat = np.array([0.70]),\n",
    "                                   psie =  np.array([-0.025, -4]),\n",
    "                                   b_camp= np.array([-4.0, -6])\n",
    "                                   )"
   ]
  }
 ],
 "metadata": {
  "kernelspec": {
   "display_name": "python3",
   "language": "python",
   "name": "python3"
  }
 },
 "nbformat": 4,
 "nbformat_minor": 4
}
