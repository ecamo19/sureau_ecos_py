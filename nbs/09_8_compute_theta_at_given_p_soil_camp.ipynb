{
 "cells": [
  {
   "cell_type": "raw",
   "metadata": {},
   "source": [
    "---\n",
    "description: 'AUTHORS: __Julien Ruffault (julien.ruff@gmail.com), Nicolas Martin-StPaul\n",
    "  (nicolas.martin@inrae.fr)__'\n",
    "output-file: compute_theta_at_given_p_soil_camp.html\n",
    "title: Compute theta at given psoil camp\n",
    "\n",
    "---\n",
    "\n"
   ]
  },
  {
   "cell_type": "code",
   "execution_count": null,
   "metadata": {},
   "outputs": [],
   "source": [
    "# | default_exp compute_theta_at_given_p_soil_camp"
   ]
  },
  {
   "cell_type": "code",
   "execution_count": null,
   "metadata": {},
   "outputs": [],
   "source": [
    "# | hide\n",
    "from nbdev.showdoc import *\n",
    "from fastcore.test import *"
   ]
  },
  {
   "cell_type": "code",
   "execution_count": 1,
   "metadata": {},
   "outputs": [],
   "source": [
    "from sureau_ecos_py.read_soil_file import read_soil_file\n",
    "from sureau_ecos_py.create_modeling_options import create_modeling_options"
   ]
  },
  {
   "cell_type": "code",
   "execution_count": 36,
   "metadata": {},
   "outputs": [],
   "source": [
    "# | export\n",
    "def compute_theta_at_given_p_soil_camp(\n",
    "    theta_sat: float, # Unknown parameter definition\n",
    "    psi_target: float, # Unknown parameter definition\n",
    "    psie: float, # Unknown parameter definition\n",
    "    b_camp: float # Unknown parameter definition\n",
    ") -> float:\n",
    "\n",
    "    assert psie < 0,\"psie values must be negative\"\n",
    "    assert b_camp < 0,\"b_camp values must be negative\"\n",
    "    assert psi_target < 0, \"psi_target values must be negative\"\n",
    "\n",
    "    return theta_sat * (psi_target / psie) ** (1 / b_camp)\n"
   ]
  },
  {
   "cell_type": "markdown",
   "metadata": {},
   "source": [
    "## Compute theta"
   ]
  },
  {
   "cell_type": "code",
   "execution_count": 44,
   "metadata": {},
   "outputs": [
    {
     "data": {
      "text/plain": [
       "0.14012860366560284"
      ]
     },
     "execution_count": 44,
     "metadata": {},
     "output_type": "execute_result"
    }
   ],
   "source": [
    "compute_theta_at_given_p_soil_camp(psi_target= -1.5 ,\n",
    "                                   theta_sat = 0.39,\n",
    "                                   psie =  -0.025,\n",
    "                                   b_camp= -4.0)"
   ]
  }
 ],
 "metadata": {
  "kernelspec": {
   "display_name": "python3",
   "language": "python",
   "name": "python3"
  },
  "language_info": {
   "codemirror_mode": {
    "name": "ipython",
    "version": 3
   },
   "file_extension": ".py",
   "mimetype": "text/x-python",
   "name": "python",
   "nbconvert_exporter": "python",
   "pygments_lexer": "ipython3",
   "version": "3.9.18"
  }
 },
 "nbformat": 4,
 "nbformat_minor": 4
}
