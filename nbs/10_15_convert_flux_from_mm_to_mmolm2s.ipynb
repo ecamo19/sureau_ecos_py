{
 "cells": [
  {
   "cell_type": "raw",
   "metadata": {},
   "source": [
    "---\n",
    "description: 'AUTHORS: __Julien Ruffault (julien.ruff@gmail.com), Nicolas Martin-StPaul\n",
    "  (nicolas.martin@inrae.fr)__'\n",
    "output-file: convert_flux_from_mm_to_mmolm2s.html\n",
    "title: Convert flux from mm to mmol\n",
    "---\n",
    "\n"
   ]
  },
  {
   "cell_type": "code",
   "execution_count": null,
   "metadata": {},
   "outputs": [],
   "source": [
    "# | default_exp convert_flux_from_mm_to_mmolm2s"
   ]
  },
  {
   "cell_type": "code",
   "execution_count": null,
   "metadata": {},
   "outputs": [],
   "source": [
    "# | hide\n",
    "from nbdev.showdoc import *\n",
    "from fastcore.test import *"
   ]
  },
  {
   "cell_type": "code",
   "execution_count": 8,
   "metadata": {},
   "outputs": [],
   "source": [
    "# | export\n",
    "\n",
    "def convert_flux_from_mm_to_mmolm2s(x:float, # The amount of water in mm (L.m-2soil)\n",
    "                                    time_step:float, # Time step (in hours)\n",
    "                                    lai:float # Leaf area index of the stand (m2leaf.m-2soil)\n",
    "                                    ) -> float:\n",
    "\n",
    "        \"Convert flux in L.m-2soil to an instantaneous flux in mmol/m-2leaf.s-1 over a defined time period\"\n",
    "        if lai > 0:\n",
    "            return (10**6 * x)/(lai * time_step * 3600 * 18)\n",
    "\n",
    "        else:\n",
    "            return 0\n"
   ]
  }
 ],
 "metadata": {
  "kernelspec": {
   "display_name": "python3",
   "language": "python",
   "name": "python3"
  },
  "language_info": {
   "codemirror_mode": {
    "name": "ipython",
    "version": 3
   },
   "file_extension": ".py",
   "mimetype": "text/x-python",
   "name": "python",
   "nbconvert_exporter": "python",
   "pygments_lexer": "ipython3",
   "version": "3.9.18"
  }
 },
 "nbformat": 4,
 "nbformat_minor": 4
}
