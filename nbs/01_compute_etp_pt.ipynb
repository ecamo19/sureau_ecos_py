{
 "cells": [
  {
   "cell_type": "raw",
   "metadata": {},
   "source": [
    "---\n",
    "description: 'AUTHORS: __Julien Ruffault (julien.ruff@gmail.com), Nicolas Martin-StPaul\n",
    "  (nicolas.martin@inrae.fr)__'\n",
    "output-file: compute_etp_pt.html\n",
    "title: Compute ETP\n",
    "\n",
    "---\n",
    "\n"
   ]
  },
  {
   "cell_type": "code",
   "execution_count": null,
   "metadata": {},
   "outputs": [],
   "source": [
    "# | default_exp compute_etp_pt"
   ]
  },
  {
   "cell_type": "code",
   "execution_count": null,
   "metadata": {},
   "outputs": [],
   "source": [
    "# | hide\n",
    "from nbdev.showdoc import *\n",
    "from fastcore.test import *"
   ]
  },
  {
   "cell_type": "code",
   "execution_count": null,
   "metadata": {},
   "outputs": [],
   "source": [
    "# | export\n",
    "import numpy as np"
   ]
  },
  {
   "cell_type": "code",
   "execution_count": null,
   "metadata": {},
   "outputs": [],
   "source": [
    "# | export\n",
    "\n",
    "\n",
    "def compute_etp_pt(\n",
    "    tmoy: float,  # Mean temperature over the considered time step (degrees Celsius)\n",
    "    net_radiation: float,  # Cumulative Net radiation over the considered  time sep  (MJ.m2)\n",
    "    pt_coeff: float = 1.26,  # An empirical constant accounting for the vapor pressure deficit and resistance values Typically, α is 1.26 for open bodies of water, but has a wide range of values from less than 1 (humid conditions) to almost 2 (arid conditions).\n",
    "    g: float = 0,\n",
    "):\n",
    "    \"Calcule Potential evapotranspiration (mm) `PET` using Pristeley Taylor Formulation\"\n",
    "\n",
    "    # Constants -----------------------------------------------------------------\n",
    "\n",
    "    # Stefan-Boltzman constant [MJ.K^-4.m^-2.day^-1]\n",
    "    # sb_constant = 4.903 * 10**9\n",
    "\n",
    "    # Psychometer constant\n",
    "    gamma = 0.0666\n",
    "\n",
    "    # Latent heat of vaporisation\n",
    "    lamb = 2.45\n",
    "\n",
    "    # Compute ETP -------------------------------------------------------------\n",
    "\n",
    "    #  s: slope of the saturation vapour pressure function (AO 1998)\n",
    "    slope_sta = (\n",
    "        4098 * 0.6108 * np.exp((17.27 * tmoy) / (tmoy + 237.3)) / ((tmoy + 237.3) ** 2)\n",
    "    )\n",
    "    # s <-       4098 * 0.6108 * exp((17.27 * Tmoy) / (Tmoy + 237.3)) / ((Tmoy + 237.3)^2)\n",
    "\n",
    "    etp = pt_coeff * (slope_sta / (slope_sta + gamma)) * ((net_radiation - g) / lamb)\n",
    "    # ETP <- PTcoeff * (s / (s + gamma)) * ((NetRadiation - G) / lambda)\n",
    "\n",
    "    return etp"
   ]
  },
  {
   "cell_type": "markdown",
   "metadata": {},
   "source": [
    "## Compute ETP"
   ]
  },
  {
   "cell_type": "code",
   "execution_count": null,
   "metadata": {},
   "outputs": [
    {
     "data": {
      "text/plain": [
       "12.429220134837708"
      ]
     },
     "execution_count": null,
     "metadata": {},
     "output_type": "execute_result"
    }
   ],
   "source": [
    "compute_etp_pt(tmoy=80, net_radiation=25)"
   ]
  },
  {
   "cell_type": "code",
   "execution_count": null,
   "metadata": {},
   "outputs": [
    {
     "data": {
      "text/plain": [
       "0.3186733971169735"
      ]
     },
     "execution_count": null,
     "metadata": {},
     "output_type": "execute_result"
    }
   ],
   "source": [
    "compute_etp_pt(tmoy=20, net_radiation=1, pt_coeff=1.14)"
   ]
  },
  {
   "cell_type": "code",
   "execution_count": null,
   "metadata": {},
   "outputs": [],
   "source": [
    "# | hide\n",
    "\n",
    "# Test that function return a positive value\n",
    "assert compute_etp_pt(tmoy=80, net_radiation=25) > 0"
   ]
  },
  {
   "cell_type": "code",
   "execution_count": null,
   "metadata": {},
   "outputs": [
    {
     "data": {
      "text/plain": [
       "True"
      ]
     },
     "execution_count": null,
     "metadata": {},
     "output_type": "execute_result"
    }
   ],
   "source": [
    "# | hide\n",
    "\n",
    "# Test that function return a known anwser\n",
    "is_close(compute_etp_pt(tmoy=80, net_radiation=25), 12.4292, eps=1e-02)"
   ]
  }
 ],
 "metadata": {
  "kernelspec": {
   "display_name": "python3",
   "language": "python",
   "name": "python3"
  }
 },
 "nbformat": 4,
 "nbformat_minor": 4
}
