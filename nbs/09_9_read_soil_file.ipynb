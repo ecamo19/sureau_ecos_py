{
 "cells": [
  {
   "cell_type": "raw",
   "metadata": {},
   "source": [
    "---\n",
    "description: 'AUTHORS: __Julien Ruffault (julien.ruff@gmail.com), Nicolas Martin-StPaul\n",
    "  (nicolas.martin@inrae.fr)__'\n",
    "output-file: compute_vpd.html\n",
    "title: Soil utils functions\n",
    "\n",
    "---\n",
    "\n"
   ]
  },
  {
   "cell_type": "code",
   "execution_count": null,
   "metadata": {},
   "outputs": [],
   "source": [
    "# | default_exp read_soil_file"
   ]
  },
  {
   "cell_type": "code",
   "execution_count": 2,
   "metadata": {},
   "outputs": [],
   "source": [
    "# | hide\n",
    "from nbdev.showdoc import *\n",
    "from fastcore.test import *"
   ]
  },
  {
   "cell_type": "code",
   "execution_count": 55,
   "metadata": {},
   "outputs": [],
   "source": [
    "# | export\n",
    "from pathlib import Path\n",
    "import os\n",
    "import pandas as pd\n",
    "from typing import Dict\n",
    "import pandera as pa\n",
    "from pandera.typing import DataFrame, Series\n",
    "from sureau_ecos_py.create_modeling_options import create_modeling_options\n",
    "import numpy as np\n",
    "import collections"
   ]
  },
  {
   "cell_type": "code",
   "execution_count": 72,
   "metadata": {},
   "outputs": [],
   "source": [
    "# | export\n",
    "# This class is created for validating the input  dataframe\n",
    "# If the data don't follow the structure in the class the function will fail\n",
    "class SoilFile(pa.SchemaModel):\n",
    "    \"\"\"Schema for validating the input soil parameter file \"\"\"\n",
    "\n",
    "    Name: Series[str] = pa.Field(\n",
    "        description= \"Parameter names\"\n",
    "    )\n",
    "    Value: Series[float] = pa.Field(\n",
    "        description= \"Parameter values\"\n",
    "    )\n",
    "\n",
    "@pa.check_types(lazy=True)\n",
    "def read_soil_file(file_path:Path, # Path to a csv file containing parameter values i.e path/to/file_name.csv\n",
    "                   modeling_options:Dict = None, # Dictionary created using the `create_modeling_options` function\n",
    "                   sep:str = ';' # CSV file separator can be ',' or ';'\n",
    "                   )-> DataFrame[SoilFile]:\n",
    "    \"\"\"\n",
    "    Function for reading a data frame containing information about soil\n",
    "    characteristics\n",
    "    \"\"\"\n",
    "    # Make sure that modeling_options is a dictionary ---------------------------\n",
    "    assert isinstance(\n",
    "        modeling_options, Dict\n",
    "    ), f\"modeling_options must be a dictionary not a {type(modeling_options)}\"\n",
    "\n",
    "    # Read data frame -----------------------------------------------------------\n",
    "    if os.path.exists(file_path):\n",
    "        try:\n",
    "\n",
    "            # Read file\n",
    "            soil_data = pd.read_csv(file_path,header = 0, sep = sep)\n",
    "\n",
    "        # Raise error if soil data don't follow the SoilFile Schema\n",
    "        except pa.errors.SchemaErrors as err:\n",
    "            print(err)\n",
    "    else:\n",
    "        print(f\"file: {file_path}, does not exist, check presence or spelling\")\n",
    "\n",
    "    # Setting common parameters for WB_soil (regardless of the options) ---------\n",
    "    if modeling_options['pedo_transfer_formulation'] == 'vg':\n",
    "\n",
    "        # 14 params\n",
    "        params = np.array([\"rfc_1\", \"rfc_2\", \"rfc_3\", \"depth_1\", \"depth_2\",\n",
    "                           \"depth_3\", \"wilting_point\", \"alpha_vg\", \"n_vg\",\n",
    "                           \"i_vg\", \"ksat_vg\", \"saturation_capacity_vg\",\n",
    "                           \"residual_capacity_vg\",\"g_soil_0\"], dtype=object)\n",
    "\n",
    "\n",
    "    if modeling_options['pedo_transfer_formulation'] == 'campbell':\n",
    "\n",
    "        # 12 params\n",
    "        params = np.array([\"rfc_1\", \"rfc_2\", \"rfc_3\", \"depth_1\", \"depth_2\",\n",
    "                           \"depth_3\", \"wilting_point\",\"ksat_campbell\",\n",
    "                           \"saturation_capacity_campbell\", \"b_camp\",\"psie\",\n",
    "                           \"g_soil_0\"], dtype=object)\n",
    "\n",
    "\n",
    "    # Filter params inside the read data set ------------------------------------\n",
    "    soil_data = soil_data[soil_data['Name'].isin(params)]\n",
    "\n",
    "    # Make sure that no parameters are missing  ---------------------------------\n",
    "    # (12 or 14)\n",
    "    for each_parameter in params:\n",
    "\n",
    "        # Raise error if a parameter is missing from params\n",
    "        if each_parameter not in np.array(soil_data[\"Name\"]):\n",
    "            raise ValueError(f'{each_parameter} not provided in input soil parameter file, check presence or spelling\\n')\n",
    "\n",
    "    # Make sure there are no duplicate parameters -------------------------------\n",
    "    if len(soil_data['Name']) is not len(set(soil_data['Name'])):\n",
    "        raise ValueError('Parameter repeated several times in input soil parameter file')\n",
    "\n",
    "    # Get values in the dataframe\n",
    "    soil_data = soil_data.values.tolist()\n",
    "\n",
    "    return collections.defaultdict(list, dict(soil_data))"
   ]
  },
  {
   "cell_type": "code",
   "execution_count": 7,
   "metadata": {},
   "outputs": [],
   "source": [
    "modeling_options_dict = create_modeling_options(\n",
    "    time_step_for_evapo=2,\n",
    "    reset_swc=True,\n",
    "    avoid_water_soil_transfer=True,\n",
    "    constant_climate=False,\n",
    "    defoliation=True,\n",
    "    soil_evapo=True,\n",
    "    threshold_mortality=51,\n",
    "    etp_formulation=\"pt\",\n",
    "    rn_formulation=\"linear\",\n",
    "    comp_options_for_evapo=\"custom\",\n",
    "    stomatal_reg_formulation=\"turgor\",\n",
    "    transpiration_model=\"jarvis\",\n",
    "    numerical_scheme=\"implicit\",\n",
    "    pedo_transfer_formulation=\"vg\",\n",
    ")"
   ]
  },
  {
   "cell_type": "code",
   "execution_count": 74,
   "metadata": {},
   "outputs": [
    {
     "data": {
      "text/plain": [
       "defaultdict(list,\n",
       "            {'rfc_1': 75.0,\n",
       "             'rfc_2': 82.0,\n",
       "             'rfc_3': 94.0,\n",
       "             'wilting_point': 0.12379,\n",
       "             'alpha_vg': 0.0005,\n",
       "             'n_vg': 1.55,\n",
       "             'i_vg': 0.5,\n",
       "             'ksat_vg': 10.0,\n",
       "             'saturation_capacity_vg': nan,\n",
       "             'residual_capacity_vg': 0.098,\n",
       "             'g_soil_0': 30.0,\n",
       "             'depth_1': 0.2,\n",
       "             'depth_2': 1.0,\n",
       "             'depth_3': 4.0})"
      ]
     },
     "execution_count": 74,
     "metadata": {},
     "output_type": "execute_result"
    }
   ],
   "source": [
    "\n",
    "read_soil_file(\"./test_folder/soil_example.csv\",\n",
    "               modeling_options=modeling_options_dict,\n",
    "               sep=';')"
   ]
  },
  {
   "cell_type": "code",
   "execution_count": 48,
   "metadata": {},
   "outputs": [
    {
     "data": {
      "text/plain": [
       "{'rfc_1': [75.0],\n",
       " 'rfc_2': [82.0],\n",
       " 'rfc_3': [94.0],\n",
       " 'wilting_point': [0.12379],\n",
       " 'alpha_vg': [0.0005],\n",
       " 'n_vg': [1.55],\n",
       " 'i_vg': [0.5],\n",
       " 'ksat_vg': [10.0],\n",
       " 'saturation_capacity_vg': [0.5],\n",
       " 'residual_capacity_vg': [0.098],\n",
       " 'g_soil_0': [30.0],\n",
       " 'depth_1': [0.2],\n",
       " 'depth_2': [1.0],\n",
       " 'depth_3': [4.0]}"
      ]
     },
     "execution_count": 48,
     "metadata": {},
     "output_type": "execute_result"
    }
   ],
   "source": [
    "from itertools import chain\n",
    "#list(chain.from_iterable(data))\n",
    "\n",
    "\n",
    "#{data[i]: data[i + 1] for i in range(0, len(data), 2)}\n",
    "data[1]\n",
    "\n",
    "\n"
   ]
  },
  {
   "cell_type": "code",
   "execution_count": 175,
   "metadata": {},
   "outputs": [
    {
     "name": "stdout",
     "output_type": "stream",
     "text": [
      "{'wilting_point', 'saturation_capacity_vg', 'depth_3', 'ksat_campbell', 'n_vg', 'offset_psoil', 'i_vg', 'rfc_3', 'residual_capacity_vg', 'depth_1', 'field_capacity', 'saturation_capacity_campbell', 'depth_2', 'b_camp', 'g_soil_0', 'rfc_2', 'psie', 'alpha_vg', 'ksat_vg', 'rfc_1'}\n"
     ]
    }
   ],
   "source": [
    "test_data = pd.read_csv(\"./test_folder/soil_example.csv\", sep=';')\n",
    "#test_data[params.isin(test_data.Name)]\n",
    "\n",
    "print(set(test_data['Name']))\n",
    "#print(set(params))\n"
   ]
  },
  {
   "cell_type": "code",
   "execution_count": 39,
   "metadata": {},
   "outputs": [
    {
     "data": {
      "text/html": [
       "<div>\n",
       "<style scoped>\n",
       "    .dataframe tbody tr th:only-of-type {\n",
       "        vertical-align: middle;\n",
       "    }\n",
       "\n",
       "    .dataframe tbody tr th {\n",
       "        vertical-align: top;\n",
       "    }\n",
       "\n",
       "    .dataframe thead th {\n",
       "        text-align: right;\n",
       "    }\n",
       "</style>\n",
       "<table border=\"1\" class=\"dataframe\">\n",
       "  <thead>\n",
       "    <tr style=\"text-align: right;\">\n",
       "      <th></th>\n",
       "      <th>Name</th>\n",
       "      <th>Value</th>\n",
       "    </tr>\n",
       "  </thead>\n",
       "  <tbody>\n",
       "    <tr>\n",
       "      <th>0</th>\n",
       "      <td>rfc_1</td>\n",
       "      <td>75.00000</td>\n",
       "    </tr>\n",
       "    <tr>\n",
       "      <th>1</th>\n",
       "      <td>rfc_2</td>\n",
       "      <td>82.00000</td>\n",
       "    </tr>\n",
       "    <tr>\n",
       "      <th>2</th>\n",
       "      <td>rfc_3</td>\n",
       "      <td>94.00000</td>\n",
       "    </tr>\n",
       "    <tr>\n",
       "      <th>4</th>\n",
       "      <td>wilting_point</td>\n",
       "      <td>0.12379</td>\n",
       "    </tr>\n",
       "    <tr>\n",
       "      <th>11</th>\n",
       "      <td>g_soil_0</td>\n",
       "      <td>30.00000</td>\n",
       "    </tr>\n",
       "    <tr>\n",
       "      <th>12</th>\n",
       "      <td>depth_1</td>\n",
       "      <td>0.20000</td>\n",
       "    </tr>\n",
       "    <tr>\n",
       "      <th>13</th>\n",
       "      <td>depth_2</td>\n",
       "      <td>1.00000</td>\n",
       "    </tr>\n",
       "    <tr>\n",
       "      <th>14</th>\n",
       "      <td>depth_3</td>\n",
       "      <td>4.00000</td>\n",
       "    </tr>\n",
       "    <tr>\n",
       "      <th>16</th>\n",
       "      <td>b_camp</td>\n",
       "      <td>-4.00000</td>\n",
       "    </tr>\n",
       "    <tr>\n",
       "      <th>17</th>\n",
       "      <td>psie</td>\n",
       "      <td>-0.02500</td>\n",
       "    </tr>\n",
       "    <tr>\n",
       "      <th>18</th>\n",
       "      <td>saturation_capacity_campbell</td>\n",
       "      <td>0.39000</td>\n",
       "    </tr>\n",
       "    <tr>\n",
       "      <th>19</th>\n",
       "      <td>ksat_campbell</td>\n",
       "      <td>1.69000</td>\n",
       "    </tr>\n",
       "  </tbody>\n",
       "</table>\n",
       "</div>"
      ],
      "text/plain": [
       "                            Name     Value\n",
       "0                          rfc_1  75.00000\n",
       "1                          rfc_2  82.00000\n",
       "2                          rfc_3  94.00000\n",
       "4                  wilting_point   0.12379\n",
       "11                      g_soil_0  30.00000\n",
       "12                       depth_1   0.20000\n",
       "13                       depth_2   1.00000\n",
       "14                       depth_3   4.00000\n",
       "16                        b_camp  -4.00000\n",
       "17                          psie  -0.02500\n",
       "18  saturation_capacity_campbell   0.39000\n",
       "19                 ksat_campbell   1.69000"
      ]
     },
     "execution_count": 39,
     "metadata": {},
     "output_type": "execute_result"
    }
   ],
   "source": []
  },
  {
   "cell_type": "code",
   "execution_count": null,
   "metadata": {},
   "outputs": [],
   "source": []
  }
 ],
 "metadata": {
  "kernelspec": {
   "display_name": "python3",
   "language": "python",
   "name": "python3"
  },
  "language_info": {
   "codemirror_mode": {
    "name": "ipython",
    "version": 3
   },
   "file_extension": ".py",
   "mimetype": "text/x-python",
   "name": "python",
   "nbconvert_exporter": "python",
   "pygments_lexer": "ipython3",
   "version": "3.9.18"
  }
 },
 "nbformat": 4,
 "nbformat_minor": 4
}
