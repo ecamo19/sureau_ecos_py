{
 "cells": [
  {
   "cell_type": "raw",
   "metadata": {},
   "source": [
    "---\n",
    "description: 'AUTHORS: __Julien Ruffault (julien.ruff@gmail.com), Nicolas Martin-StPaul\n",
    "  (nicolas.martin@inrae.fr)__'\n",
    "output-file: compute_vpd.html\n",
    "title: Soil utils functions\n",
    "\n",
    "---\n",
    "\n"
   ]
  },
  {
   "cell_type": "code",
   "execution_count": null,
   "metadata": {},
   "outputs": [],
   "source": [
    "# | default_exp read_soil_file"
   ]
  },
  {
   "cell_type": "code",
   "execution_count": null,
   "metadata": {},
   "outputs": [],
   "source": [
    "# | hide\n",
    "from nbdev.showdoc import *\n",
    "from fastcore.test import *"
   ]
  },
  {
   "cell_type": "code",
   "execution_count": null,
   "metadata": {},
   "outputs": [],
   "source": [
    "# | export\n",
    "from pathlib import Path\n",
    "import os\n",
    "import pandas as pd\n",
    "from typing import Dict, List\n",
    "from sureau_ecos_py.create_modeling_options import create_modeling_options\n",
    "import numpy as np\n",
    "import collections\n",
    "from pydantic import BaseModel, Field\n",
    "\n",
    "from pandera.typing import DataFrame, Series\n",
    "import pandera as pa"
   ]
  },
  {
   "cell_type": "code",
   "execution_count": null,
   "metadata": {},
   "outputs": [],
   "source": [
    "# | export\n",
    "# This class was created for validating the input dataframe\n",
    "# If the data don't follow the structure specified the function will fail\n",
    "\n",
    "class SoilFile(pa.SchemaModel):\n",
    "    \"\"\"Schema for validating the input soil parameter file \"\"\"\n",
    "\n",
    "    Name: Series[str] = pa.Field(\n",
    "        description= \"Parameter names\"\n",
    "    )\n",
    "    Value: Series[float] = pa.Field(\n",
    "        description= \"Parameter values\"\n",
    "    )\n",
    "\n",
    "def read_soil_file(file_path:Path, # Path to a csv file containing parameter values i.e path/to/file_name.csv\n",
    "                   modeling_options:Dict = None, # Dictionary created using the `create_modeling_options` function\n",
    "                   sep:str = ';' # CSV file separator can be ',' or ';'\n",
    "                   )-> Dict:\n",
    "    \"\"\"\n",
    "    Function for reading a data frame containing information about soil\n",
    "    characteristics\n",
    "    \"\"\"\n",
    "    # Make sure that modeling_options is a dictionary ---------------------------\n",
    "    assert isinstance(\n",
    "        modeling_options, Dict\n",
    "    ), f\"modeling_options must be a dictionary not a {type(modeling_options)}\"\n",
    "\n",
    "    # Read data frame -----------------------------------------------------------\n",
    "    if os.path.exists(file_path):\n",
    "            # Read file\n",
    "            soil_data = pd.read_csv(file_path,header = 0, sep = sep)\n",
    "\n",
    "            # Raise error if soil data don't follow the SoilFile Schema\n",
    "            SoilFile.validate(soil_data)\n",
    "\n",
    "    else:\n",
    "        print(f\"file: {file_path}, does not exist, check presence or spelling\")\n",
    "\n",
    "    # Setting common parameters for WB_soil (regardless of the options) ---------\n",
    "    if modeling_options['pedo_transfer_formulation'] == 'vg':\n",
    "\n",
    "        # 14 params\n",
    "        params = np.array([\"rfc_1\", \"rfc_2\", \"rfc_3\", \"depth_1\", \"depth_2\",\n",
    "                           \"depth_3\", \"wilting_point\", \"alpha_vg\", \"n_vg\",\n",
    "                           \"i_vg\", \"ksat_vg\", \"saturation_capacity_vg\",\n",
    "                           \"residual_capacity_vg\",\"g_soil_0\"], dtype=object)\n",
    "\n",
    "\n",
    "    if modeling_options['pedo_transfer_formulation'] == 'campbell':\n",
    "\n",
    "        # 12 params\n",
    "        params = np.array([\"rfc_1\", \"rfc_2\", \"rfc_3\", \"depth_1\", \"depth_2\",\n",
    "                           \"depth_3\", \"wilting_point\",\"ksat_campbell\",\n",
    "                           \"saturation_capacity_campbell\", \"b_camp\",\"psie\",\n",
    "                           \"g_soil_0\"], dtype=object)\n",
    "\n",
    "\n",
    "    # Get only the required params ----------------------------------------------\n",
    "    soil_data = soil_data[soil_data['Name'].isin(params)]\n",
    "\n",
    "    # Make sure that no parameters are missing (12 or 14) -----------------------\n",
    "    for each_parameter in params:\n",
    "\n",
    "        # Raise error if a parameter is missing from params\n",
    "        if each_parameter not in np.array(soil_data[\"Name\"]):\n",
    "            raise ValueError(f'{each_parameter} not provided in input soil parameter file, check presence or spelling\\n')\n",
    "\n",
    "    # Make sure there are no duplicate parameters -------------------------------\n",
    "    if len(soil_data['Name']) is not len(set(soil_data['Name'])):\n",
    "        raise ValueError('Parameter repeated several times in input soil parameter file')\n",
    "\n",
    "    # Get values in the dataframe and get rid of the colnames. Save everything\n",
    "    # in to a list for later convert it to a Dictionary\n",
    "    soil_data = soil_data.values.tolist()\n",
    "\n",
    "    return collections.defaultdict(list, dict(soil_data))"
   ]
  },
  {
   "cell_type": "code",
   "execution_count": null,
   "metadata": {},
   "outputs": [],
   "source": [
    "modeling_options_dict = create_modeling_options(\n",
    "    time_step_for_evapo=2,\n",
    "    reset_swc=True,\n",
    "    avoid_water_soil_transfer=True,\n",
    "    constant_climate=False,\n",
    "    defoliation=True,\n",
    "    soil_evapo=True,\n",
    "    threshold_mortality=51,\n",
    "    etp_formulation=\"pt\",\n",
    "    rn_formulation=\"linear\",\n",
    "    comp_options_for_evapo=\"custom\",\n",
    "    stomatal_reg_formulation=\"turgor\",\n",
    "    transpiration_model=\"jarvis\",\n",
    "    numerical_scheme=\"implicit\",\n",
    "    pedo_transfer_formulation=\"vg\",\n",
    ")"
   ]
  },
  {
   "cell_type": "code",
   "execution_count": null,
   "metadata": {},
   "outputs": [
    {
     "data": {
      "text/plain": [
       "defaultdict(list,\n",
       "            {'rfc_1': 75.0,\n",
       "             'rfc_2': 82.0,\n",
       "             'rfc_3': 94.0,\n",
       "             'wilting_point': 0.12379,\n",
       "             'alpha_vg': 0.0005,\n",
       "             'n_vg': 1.55,\n",
       "             'i_vg': 0.5,\n",
       "             'ksat_vg': 10.0,\n",
       "             'saturation_capacity_vg': 1.0,\n",
       "             'residual_capacity_vg': 0.098,\n",
       "             'g_soil_0': 30.0,\n",
       "             'depth_1': 0.2,\n",
       "             'depth_2': 1.0,\n",
       "             'depth_3': 4.0})"
      ]
     },
     "execution_count": null,
     "metadata": {},
     "output_type": "execute_result"
    }
   ],
   "source": [
    "read_soil_file(\"./test_folder/soil_example.csv\",\n",
    "               modeling_options=modeling_options_dict,\n",
    "               sep=';')"
   ]
  },
  {
   "cell_type": "markdown",
   "metadata": {},
   "source": []
  }
 ],
 "metadata": {
  "kernelspec": {
   "display_name": "python3",
   "language": "python",
   "name": "python3"
  }
 },
 "nbformat": 4,
 "nbformat_minor": 4
}
