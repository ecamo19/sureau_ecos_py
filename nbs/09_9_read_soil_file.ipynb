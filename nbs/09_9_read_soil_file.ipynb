{
 "cells": [
  {
   "cell_type": "raw",
   "metadata": {},
   "source": [
    "---\n",
    "description: 'AUTHORS: __Julien Ruffault (julien.ruff@gmail.com), Nicolas Martin-StPaul\n",
    "  (nicolas.martin@inrae.fr)__'\n",
    "output-file: compute_vpd.html\n",
    "title: Read soil file\n",
    "\n",
    "---\n",
    "\n"
   ]
  },
  {
   "cell_type": "code",
   "execution_count": null,
   "metadata": {},
   "outputs": [],
   "source": [
    "# | default_exp read_soil_file"
   ]
  },
  {
   "cell_type": "code",
   "execution_count": null,
   "metadata": {},
   "outputs": [],
   "source": [
    "# | hide\n",
    "from nbdev.showdoc import *\n",
    "from fastcore.test import *"
   ]
  },
  {
   "cell_type": "code",
   "execution_count": null,
   "metadata": {},
   "outputs": [],
   "source": [
    "# | export\n",
    "from pathlib import Path\n",
    "import os\n",
    "import pandas as pd\n",
    "from typing import Dict\n",
    "from sureau_ecos_py.create_modeling_options import create_modeling_options\n",
    "import numpy as np\n",
    "import collections\n",
    "from pandera.typing import Series\n",
    "import pandera as pa"
   ]
  },
  {
   "cell_type": "code",
   "execution_count": null,
   "metadata": {},
   "outputs": [],
   "source": [
    "# | export\n",
    "# This class was created for validating the input dataframe\n",
    "# If the data don't follow the structure specified the function will fail\n",
    "\n",
    "\n",
    "class SoilFile(pa.SchemaModel):\n",
    "    \"Schema for validating the input soil parameter file\"\n",
    "\n",
    "    Name: Series[str] = pa.Field(description=\"Parameter names\")\n",
    "    Value: Series[float] = pa.Field(description=\"Parameter values\")\n",
    "\n",
    "\n",
    "def read_soil_file(\n",
    "    file_path: Path,  # Path to a csv file containing parameter values i.e path/to/file_name.csv\n",
    "    modeling_options: Dict = None,  # Dictionary created using the `create_modeling_options` function\n",
    "    sep: str = \";\",  # CSV file separator can be ',' or ';'\n",
    ") -> Dict:\n",
    "    \"Function for reading a data frame containing information about soil characteristics\"\n",
    "\n",
    "    # Make sure that modeling_options is a dictionary ---------------------------\n",
    "    assert isinstance(\n",
    "        modeling_options, Dict\n",
    "    ), f\"modeling_options must be a dictionary not a {type(modeling_options)}\"\n",
    "\n",
    "    # Read data frame -----------------------------------------------------------\n",
    "    if os.path.exists(file_path):\n",
    "        # Read file\n",
    "        soil_data = pd.read_csv(file_path, header=0, sep=sep)\n",
    "\n",
    "        # Raise error if soil data don't follow the SoilFile Schema\n",
    "        SoilFile.validate(soil_data)\n",
    "\n",
    "    else:\n",
    "        print(f\"file: {file_path}, does not exist, check presence or spelling\")\n",
    "\n",
    "    # Setting common parameters for WB_soil (regardless of the options) ---------\n",
    "    if modeling_options[\"pedo_transfer_formulation\"] == \"vg\":\n",
    "        # 14 params\n",
    "        params = np.array(\n",
    "            [\n",
    "                \"rfc_1\",\n",
    "                \"rfc_2\",\n",
    "                \"rfc_3\",\n",
    "                \"depth_1\",\n",
    "                \"depth_2\",\n",
    "                \"depth_3\",\n",
    "                \"wilting_point\",\n",
    "                \"alpha_vg\",\n",
    "                \"n_vg\",\n",
    "                \"i_vg\",\n",
    "                \"ksat_vg\",\n",
    "                \"saturation_capacity_vg\",\n",
    "                \"residual_capacity_vg\",\n",
    "                \"g_soil_0\",\n",
    "            ],\n",
    "            dtype=object,\n",
    "        )\n",
    "\n",
    "    if modeling_options[\"pedo_transfer_formulation\"] == \"campbell\":\n",
    "        # 12 params\n",
    "        params = np.array(\n",
    "            [\n",
    "                \"rfc_1\",\n",
    "                \"rfc_2\",\n",
    "                \"rfc_3\",\n",
    "                \"depth_1\",\n",
    "                \"depth_2\",\n",
    "                \"depth_3\",\n",
    "                \"wilting_point\",\n",
    "                \"ksat_campbell\",\n",
    "                \"saturation_capacity_campbell\",\n",
    "                \"b_camp\",\n",
    "                \"psie\",\n",
    "                \"g_soil_0\",\n",
    "            ],\n",
    "            dtype=object,\n",
    "        )\n",
    "\n",
    "    # Get only the required params ----------------------------------------------\n",
    "    soil_data = soil_data[soil_data[\"Name\"].isin(params)]\n",
    "\n",
    "    # Make sure that no parameters are missing (12 or 14) -----------------------\n",
    "    for each_parameter in params:\n",
    "        # Raise error if a parameter is missing from params\n",
    "        if each_parameter not in np.array(soil_data[\"Name\"]):\n",
    "            raise ValueError(\n",
    "                f\"{each_parameter} not provided in input soil parameter file, check presence or spelling\\n\"\n",
    "            )\n",
    "\n",
    "    # Make sure there are no duplicate parameters -------------------------------\n",
    "    if len(soil_data[\"Name\"]) is not len(set(soil_data[\"Name\"])):\n",
    "        raise ValueError(\n",
    "            \"Parameter repeated several times in input soil parameter file\"\n",
    "        )\n",
    "\n",
    "    # Get values in the dataframe and get rid of the colnames. Save everything\n",
    "    # in to a list for later convert it to a Dictionary\n",
    "    soil_data = soil_data.values.tolist()\n",
    "\n",
    "    return collections.defaultdict(list, dict(soil_data))"
   ]
  },
  {
   "cell_type": "markdown",
   "metadata": {},
   "source": [
    "## Create modeling options dictionary"
   ]
  },
  {
   "cell_type": "code",
   "execution_count": null,
   "metadata": {},
   "outputs": [],
   "source": [
    "modeling_options_dict = create_modeling_options(\n",
    "    time_step_for_evapo=2,\n",
    "    reset_swc=True,\n",
    "    avoid_water_soil_transfer=True,\n",
    "    constant_climate=False,\n",
    "    defoliation=True,\n",
    "    soil_evapo=True,\n",
    "    threshold_mortality=51,\n",
    "    etp_formulation=\"pt\",\n",
    "    rn_formulation=\"linear\",\n",
    "    comp_options_for_evapo=\"custom\",\n",
    "    stomatal_reg_formulation=\"turgor\",\n",
    "    transpiration_model=\"jarvis\",\n",
    "    numerical_scheme=\"implicit\",\n",
    "    pedo_transfer_formulation=\"vg\",\n",
    ")"
   ]
  },
  {
   "cell_type": "markdown",
   "metadata": {},
   "source": [
    "## Read soil dataframe"
   ]
  },
  {
   "cell_type": "code",
   "execution_count": null,
   "metadata": {},
   "outputs": [
    {
     "data": {
      "text/plain": [
       "defaultdict(list,\n",
       "            {'rfc_1': 75.0,\n",
       "             'rfc_2': 82.0,\n",
       "             'rfc_3': 94.0,\n",
       "             'wilting_point': 0.12379,\n",
       "             'alpha_vg': 0.0005,\n",
       "             'n_vg': 1.55,\n",
       "             'i_vg': 0.5,\n",
       "             'ksat_vg': 10.0,\n",
       "             'saturation_capacity_vg': 1.0,\n",
       "             'residual_capacity_vg': 0.098,\n",
       "             'g_soil_0': 30.0,\n",
       "             'depth_1': 0.2,\n",
       "             'depth_2': 1.0,\n",
       "             'depth_3': 4.0})"
      ]
     },
     "execution_count": null,
     "metadata": {},
     "output_type": "execute_result"
    }
   ],
   "source": [
    "read_soil_file(\n",
    "    \"./sample_data/soil_example.csv\", modeling_options=modeling_options_dict, sep=\";\"\n",
    ")"
   ]
  }
 ],
 "metadata": {
  "kernelspec": {
   "display_name": "python3",
   "language": "python",
   "name": "python3"
  }
 },
 "nbformat": 4,
 "nbformat_minor": 4
}
