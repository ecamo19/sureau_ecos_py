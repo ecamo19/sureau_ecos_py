{
 "cells": [
  {
   "cell_type": "raw",
   "metadata": {},
   "source": [
    "---\n",
    "description: 'AUTHORS: __Julien Ruffault (julien.ruff@gmail.com), Nicolas Martin-StPaul\n",
    "  (nicolas.martin@inrae.fr)__'\n",
    "output-file: compute_vpd.html\n",
    "title: Soil utils functions\n",
    "\n",
    "---\n",
    "\n"
   ]
  },
  {
   "cell_type": "code",
   "execution_count": null,
   "metadata": {},
   "outputs": [],
   "source": [
    "# | default_exp read_soil_file"
   ]
  },
  {
   "cell_type": "code",
   "execution_count": null,
   "metadata": {},
   "outputs": [],
   "source": [
    "# | hide\n",
    "from nbdev.showdoc import *\n",
    "from fastcore.test import *"
   ]
  },
  {
   "cell_type": "code",
   "execution_count": 99,
   "metadata": {},
   "outputs": [],
   "source": [
    "# | export\n",
    "from pathlib import Path\n",
    "import os\n",
    "import pandas as pd\n",
    "from typing import Dict\n",
    "import pandera as pa\n",
    "from pandera.typing import DataFrame, Series\n",
    "from sureau_ecos_py.create_modeling_options import create_modeling_options\n",
    "import numpy as np\n",
    "\n"
   ]
  },
  {
   "cell_type": "code",
   "execution_count": 111,
   "metadata": {},
   "outputs": [],
   "source": [
    "# | export\n",
    "# This class is created for validating the input  dataframe\n",
    "# If the data don't follow the structure in the class the function will fail\n",
    "class SoilFile(pa.SchemaModel):\n",
    "    \"\"\"Schema for validating the input soil parameter file \"\"\"\n",
    "\n",
    "    Name: Series[str] = pa.Field(\n",
    "        description= \"Parameter names\"\n",
    "    )\n",
    "    Value: Series[float] = pa.Field(\n",
    "        description= \"Parameter values\"\n",
    "    )\n",
    "\n",
    "@pa.check_types(lazy=True)\n",
    "def read_soil_file(file_path:Path, # Path to a csv file containing parameter values i.e path/to/file_name.csv\n",
    "                   modeling_options:Dict = None, # Dictionary created using the `create_modeling_options` function\n",
    "                   sep:str = ';' # CSV file separator can be ',' or ';'\n",
    "                   )-> DataFrame[SoilFile]:\n",
    "    \"\"\"\n",
    "    Function for reading a data frame containing information about soil\n",
    "    characteristics\n",
    "    \"\"\"\n",
    "    # Make sure that modeling_options is a dictionary ---------------------------\n",
    "    assert isinstance(\n",
    "        modeling_options, Dict\n",
    "    ), f\"modeling_options must be a dictionary not a {type(modeling_options)}\"\n",
    "\n",
    "    # Read data frame -----------------------------------------------------------\n",
    "    if os.path.exists(file_path):\n",
    "        try:\n",
    "            soil_data = pd.read_csv(file_path,header = 0, sep = sep)\n",
    "\n",
    "        except pa.errors.SchemaErrors as err:\n",
    "            print(err)\n",
    "    else:\n",
    "        print(f\"file: {file_path}, does not exist, check presence or spelling\")\n",
    "\n",
    "    # Setting common parameters for WB_soil (regardless of the options) ---------\n",
    "    if modeling_options['pedo_transfer_formulation'] == 'vg':\n",
    "\n",
    "        params = np.array([\"rfc_1\", \"rfc_2\", \"rfc_3\", \"depth_1\", \"depth_2\",\n",
    "                           \"depth_3\", \"wilting_point\", \"alpha_vg\", \"n_vg\",\n",
    "                           \"i_vg\", \"ksat_vg\", \"saturation_capacity_vg\",\n",
    "                           \"residual_capacity_vg\",\"g_soil_0\"], dtype=object)\n",
    "\n",
    "\n",
    "    if modeling_options['pedo_transfer_formulation'] == 'campbell':\n",
    "\n",
    "        params = np.array([\"rfc_1\", \"rfc_2\", \"rfc_3\", \"depth_1\", \"depth_2\",\n",
    "                           \"depth_3\", \"wilting_point\",\"ksat_campbell\",\n",
    "                           \"saturation_capacity_campbell\", \"b_camp\",\"psie\",\n",
    "                           \"g_soil_0\"], dtype=object)\n",
    "\n",
    "\n",
    "    return soil_data"
   ]
  },
  {
   "cell_type": "code",
   "execution_count": 113,
   "metadata": {},
   "outputs": [
    {
     "data": {
      "text/plain": [
       "defaultdict(list,\n",
       "            {'constant_climate': False,\n",
       "             'etp_formulation': 'pt',\n",
       "             'rn_formulation': 'linear',\n",
       "             'pedo_transfer_formulation': 'vg',\n",
       "             'time_step_for_evapo': 2,\n",
       "             'time': array([ 0,  2,  4,  6,  8, 10, 12, 14, 16, 18, 20, 22]),\n",
       "             'reset_swc': True,\n",
       "             'avoid_water_soil_transfer': True,\n",
       "             'comp_options': defaultdict(list,\n",
       "                         {'numerical_scheme': 'implicit',\n",
       "                          'nsmalltimesteps': 12.0,\n",
       "                          'lsym': 1,\n",
       "                          'ssym': 1,\n",
       "                          'clapo': 1,\n",
       "                          'ctapo': 1,\n",
       "                          'eord': 1,\n",
       "                          'lcav': 1,\n",
       "                          'scav': 1}),\n",
       "             'stomatal_reg_formulation': 'turgor',\n",
       "             'soil_evapo': True,\n",
       "             'defoliation': True,\n",
       "             'threshold_mortality': 51,\n",
       "             'transpiration_model': 'jarvis',\n",
       "             'print_prog': True})"
      ]
     },
     "execution_count": 113,
     "metadata": {},
     "output_type": "execute_result"
    }
   ],
   "source": [
    "modeling_options_dict = create_modeling_options(\n",
    "    time_step_for_evapo=2,\n",
    "    reset_swc=True,\n",
    "    avoid_water_soil_transfer=True,\n",
    "    constant_climate=False,\n",
    "    defoliation=True,\n",
    "    soil_evapo=True,\n",
    "    threshold_mortality=51,\n",
    "    etp_formulation=\"pt\",\n",
    "    rn_formulation=\"linear\",\n",
    "    comp_options_for_evapo=\"custom\",\n",
    "    stomatal_reg_formulation=\"turgor\",\n",
    "    transpiration_model=\"jarvis\",\n",
    "    numerical_scheme=\"implicit\",\n",
    "    pedo_transfer_formulation=\"vg\",\n",
    ")\n",
    "modeling_options_dict"
   ]
  },
  {
   "cell_type": "code",
   "execution_count": 112,
   "metadata": {},
   "outputs": [
    {
     "name": "stdout",
     "output_type": "stream",
     "text": [
      "['rfc_1' 'rfc_2' 'rfc_3' 'depth_1' 'depth_2' 'depth_3' 'wilting_point'\n",
      " 'alpha_vg' 'n_vg' 'i_vg' 'ksat_vg' 'saturation_capacity_vg'\n",
      " 'residual_capacity_vg' 'g_soil_0']\n"
     ]
    },
    {
     "data": {
      "text/html": [
       "<div>\n",
       "<style scoped>\n",
       "    .dataframe tbody tr th:only-of-type {\n",
       "        vertical-align: middle;\n",
       "    }\n",
       "\n",
       "    .dataframe tbody tr th {\n",
       "        vertical-align: top;\n",
       "    }\n",
       "\n",
       "    .dataframe thead th {\n",
       "        text-align: right;\n",
       "    }\n",
       "</style>\n",
       "<table border=\"1\" class=\"dataframe\">\n",
       "  <thead>\n",
       "    <tr style=\"text-align: right;\">\n",
       "      <th></th>\n",
       "      <th>Name</th>\n",
       "      <th>Value</th>\n",
       "    </tr>\n",
       "  </thead>\n",
       "  <tbody>\n",
       "    <tr>\n",
       "      <th>0</th>\n",
       "      <td>RFC_1</td>\n",
       "      <td>75.00000</td>\n",
       "    </tr>\n",
       "    <tr>\n",
       "      <th>1</th>\n",
       "      <td>RFC_2</td>\n",
       "      <td>82.00000</td>\n",
       "    </tr>\n",
       "    <tr>\n",
       "      <th>2</th>\n",
       "      <td>RFC_3</td>\n",
       "      <td>94.00000</td>\n",
       "    </tr>\n",
       "    <tr>\n",
       "      <th>3</th>\n",
       "      <td>field_capacity</td>\n",
       "      <td>0.38000</td>\n",
       "    </tr>\n",
       "    <tr>\n",
       "      <th>4</th>\n",
       "      <td>wilting_point</td>\n",
       "      <td>0.12379</td>\n",
       "    </tr>\n",
       "    <tr>\n",
       "      <th>5</th>\n",
       "      <td>alpha_vg</td>\n",
       "      <td>0.00050</td>\n",
       "    </tr>\n",
       "    <tr>\n",
       "      <th>6</th>\n",
       "      <td>n_vg</td>\n",
       "      <td>1.55000</td>\n",
       "    </tr>\n",
       "    <tr>\n",
       "      <th>7</th>\n",
       "      <td>I_vg</td>\n",
       "      <td>0.50000</td>\n",
       "    </tr>\n",
       "    <tr>\n",
       "      <th>8</th>\n",
       "      <td>Ksat_vg</td>\n",
       "      <td>1.69000</td>\n",
       "    </tr>\n",
       "    <tr>\n",
       "      <th>9</th>\n",
       "      <td>saturation_capacity_vg</td>\n",
       "      <td>0.50000</td>\n",
       "    </tr>\n",
       "    <tr>\n",
       "      <th>10</th>\n",
       "      <td>residual_capacity_vg</td>\n",
       "      <td>0.09800</td>\n",
       "    </tr>\n",
       "    <tr>\n",
       "      <th>11</th>\n",
       "      <td>gSoil0</td>\n",
       "      <td>30.00000</td>\n",
       "    </tr>\n",
       "    <tr>\n",
       "      <th>12</th>\n",
       "      <td>depth1</td>\n",
       "      <td>0.20000</td>\n",
       "    </tr>\n",
       "    <tr>\n",
       "      <th>13</th>\n",
       "      <td>depth2</td>\n",
       "      <td>1.00000</td>\n",
       "    </tr>\n",
       "    <tr>\n",
       "      <th>14</th>\n",
       "      <td>depth3</td>\n",
       "      <td>4.00000</td>\n",
       "    </tr>\n",
       "    <tr>\n",
       "      <th>15</th>\n",
       "      <td>offSetPsoil</td>\n",
       "      <td>0.30000</td>\n",
       "    </tr>\n",
       "    <tr>\n",
       "      <th>16</th>\n",
       "      <td>b_camp</td>\n",
       "      <td>-4.00000</td>\n",
       "    </tr>\n",
       "    <tr>\n",
       "      <th>17</th>\n",
       "      <td>psie</td>\n",
       "      <td>-0.02500</td>\n",
       "    </tr>\n",
       "    <tr>\n",
       "      <th>18</th>\n",
       "      <td>saturation_capacity_campbell</td>\n",
       "      <td>0.39000</td>\n",
       "    </tr>\n",
       "    <tr>\n",
       "      <th>19</th>\n",
       "      <td>Ksat_campbell</td>\n",
       "      <td>1.69000</td>\n",
       "    </tr>\n",
       "  </tbody>\n",
       "</table>\n",
       "</div>"
      ],
      "text/plain": [
       "                            Name     Value\n",
       "0                          RFC_1  75.00000\n",
       "1                          RFC_2  82.00000\n",
       "2                          RFC_3  94.00000\n",
       "3                 field_capacity   0.38000\n",
       "4                  wilting_point   0.12379\n",
       "5                       alpha_vg   0.00050\n",
       "6                           n_vg   1.55000\n",
       "7                           I_vg   0.50000\n",
       "8                        Ksat_vg   1.69000\n",
       "9         saturation_capacity_vg   0.50000\n",
       "10          residual_capacity_vg   0.09800\n",
       "11                        gSoil0  30.00000\n",
       "12                        depth1   0.20000\n",
       "13                        depth2   1.00000\n",
       "14                        depth3   4.00000\n",
       "15                   offSetPsoil   0.30000\n",
       "16                        b_camp  -4.00000\n",
       "17                          psie  -0.02500\n",
       "18  saturation_capacity_campbell   0.39000\n",
       "19                 Ksat_campbell   1.69000"
      ]
     },
     "execution_count": 112,
     "metadata": {},
     "output_type": "execute_result"
    }
   ],
   "source": [
    "read_soil_file(\"./test_folder/soil_example.csv\",\n",
    "               modeling_options=modeling_options_dict,\n",
    "               sep=';')\n",
    "\n",
    "\n",
    "\n",
    "\n"
   ]
  },
  {
   "cell_type": "code",
   "execution_count": 114,
   "metadata": {},
   "outputs": [
    {
     "data": {
      "text/plain": [
       "array(['rfc_1', 'rfc_2', 'rfc_3', 'depth_1', 'depth_2', 'depth_3',\n",
       "       'wilting_point', 'ksat_campbell', 'saturation_capacity_campbell',\n",
       "       'b_camp', 'psie', 'g_soil_0'], dtype=object)"
      ]
     },
     "execution_count": 114,
     "metadata": {},
     "output_type": "execute_result"
    }
   ],
   "source": [
    "params = np.array([\"rfc_1\", \"rfc_2\", \"rfc_3\", \"depth_1\", \"depth_2\",\n",
    "                           \"depth_3\", \"wilting_point\",\"ksat_campbell\",\n",
    "                           \"saturation_capacity_campbell\", \"b_camp\",\"psie\",\n",
    "                           \"g_soil_0\"], dtype=object)\n",
    "\n",
    "params"
   ]
  },
  {
   "cell_type": "code",
   "execution_count": null,
   "metadata": {},
   "outputs": [],
   "source": [
    "pd.read_csv(\"./test_folder/soil_example.csv\", sep=';')"
   ]
  },
  {
   "cell_type": "code",
   "execution_count": 117,
   "metadata": {},
   "outputs": [
    {
     "name": "stdout",
     "output_type": "stream",
     "text": [
      "0\n",
      "1\n",
      "2\n",
      "3\n",
      "4\n",
      "5\n",
      "6\n",
      "7\n",
      "8\n",
      "9\n",
      "10\n",
      "11\n"
     ]
    }
   ],
   "source": [
    "for each_parameter in range(len(params)):\n",
    "    print(each_parameter)"
   ]
  },
  {
   "cell_type": "code",
   "execution_count": null,
   "metadata": {},
   "outputs": [],
   "source": []
  }
 ],
 "metadata": {
  "kernelspec": {
   "display_name": "python3",
   "language": "python",
   "name": "python3"
  },
  "language_info": {
   "codemirror_mode": {
    "name": "ipython",
    "version": 3
   },
   "file_extension": ".py",
   "mimetype": "text/x-python",
   "name": "python",
   "nbconvert_exporter": "python",
   "pygments_lexer": "ipython3",
   "version": "3.9.18"
  }
 },
 "nbformat": 4,
 "nbformat_minor": 4
}
