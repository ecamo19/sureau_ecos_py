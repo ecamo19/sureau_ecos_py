{
 "cells": [
  {
   "cell_type": "raw",
   "metadata": {},
   "source": [
    "---\n",
    "output-file: ppfd_umol_to_rg_watt.html\n",
    "title: Convert ppfd_umol to rg_watt and vicersa\n",
    "\n",
    "---\n",
    "\n"
   ]
  },
  {
   "cell_type": "code",
   "execution_count": null,
   "metadata": {},
   "outputs": [],
   "source": [
    "# | default_exp ppfd_umol_to_rg_watt\n",
    "# | default_exp rg_watt_to_ppfd_umol"
   ]
  },
  {
   "cell_type": "code",
   "execution_count": null,
   "metadata": {},
   "outputs": [],
   "source": [
    "# | hide\n",
    "from nbdev.showdoc import *\n",
    "from fastcore.test import *"
   ]
  },
  {
   "cell_type": "code",
   "execution_count": null,
   "metadata": {},
   "outputs": [],
   "source": [
    "# | export\n",
    "\n",
    "\n",
    "def ppfd_umol_to_rg_watt(\n",
    "    ppfd: float,  # Photosynthetic photon flux density (umol.m-2.s-1)\n",
    "    j_to_mol: float = 4.6,  # Conversion factor\n",
    "    frac_par: float = 0.5,  # Function of solar rdiation that is photosynthetically active radiation (PAR)\n",
    "):\n",
    "    \"Convert ppfd (umol) to rg (watt)\"\n",
    "\n",
    "    # calculate Global radiation (rg)(W/m2) -------------------------------------\n",
    "    rg = ppfd / frac_par / j_to_mol\n",
    "    return rg"
   ]
  },
  {
   "cell_type": "code",
   "execution_count": null,
   "metadata": {},
   "outputs": [],
   "source": [
    "# | export\n",
    "\n",
    "\n",
    "def rg_watt_to_ppfd_umol(\n",
    "    rg: float,  # Global radiation (W/m2)\n",
    "    j_to_mol: float = 4.6,  # Conversion factor\n",
    "    frac_par: float = 0.5,  # Function of solar rdiation that is photosynthetically active radiation (PAR)\n",
    "):\n",
    "    \"Convert rg (watt) to ppfd (umol)\"\n",
    "\n",
    "    # calculate Photosynthetic photon flux density (umol.m-2.s-1) ---------------\n",
    "\n",
    "    return rg * frac_par * j_to_mol"
   ]
  }
 ],
 "metadata": {
  "kernelspec": {
   "display_name": "python3",
   "language": "python",
   "name": "python3"
  }
 },
 "nbformat": 4,
 "nbformat_minor": 4
}
