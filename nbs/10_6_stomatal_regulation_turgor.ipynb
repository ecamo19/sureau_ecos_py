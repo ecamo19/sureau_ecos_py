{
 "cells": [
  {
   "cell_type": "raw",
   "metadata": {},
   "source": [
    "---\n",
    "description: 'AUTHORS: __Julien Ruffault (julien.ruff@gmail.com), Nicolas Martin-StPaul\n",
    "  (nicolas.martin@inrae.fr)__'\n",
    "output-file: compute_vpd.html\n",
    "title: Compute stomatal regulation by turgor\n",
    "---\n",
    "\n"
   ]
  },
  {
   "cell_type": "code",
   "execution_count": null,
   "metadata": {},
   "outputs": [],
   "source": [
    "# | default_exp stomatal_regulation_turgor"
   ]
  },
  {
   "cell_type": "code",
   "execution_count": null,
   "metadata": {},
   "outputs": [],
   "source": [
    "# | hide\n",
    "from nbdev.showdoc import *\n",
    "from fastcore.test import *"
   ]
  },
  {
   "cell_type": "code",
   "execution_count": null,
   "metadata": {},
   "outputs": [],
   "source": [
    "# | export\n",
    "import numpy as np"
   ]
  },
  {
   "cell_type": "code",
   "execution_count": null,
   "metadata": {},
   "outputs": [],
   "source": [
    "# | export\n",
    "def stomatal_regulation_turgor(turgor_pressure:float, # Turgor pressure\n",
    "                               max_turgor_pressure:float, # Maximum turgor pressure,\n",
    "                               e_max:float, # Unknown parameter\n",
    "                               e_cuti:float # Residual Transpiration\n",
    "                               ) -> np.array:\n",
    "    \"This function computes stomatal regulation if stomatal closure is limited (linearly) by turgor pressure\"\n",
    "\n",
    "    # Create np.array for storing values\n",
    "    stomatal_reg_array = np.zeros(0, dtype=float)\n",
    "\n",
    "\n",
    "    # Get the lowest value\n",
    "    tr = min((e_max * turgor_pressure/ max_turgor_pressure), e_max)\n",
    "\n",
    "    # Append to array\n",
    "    stomatal_reg_array = np.append(stomatal_reg_array, max(tr, 0))\n",
    "\n",
    "    # Horrible line but I don't know how to improve it\n",
    "    # Don't know the meaning of 0 + e_cuti\n",
    "    horror_line = min(max(max(tr, 0) + e_cuti, 0 + e_cuti), e_max)\n",
    "\n",
    "    stomatal_reg_array = np.append(stomatal_reg_array, horror_line)\n",
    "\n",
    "    return stomatal_reg_array\n"
   ]
  },
  {
   "cell_type": "markdown",
   "metadata": {},
   "source": [
    "## Compute stomatal regulation if stomatal closure is limited (linearly) by turgor pressure"
   ]
  },
  {
   "cell_type": "code",
   "execution_count": null,
   "metadata": {},
   "outputs": [
    {
     "name": "stdout",
     "output_type": "stream",
     "text": [
      "[1.5 3. ]\n"
     ]
    }
   ],
   "source": [
    "\n",
    "print(stomatal_regulation_turgor(turgor_pressure = 1,\n",
    "                               max_turgor_pressure = 2,\n",
    "                               e_max = 3,\n",
    "                               e_cuti = 4))\n",
    "\n"
   ]
  }
 ],
 "metadata": {
  "kernelspec": {
   "display_name": "python3",
   "language": "python",
   "name": "python3"
  }
 },
 "nbformat": 4,
 "nbformat_minor": 4
}
