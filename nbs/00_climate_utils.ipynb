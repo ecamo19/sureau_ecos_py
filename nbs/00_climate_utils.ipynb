{
 "cells": [
  {
   "cell_type": "raw",
   "metadata": {},
   "source": [
    "---\n",
    "description: 'AUTHORS: __Julien Ruffault (julien.ruff@gmail.com), Nicolas Martin-StPaul\n",
    "  (nicolas.martin@inrae.fr)__'\n",
    "output-file: climate_utils.html\n",
    "title: Climate utils functions\n",
    "\n",
    "---\n",
    "\n"
   ]
  },
  {
   "cell_type": "code",
   "execution_count": null,
   "metadata": {},
   "outputs": [],
   "source": [
    "# | default_exp climate_utils"
   ]
  },
  {
   "cell_type": "code",
   "execution_count": null,
   "metadata": {},
   "outputs": [],
   "source": [
    "# | hide\n",
    "from nbdev.showdoc import *\n",
    "from fastcore.test import *"
   ]
  },
  {
   "cell_type": "code",
   "execution_count": null,
   "metadata": {},
   "outputs": [],
   "source": [
    "# | export\n",
    "import numpy as np"
   ]
  },
  {
   "cell_type": "code",
   "execution_count": null,
   "metadata": {},
   "outputs": [],
   "source": [
    "# | export\n",
    "\n",
    "\n",
    "def compute_vpd_from_t_rh(\n",
    "    relative_humidity: float,  # Air relative_humidity (%)\n",
    "    temperature: float,  # Air temperature (degrees Celsius)\n",
    "    air_pressure: float = 101325, # Unknown parameter definition\n",
    ")-> float:  # Air pressure, used?\n",
    "    \"Compute vapor pressure deficit (VPD) from air relative humidity and air temperature\"\n",
    "\n",
    "    # Constants -----------------------------------------------------------------\n",
    "\n",
    "    # molar weight dry air (g/mol)\n",
    "    mass = 28.966\n",
    "\n",
    "    # molar weight H20 H2O(g/mol) Mh2o not used in this function??\n",
    "    mass_h2o = 18\n",
    "\n",
    "    # Perfect gas constant %J/mol/K\n",
    "    rgz = 8.314472\n",
    "\n",
    "    # conversion of temperature in K\n",
    "    temp_kelvin = temperature + 273.15\n",
    "\n",
    "    # D_air not used in this function??\n",
    "    d_air = ((air_pressure) / (rgz * (temp_kelvin))) * mass\n",
    "\n",
    "    # Compute VPD -------------------------------------------------------------\n",
    "    es = 6.108 * np.exp(17.27 * temperature / (237.2 + temperature)) * 100\n",
    "\n",
    "    ea = relative_humidity * es / 100\n",
    "\n",
    "    vpd = (es - ea) / 1000\n",
    "\n",
    "    if vpd < 0:\n",
    "        vpd = 0\n",
    "\n",
    "    return vpd"
   ]
  },
  {
   "cell_type": "markdown",
   "metadata": {},
   "source": [
    "## Compute VPD"
   ]
  },
  {
   "cell_type": "code",
   "execution_count": null,
   "metadata": {},
   "outputs": [
    {
     "data": {
      "text/plain": [
       "0.6339533962744358"
      ]
     },
     "execution_count": null,
     "metadata": {},
     "output_type": "execute_result"
    }
   ],
   "source": [
    "compute_vpd_from_t_rh(relative_humidity=80, temperature=25)"
   ]
  },
  {
   "cell_type": "code",
   "execution_count": null,
   "metadata": {},
   "outputs": [],
   "source": [
    "# | hide\n",
    "\n",
    "# Test that function return a positive value\n",
    "assert compute_vpd_from_t_rh(relative_humidity=80, temperature=25) > 0"
   ]
  },
  {
   "cell_type": "code",
   "execution_count": null,
   "metadata": {},
   "outputs": [
    {
     "data": {
      "text/plain": [
       "True"
      ]
     },
     "execution_count": null,
     "metadata": {},
     "output_type": "execute_result"
    }
   ],
   "source": [
    "# | hide\n",
    "\n",
    "# Test that function return a known anwser\n",
    "is_close(\n",
    "    compute_vpd_from_t_rh(relative_humidity=80, temperature=25),\n",
    "    # Value from https://cales.arizona.edu/vpdcalc/\n",
    "    0.634,\n",
    "    eps=1e-02,\n",
    ")"
   ]
  },
  {
   "cell_type": "code",
   "execution_count": null,
   "metadata": {},
   "outputs": [],
   "source": [
    "# | export\n",
    "\n",
    "\n",
    "def compute_etp_pt(\n",
    "    tmoy: float,  # Mean temperature over the considered time step (degrees Celsius)\n",
    "    net_radiation: float,  # Cumulative Net radiation over the considered  time sep  (MJ.m2)\n",
    "    pt_coeff: float = 1.26,  # An empirical constant accounting for the vapor pressure deficit and resistance values Typically, α is 1.26 for open bodies of water, but has a wide range of values from less than 1 (humid conditions) to almost 2 (arid conditions).\n",
    "    g: float = 0, # Unknown parameter definition\n",
    ")-> float:\n",
    "    \"Calcule Potential evapotranspiration (mm) PET using Pristeley Taylor Formulation\"\n",
    "\n",
    "    # Constants -----------------------------------------------------------------\n",
    "\n",
    "    # Stefan-Boltzman constant [MJ.K^-4.m^-2.day^-1]\n",
    "    # sb_constant = 4.903 * 10**9\n",
    "\n",
    "    # Psychometer constant\n",
    "    gamma = 0.0666\n",
    "\n",
    "    # Latent heat of vaporisation\n",
    "    lamb = 2.45\n",
    "\n",
    "    # Compute ETP -------------------------------------------------------------\n",
    "\n",
    "    #  s: slope of the saturation vapour pressure function (AO 1998)\n",
    "    slope_sta = (\n",
    "        4098 * 0.6108 * np.exp((17.27 * tmoy) / (tmoy + 237.3)) / ((tmoy + 237.3) ** 2)\n",
    "    )\n",
    "    # s <-       4098 * 0.6108 * exp((17.27 * Tmoy) / (Tmoy + 237.3)) / ((Tmoy + 237.3)^2)\n",
    "\n",
    "    etp = pt_coeff * (slope_sta / (slope_sta + gamma)) * ((net_radiation - g) / lamb)\n",
    "    # ETP <- PTcoeff * (s / (s + gamma)) * ((NetRadiation - G) / lambda)\n",
    "\n",
    "    return etp"
   ]
  },
  {
   "cell_type": "markdown",
   "metadata": {},
   "source": [
    "## Compute ETP"
   ]
  },
  {
   "cell_type": "code",
   "execution_count": null,
   "metadata": {},
   "outputs": [],
   "source": [
    "compute_etp_pt(tmoy=80, net_radiation=25)"
   ]
  },
  {
   "cell_type": "code",
   "execution_count": null,
   "metadata": {},
   "outputs": [],
   "source": [
    "compute_etp_pt(tmoy=20, net_radiation=1, pt_coeff=1.14)"
   ]
  },
  {
   "cell_type": "code",
   "execution_count": null,
   "metadata": {},
   "outputs": [],
   "source": [
    "# | hide\n",
    "\n",
    "# Test that function return a positive value\n",
    "assert compute_etp_pt(tmoy=80, net_radiation=25) > 0"
   ]
  },
  {
   "cell_type": "code",
   "execution_count": null,
   "metadata": {},
   "outputs": [],
   "source": [
    "# | hide\n",
    "\n",
    "# Test that function return a known anwser\n",
    "is_close(compute_etp_pt(tmoy=80, net_radiation=25), 12.4292, eps=1e-02)"
   ]
  },
  {
   "cell_type": "code",
   "execution_count": null,
   "metadata": {},
   "outputs": [],
   "source": [
    "# | export\n",
    "\n",
    "\n",
    "def compute_etp_pm(\n",
    "    tmoy: float,  # Mean temperature over the considered time step (degrees Celsius)\n",
    "    net_radiation: float,  # Cumulative Net radiation over the considered  time sep (MJ.m2)\n",
    "    u: float,  #  Wind speed (m.s-1)\n",
    "    vpd: float,  # Vapor pressure deficit (kpa)\n",
    "    g: float = 0, # Unknown parameter definition\n",
    ")->float:\n",
    "    \"Compute reference ETP from Penmman formulation\"\n",
    "\n",
    "    # Constants -----------------------------------------------------------------\n",
    "\n",
    "    # Stefan-Boltzman constant [MJ.K^-4.m^-2.day^-1]\n",
    "    # sb_constant = 4.903 * 10**9\n",
    "\n",
    "    # Psychometer constant\n",
    "    gamma = 0.0666\n",
    "\n",
    "    # Latent heat of vaporisation\n",
    "    # lamb = 2.45\n",
    "\n",
    "    # Compute ETP -------------------------------------------------------------\n",
    "\n",
    "    #  s: slope of the saturation vapour pressure function (AO 1998)\n",
    "    # delta = 4098 * 0.6108 * exp((17.27 * Tmoy) / (Tmoy + 237.3)) / ((Tmoy + 237.3)^2)\n",
    "    delta = (\n",
    "        4098 * 0.6108 * np.exp((17.27 * tmoy) / (tmoy + 237.3)) / ((tmoy + 237.3) ** 2)\n",
    "    )\n",
    "\n",
    "    # ga = 0.34 * max(u, 0.001)\n",
    "\n",
    "    u2 = u * (4.87 / np.log(67.8 * 10 - 5.42))\n",
    "\n",
    "    n1 = 0.408 * delta * net_radiation\n",
    "    n2 = gamma * (37 / (tmoy + 273)) * u2 * vpd\n",
    "    d = delta + gamma * (1 + 0.34 * u2)\n",
    "\n",
    "    # Return E\n",
    "    return (n1 + n2) / (d)"
   ]
  },
  {
   "cell_type": "code",
   "execution_count": null,
   "metadata": {},
   "outputs": [],
   "source": [
    "# | hide\n",
    "\n",
    "# Test that function return a positive value\n",
    "assert compute_etp_pm(tmoy=20, net_radiation=1, u=2, vpd=2) > 0"
   ]
  },
  {
   "cell_type": "code",
   "execution_count": null,
   "metadata": {},
   "outputs": [],
   "source": [
    "# | hide\n",
    "\n",
    "# Test that function return a known anwser\n",
    "is_close(compute_etp_pm(tmoy=20, net_radiation=1, u=2, vpd=2), 0.3434, eps=1e-02)"
   ]
  },
  {
   "cell_type": "code",
   "execution_count": null,
   "metadata": {},
   "outputs": [],
   "source": [
    "# | export\n",
    "from typing import List\n",
    "from math import pi, cos, sin"
   ]
  },
  {
   "cell_type": "code",
   "execution_count": null,
   "metadata": {},
   "outputs": [],
   "source": [
    "# | export\n",
    "\n",
    "\n",
    "def calculate_radiation_diurnal_pattern(\n",
    "    time_of_the_day: List[\n",
    "        int\n",
    "    ],  # a numeric value of vector indicating the time of the day (in seconds)\n",
    "    day_length: int,  # value indicating the duration of the day (in seconds)\n",
    ")->float:\n",
    "    \"Calculated diurnal pattern of temperature assuming a sinusoidal pattern with T = tmin at sunrise and T = (tmin + tmax)/2 at sunset. From sunset to sunrise follows a linear trend\"\n",
    "\n",
    "    # calculate_radiation_diurnal_pattern ---------------------------------------\n",
    "\n",
    "    # sunrise\n",
    "    ws = (day_length / 3600.0) * (pi / 24.0)\n",
    "    w = ws - (time_of_the_day / day_length) * (ws * 2.0)\n",
    "\n",
    "    prop = ((pi / 24.0) * (cos(w) - cos(ws))) / (sin(ws) - ws * cos(ws))\n",
    "\n",
    "    return prop / 3600.0"
   ]
  },
  {
   "cell_type": "markdown",
   "metadata": {},
   "source": [
    "## Calculate Radiation"
   ]
  },
  {
   "cell_type": "code",
   "execution_count": null,
   "metadata": {},
   "outputs": [],
   "source": [
    "calculate_radiation_diurnal_pattern(time_of_the_day=1, day_length=40)"
   ]
  },
  {
   "cell_type": "code",
   "execution_count": null,
   "metadata": {},
   "outputs": [],
   "source": [
    "# | export\n",
    "from typing import List\n",
    "from math import pi, cos"
   ]
  },
  {
   "cell_type": "code",
   "execution_count": null,
   "metadata": {},
   "outputs": [],
   "source": [
    "# | export\n",
    "\n",
    "\n",
    "def calculate_temperature_diurnal_pattern(\n",
    "    time_of_the_day: List[\n",
    "        int\n",
    "    ],  # a numeric value of vector indicating the time of the day (in seconds from sunrise)\n",
    "    day_length: int,  # value indicating the duration of the day (in seconds)\n",
    "    tmin: float,  # Unknown parameter definition\n",
    "    tmax: float,  # Unknown parameter definition\n",
    "    tmin_prev: float,  # Unknown parameter definition\n",
    "    tmax_prev: float,  # Unknown parameter definition\n",
    "    tmin_next: float,  # Unknown parameter definition\n",
    ")-> float:\n",
    "    \"Calculated diurnal pattern of temperature assuming a sinusoidal pattern with T = tmin at sunrise and T = (tmin+tmax)/2 at sunset. From sunset to sunrise follows a linear trend\"\n",
    "\n",
    "    # calculate_temperature_diurnal_pattern -------------------------------------\n",
    "\n",
    "    if time_of_the_day < 0.0 or time_of_the_day > day_length:\n",
    "        tfin = 86400.0 - day_length\n",
    "\n",
    "        if time_of_the_day < 0.0:\n",
    "            time_of_the_day = time_of_the_day + 86400.0 - day_length\n",
    "\n",
    "            # Return Temp\n",
    "            return 0.5 * (tmax_prev + tmin_prev) * (\n",
    "                1.0 - (time_of_the_day / tfin)\n",
    "            ) + tmin * (time_of_the_day / tfin)\n",
    "\n",
    "        else:\n",
    "            time_of_the_day = time_of_the_day - day_length\n",
    "\n",
    "            # Return Temp\n",
    "            return 0.5 * (tmax + tmin) * (\n",
    "                1.0 - (time_of_the_day / tfin)\n",
    "            ) + tmin_next * (time_of_the_day / tfin)\n",
    "\n",
    "    else:\n",
    "        ct = cos(1.5 * pi * time_of_the_day / day_length)\n",
    "\n",
    "    # Return Temp\n",
    "    return 0.5 * (tmin + tmax - (tmax - tmin) * ct)"
   ]
  },
  {
   "cell_type": "code",
   "execution_count": null,
   "metadata": {},
   "outputs": [],
   "source": [
    "# | export\n",
    "\n",
    "def calculate_rh_diurnal_pattern(\n",
    "    temperature: float, # Unknown parameter definition\n",
    "    rhmin: float,  # Unknown parameter definition\n",
    "    rhmax: float,  # Unknown parameter definition\n",
    "    tmin: float,  # Unknown parameter definition\n",
    "    tmax: float,  # Unknown parameter definition\n",
    ")->float:\n",
    "    \"Calculate diurnal pattern of relative humidity from temperature\"\n",
    "\n",
    "    # calculate rh diurnal pattern ----------------------------------------------\n",
    "    return rhmax + ((temperature - tmin) / (tmax - tmin)) * (rhmin - rhmax)"
   ]
  },
  {
   "cell_type": "code",
   "execution_count": null,
   "metadata": {},
   "outputs": [],
   "source": [
    "# | export\n",
    "\n",
    "\n",
    "def ppfd_umol_to_rg_watt(\n",
    "    ppfd: float,  # Photosynthetic photon flux density (umol.m-2.s-1)\n",
    "    j_to_mol: float = 4.6,  # Conversion factor\n",
    "    frac_par: float = 0.5,  # Function of solar rdiation that is photosynthetically active radiation (PAR)\n",
    ") ->float:\n",
    "    \"Convert ppfd (umol) to rg (watt)\"\n",
    "\n",
    "    # calculate Global radiation (rg)(W/m2) -------------------------------------\n",
    "    rg = ppfd / frac_par / j_to_mol\n",
    "    return rg"
   ]
  },
  {
   "cell_type": "code",
   "execution_count": null,
   "metadata": {},
   "outputs": [],
   "source": [
    "# | export\n",
    "\n",
    "\n",
    "def rg_watt_to_ppfd_umol(\n",
    "    rg: float,  # Global radiation (W/m2)\n",
    "    j_to_mol: float = 4.6,  # Conversion factor\n",
    "    frac_par: float = 0.5,  # Function of solar rdiation that is photosynthetically active radiation (PAR)\n",
    ")->float:\n",
    "    \"Convert rg (watt) to ppfd (umol)\"\n",
    "\n",
    "    # calculate Photosynthetic photon flux density (umol.m-2.s-1) ---------------\n",
    "\n",
    "    return rg * frac_par * j_to_mol"
   ]
  },
  {
   "cell_type": "code",
   "execution_count": null,
   "metadata": {},
   "outputs": [],
   "source": [
    "# | export\n",
    "\n",
    "\n",
    "def rg_convertions(\n",
    "    rg_watts: float = None,  # instantaneous radiation (watt)\n",
    "    rg_mj: float = None,  # instantaneous radiation (in Mega Jule?)\n",
    "    nhours: float = None, # Unknown parameter definition\n",
    ")->float:\n",
    "    \"Convert instantaneous radiation in watt to dialy cumulative radiation in MJ (MJ.day-1)\"\n",
    "\n",
    "    if rg_watts is not None and rg_mj is None:\n",
    "        print(\"Conversion of rg from watts to Mega Jules\")\n",
    "\n",
    "        # Conversion from watts to Mega Jules\n",
    "        return rg_watts * 0.0864\n",
    "\n",
    "    if rg_mj is not None and rg_watts is None and nhours is None:\n",
    "        print(\"Conversion of rg from Mega Jules to Watts\")\n",
    "\n",
    "        # Conversion from Mega Jules to watts\n",
    "        return rg_mj * (1 / 0.0864)\n",
    "\n",
    "    if rg_mj is not None and rg_watts is None and nhours is not None:\n",
    "        print(\"Conversion of rg from Mega Jules to Watts/hour\")\n",
    "\n",
    "        # Conversion from Mega Jules to watts/hour\n",
    "        return rg_mj * (10**6 / (nhours * 3600))\n",
    "\n",
    "    elif rg_mj is not None and rg_watts is not None:\n",
    "        return print(\"Select one conversion rg_mj or rg_watts\")\n",
    "\n",
    "    else:\n",
    "        print(\"No conversions performed\")"
   ]
  },
  {
   "cell_type": "markdown",
   "metadata": {},
   "source": [
    "## Calculate conversions"
   ]
  },
  {
   "cell_type": "code",
   "execution_count": null,
   "metadata": {},
   "outputs": [],
   "source": [
    "rg_convertions(rg_watts=1)"
   ]
  },
  {
   "cell_type": "code",
   "execution_count": null,
   "metadata": {},
   "outputs": [],
   "source": [
    "rg_convertions(rg_mj=1)"
   ]
  },
  {
   "cell_type": "code",
   "execution_count": null,
   "metadata": {},
   "outputs": [],
   "source": [
    "rg_convertions(rg_mj=1, nhours=100)"
   ]
  },
  {
   "cell_type": "code",
   "execution_count": null,
   "metadata": {},
   "outputs": [],
   "source": [
    "rg_convertions(rg_watts=1, rg_mj=1, nhours=1)"
   ]
  },
  {
   "cell_type": "code",
   "execution_count": null,
   "metadata": {},
   "outputs": [],
   "source": [
    "# | export\n",
    "from math import cos, sin, atan"
   ]
  },
  {
   "cell_type": "code",
   "execution_count": null,
   "metadata": {},
   "outputs": [],
   "source": [
    "# | export\n",
    "\n",
    "\n",
    "def declination(doy: int):  # julian day (day of the year)\n",
    "    \"Calculate declination of sun (radians ? ) for a given julian day (DOY)\"\n",
    "\n",
    "    # Hervé's formula for solar declination\n",
    "\n",
    "    # Sin(23.5*pi/180), 23.5 = Earth declination\n",
    "\n",
    "    # Constans ------------------------------------------------------------------\n",
    "    c1 = 0.398749068925246\n",
    "\n",
    "    c2 = 2 * 3.1416 / 365\n",
    "\n",
    "    # date of spring\n",
    "    c3 = 80\n",
    "\n",
    "    x = c1 * sin((doy - c3) * c2)  # ;\n",
    "\n",
    "    # Return declination --------------------------------------------------------\n",
    "    return atan(x / ((1 - x * x) ^ 0.5))"
   ]
  },
  {
   "cell_type": "code",
   "execution_count": null,
   "metadata": {},
   "outputs": [],
   "source": [
    "def potential_par(time_of_day: float, lat: float, doy: float):\n",
    "    \"Determine potential for a given place and date /used to determine cloud cover return potential par in W.m2\"\n",
    "\n",
    "    # Constants -----------------------------------------------------------------\n",
    "    diffuse_fraction = 0.1\n",
    "    solar_constant = 2084\n",
    "    attenuation_coef = -0.174353387144778\n",
    "\n",
    "    decl = declination(doy)\n",
    "\n",
    "    pn = -cos(lat * pi / 180)\n",
    "    pz = sin(lat * pi / 180)\n",
    "    h_rad = (time_of_day - 6) * 3.1416 / 12\n",
    "    se = cos(h_rad) * cos(decl)\n",
    "    sn = -pz * sin(h_rad) * cos(decl) - pn * sin(decl)\n",
    "    sz = -pn * sin(h_rad) * cos(decl) + pz * sin(decl)\n",
    "    alt = atan(sz / ((se * se + sn * sn) ^ 0.5))\n",
    "    azi = 3.1416 + atan(se / sn)\n",
    "\n",
    "    # azi[sn > 0] = azi[sn > 0] + 3.1416 I dont understand the meaning of this\n",
    "    if sn > 0:\n",
    "        azi = azi + pi\n",
    "\n",
    "    pfd = solar_constant * exp(attenuation_coef / sin(alt))\n",
    "\n",
    "    # pfd[alt < 0] = 0 I dont understand the meaning of this\n",
    "    dpfd = diffuse_fraction * pfd\n",
    "    # dpfd[alt<0] = 0 I dont understand the meaning of this\n",
    "\n",
    "    return dpfd + pfd * sin(alt)"
   ]
  }
 ],
 "metadata": {
  "kernelspec": {
   "display_name": "python3",
   "language": "python",
   "name": "python3"
  }
 },
 "nbformat": 4,
 "nbformat_minor": 4
}
