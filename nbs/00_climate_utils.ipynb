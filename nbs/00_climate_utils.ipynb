{
 "cells": [
  {
   "cell_type": "raw",
   "metadata": {},
   "source": [
    "---\n",
    "description: 'AUTHORS: __Julien Ruffault (julien.ruff@gmail.com), Nicolas Martin-StPaul\n",
    "  (nicolas.martin@inrae.fr)__'\n",
    "output-file: climate_utils.html\n",
    "title: Climate utils functions\n",
    "\n",
    "---\n",
    "\n"
   ]
  },
  {
   "cell_type": "code",
   "execution_count": null,
   "metadata": {},
   "outputs": [],
   "source": [
    "# | default_exp climate_utils"
   ]
  },
  {
   "cell_type": "code",
   "execution_count": null,
   "metadata": {},
   "outputs": [],
   "source": [
    "# | hide\n",
    "from nbdev.showdoc import *\n",
    "from fastcore.test import is_close"
   ]
  },
  {
   "cell_type": "code",
   "execution_count": null,
   "metadata": {},
   "outputs": [],
   "source": [
    "# | export\n",
    "import warnings\n",
    "import operator\n",
    "import collections\n",
    "import numpy as np\n",
    "from math import pi\n",
    "from typing import List, Dict\n",
    "from numpy import exp, cos, sin, arccos, arctan"
   ]
  },
  {
   "cell_type": "code",
   "execution_count": null,
   "metadata": {},
   "outputs": [],
   "source": [
    "# | export\n",
    "def compute_vpd_from_t_rh(\n",
    "    relative_humidity: float,  # Air relative_humidity (%)\n",
    "    temperature: float,  # Air temperature (degrees Celsius)\n",
    "    air_pressure: float = 101325,  # Unknown parameter definition Air pressure, used?\n",
    ") -> float:\n",
    "    \"Compute vapor pressure deficit (VPD) from air relative humidity and air temperature\"\n",
    "\n",
    "    # Assert parameters ---------------------------------------------------------\n",
    "\n",
    "    # relative_humidity\n",
    "\n",
    "    # Using np.testing instead of assert because parameters can be np.arrays OR\n",
    "    # single values (i.e. 1). assert only works when params are always one type\n",
    "    # Solution from:\n",
    "    # https://stackoverflow.com/questions/45987962/why-arent-there-numpy-testing-assert-array-greater-assert-array-less-equal-as\n",
    "\n",
    "    np.testing.assert_array_compare(\n",
    "        operator.__gt__,\n",
    "        np.array(relative_humidity),\n",
    "        0,\n",
    "        err_msg=\"\\nrelative_humidity must be must be a integer value between 0-100\\n\",\n",
    "    )\n",
    "\n",
    "    np.testing.assert_array_less(\n",
    "        np.array(relative_humidity),\n",
    "        101,\n",
    "        err_msg=\"\\nrelative_humidity must be must be a integer value between 0-100\\n\",\n",
    "    )\n",
    "\n",
    "    # temperature\n",
    "    np.testing.assert_array_compare(\n",
    "        operator.__gt__,\n",
    "        np.array(temperature),\n",
    "        -100,\n",
    "        err_msg=\"\\ntemperature must be must be value between -100 and 100\\n\",\n",
    "    )\n",
    "\n",
    "    np.testing.assert_array_less(\n",
    "        np.array(temperature),\n",
    "        101,\n",
    "        err_msg=\"\\ntemperature must be must be value between -100 and 100\\n\",\n",
    "    )\n",
    "\n",
    "    # Define Constants ----------------------------------------------------------\n",
    "\n",
    "    # molar weight dry air (g/mol)\n",
    "    mass = 28.966\n",
    "\n",
    "    # molar weight H20 H2O(g/mol) Mh2o not used in this function??\n",
    "    # mass_h2o = 18\n",
    "\n",
    "    # Perfect gas constant %J/mol/K\n",
    "    rgz = 8.314472\n",
    "\n",
    "    # conversion of temperature in K\n",
    "    temp_kelvin = temperature + 273.15\n",
    "\n",
    "    # D_air not used in this function??\n",
    "    # d_air = ((air_pressure) / (rgz * (temp_kelvin))) * mass\n",
    "\n",
    "    es = 6.108 * exp(17.27 * temperature / (237.2 + temperature)) * 100\n",
    "\n",
    "    ea = relative_humidity * es / 100\n",
    "\n",
    "    # Compute VPD ---------------------------------------------------------------\n",
    "\n",
    "    vpd = (es - ea) / 1000\n",
    "\n",
    "    # Step implemented in case vpd is a single value i.e. vpd = 41\n",
    "    if isinstance(vpd, float):\n",
    "        # Transform float into array\n",
    "        vpd = np.array([vpd])\n",
    "\n",
    "    # Remove negative values if exits\n",
    "    vpd[vpd < 0] = 0\n",
    "\n",
    "    return vpd"
   ]
  },
  {
   "cell_type": "markdown",
   "metadata": {},
   "source": [
    "#### __Example: Compute VPD__"
   ]
  },
  {
   "cell_type": "code",
   "execution_count": null,
   "metadata": {},
   "outputs": [
    {
     "data": {
      "text/plain": [
       "array([0.6339534])"
      ]
     },
     "execution_count": null,
     "metadata": {},
     "output_type": "execute_result"
    }
   ],
   "source": [
    "compute_vpd_from_t_rh(relative_humidity=80, temperature=25)"
   ]
  },
  {
   "cell_type": "code",
   "execution_count": null,
   "metadata": {},
   "outputs": [
    {
     "data": {
      "text/plain": [
       "array([35.69261567, 52.96534572])"
      ]
     },
     "execution_count": null,
     "metadata": {},
     "output_type": "execute_result"
    }
   ],
   "source": [
    "compute_vpd_from_t_rh(relative_humidity=25, temperature=np.array([80, 90]))"
   ]
  },
  {
   "cell_type": "code",
   "execution_count": null,
   "metadata": {},
   "outputs": [],
   "source": [
    "# | hide\n",
    "\n",
    "# Test that function return a positive value\n",
    "assert compute_vpd_from_t_rh(relative_humidity=80, temperature=25) > 0"
   ]
  },
  {
   "cell_type": "code",
   "execution_count": null,
   "metadata": {},
   "outputs": [
    {
     "data": {
      "text/plain": [
       "True"
      ]
     },
     "execution_count": null,
     "metadata": {},
     "output_type": "execute_result"
    }
   ],
   "source": [
    "# | hide\n",
    "\n",
    "# Test that function return a known anwser\n",
    "is_close(\n",
    "    compute_vpd_from_t_rh(relative_humidity=80, temperature=25),\n",
    "    # Value from https://cales.arizona.edu/vpdcalc/\n",
    "    0.634,\n",
    "    eps=1e-02,\n",
    ")"
   ]
  },
  {
   "cell_type": "code",
   "execution_count": null,
   "metadata": {},
   "outputs": [],
   "source": [
    "# | export\n",
    "\n",
    "\n",
    "def compute_pet(\n",
    "    tmoy: float,  # Mean temperature over the considered time step (degrees Celsius)\n",
    "    net_radiation: float,  # Cumulative Net radiation over the considered  time sep (MJ.m2)\n",
    "    g: float = 0,  # Unknown parameter definition\n",
    "    vpd: float = None,  # Vapor pressure deficit (kpa) for calculating etp using the Penmman (pm) formulation\n",
    "    wind_speed_u: float = None,  #  Wind speed (m.s-1) for calculating etp using the Penmman (pm) formulation\n",
    "    pt_coeff: float = None,  # An empirical constant accounting for the vapor pressure deficit and resistance values. Typically, α is 1.26 for open bodies of water, but has a wide range of values from less than 1 (humid conditions) to almost 2 (arid conditions).\n",
    "    formulation: str = [ # String indicating which formulation to use (Pristeley Taylor (pt) or Penmman (pm)) for calculating etp\n",
    "        \"pt\",\n",
    "        \"pm\",\n",
    "    ],\n",
    ") -> float:  #  Potential evapotranspiration (PET) (mm)\n",
    "    \"Calcule Potential Evapotranspiration (mm) PET using Pristeley Taylor (pt) or Penmman (pm) Formulation\"\n",
    "\n",
    "    # Assert parameters ---------------------------------------------------------\n",
    "    # tmoy\n",
    "    assert isinstance(tmoy, float) | isinstance(tmoy, int) | isinstance(tmoy, np.ndarray), \"tmoy parameter must be a float or integer value\"\n",
    "\n",
    "    # net_radiation\n",
    "    assert isinstance(net_radiation, float) | isinstance(net_radiation, int) | isinstance(net_radiation, np.ndarray), \"net_radiation parameter must be a float or integer value\"\n",
    "\n",
    "    # g\n",
    "    assert isinstance(g, float) | isinstance(g, int) | isinstance(g, np.ndarray), \"g parameter must be a float or integer value\"\n",
    "\n",
    "    # Formulation\n",
    "    assert (\n",
    "        formulation in [\"pt\", \"pm\"]\n",
    "    ), f'{formulation} not a valid option for formulation, select \"pt\" for Pristeley Taylor (pt) or \"pm\" for Penmman'\n",
    "\n",
    "    # wind_speed\n",
    "    if formulation == \"pm\":\n",
    "        assert (\n",
    "            isinstance(wind_speed_u, float) | isinstance(wind_speed_u, int) | isinstance(wind_speed_u, np.ndarray)\n",
    "        ), \"Parameter wind_speed_u required for pm formulation. This must be a float or integer value\"\n",
    "\n",
    "        # vpd\n",
    "        assert (\n",
    "            isinstance(vpd, float) | isinstance(vpd, int) | isinstance(vpd, np.ndarray)\n",
    "        ), \"Parameter vpd required for pm formulation. This must be a float or integer value\"\n",
    "\n",
    "    # pt_coeff\n",
    "    if formulation == \"pt\" and pt_coeff is None:\n",
    "        warnings.warn(\"Using default value of 1.26 for pt_coeff\")\n",
    "        pt_coeff = 1.26\n",
    "\n",
    "    elif formulation == \"pt\" and pt_coeff is not None:\n",
    "        assert (\n",
    "            isinstance(pt_coeff, float) | isinstance(pt_coeff, int) | isinstance(pt_coeff, np.ndarray)\n",
    "        ), \"Parameter pt_coeff required for pt formulation. This must be a float or integer value\"\n",
    "\n",
    "    # Calculate pet -------------------------------------------------------------\n",
    "\n",
    "    # Pristeley-Taylor formulation\n",
    "    if formulation == \"pt\":\n",
    "        # Define Constants\n",
    "\n",
    "        # Stefan-Boltzman constant [MJ.K^-4.m^-2.day^-1]\n",
    "        # sb_constant = 4.903 * 10**9\n",
    "\n",
    "        # Psychometer constant\n",
    "        gamma = 0.0666\n",
    "\n",
    "        # Latent heat of vaporisation\n",
    "        lamb = 2.45\n",
    "\n",
    "        #  s: slope of the saturation vapour pressure function (AO 1998)\n",
    "        slope_sta = (\n",
    "            4098\n",
    "            * 0.6108\n",
    "            * exp((17.27 * tmoy) / (tmoy + 237.3))\n",
    "            / ((tmoy + 237.3) ** 2)\n",
    "        )\n",
    "\n",
    "        # Return ETP\n",
    "        return (\n",
    "            pt_coeff\n",
    "            * (slope_sta / (slope_sta + gamma))\n",
    "            * ((net_radiation - g) / lamb)\n",
    "        )\n",
    "\n",
    "    # Penman formulation\n",
    "    elif formulation == \"pm\":\n",
    "        # Define Constants\n",
    "\n",
    "        # Stefan-Boltzman constant [MJ.K^-4.m^-2.day^-1]\n",
    "        # sb_constant = 4.903 * 10**9\n",
    "\n",
    "        # Psychometer constant\n",
    "        gamma = 0.0666\n",
    "\n",
    "        # Latent heat of vaporisation\n",
    "        # lambda = 2.45\n",
    "\n",
    "        #  s: slope of the saturation vapour pressure function (AO 1998)\n",
    "        delta = (\n",
    "            4098\n",
    "            * 0.6108\n",
    "            * np.exp((17.27 * tmoy) / (tmoy + 237.3))\n",
    "            / ((tmoy + 237.3) ** 2)\n",
    "        )\n",
    "\n",
    "        # ga = 0.34 * max(u, 0.001)\n",
    "\n",
    "        u2 = wind_speed_u * (4.87 / np.log(67.8 * 10 - 5.42))\n",
    "\n",
    "        n1 = 0.408 * delta * net_radiation\n",
    "        n2 = gamma * (37 / (tmoy + 273)) * u2 * vpd\n",
    "        d = delta + gamma * (1 + 0.34 * u2)\n",
    "\n",
    "        # Return pet\n",
    "        return (n1 + n2) / (d)"
   ]
  },
  {
   "cell_type": "markdown",
   "metadata": {},
   "source": [
    "#### __Example: Compute Potential Evapotranspiration__"
   ]
  },
  {
   "cell_type": "code",
   "execution_count": null,
   "metadata": {},
   "outputs": [
    {
     "ename": "NameError",
     "evalue": "name 'np' is not defined",
     "output_type": "error",
     "traceback": [
      "\u001b[0;31m---------------------------------------------------------------------------\u001b[0m",
      "\u001b[0;31mNameError\u001b[0m                                 Traceback (most recent call last)",
      "Cell \u001b[0;32mIn[2], line 1\u001b[0m\n\u001b[0;32m----> 1\u001b[0m \u001b[43mcompute_pet\u001b[49m\u001b[43m(\u001b[49m\u001b[43mtmoy\u001b[49m\u001b[38;5;241;43m=\u001b[39;49m\u001b[38;5;241;43m80\u001b[39;49m\u001b[43m,\u001b[49m\u001b[43m \u001b[49m\u001b[43mnet_radiation\u001b[49m\u001b[38;5;241;43m=\u001b[39;49m\u001b[38;5;241;43m25\u001b[39;49m\u001b[43m,\u001b[49m\u001b[43m \u001b[49m\u001b[43mformulation\u001b[49m\u001b[38;5;241;43m=\u001b[39;49m\u001b[38;5;124;43m\"\u001b[39;49m\u001b[38;5;124;43mpt\u001b[39;49m\u001b[38;5;124;43m\"\u001b[39;49m\u001b[43m)\u001b[49m\n",
      "Cell \u001b[0;32mIn[1], line 20\u001b[0m, in \u001b[0;36mcompute_pet\u001b[0;34m(tmoy, net_radiation, g, vpd, wind_speed_u, pt_coeff, formulation)\u001b[0m\n\u001b[1;32m     16\u001b[0m \u001b[38;5;124m\"\u001b[39m\u001b[38;5;124mCalcule Potential Evapotranspiration (mm) PET using Pristeley Taylor (pt) or Penmman (pm) Formulation\u001b[39m\u001b[38;5;124m\"\u001b[39m\n\u001b[1;32m     18\u001b[0m \u001b[38;5;66;03m# Assert parameters ---------------------------------------------------------\u001b[39;00m\n\u001b[1;32m     19\u001b[0m \u001b[38;5;66;03m# tmoy\u001b[39;00m\n\u001b[0;32m---> 20\u001b[0m \u001b[38;5;28;01massert\u001b[39;00m \u001b[38;5;28misinstance\u001b[39m(tmoy, \u001b[38;5;28mfloat\u001b[39m) \u001b[38;5;241m|\u001b[39m \u001b[38;5;28misinstance\u001b[39m(tmoy, \u001b[38;5;28mint\u001b[39m) \u001b[38;5;241m|\u001b[39m \u001b[38;5;28misinstance\u001b[39m(tmoy, \u001b[43mnp\u001b[49m\u001b[38;5;241m.\u001b[39mndarray), \u001b[38;5;124m\"\u001b[39m\u001b[38;5;124mtmoy parameter must be a float or integer value\u001b[39m\u001b[38;5;124m\"\u001b[39m\n\u001b[1;32m     22\u001b[0m \u001b[38;5;66;03m# net_radiation\u001b[39;00m\n\u001b[1;32m     23\u001b[0m \u001b[38;5;28;01massert\u001b[39;00m \u001b[38;5;28misinstance\u001b[39m(net_radiation, \u001b[38;5;28mfloat\u001b[39m) \u001b[38;5;241m|\u001b[39m \u001b[38;5;28misinstance\u001b[39m(net_radiation, \u001b[38;5;28mint\u001b[39m) \u001b[38;5;241m|\u001b[39m \u001b[38;5;28misinstance\u001b[39m(net_radiation, np\u001b[38;5;241m.\u001b[39mndarray), \u001b[38;5;124m\"\u001b[39m\u001b[38;5;124mnet_radiation parameter must be a float or integer value\u001b[39m\u001b[38;5;124m\"\u001b[39m\n",
      "\u001b[0;31mNameError\u001b[0m: name 'np' is not defined"
     ]
    }
   ],
   "source": [
    "compute_pet(tmoy=80, net_radiation=25, formulation=\"pt\")"
   ]
  },
  {
   "cell_type": "code",
   "execution_count": null,
   "metadata": {},
   "outputs": [
    {
     "name": "stderr",
     "output_type": "stream",
     "text": [
      "/tmp/ipykernel_8746/2528486195.py:52: UserWarning: Using default value of 1.26 for pt_coeff\n",
      "  warnings.warn(\"Using default value of 1.26 for pt_coeff\")\n"
     ]
    }
   ],
   "source": [
    "# | hide\n",
    "\n",
    "# Test that function return a positive value\n",
    "assert compute_pet(tmoy=80, net_radiation=25, formulation=\"pt\") > 0"
   ]
  },
  {
   "cell_type": "code",
   "execution_count": null,
   "metadata": {},
   "outputs": [
    {
     "name": "stderr",
     "output_type": "stream",
     "text": [
      "/tmp/ipykernel_8746/2528486195.py:52: UserWarning: Using default value of 1.26 for pt_coeff\n",
      "  warnings.warn(\"Using default value of 1.26 for pt_coeff\")\n"
     ]
    },
    {
     "data": {
      "text/plain": [
       "True"
      ]
     },
     "execution_count": null,
     "metadata": {},
     "output_type": "execute_result"
    }
   ],
   "source": [
    "# | hide\n",
    "\n",
    "# Test that function return a known anwser\n",
    "is_close(\n",
    "    compute_pet(tmoy=80, net_radiation=25, formulation=\"pt\"), 12.4292, eps=1e-02\n",
    ")"
   ]
  },
  {
   "cell_type": "code",
   "execution_count": null,
   "metadata": {},
   "outputs": [
    {
     "data": {
      "text/plain": [
       "0.3434387636191171"
      ]
     },
     "execution_count": null,
     "metadata": {},
     "output_type": "execute_result"
    }
   ],
   "source": [
    "compute_pet(tmoy=20, net_radiation=1, wind_speed_u=2, vpd=2, formulation=\"pm\")"
   ]
  },
  {
   "cell_type": "code",
   "execution_count": null,
   "metadata": {},
   "outputs": [],
   "source": [
    "# | hide\n",
    "# Test that function return a positive value\n",
    "assert (\n",
    "    compute_pet(\n",
    "        tmoy=20, net_radiation=1, wind_speed_u=2, vpd=2, formulation=\"pm\"\n",
    "    )\n",
    "    > 0\n",
    ")"
   ]
  },
  {
   "cell_type": "code",
   "execution_count": null,
   "metadata": {},
   "outputs": [
    {
     "data": {
      "text/plain": [
       "True"
      ]
     },
     "execution_count": null,
     "metadata": {},
     "output_type": "execute_result"
    }
   ],
   "source": [
    "# | hide\n",
    "\n",
    "# Test that function return a known anwser\n",
    "is_close(\n",
    "    compute_pet(\n",
    "        tmoy=20, net_radiation=1, wind_speed_u=2, vpd=2, formulation=\"pm\"\n",
    "    ),\n",
    "    0.3434,\n",
    "    eps=1e-02,\n",
    ")"
   ]
  },
  {
   "cell_type": "code",
   "execution_count": null,
   "metadata": {},
   "outputs": [],
   "source": [
    "# | export\n",
    "def day_length(\n",
    "    latitude: float,  # numeric value specifying the geographic latitude (in decimal degrees) of the location of interest\n",
    "    day_of_year: int,  # numeric (usually integer) value or vector specifying the Julian day (day of the year), for which calculations should be done.\n",
    "    no_times_as_na: bool = False,  # parameter to determine whether for days without sunrise or sunset, na should be returned for Sunset and Sunrise. If left at FALSE, the function returns -99 and 99 for sunrise and sunset or polar nights and polar days, respectively\n",
    ") -> Dict:  # Dictionary with three elements Sunrise, Sunset and Daylength. For days without sunrise (polar nights),sunset and sunrise become -99 and the daylength 0. For days without sunset, sunset and sunrise are 99 and daylength 24.\n",
    "    \"Original function from chillR R package. This function computes sunrise time, sunset time and daylength for a particular location and day of the year (Julian day). This is done using equations by Spencer (1971) and Almorox et al. (2005).\"\n",
    "\n",
    "    warnings.warn(\"Double check day_length function works for Australia\")\n",
    "\n",
    "    # Assert parameters ---------------------------------------------------------\n",
    "    # Latitude\n",
    "    assert (\n",
    "        isinstance(latitude, float) | isinstance(latitude, int)\n",
    "        and 95 >= latitude >= -95\n",
    "    ), \"Provide latitude as coordinates points bewteen -90 and 90 i.e. latitude = 41.40338\"\n",
    "\n",
    "    # Day of year\n",
    "    # Using np.testing instead of assert because parameters can be np.arrays OR\n",
    "    # single values (i.e. 1). assert only works when params are always one type\n",
    "    # Solution from:\n",
    "    # https://stackoverflow.com/questions/45987962/why-arent-there-numpy-testing-assert-array-greater-assert-array-less-equal-as\n",
    "\n",
    "    np.testing.assert_array_compare(\n",
    "        operator.__gt__,\n",
    "        np.array(day_of_year),\n",
    "        0,\n",
    "        err_msg=\"\\nday_of_year must be must be a integer value between 1-366\\n\",\n",
    "    )\n",
    "\n",
    "    np.testing.assert_array_less(\n",
    "        np.array(day_of_year),\n",
    "        367,\n",
    "        err_msg=\"\\nError: day_of_year must be must be a integer value between 1-366\\n\",\n",
    "    )\n",
    "\n",
    "    # Define constants ----------------------------------------------------------\n",
    "    gamma = 2 * (pi / 365) * ((day_of_year) - 1)\n",
    "    delta = (180 / pi) * (\n",
    "        0.006918\n",
    "        - 0.399912 * cos(gamma)\n",
    "        + 0.070257 * sin(gamma)\n",
    "        - 0.006758 * cos(2 * gamma)\n",
    "        + 0.000907 * sin(2 * (gamma))\n",
    "        - 0.002697 * cos(3 * (gamma))\n",
    "        + 0.00148 * sin(3 * (gamma))\n",
    "    )\n",
    "\n",
    "    cos_wo = (\n",
    "        sin((-0.8333 / 360) * 2 * pi)\n",
    "        - sin(latitude / 360 * 2 * pi) * sin((delta / 360) * 2 * pi)\n",
    "    ) / (cos((latitude / 360) * 2 * pi) * cos((delta / 360) * 2 * pi))\n",
    "\n",
    "    # Step implemented in case day_of_year is a single value i.e.\n",
    "    # day_of_year = 80\n",
    "    if isinstance(cos_wo, float):\n",
    "        # Transform float into array\n",
    "        cos_wo = np.array([cos_wo])\n",
    "\n",
    "    # Calculate sunrise and sunset ----------------------------------------------\n",
    "\n",
    "    # Get the position of values between -1 and 1\n",
    "    # Note only day_of_year values from 77 to 80 and will return values\n",
    "    # between -1 and 1\n",
    "\n",
    "    normal_days = np.where((cos_wo >= -1) & (cos_wo <= 1))\n",
    "\n",
    "    # Initialize a numpy arrays\n",
    "\n",
    "    sunrise = np.full(len(cos_wo), -99, dtype=float)\n",
    "    sunset = np.full(len(cos_wo), -99, dtype=float)\n",
    "\n",
    "    # Add normal days to sunrise and sunset arrays\n",
    "    sunrise[normal_days] = 12 - arccos(cos_wo[normal_days]) / (15 / 360 * 2 * pi)\n",
    "    sunset[normal_days] = 12 + arccos(cos_wo[normal_days]) / (15 / 360 * 2 * pi)\n",
    "\n",
    "    # Calculate day length\n",
    "    day_length = sunset - sunrise\n",
    "\n",
    "    day_length[np.where(cos_wo > 1)] = 0\n",
    "    day_length[np.where(cos_wo < (-1))] = 24\n",
    "\n",
    "    # Replace values with 99\n",
    "    sunrise[np.where(day_length == 24)] = 99\n",
    "    sunset[np.where(day_length == 24)] = 99\n",
    "\n",
    "    # Replace 99 and -99 with na in sunrise and sunset arrays\n",
    "    if no_times_as_na is True:\n",
    "        sunrise = np.where((sunrise == -99) | (sunrise == 99), np.nan, sunrise)\n",
    "        sunset = np.where((sunset == -99) | (sunset == 99), np.nan, sunset)\n",
    "\n",
    "    # # Check the presence of nan\n",
    "    if (\n",
    "        any(np.isnan(sunrise))\n",
    "        or any(np.isnan(sunset))\n",
    "        or any(np.isnan(day_length))\n",
    "    ):\n",
    "        warnings.warn(\"nan found in sunrise, sunset or day_length\")\n",
    "\n",
    "    # Return dictionary\n",
    "    return collections.defaultdict(\n",
    "        list, {\"sunrise\": sunrise, \"sunset\": sunset, \"day_length\": day_length}\n",
    "    )"
   ]
  },
  {
   "cell_type": "markdown",
   "metadata": {},
   "source": [
    "#### __Example: Calculate day length__"
   ]
  },
  {
   "cell_type": "markdown",
   "metadata": {},
   "source": [
    "This function was originally developed in the ChillR R [package](https://cran.r-project.org/web/packages/chillR/chillR.pdf)"
   ]
  },
  {
   "cell_type": "code",
   "execution_count": null,
   "metadata": {},
   "outputs": [
    {
     "name": "stderr",
     "output_type": "stream",
     "text": [
      "/tmp/ipykernel_8746/1596622700.py:9: UserWarning: Double check day_length function works for Australia\n",
      "  warnings.warn(\"Double check day_length function works for Australia\")\n"
     ]
    },
    {
     "data": {
      "text/plain": [
       "defaultdict(list,\n",
       "            {'sunrise': array([5.4049135]),\n",
       "             'sunset': array([18.5950865]),\n",
       "             'day_length': array([13.190173])})"
      ]
     },
     "execution_count": null,
     "metadata": {},
     "output_type": "execute_result"
    }
   ],
   "source": [
    "day_length(latitude=45, day_of_year=100, no_times_as_na=False)"
   ]
  },
  {
   "cell_type": "code",
   "execution_count": null,
   "metadata": {},
   "outputs": [
    {
     "name": "stderr",
     "output_type": "stream",
     "text": [
      "/tmp/ipykernel_8746/1596622700.py:9: UserWarning: Double check day_length function works for Australia\n",
      "  warnings.warn(\"Double check day_length function works for Australia\")\n"
     ]
    },
    {
     "data": {
      "text/plain": [
       "defaultdict(list,\n",
       "            {'sunrise': array([5.98160544, 5.95020317, 5.91880891, 5.88742546, 5.85605558]),\n",
       "             'sunset': array([18.01839456, 18.04979683, 18.08119109, 18.11257454, 18.14394442]),\n",
       "             'day_length': array([12.03678911, 12.09959365, 12.16238217, 12.22514908, 12.28788884])})"
      ]
     },
     "execution_count": null,
     "metadata": {},
     "output_type": "execute_result"
    }
   ],
   "source": [
    "day_length(\n",
    "    latitude=50,\n",
    "    day_of_year=np.array([78, 79, 80, 81, 82]),\n",
    "    no_times_as_na=False,\n",
    ")"
   ]
  },
  {
   "cell_type": "code",
   "execution_count": null,
   "metadata": {},
   "outputs": [],
   "source": [
    "# | export\n",
    "\n",
    "\n",
    "def calculate_radiation_diurnal_pattern(\n",
    "    time_of_day: int,  # Numeric value of vector indicating the time of the day (in seconds)\n",
    "    day_length: int,  # Value indicating the duration of the day (in seconds). Calculated using the `day_length` function\n",
    ") -> float:\n",
    "    \"Calculated diurnal pattern of temperature assuming a sinusoidal pattern with T = tmin at sunrise and T = (tmin + tmax)/2 at sunset. From sunset to sunrise follows a linear trend\"\n",
    "\n",
    "    # Assert parameters ---------------------------------------------------------\n",
    "\n",
    "    # time_of_day\n",
    "\n",
    "    # Using np.testing instead of assert because parameters can be np.arrays OR\n",
    "    # single values (i.e. 1). assert only works when params are always one type\n",
    "    # Solution from:\n",
    "    # https://stackoverflow.com/questions/45987962/why-arent-there-numpy-testing-assert-array-greater-assert-array-less-equal-as\n",
    "\n",
    "\n",
    "    if time_of_day < 0:\n",
    "        warnings.warn('time_of_day is a negative value. Not sure if this is correct')\n",
    "    #np.testing.assert_array_compare(\n",
    "    #    operator.__ge__,\n",
    "    #    np.array(time_of_day),\n",
    "    #    0,\n",
    "    #    err_msg=\"\\ntime_of_day must be must be value between 0 and 86400\\n\",\n",
    "    #)\n",
    "    #\n",
    "    #np.testing.assert_array_less(\n",
    "    #    np.array(time_of_day),\n",
    "    #    86401,\n",
    "    #    err_msg=\"\\ntime_of_day must be must be value between 0 and 86400\\n\",\n",
    "    #)\n",
    "\n",
    "    # day_length\n",
    "    np.testing.assert_array_compare(\n",
    "        operator.__ge__,\n",
    "        np.array(day_length),\n",
    "        0,\n",
    "        err_msg=\"\\nday_length must be must be value between 0 and 86400\\n\",\n",
    "    )\n",
    "\n",
    "    np.testing.assert_array_less(\n",
    "        np.array(day_length),\n",
    "        86401,\n",
    "        err_msg=\"\\nday_length must be must be value between 0 and 86400\\n\",\n",
    "    )\n",
    "\n",
    "    # Raise warning for time_of_day and day_length\n",
    "    warnings.warn(\"Double check that time_of_day and day_length are in seconds\")\n",
    "\n",
    "    # Calculate_radiation_diurnal_pattern ---------------------------------------\n",
    "\n",
    "    # sunrise\n",
    "    ws = (day_length / 3600.0) * (pi / 24.0)\n",
    "    w = ws - (time_of_day / day_length) * (ws * 2.0)\n",
    "\n",
    "    prop = ((pi / 24.0) * (cos(w) - cos(ws))) / (sin(ws) - ws * cos(ws))\n",
    "\n",
    "    return prop / 3600.0"
   ]
  },
  {
   "cell_type": "markdown",
   "metadata": {},
   "source": [
    "#### __Example: Calculate radiation diurnal pattern__"
   ]
  },
  {
   "cell_type": "code",
   "execution_count": null,
   "metadata": {},
   "outputs": [
    {
     "name": "stderr",
     "output_type": "stream",
     "text": [
      "/tmp/ipykernel_8746/2676460645.py:50: UserWarning: Double check that time_of_day and day_length are in seconds\n",
      "  warnings.warn(\"Double check that time_of_day and day_length are in seconds\")\n"
     ]
    },
    {
     "data": {
      "text/plain": [
       "0.0036562495459173377"
      ]
     },
     "execution_count": null,
     "metadata": {},
     "output_type": "execute_result"
    }
   ],
   "source": [
    "calculate_radiation_diurnal_pattern(time_of_day=1, day_length=40)"
   ]
  },
  {
   "cell_type": "code",
   "execution_count": null,
   "metadata": {},
   "outputs": [],
   "source": [
    "# | export\n",
    "\n",
    "\n",
    "def calculate_temperature_diurnal_pattern(\n",
    "    time_of_day: float,  # Value of vector indicating the time of the day (in seconds from sunrise)\n",
    "    day_length: int,  # Value indicating the duration of the day (in seconds). Calculated using the `day_length` function\n",
    "    tmin: float,  # Minimum temperature (in degrees C) of the target day of the year\n",
    "    tmax: float,  # Maximum temperature (in degrees C) of the target day of the year\n",
    "    tmin_prev: float,  # Minimum temperature (in degrees C) of the previous target day of the year\n",
    "    tmax_prev: float,  # Maximum temperature (in degrees C) of the previous target day of the year\n",
    "    tmin_next: float,  # Minimum temperature (in degrees C) of the next target day of the year\n",
    ") -> float:\n",
    "    \"Calculated diurnal pattern of temperature assuming a sinusoidal pattern with T = tmin at sunrise and T = (tmin+tmax)/2 at sunset. From sunset to sunrise follows a linear trend\"\n",
    "\n",
    "    # Raise warning for time_of_day and day_length\n",
    "    warnings.warn(\"Double check that time_of_day and day_length are in seconds\")\n",
    "\n",
    "    # calculate_temperature_diurnal_pattern -------------------------------------\n",
    "\n",
    "    if time_of_day < 0.0 or time_of_day >= day_length:\n",
    "        tfin = 86400.0 - day_length\n",
    "\n",
    "        if time_of_day < 0.0:\n",
    "            time_of_day = time_of_day + 86400.0 - day_length\n",
    "\n",
    "            # Return Temp\n",
    "            return 0.5 * (tmax_prev + tmin_prev) * (\n",
    "                1.0 - (time_of_day / tfin)\n",
    "            ) + tmin * (time_of_day / tfin)\n",
    "\n",
    "        else:\n",
    "            time_of_day = time_of_day - day_length\n",
    "\n",
    "            # Return Temp\n",
    "            return 0.5 * (tmax + tmin) * (\n",
    "                1.0 - (time_of_day / tfin)\n",
    "            ) + tmin_next * (time_of_day / tfin)\n",
    "\n",
    "    else:\n",
    "        ct = cos(1.5 * pi * time_of_day / day_length)\n",
    "\n",
    "        # Return Temp\n",
    "        return 0.5 * (tmin + tmax - (tmax - tmin) * ct)"
   ]
  },
  {
   "cell_type": "markdown",
   "metadata": {},
   "source": [
    "#### __Example: calculate the temperature diurnal pattern__"
   ]
  },
  {
   "cell_type": "code",
   "execution_count": null,
   "metadata": {},
   "outputs": [
    {
     "name": "stderr",
     "output_type": "stream",
     "text": [
      "/tmp/ipykernel_8746/3126062202.py:16: UserWarning: Double check that time_of_day and day_length are in seconds\n",
      "  warnings.warn(\"Double check that time_of_day and day_length are in seconds\")\n"
     ]
    },
    {
     "data": {
      "text/plain": [
       "4.3999999999999995"
      ]
     },
     "execution_count": null,
     "metadata": {},
     "output_type": "execute_result"
    }
   ],
   "source": [
    "calculate_temperature_diurnal_pattern(time_of_day=0 ,\n",
    "                                      day_length=0,\n",
    "                                      tmin=0.6,\n",
    "                                      tmax=8.2,\n",
    "                                      tmin_prev=2.6,\n",
    "                                      tmax_prev=11.3,\n",
    "                                      tmin_next=4.7,\n",
    "                                      )"
   ]
  },
  {
   "cell_type": "code",
   "execution_count": null,
   "metadata": {},
   "outputs": [],
   "source": [
    "# | export\n",
    "\n",
    "\n",
    "def calculate_rh_diurnal_pattern(\n",
    "    temperature: float,  # Unknown parameter definition\n",
    "    rhmin: float,  # Unknown parameter definition\n",
    "    rhmax: float,  # Unknown parameter definition\n",
    "    tmin: float,  # Unknown parameter definition\n",
    "    tmax: float,  # Unknown parameter definition\n",
    ") -> float:\n",
    "    \"Calculate diurnal pattern of relative humidity from temperature\"\n",
    "\n",
    "    # calculate rh diurnal pattern ----------------------------------------------\n",
    "    return rhmax + ((temperature - tmin) / (tmax - tmin)) * (rhmin - rhmax)"
   ]
  },
  {
   "cell_type": "code",
   "execution_count": null,
   "metadata": {},
   "outputs": [],
   "source": [
    "# | export\n",
    "\n",
    "\n",
    "def rg_watt_ppfd_umol_conversions(\n",
    "    ppfd: float = None,  # Photosynthetic photon flux density (umol.m-2.s-1)\n",
    "    rg: float = None,  # Global radiation (W/m2)\n",
    "    j_to_mol: float = 4.6,  # Conversion factor\n",
    "    frac_par: float = 0.5,  # Function of solar rdiation that is photosynthetically active radiation (PAR)\n",
    "    selected_conversion: str = [ # String indicating to what units rg should be converted\n",
    "        \"rg_watts_to_ppfd_umol\",\n",
    "        \"ppfd_umol_to_rg_watts\",\n",
    "    ],\n",
    ") -> float:\n",
    "    \"Convert Global Radiation (rg) in watts to Photosynthetic Photon Flux Density (ppfd) in umol and viceversa\"\n",
    "\n",
    "    # Assert parameters ---------------------------------------------------------\n",
    "\n",
    "    # Make sure that selected_conversion only has three options\n",
    "    assert (\n",
    "        selected_conversion in [\"ppfd_umol_to_rg_watts\", \"rg_watts_to_ppfd_umol\"]\n",
    "    ), f'{selected_conversion} not a valid option for selected_conversion, select \"ppfd_umol_to_rg_watts\" or \"rg_watts_to_ppfd_umol\"'\n",
    "\n",
    "    # Make sure the necessary parameters for a given conversion are provided\n",
    "    if selected_conversion == \"ppfd_umol_to_rg_watts\":\n",
    "        assert isinstance(ppfd, float) | isinstance(\n",
    "            ppfd, int) | isinstance(ppfd, np.ndarray), \"ppfd missing. Parameter must be a float or integer value\"\n",
    "\n",
    "    elif selected_conversion == \"rg_watts_to_ppfd_umol\":\n",
    "        assert isinstance(rg, float) | isinstance(\n",
    "            rg, int) | isinstance(rg, np.ndarray), \"rg missing. Parameter must be a float or integer value\"\n",
    "\n",
    "    # Warn in case j_to_mol or frac_par are not provided\n",
    "    if j_to_mol == 4.6:\n",
    "        warnings.warn(\"Using j_to_mol default value of 4.6\")\n",
    "\n",
    "    if frac_par == 0.5:\n",
    "        warnings.warn(\"Using frac_par default value of 0.5\")\n",
    "\n",
    "    # Conversions ---------------------------------------------------------------\n",
    "\n",
    "    # Calculate rg from ppfd (rg)(W/m2)\n",
    "    if selected_conversion == \"ppfd_umol_to_rg_watts\":\n",
    "        print(\"Conversion of ppfd to rg\")\n",
    "        return ppfd / frac_par / j_to_mol\n",
    "\n",
    "    # Calculate ppfd (umol.m-2.s-1) from rg\n",
    "    elif selected_conversion == \"rg_watts_to_ppfd_umol\":\n",
    "        print(\"Conversion of rg to ppfd\")\n",
    "        return rg * frac_par * j_to_mol\n",
    "\n",
    "    else:\n",
    "        raise ValueError(\"Conversion failed\")"
   ]
  },
  {
   "cell_type": "markdown",
   "metadata": {},
   "source": [
    "#### __Example: Calculate RG and PPFD__"
   ]
  },
  {
   "cell_type": "code",
   "execution_count": null,
   "metadata": {},
   "outputs": [
    {
     "name": "stdout",
     "output_type": "stream",
     "text": [
      "Conversion of rg to ppfd\n"
     ]
    },
    {
     "name": "stderr",
     "output_type": "stream",
     "text": [
      "/tmp/ipykernel_11215/1508789894.py:34: UserWarning: Using j_to_mol default value of 4.6\n",
      "  warnings.warn(\"Using j_to_mol default value of 4.6\")\n",
      "/tmp/ipykernel_11215/1508789894.py:37: UserWarning: Using frac_par default value of 0.5\n",
      "  warnings.warn(\"Using frac_par default value of 0.5\")\n"
     ]
    },
    {
     "data": {
      "text/plain": [
       "16.099999999999998"
      ]
     },
     "execution_count": null,
     "metadata": {},
     "output_type": "execute_result"
    }
   ],
   "source": [
    "rg_watt_ppfd_umol_conversions(\n",
    "    rg=7, j_to_mol=4.6, frac_par=0.5, selected_conversion=\"rg_watts_to_ppfd_umol\"\n",
    ")"
   ]
  },
  {
   "cell_type": "code",
   "execution_count": null,
   "metadata": {},
   "outputs": [
    {
     "name": "stdout",
     "output_type": "stream",
     "text": [
      "Conversion of ppfd to rg\n"
     ]
    },
    {
     "name": "stderr",
     "output_type": "stream",
     "text": [
      "/tmp/ipykernel_11215/1508789894.py:34: UserWarning: Using j_to_mol default value of 4.6\n",
      "  warnings.warn(\"Using j_to_mol default value of 4.6\")\n",
      "/tmp/ipykernel_11215/1508789894.py:37: UserWarning: Using frac_par default value of 0.5\n",
      "  warnings.warn(\"Using frac_par default value of 0.5\")\n"
     ]
    },
    {
     "data": {
      "text/plain": [
       "3.91304347826087"
      ]
     },
     "execution_count": null,
     "metadata": {},
     "output_type": "execute_result"
    }
   ],
   "source": [
    "rg_watt_ppfd_umol_conversions(\n",
    "    ppfd=9,\n",
    "    j_to_mol=4.6,\n",
    "    frac_par=0.5,\n",
    "    selected_conversion=\"ppfd_umol_to_rg_watts\",\n",
    ")"
   ]
  },
  {
   "cell_type": "code",
   "execution_count": null,
   "metadata": {},
   "outputs": [],
   "source": [
    "# | export\n",
    "\n",
    "\n",
    "def rg_units_conversion(\n",
    "    rg_watts: float = None,  # instantaneous radiation (watt)\n",
    "    rg_mj: float = None,  # instantaneous radiation (in Mega Jule?)\n",
    "    nhours: float = None,  # Unknown parameter definition\n",
    "    selected_conversion: str = [ # String indicating to what units rg should be converted\n",
    "        \"watts_to_mj\",\n",
    "        \"mj_to_watts\",\n",
    "        \"mj_to_watts_hour\",\n",
    "    ],\n",
    ") -> float:\n",
    "    \"Convert instantaneous radiation in watt to dialy cumulative radiation in MJ (MJ.day-1) and viceversa\"\n",
    "\n",
    "    # Assert parameters ---------------------------------------------------------\n",
    "\n",
    "    # Make sure that selected_conversion only has three options\n",
    "    assert (\n",
    "        selected_conversion in [\"watts_to_mj\", \"mj_to_watts\", \"mj_to_watts_hour\"]\n",
    "    ), f'{selected_conversion} not a valid option for selected_conversion, select \"watts_to_mj\",\"mj_to_watts\" or \"mj_to_watts_hour\"'\n",
    "\n",
    "    # Make sure the necessary parameters for a given conversion are provided\n",
    "    if selected_conversion == \"watts_to_mj\":\n",
    "        assert isinstance(rg_watts, float) | isinstance(\n",
    "            rg_watts, int) | isinstance(rg_watts, np.ndarray), \"rg_watts missing. Parameter must be a float or integer value\"\n",
    "\n",
    "    elif selected_conversion == \"mj_to_watts\":\n",
    "        assert isinstance(rg_mj, float) | isinstance(\n",
    "            rg_mj, int) | isinstance(rg_mj, np.ndarray), \"rg_mj missing. Parameter must be a float or integer value\"\n",
    "\n",
    "    elif selected_conversion == \"mj_to_watts_hour\":\n",
    "        assert isinstance(rg_mj, float) | isinstance(\n",
    "            rg_mj, int) | isinstance(rg_mj, np.ndarray) , \"rg_mj missing. Parameter must be a float or integer value\"\n",
    "\n",
    "        assert isinstance(nhours, float) | isinstance(\n",
    "            nhours, int) | isinstance(nhours, np.ndarray) , \"nhours missing. Parameter must be a float or integer value\"\n",
    "\n",
    "    # Conversions ---------------------------------------------------------------\n",
    "    if selected_conversion == \"watts_to_mj\":\n",
    "        print(\"Conversion of rg from watts to Mega Jules per day\")\n",
    "\n",
    "        # Conversion from watts to Mega Jules\n",
    "        return rg_watts * 0.0864\n",
    "\n",
    "    elif selected_conversion == \"mj_to_watts\":\n",
    "        print(\"Conversion of rg from Mega Jules per day to Watts\")\n",
    "\n",
    "        # Conversion from Mega Jules to watts\n",
    "        return rg_mj * (1 / 0.0864)\n",
    "\n",
    "    elif selected_conversion == \"mj_to_watts_hour\":\n",
    "        print(\"Conversion of rg from Mega Jules to Watts per hour\")\n",
    "\n",
    "        # Conversion from Mega Jules to watts/hour\n",
    "        return rg_mj * (10**6 / (nhours * 3600))\n",
    "\n",
    "    else:\n",
    "        raise ValueError(\"rg units conversion failed\")"
   ]
  },
  {
   "cell_type": "markdown",
   "metadata": {},
   "source": [
    "#### __Example: RG conversions__"
   ]
  },
  {
   "cell_type": "code",
   "execution_count": null,
   "metadata": {},
   "outputs": [
    {
     "name": "stdout",
     "output_type": "stream",
     "text": [
      "Conversion of rg from watts to Mega Jules per day\n"
     ]
    },
    {
     "data": {
      "text/plain": [
       "0.1296"
      ]
     },
     "execution_count": null,
     "metadata": {},
     "output_type": "execute_result"
    }
   ],
   "source": [
    "rg_units_conversion(rg_watts=1.5, selected_conversion=\"watts_to_mj\")"
   ]
  },
  {
   "cell_type": "code",
   "execution_count": null,
   "metadata": {},
   "outputs": [
    {
     "name": "stdout",
     "output_type": "stream",
     "text": [
      "Conversion of rg from Mega Jules per day to Watts\n"
     ]
    },
    {
     "data": {
      "text/plain": [
       "11.574074074074073"
      ]
     },
     "execution_count": null,
     "metadata": {},
     "output_type": "execute_result"
    }
   ],
   "source": [
    "rg_units_conversion(rg_mj=1, selected_conversion=\"mj_to_watts\")"
   ]
  },
  {
   "cell_type": "code",
   "execution_count": null,
   "metadata": {},
   "outputs": [
    {
     "name": "stdout",
     "output_type": "stream",
     "text": [
      "Conversion of rg from Mega Jules to Watts per hour\n"
     ]
    },
    {
     "data": {
      "text/plain": [
       "array([277.77777778, 555.55555556])"
      ]
     },
     "execution_count": null,
     "metadata": {},
     "output_type": "execute_result"
    }
   ],
   "source": [
    "rg_units_conversion(rg_mj=np.array([1,2]), nhours=1, selected_conversion=\"mj_to_watts_hour\")"
   ]
  },
  {
   "cell_type": "code",
   "execution_count": null,
   "metadata": {},
   "outputs": [],
   "source": [
    "# | export\n",
    "\n",
    "\n",
    "def declination(\n",
    "    day_of_year: int,  # julian day (day of the year)\n",
    "    day_of_spring: int = 80,  # Julian day representing the first day of spring\n",
    ") -> float:  # Earth declination at day_of_year\n",
    "    \"Calculate declination of sun (radians ? ) for a given julian day (DOY)\"\n",
    "\n",
    "    # Hervé's formula for solar declination\n",
    "\n",
    "    # Sin(23.5*pi/180), 23.5 = Earth declination\n",
    "\n",
    "    # Assert parameters ---------------------------------------------------------\n",
    "\n",
    "    # Day of year\n",
    "    # Using np.testing instead of assert because parameters can be np.arrays OR\n",
    "    # single values (i.e. 1). assert only works when params are always one type\n",
    "    # Solution from:\n",
    "    # https://stackoverflow.com/questions/45987962/why-arent-there-numpy-testing-assert-array-greater-assert-array-less-equal-as\n",
    "\n",
    "    np.testing.assert_array_compare(\n",
    "        operator.__gt__,\n",
    "        np.array(day_of_year),\n",
    "        0,\n",
    "        err_msg=\"\\nday_of_year must be must be a integer value between 1-366\\n\",\n",
    "    )\n",
    "\n",
    "    np.testing.assert_array_less(\n",
    "        np.array(day_of_year),\n",
    "        367,\n",
    "        err_msg=\"\\nError: day_of_year must be must be a integer value between 1-366\\n\",\n",
    "    )\n",
    "\n",
    "    # date_of_spring\n",
    "    assert isinstance(\n",
    "        day_of_spring, int\n",
    "    ), \"day_of_spring must be must be a integer value i.e. 80, 90, 1\"\n",
    "\n",
    "    # Constans ------------------------------------------------------------------\n",
    "\n",
    "    c1 = 0.398749068925246\n",
    "\n",
    "    c2 = 2 * 3.1416 / 365\n",
    "\n",
    "    # date of spring\n",
    "    day_of_spring_c3 = day_of_spring\n",
    "    warnings.warn(\n",
    "        f\"date of spring set to {day_of_spring_c3}. This might change for Australia\"\n",
    "    )\n",
    "\n",
    "    x = c1 * sin((day_of_year - day_of_spring_c3) * c2)\n",
    "\n",
    "    # Return declination --------------------------------------------------------\n",
    "    return arctan(x / ((1 - x * x) ** 0.5))"
   ]
  },
  {
   "cell_type": "markdown",
   "metadata": {},
   "source": [
    "#### __Example: Calculate declination__"
   ]
  },
  {
   "cell_type": "code",
   "execution_count": null,
   "metadata": {},
   "outputs": [
    {
     "name": "stderr",
     "output_type": "stream",
     "text": [
      "/tmp/ipykernel_11215/2588498006.py:48: UserWarning: date of spring set to 80. This might change for Australia\n",
      "  warnings.warn(\n"
     ]
    },
    {
     "data": {
      "text/plain": [
       "0.06835636102670284"
      ]
     },
     "execution_count": null,
     "metadata": {},
     "output_type": "execute_result"
    }
   ],
   "source": [
    "declination(day_of_year=90, day_of_spring=80)"
   ]
  },
  {
   "cell_type": "code",
   "execution_count": null,
   "metadata": {},
   "outputs": [
    {
     "name": "stderr",
     "output_type": "stream",
     "text": [
      "/tmp/ipykernel_11215/2588498006.py:48: UserWarning: date of spring set to 80. This might change for Australia\n",
      "  warnings.warn(\n"
     ]
    },
    {
     "data": {
      "text/plain": [
       "array([0.1349969 , 0.35853539])"
      ]
     },
     "execution_count": null,
     "metadata": {},
     "output_type": "execute_result"
    }
   ],
   "source": [
    "declination(day_of_year=np.array([100, 200]), day_of_spring=80)"
   ]
  },
  {
   "cell_type": "code",
   "execution_count": null,
   "metadata": {},
   "outputs": [],
   "source": [
    "# | export\n",
    "\n",
    "\n",
    "def potential_par(\n",
    "    time_of_day_in_hours: float,  # Array containing the time of the day (in hours) for which potential par should be calculated\n",
    "    latitude: float,  # Numeric value specifying the geographic latitude (in decimal degrees) of the location of interest\n",
    "    day_of_year: int,  # Julian day (day of the year)\n",
    ") -> np.array:  # Potential Photosynthetic Active Radiation (PAR) for each time_of_day at given latitude and given day_of_year\n",
    "    \"Determine potential for a given place and date /used to determine cloud cover return potential par in W.m2\"\n",
    "\n",
    "\n",
    "    warnings.warn(\"Make sure time of day is hours in potential_par function\")\n",
    "\n",
    "    # Assert parameters ---------------------------------------------------------\n",
    "\n",
    "    # time_of_day\n",
    "    np.testing.assert_array_compare(\n",
    "        operator.__ge__,\n",
    "        np.array(time_of_day_in_hours),\n",
    "        0,\n",
    "        err_msg=\"\\ntime_of_day must be must equal or greater than 0\\n\",\n",
    "    )\n",
    "\n",
    "    np.testing.assert_array_less(\n",
    "        np.array(time_of_day_in_hours),\n",
    "        25,\n",
    "        err_msg=\"\\nError: time_of_day must be must be equal or lower than 24\\n\",\n",
    "    )\n",
    "\n",
    "    # Latitude\n",
    "    assert (\n",
    "        isinstance(latitude, float) | isinstance(latitude, int)\n",
    "        and 95 >= latitude >= -95\n",
    "    ), \"Provide latitude as coordinates points bewteen -90 and 90 i.e. latitude = 41.40338\"\n",
    "\n",
    "    # Day of year\n",
    "    # Using np.testing instead of assert because parameters can be np.arrays OR\n",
    "    # single values (i.e. 1). assert only works when params are always one type\n",
    "    # Solution from:\n",
    "    # https://stackoverflow.com/questions/45987962/why-arent-there-numpy-testing-assert-array-greater-assert-array-less-equal-as\n",
    "\n",
    "    np.testing.assert_array_compare(\n",
    "        operator.__gt__,\n",
    "        np.array(day_of_year),\n",
    "        0,\n",
    "        err_msg=\"\\nday_of_year must be must be a integer value between 1-366\\n\",\n",
    "    )\n",
    "\n",
    "    np.testing.assert_array_less(\n",
    "        np.array(day_of_year),\n",
    "        367,\n",
    "        err_msg=\"\\nError: day_of_year must be must be a integer value between 1-366\\n\",\n",
    "    )\n",
    "\n",
    "    # Calculate declination -----------------------------------------------------\n",
    "    decl = declination(day_of_year=day_of_year, day_of_spring=80)\n",
    "\n",
    "    # Define constants ----------------------------------------------------------\n",
    "    diffuse_fraction = 0.1\n",
    "    solar_constant = 2084\n",
    "    attenuation_coef = -0.174353387144778\n",
    "\n",
    "    pn = -cos(latitude * 3.1416 / 180)\n",
    "\n",
    "    pz = sin(latitude * 3.1416 / 180)\n",
    "\n",
    "    h_rad = (time_of_day_in_hours - 6) * 3.1416 / 12\n",
    "\n",
    "    se = cos(h_rad) * cos(decl)\n",
    "    sn = -pz * sin(h_rad) * cos(decl) - pn * sin(decl)\n",
    "    sz = -pn * sin(h_rad) * cos(decl) + pz * sin(decl)\n",
    "\n",
    "    alt = arctan(sz / ((se * se + sn * sn) ** 0.5))\n",
    "    azi = 3.1416 + arctan(se / sn)\n",
    "\n",
    "    # Calculate potential par ---------------------------------------------------\n",
    "\n",
    "    # Step implemented in case azi is a single value i.e. azi = 39\n",
    "    if isinstance(azi, float):\n",
    "        # Transform float into array\n",
    "        azi = np.array([azi])\n",
    "\n",
    "    azi[sn > 0] = azi[sn > 0] + 3.1416\n",
    "\n",
    "    pfd = solar_constant * exp(attenuation_coef / sin(alt))\n",
    "\n",
    "    # Step implemented in case pfd is a single value i.e. pdf = 41\n",
    "    if isinstance(pfd, float):\n",
    "        # Transform float into array\n",
    "        pfd = np.array([pfd])\n",
    "\n",
    "    pfd[alt < 0] = 0\n",
    "\n",
    "    dpfd = diffuse_fraction * pfd\n",
    "    dpfd[alt < 0] = 0\n",
    "\n",
    "    return dpfd + pfd * sin(alt)"
   ]
  },
  {
   "cell_type": "markdown",
   "metadata": {},
   "source": [
    "#### __Example: Calculate the potential par__"
   ]
  },
  {
   "cell_type": "code",
   "execution_count": null,
   "metadata": {},
   "outputs": [
    {
     "name": "stderr",
     "output_type": "stream",
     "text": [
      "/tmp/ipykernel_11215/2426213357.py:12: UserWarning: Make sure time of day is hours in potential_par function\n",
      "  warnings.warn(\"Make sure time of day is hours in potential_par function\")\n",
      "/tmp/ipykernel_11215/2588498006.py:48: UserWarning: date of spring set to 80. This might change for Australia\n",
      "  warnings.warn(\n"
     ]
    },
    {
     "data": {
      "text/plain": [
       "array([0.])"
      ]
     },
     "execution_count": null,
     "metadata": {},
     "output_type": "execute_result"
    }
   ],
   "source": [
    "potential_par(time_of_day_in_hours=19, latitude=45.1, day_of_year=100)"
   ]
  },
  {
   "cell_type": "code",
   "execution_count": null,
   "metadata": {},
   "outputs": [
    {
     "name": "stderr",
     "output_type": "stream",
     "text": [
      "/tmp/ipykernel_11215/2426213357.py:12: UserWarning: Make sure time of day is hours in potential_par function\n",
      "  warnings.warn(\"Make sure time of day is hours in potential_par function\")\n",
      "/tmp/ipykernel_11215/2588498006.py:48: UserWarning: date of spring set to 80. This might change for Australia\n",
      "  warnings.warn(\n"
     ]
    },
    {
     "data": {
      "text/plain": [
       "array([   0.        ,    0.        ,    0.        ,    0.        ,\n",
       "          0.        ,    0.        ,   65.37392013,  417.36686646,\n",
       "        767.72246162, 1069.88738085, 1301.85871798, 1447.6815046 ,\n",
       "       1497.41611937, 1447.67872923, 1301.85335614, 1069.87979874,\n",
       "        767.7131865 ,  417.35663351,   65.36575629,    0.        ,\n",
       "          0.        ,    0.        ,    0.        ,    0.        ])"
      ]
     },
     "execution_count": null,
     "metadata": {},
     "output_type": "execute_result"
    }
   ],
   "source": [
    "potential_par(time_of_day_in_hours=np.arange(0, 24), latitude=45.1, day_of_year=100)"
   ]
  }
 ],
 "metadata": {
  "kernelspec": {
   "display_name": "python3",
   "language": "python",
   "name": "python3"
  }
 },
 "nbformat": 4,
 "nbformat_minor": 4
}
