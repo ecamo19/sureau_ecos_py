{
 "cells": [
  {
   "cell_type": "raw",
   "metadata": {},
   "source": [
    "---\n",
    "description: 'AUTHORS: __Julien Ruffault (julien.ruff@gmail.com), Nicolas Martin-StPaul\n",
    "  (nicolas.martin@inrae.fr)__'\n",
    "output-file: climate_utils.html\n",
    "title: Climate utils functions\n",
    "\n",
    "---\n",
    "\n"
   ]
  },
  {
   "cell_type": "code",
   "execution_count": null,
   "metadata": {
    "vscode": {
     "languageId": "python"
    }
   },
   "outputs": [],
   "source": [
    "# | default_exp climate_utils"
   ]
  },
  {
   "cell_type": "code",
   "execution_count": null,
   "metadata": {
    "vscode": {
     "languageId": "python"
    }
   },
   "outputs": [],
   "source": [
    "# | hide\n",
    "from nbdev.showdoc import *\n",
    "from fastcore.test import is_close"
   ]
  },
  {
   "cell_type": "code",
   "execution_count": null,
   "metadata": {
    "vscode": {
     "languageId": "python"
    }
   },
   "outputs": [],
   "source": [
    "# | export\n",
    "import warnings\n",
    "import operator\n",
    "import collections\n",
    "import numpy as np\n",
    "from math import pi\n",
    "from typing import List, Dict\n",
    "from numpy import exp, cos, sin, arccos"
   ]
  },
  {
   "cell_type": "code",
   "execution_count": null,
   "metadata": {
    "vscode": {
     "languageId": "python"
    }
   },
   "outputs": [],
   "source": [
    "# | export\n",
    "\n",
    "\n",
    "def compute_vpd_from_t_rh(\n",
    "    relative_humidity: float,  # Air relative_humidity (%)\n",
    "    temperature: float,  # Air temperature (degrees Celsius)\n",
    "    air_pressure: float = 101325,  # Unknown parameter definition Air pressure, used?\n",
    ") -> float:\n",
    "    \"Compute vapor pressure deficit (VPD) from air relative humidity and air temperature\"\n",
    "\n",
    "    # Constants -----------------------------------------------------------------\n",
    "\n",
    "    # molar weight dry air (g/mol)\n",
    "    mass = 28.966\n",
    "\n",
    "    # molar weight H20 H2O(g/mol) Mh2o not used in this function??\n",
    "    mass_h2o = 18\n",
    "\n",
    "    # Perfect gas constant %J/mol/K\n",
    "    rgz = 8.314472\n",
    "\n",
    "    # conversion of temperature in K\n",
    "    temp_kelvin = temperature + 273.15\n",
    "\n",
    "    # D_air not used in this function??\n",
    "    d_air = ((air_pressure) / (rgz * (temp_kelvin))) * mass\n",
    "\n",
    "    # Compute VPD -------------------------------------------------------------\n",
    "    es = 6.108 * exp(17.27 * temperature / (237.2 + temperature)) * 100\n",
    "\n",
    "    ea = relative_humidity * es / 100\n",
    "\n",
    "    vpd = (es - ea) / 1000\n",
    "\n",
    "    if vpd < 0:\n",
    "        vpd = 0\n",
    "\n",
    "    return vpd"
   ]
  },
  {
   "cell_type": "markdown",
   "metadata": {},
   "source": [
    "#### __Example: Compute VPD__"
   ]
  },
  {
   "cell_type": "code",
   "execution_count": null,
   "metadata": {
    "vscode": {
     "languageId": "python"
    }
   },
   "outputs": [
    {
     "data": {
      "text/plain": [
       "0.6339533962744358"
      ]
     },
     "execution_count": null,
     "metadata": {},
     "output_type": "execute_result"
    }
   ],
   "source": [
    "compute_vpd_from_t_rh(relative_humidity=80, temperature=25)"
   ]
  },
  {
   "cell_type": "code",
   "execution_count": null,
   "metadata": {
    "vscode": {
     "languageId": "python"
    }
   },
   "outputs": [],
   "source": [
    "# | hide\n",
    "\n",
    "# Test that function return a positive value\n",
    "assert compute_vpd_from_t_rh(relative_humidity=80, temperature=25) > 0"
   ]
  },
  {
   "cell_type": "code",
   "execution_count": null,
   "metadata": {
    "vscode": {
     "languageId": "python"
    }
   },
   "outputs": [
    {
     "data": {
      "text/plain": [
       "True"
      ]
     },
     "execution_count": null,
     "metadata": {},
     "output_type": "execute_result"
    }
   ],
   "source": [
    "# | hide\n",
    "\n",
    "# Test that function return a known anwser\n",
    "is_close(\n",
    "    compute_vpd_from_t_rh(relative_humidity=80, temperature=25),\n",
    "    # Value from https://cales.arizona.edu/vpdcalc/\n",
    "    0.634,\n",
    "    eps=1e-02,\n",
    ")"
   ]
  },
  {
   "cell_type": "code",
   "execution_count": null,
   "metadata": {
    "vscode": {
     "languageId": "python"
    }
   },
   "outputs": [],
   "source": [
    "# | export\n",
    "\n",
    "\n",
    "def compute_etp_pt(\n",
    "    tmoy: float,  # Mean temperature over the considered time step (degrees Celsius)\n",
    "    net_radiation: float,  # Cumulative Net radiation over the considered  time sep  (MJ.m2)\n",
    "    pt_coeff: float = 1.26,  # An empirical constant accounting for the vapor pressure deficit and resistance values Typically, α is 1.26 for open bodies of water, but has a wide range of values from less than 1 (humid conditions) to almost 2 (arid conditions).\n",
    "    g: float = 0,  # Unknown parameter definition\n",
    ") -> float:\n",
    "    \"Calcule Potential evapotranspiration (mm) PET using Pristeley Taylor Formulation\"\n",
    "\n",
    "    # Constants -----------------------------------------------------------------\n",
    "\n",
    "    # Stefan-Boltzman constant [MJ.K^-4.m^-2.day^-1]\n",
    "    # sb_constant = 4.903 * 10**9\n",
    "\n",
    "    # Psychometer constant\n",
    "    gamma = 0.0666\n",
    "\n",
    "    # Latent heat of vaporisation\n",
    "    lamb = 2.45\n",
    "\n",
    "    # Compute ETP -------------------------------------------------------------\n",
    "\n",
    "    #  s: slope of the saturation vapour pressure function (AO 1998)\n",
    "    slope_sta = (\n",
    "        4098\n",
    "        * 0.6108\n",
    "        * exp((17.27 * tmoy) / (tmoy + 237.3))\n",
    "        / ((tmoy + 237.3) ** 2)\n",
    "    )\n",
    "    # s <-       4098 * 0.6108 * exp((17.27 * Tmoy) / (Tmoy + 237.3)) / ((Tmoy + 237.3)^2)\n",
    "\n",
    "    etp = (\n",
    "        pt_coeff\n",
    "        * (slope_sta / (slope_sta + gamma))\n",
    "        * ((net_radiation - g) / lamb)\n",
    "    )\n",
    "    # ETP <- PTcoeff * (s / (s + gamma)) * ((NetRadiation - G) / lambda)\n",
    "\n",
    "    return etp"
   ]
  },
  {
   "cell_type": "markdown",
   "metadata": {},
   "source": [
    "#### __Example: Compute ETP__"
   ]
  },
  {
   "cell_type": "code",
   "execution_count": null,
   "metadata": {
    "vscode": {
     "languageId": "python"
    }
   },
   "outputs": [
    {
     "data": {
      "text/plain": [
       "12.429220134837708"
      ]
     },
     "execution_count": null,
     "metadata": {},
     "output_type": "execute_result"
    }
   ],
   "source": [
    "compute_etp_pt(tmoy=80, net_radiation=25)"
   ]
  },
  {
   "cell_type": "code",
   "execution_count": null,
   "metadata": {
    "vscode": {
     "languageId": "python"
    }
   },
   "outputs": [
    {
     "data": {
      "text/plain": [
       "0.3186733971169735"
      ]
     },
     "execution_count": null,
     "metadata": {},
     "output_type": "execute_result"
    }
   ],
   "source": [
    "compute_etp_pt(tmoy=20, net_radiation=1, pt_coeff=1.14)"
   ]
  },
  {
   "cell_type": "code",
   "execution_count": null,
   "metadata": {
    "vscode": {
     "languageId": "python"
    }
   },
   "outputs": [],
   "source": [
    "# | hide\n",
    "\n",
    "# Test that function return a positive value\n",
    "assert compute_etp_pt(tmoy=80, net_radiation=25) > 0"
   ]
  },
  {
   "cell_type": "code",
   "execution_count": null,
   "metadata": {
    "vscode": {
     "languageId": "python"
    }
   },
   "outputs": [
    {
     "data": {
      "text/plain": [
       "True"
      ]
     },
     "execution_count": null,
     "metadata": {},
     "output_type": "execute_result"
    }
   ],
   "source": [
    "# | hide\n",
    "\n",
    "# Test that function return a known anwser\n",
    "is_close(compute_etp_pt(tmoy=80, net_radiation=25), 12.4292, eps=1e-02)"
   ]
  },
  {
   "cell_type": "code",
   "execution_count": null,
   "metadata": {
    "vscode": {
     "languageId": "python"
    }
   },
   "outputs": [],
   "source": [
    "# | export\n",
    "\n",
    "\n",
    "def compute_etp_pm(\n",
    "    tmoy: float,  # Mean temperature over the considered time step (degrees Celsius)\n",
    "    net_radiation: float,  # Cumulative Net radiation over the considered  time sep (MJ.m2)\n",
    "    u: float,  #  Wind speed (m.s-1)\n",
    "    vpd: float,  # Vapor pressure deficit (kpa)\n",
    "    g: float = 0,  # Unknown parameter definition\n",
    ") -> float:\n",
    "    \"Compute reference ETP from Penmman formulation\"\n",
    "\n",
    "    # Constants -----------------------------------------------------------------\n",
    "\n",
    "    # Stefan-Boltzman constant [MJ.K^-4.m^-2.day^-1]\n",
    "    # sb_constant = 4.903 * 10**9\n",
    "\n",
    "    # Psychometer constant\n",
    "    gamma = 0.0666\n",
    "\n",
    "    # Latent heat of vaporisation\n",
    "    # lamb = 2.45\n",
    "\n",
    "    # Compute ETP -------------------------------------------------------------\n",
    "\n",
    "    #  s: slope of the saturation vapour pressure function (AO 1998)\n",
    "    # delta = 4098 * 0.6108 * exp((17.27 * Tmoy) / (Tmoy + 237.3)) / ((Tmoy + 237.3)^2)\n",
    "    delta = (\n",
    "        4098\n",
    "        * 0.6108\n",
    "        * np.exp((17.27 * tmoy) / (tmoy + 237.3))\n",
    "        / ((tmoy + 237.3) ** 2)\n",
    "    )\n",
    "\n",
    "    # ga = 0.34 * max(u, 0.001)\n",
    "\n",
    "    u2 = u * (4.87 / np.log(67.8 * 10 - 5.42))\n",
    "\n",
    "    n1 = 0.408 * delta * net_radiation\n",
    "    n2 = gamma * (37 / (tmoy + 273)) * u2 * vpd\n",
    "    d = delta + gamma * (1 + 0.34 * u2)\n",
    "\n",
    "    # Return E\n",
    "    return (n1 + n2) / (d)"
   ]
  },
  {
   "cell_type": "code",
   "execution_count": null,
   "metadata": {
    "vscode": {
     "languageId": "python"
    }
   },
   "outputs": [],
   "source": [
    "# | hide\n",
    "\n",
    "# Test that function return a positive value\n",
    "assert compute_etp_pm(tmoy=20, net_radiation=1, u=2, vpd=2) > 0"
   ]
  },
  {
   "cell_type": "code",
   "execution_count": null,
   "metadata": {
    "vscode": {
     "languageId": "python"
    }
   },
   "outputs": [
    {
     "data": {
      "text/plain": [
       "True"
      ]
     },
     "execution_count": null,
     "metadata": {},
     "output_type": "execute_result"
    }
   ],
   "source": [
    "# | hide\n",
    "\n",
    "# Test that function return a known anwser\n",
    "is_close(compute_etp_pm(tmoy=20, net_radiation=1, u=2, vpd=2), 0.3434, eps=1e-02)"
   ]
  },
  {
   "cell_type": "code",
   "execution_count": null,
   "metadata": {
    "vscode": {
     "languageId": "python"
    }
   },
   "outputs": [],
   "source": [
    "# | export\n",
    "\n",
    "\n",
    "def calculate_radiation_diurnal_pattern(\n",
    "    time_of_the_day: List[\n",
    "        int\n",
    "    ],  # a numeric value of vector indicating the time of the day (in seconds)\n",
    "    day_length: int,  # value indicating the duration of the day (in seconds)\n",
    ") -> float:\n",
    "    \"Calculated diurnal pattern of temperature assuming a sinusoidal pattern with T = tmin at sunrise and T = (tmin + tmax)/2 at sunset. From sunset to sunrise follows a linear trend\"\n",
    "\n",
    "    # calculate_radiation_diurnal_pattern ---------------------------------------\n",
    "\n",
    "    # sunrise\n",
    "    ws = (day_length / 3600.0) * (pi / 24.0)\n",
    "    w = ws - (time_of_the_day / day_length) * (ws * 2.0)\n",
    "\n",
    "    prop = ((pi / 24.0) * (cos(w) - cos(ws))) / (sin(ws) - ws * cos(ws))\n",
    "\n",
    "    return prop / 3600.0"
   ]
  },
  {
   "cell_type": "markdown",
   "metadata": {},
   "source": [
    "#### __Example: Calculate radiation diurnal pattern__"
   ]
  },
  {
   "cell_type": "code",
   "execution_count": null,
   "metadata": {
    "vscode": {
     "languageId": "python"
    }
   },
   "outputs": [
    {
     "data": {
      "text/plain": [
       "0.0036562495459173377"
      ]
     },
     "execution_count": null,
     "metadata": {},
     "output_type": "execute_result"
    }
   ],
   "source": [
    "calculate_radiation_diurnal_pattern(time_of_the_day=1, day_length=40)"
   ]
  },
  {
   "cell_type": "code",
   "execution_count": null,
   "metadata": {
    "vscode": {
     "languageId": "python"
    }
   },
   "outputs": [],
   "source": [
    "# | export\n",
    "\n",
    "\n",
    "def calculate_temperature_diurnal_pattern(\n",
    "    time_of_the_day: List[\n",
    "        int\n",
    "    ],  # a numeric value of vector indicating the time of the day (in seconds from sunrise)\n",
    "    day_length: int,  # value indicating the duration of the day (in seconds)\n",
    "    tmin: float,  # Unknown parameter definition\n",
    "    tmax: float,  # Unknown parameter definition\n",
    "    tmin_prev: float,  # Unknown parameter definition\n",
    "    tmax_prev: float,  # Unknown parameter definition\n",
    "    tmin_next: float,  # Unknown parameter definition\n",
    ") -> float:\n",
    "    \"Calculated diurnal pattern of temperature assuming a sinusoidal pattern with T = tmin at sunrise and T = (tmin+tmax)/2 at sunset. From sunset to sunrise follows a linear trend\"\n",
    "\n",
    "    # calculate_temperature_diurnal_pattern -------------------------------------\n",
    "\n",
    "    if time_of_the_day < 0.0 or time_of_the_day > day_length:\n",
    "        tfin = 86400.0 - day_length\n",
    "\n",
    "        if time_of_the_day < 0.0:\n",
    "            time_of_the_day = time_of_the_day + 86400.0 - day_length\n",
    "\n",
    "            # Return Temp\n",
    "            return 0.5 * (tmax_prev + tmin_prev) * (\n",
    "                1.0 - (time_of_the_day / tfin)\n",
    "            ) + tmin * (time_of_the_day / tfin)\n",
    "\n",
    "        else:\n",
    "            time_of_the_day = time_of_the_day - day_length\n",
    "\n",
    "            # Return Temp\n",
    "            return 0.5 * (tmax + tmin) * (\n",
    "                1.0 - (time_of_the_day / tfin)\n",
    "            ) + tmin_next * (time_of_the_day / tfin)\n",
    "\n",
    "    else:\n",
    "        ct = cos(1.5 * pi * time_of_the_day / day_length)\n",
    "\n",
    "    # Return Temp\n",
    "    return 0.5 * (tmin + tmax - (tmax - tmin) * ct)"
   ]
  },
  {
   "cell_type": "code",
   "execution_count": null,
   "metadata": {
    "vscode": {
     "languageId": "python"
    }
   },
   "outputs": [],
   "source": [
    "# | export\n",
    "\n",
    "\n",
    "def calculate_rh_diurnal_pattern(\n",
    "    temperature: float,  # Unknown parameter definition\n",
    "    rhmin: float,  # Unknown parameter definition\n",
    "    rhmax: float,  # Unknown parameter definition\n",
    "    tmin: float,  # Unknown parameter definition\n",
    "    tmax: float,  # Unknown parameter definition\n",
    ") -> float:\n",
    "    \"Calculate diurnal pattern of relative humidity from temperature\"\n",
    "\n",
    "    # calculate rh diurnal pattern ----------------------------------------------\n",
    "    return rhmax + ((temperature - tmin) / (tmax - tmin)) * (rhmin - rhmax)"
   ]
  },
  {
   "cell_type": "code",
   "execution_count": null,
   "metadata": {
    "vscode": {
     "languageId": "python"
    }
   },
   "outputs": [],
   "source": [
    "# | export\n",
    "\n",
    "\n",
    "def ppfd_umol_to_rg_watt(\n",
    "    ppfd: float,  # Photosynthetic photon flux density (umol.m-2.s-1)\n",
    "    j_to_mol: float = 4.6,  # Conversion factor\n",
    "    frac_par: float = 0.5,  # Function of solar rdiation that is photosynthetically active radiation (PAR)\n",
    ") -> float:\n",
    "    \"Convert ppfd (umol) to rg (watt)\"\n",
    "\n",
    "    # calculate Global radiation (rg)(W/m2) -------------------------------------\n",
    "    rg = ppfd / frac_par / j_to_mol\n",
    "    return rg"
   ]
  },
  {
   "cell_type": "code",
   "execution_count": null,
   "metadata": {
    "vscode": {
     "languageId": "python"
    }
   },
   "outputs": [],
   "source": [
    "# | export\n",
    "\n",
    "\n",
    "def rg_watt_to_ppfd_umol(\n",
    "    rg: float,  # Global radiation (W/m2)\n",
    "    j_to_mol: float = 4.6,  # Conversion factor\n",
    "    frac_par: float = 0.5,  # Function of solar rdiation that is photosynthetically active radiation (PAR)\n",
    ") -> float:\n",
    "    \"Convert rg (watt) to ppfd (umol)\"\n",
    "\n",
    "    # calculate Photosynthetic photon flux density (umol.m-2.s-1) ---------------\n",
    "\n",
    "    return rg * frac_par * j_to_mol"
   ]
  },
  {
   "cell_type": "code",
   "execution_count": null,
   "metadata": {
    "vscode": {
     "languageId": "python"
    }
   },
   "outputs": [],
   "source": [
    "# | export\n",
    "\n",
    "\n",
    "def rg_convertions(\n",
    "    rg_watts: float = None,  # instantaneous radiation (watt)\n",
    "    rg_mj: float = None,  # instantaneous radiation (in Mega Jule?)\n",
    "    nhours: float = None,  # Unknown parameter definition\n",
    ") -> float:\n",
    "    \"Convert instantaneous radiation in watt to dialy cumulative radiation in MJ (MJ.day-1)\"\n",
    "\n",
    "    if rg_watts is not None and rg_mj is None:\n",
    "        print(\"Conversion of rg from watts to Mega Jules\")\n",
    "\n",
    "        # Conversion from watts to Mega Jules\n",
    "        return rg_watts * 0.0864\n",
    "\n",
    "    if rg_mj is not None and rg_watts is None and nhours is None:\n",
    "        print(\"Conversion of rg from Mega Jules to Watts\")\n",
    "\n",
    "        # Conversion from Mega Jules to watts\n",
    "        return rg_mj * (1 / 0.0864)\n",
    "\n",
    "    if rg_mj is not None and rg_watts is None and nhours is not None:\n",
    "        print(\"Conversion of rg from Mega Jules to Watts/hour\")\n",
    "\n",
    "        # Conversion from Mega Jules to watts/hour\n",
    "        return rg_mj * (10**6 / (nhours * 3600))\n",
    "\n",
    "    elif rg_mj is not None and rg_watts is not None:\n",
    "        return print(\"Select one conversion rg_mj or rg_watts\")\n",
    "\n",
    "    else:\n",
    "        print(\"No conversions performed\")"
   ]
  },
  {
   "cell_type": "markdown",
   "metadata": {},
   "source": [
    "#### __Example: RG conversions__"
   ]
  },
  {
   "cell_type": "code",
   "execution_count": null,
   "metadata": {
    "vscode": {
     "languageId": "python"
    }
   },
   "outputs": [
    {
     "name": "stdout",
     "output_type": "stream",
     "text": [
      "Conversion of rg from watts to Mega Jules\n"
     ]
    },
    {
     "data": {
      "text/plain": [
       "0.0864"
      ]
     },
     "execution_count": null,
     "metadata": {},
     "output_type": "execute_result"
    }
   ],
   "source": [
    "rg_convertions(rg_watts=1)"
   ]
  },
  {
   "cell_type": "code",
   "execution_count": null,
   "metadata": {
    "vscode": {
     "languageId": "python"
    }
   },
   "outputs": [
    {
     "name": "stdout",
     "output_type": "stream",
     "text": [
      "Conversion of rg from Mega Jules to Watts\n"
     ]
    },
    {
     "data": {
      "text/plain": [
       "11.574074074074073"
      ]
     },
     "execution_count": null,
     "metadata": {},
     "output_type": "execute_result"
    }
   ],
   "source": [
    "rg_convertions(rg_mj=1)"
   ]
  },
  {
   "cell_type": "code",
   "execution_count": null,
   "metadata": {
    "vscode": {
     "languageId": "python"
    }
   },
   "outputs": [
    {
     "name": "stdout",
     "output_type": "stream",
     "text": [
      "Conversion of rg from Mega Jules to Watts/hour\n"
     ]
    },
    {
     "data": {
      "text/plain": [
       "2.7777777777777777"
      ]
     },
     "execution_count": null,
     "metadata": {},
     "output_type": "execute_result"
    }
   ],
   "source": [
    "rg_convertions(rg_mj=1, nhours=100)"
   ]
  },
  {
   "cell_type": "code",
   "execution_count": null,
   "metadata": {
    "vscode": {
     "languageId": "python"
    }
   },
   "outputs": [
    {
     "name": "stdout",
     "output_type": "stream",
     "text": [
      "Select one conversion rg_mj or rg_watts\n"
     ]
    }
   ],
   "source": [
    "rg_convertions(rg_watts=1, rg_mj=1, nhours=1)"
   ]
  },
  {
   "cell_type": "code",
   "execution_count": null,
   "metadata": {
    "vscode": {
     "languageId": "python"
    }
   },
   "outputs": [],
   "source": [
    "# | export\n",
    "\n",
    "\n",
    "def declination(\n",
    "    day_of_year: int,  # julian day (day of the year)\n",
    ") -> float:  # Earth declination at day_of_year\n",
    "    \"Calculate declination of sun (radians ? ) for a given julian day (DOY)\"\n",
    "\n",
    "    # Hervé's formula for solar declination\n",
    "\n",
    "    # Sin(23.5*pi/180), 23.5 = Earth declination\n",
    "\n",
    "    # Constans ------------------------------------------------------------------\n",
    "    c1 = 0.398749068925246\n",
    "\n",
    "    c2 = 2 * 3.1416 / 365\n",
    "\n",
    "    # date of spring\n",
    "    c3 = 80\n",
    "    warnings.warn(\"date of spring set to {c3}. This might change for Australia\")\n",
    "\n",
    "    x = c1 * sin((day_of_year - c3) * c2)  # ;\n",
    "\n",
    "    # Return declination --------------------------------------------------------\n",
    "    return atan(x / ((1 - x * x) ^ 0.5))"
   ]
  },
  {
   "cell_type": "code",
   "execution_count": null,
   "metadata": {
    "vscode": {
     "languageId": "python"
    }
   },
   "outputs": [],
   "source": [
    "def potential_par(time_of_day: float, lat: float, doy: float):\n",
    "    \"Determine potential for a given place and date /used to determine cloud cover return potential par in W.m2\"\n",
    "\n",
    "    # Constants -----------------------------------------------------------------\n",
    "    diffuse_fraction = 0.1\n",
    "    solar_constant = 2084\n",
    "    attenuation_coef = -0.174353387144778\n",
    "\n",
    "    decl = declination(doy)\n",
    "\n",
    "    pn = -cos(lat * pi / 180)\n",
    "    pz = sin(lat * pi / 180)\n",
    "    h_rad = (time_of_day - 6) * 3.1416 / 12\n",
    "    se = cos(h_rad) * cos(decl)\n",
    "    sn = -pz * sin(h_rad) * cos(decl) - pn * sin(decl)\n",
    "    sz = -pn * sin(h_rad) * cos(decl) + pz * sin(decl)\n",
    "    alt = atan(sz / ((se * se + sn * sn) ^ 0.5))\n",
    "    azi = 3.1416 + atan(se / sn)\n",
    "\n",
    "    # azi[sn > 0] = azi[sn > 0] + 3.1416 I dont understand the meaning of this\n",
    "    if sn > 0:\n",
    "        azi = azi + pi\n",
    "\n",
    "    pfd = solar_constant * exp(attenuation_coef / sin(alt))\n",
    "\n",
    "    # pfd[alt < 0] = 0 I dont understand the meaning of this\n",
    "    dpfd = diffuse_fraction * pfd\n",
    "    # dpfd[alt<0] = 0 I dont understand the meaning of this\n",
    "\n",
    "    return dpfd + pfd * sin(alt)"
   ]
  },
  {
   "cell_type": "code",
   "execution_count": null,
   "metadata": {
    "vscode": {
     "languageId": "python"
    }
   },
   "outputs": [],
   "source": [
    "# | export\n",
    "def day_length(\n",
    "    latitude: float,  # numeric value specifying the geographic latitude (in decimal degrees) of the location of interest\n",
    "    day_of_year: int,  # numeric (usually integer) value or vector specifying the Julian day (day of the year), for which calculations should be done.\n",
    "    no_times_as_na: bool = False,  # parameter to determine whether for days without sunrise or sunset, na should be returned for Sunset and Sunrise. If left at FALSE, the function returns -99 and 99 for sunrise and sunset or polar nights and polar days, respectively\n",
    ") -> Dict:  # Dictionary with three elements Sunrise, Sunset and Daylength. For days without sunrise (polar nights),sunset and sunrise become -99 and the daylength 0. For days without sunset, sunset and sunrise are 99 and daylength 24.\n",
    "    \"Original function from chillR R package. This function computes sunrise time, sunset time and daylength for a particular location and day of the year (Julian day). This is done using equations by Spencer (1971) and Almorox et al. (2005).\"\n",
    "\n",
    "    warnings.warn(\"Double check if this function works for Australia\")\n",
    "\n",
    "    # Latitude\n",
    "    assert isinstance(\n",
    "        latitude, float\n",
    "    ), \"Missing latitude. Provide latitude as Coordinates points i.e. latitude = 41.40338\"\n",
    "\n",
    "    if latitude > 90 or latitude < -90:\n",
    "        warnings.warn(\"latitude is usually between -90 and 90\")\n",
    "\n",
    "    # Day of year\n",
    "    # Using np.testing instead of assert because parameters can be np.arrays OR\n",
    "    # single values (i.e. 1). assert only works when params are always one type\n",
    "    # Solution from:\n",
    "    # https://stackoverflow.com/questions/45987962/why-arent-there-numpy-testing-assert-array-greater-assert-array-less-equal-as\n",
    "\n",
    "    np.testing.assert_array_compare(\n",
    "        operator.__gt__,\n",
    "        np.array(day_of_year),\n",
    "        0,\n",
    "        err_msg=\"\\nday_of_year must be must be a integer value between 1-366\\n\",\n",
    "    )\n",
    "    np.testing.assert_array_less(\n",
    "        np.array(day_of_year),\n",
    "        367,\n",
    "        err_msg=\"\\nError: day_of_year must be must be a integer value between 1-366\\n\",\n",
    "    )\n",
    "\n",
    "    # Define constants ----------------------------------------------------------\n",
    "    gamma = 2 * (pi / 365) * ((day_of_year) - 1)\n",
    "    delta = (180 / pi) * (\n",
    "        (0.006918 - 0.399912 * cos(gamma) + 0.070257 * sin(gamma))\n",
    "        - (\n",
    "            0.006758 * cos(2 * gamma)\n",
    "            + 0.000907 * sin(2 * (gamma))\n",
    "            - 0.002697 * cos(3 * (gamma))\n",
    "            + 0.00148 * sin(3 * (gamma))\n",
    "        )\n",
    "    )\n",
    "\n",
    "    cos_wo = (\n",
    "        sin((-0.8333 / 360) * 2 * pi)\n",
    "        - sin(latitude / 360 * 2 * pi) * sin((delta / 360) * 2 * pi)\n",
    "    ) / (cos((latitude / 360) * 2 * pi) * cos((delta / 360) * 2 * pi))\n",
    "\n",
    "    # Step implemented in case day_of_year is a single value i.e. day_of_year = 80\n",
    "    if isinstance(cos_wo, float):\n",
    "        # Transform float into array\n",
    "        cos_wo = np.array([cos_wo])\n",
    "\n",
    "    # Calculate sunrise and sunset ----------------------------------------------\n",
    "\n",
    "    # Get the position of values between -1 and 1\n",
    "    # Note only day_of_year values from 77 to 80 and will return values\n",
    "    # between -1 and 1\n",
    "\n",
    "    normal_days = np.where((cos_wo >= -1) & (cos_wo <= 1))\n",
    "\n",
    "    # Initialize a numpy arrays\n",
    "\n",
    "    sunrise = np.full(len(cos_wo), -99, dtype=float)\n",
    "    sunset = np.full(len(cos_wo), -99, dtype=float)\n",
    "\n",
    "    # Add normal days to sunrise and sunset arrays\n",
    "    sunrise[normal_days] = 12 - arccos(cos_wo[normal_days]) / (15 / 360 * 2 * pi)\n",
    "    sunset[normal_days] = 12 + arccos(cos_wo[normal_days]) / (15 / 360 * 2 * pi)\n",
    "\n",
    "    # Calculate day length\n",
    "    day_length = sunset - sunrise\n",
    "\n",
    "    day_length[np.where(cos_wo > 1)] = 0\n",
    "    day_length[np.where(cos_wo < (-1))] = 24\n",
    "\n",
    "    # Replace values with 99\n",
    "    sunrise[np.where(day_length == 24)] = 99\n",
    "    sunset[np.where(day_length == 24)] = 99\n",
    "\n",
    "    # Replace 99 and -99 with na in sunrise and sunset arrays\n",
    "    if no_times_as_na is True:\n",
    "        sunrise = np.where((sunrise == -99) | (sunrise == 99), np.nan, sunrise)\n",
    "        sunset = np.where((sunset == -99) | (sunset == 99), np.nan, sunset)\n",
    "\n",
    "    # # Check the presence of nan\n",
    "    if (\n",
    "        any(np.isnan(sunrise))\n",
    "        or any(np.isnan(sunset))\n",
    "        or any(np.isnan(day_length))\n",
    "    ):\n",
    "        warnings.warn(\"nan found in sunrise, sunset or day_length\")\n",
    "\n",
    "    # Return dictionary\n",
    "    return collections.defaultdict(\n",
    "        list, {\"sunrise\": sunrise, \"sunset\": sunset, \"day_length\": day_length}\n",
    "    )"
   ]
  },
  {
   "cell_type": "markdown",
   "metadata": {},
   "source": [
    "#### __Example: Calculate day length__"
   ]
  },
  {
   "cell_type": "markdown",
   "metadata": {},
   "source": [
    "This function was originally developed in the ChillR R [package](https://cran.r-project.org/web/packages/chillR/chillR.pdf)"
   ]
  },
  {
   "cell_type": "code",
   "execution_count": null,
   "metadata": {
    "vscode": {
     "languageId": "python"
    }
   },
   "outputs": [
    {
     "name": "stderr",
     "output_type": "stream",
     "text": [
      "/tmp/ipykernel_12785/861634955.py:10: UserWarning: Double check if this function works for Australia\n",
      "  warnings.warn('Double check if this function works for Australia')\n"
     ]
    },
    {
     "data": {
      "text/plain": [
       "defaultdict(list,\n",
       "            {'sunrise': array([99.]),\n",
       "             'sunset': array([99.]),\n",
       "             'day_length': array([24.])})"
      ]
     },
     "execution_count": null,
     "metadata": {},
     "output_type": "execute_result"
    }
   ],
   "source": [
    "day_length(latitude=90.0, day_of_year=200, no_times_as_na=False)"
   ]
  },
  {
   "cell_type": "code",
   "execution_count": null,
   "metadata": {
    "vscode": {
     "languageId": "python"
    }
   },
   "outputs": [
    {
     "name": "stderr",
     "output_type": "stream",
     "text": [
      "/tmp/ipykernel_12785/861634955.py:10: UserWarning: Double check if this function works for Australia\n",
      "  warnings.warn('Double check if this function works for Australia')\n"
     ]
    },
    {
     "data": {
      "text/plain": [
       "defaultdict(list,\n",
       "            {'sunrise': array([5.99199053, 5.95892045, 5.92584166, 5.8927602 , 5.85968209]),\n",
       "             'sunset': array([18.00800947, 18.04107955, 18.07415834, 18.1072398 , 18.14031791]),\n",
       "             'day_length': array([12.01601895, 12.0821591 , 12.14831667, 12.2144796 , 12.28063583])})"
      ]
     },
     "execution_count": null,
     "metadata": {},
     "output_type": "execute_result"
    }
   ],
   "source": [
    "day_length(\n",
    "    latitude=50.0,\n",
    "    day_of_year=np.array([78, 79, 80, 81, 82]),\n",
    "    no_times_as_na=False,\n",
    ")"
   ]
  }
 ],
 "metadata": {
  "kernelspec": {
   "display_name": "python3",
   "language": "python",
   "name": "python3"
  }
 },
 "nbformat": 4,
 "nbformat_minor": 4
}
