{
 "cells": [
  {
   "cell_type": "raw",
   "metadata": {},
   "source": [
    "---\n",
    "description: Repo containing the Python code for the SurEau model\n",
    "output-file: index.html\n",
    "title: sureau_ecos_py\n",
    "\n",
    "---\n",
    "\n"
   ]
  },
  {
   "cell_type": "code",
   "execution_count": null,
   "metadata": {},
   "outputs": [],
   "source": [
    "# | hide\n",
    "from sureau_ecos_py.core import *"
   ]
  },
  {
   "cell_type": "markdown",
   "metadata": {},
   "source": [
    "This file will become your README and also the index of your documentation."
   ]
  },
  {
   "cell_type": "markdown",
   "metadata": {},
   "source": [
    "## Install"
   ]
  },
  {
   "cell_type": "markdown",
   "metadata": {},
   "source": [
    "[Code](https://cuddly-train-pg45gq96vww26wgv.github.dev/)"
   ]
  },
  {
   "cell_type": "markdown",
   "metadata": {},
   "source": [
    "```sh\n",
    "pip install sureau_ecos_py\n",
    "```"
   ]
  },
  {
   "cell_type": "markdown",
   "metadata": {},
   "source": [
    "## How to use"
   ]
  },
  {
   "cell_type": "markdown",
   "metadata": {},
   "source": [
    "```{mermaid}\n",
    "    %%{init:{'themeVariables': {'primaryBorderColor': '#00758f'}}}%%\n",
    "    flowchart TD;\n",
    "\n",
    "        create_simulation_parameters-->create_climate_data;\n",
    "        create_modeling_options-->create_climate_data;\n",
    "\n",
    "        create_modeling_options-->create_soil_paramters;\n",
    "        compute_theta_at_given_psoil-->create_soil_paramters;\n",
    "        read_soil_file-->create_soil_paramters;\n",
    "        convert_f_to_v-->create_soil_paramters;\n",
    "        compute_theta_at_given_p_soil_camp-->create_soil_paramters;\n",
    "\n",
    "\n",
    "        %% Blue color boxes -----------------------------------------------------\n",
    "\n",
    "        %%style create_climate_data fill:#00758f\n",
    "        %%style create_modeling_options fill:#00758f\n",
    "        %%style create_simulation_parameters fill:#00758f, lineColor:#00758f\n",
    "        %%style create_soil_paramters fill:#00758f\n",
    "\n",
    "\n",
    "        %% Red color boxes ------------------------------------------------------\n",
    "        %%style compute_theta_at_given_psoil fill:#880808\n",
    "\n",
    "```\n"
   ]
  },
  {
   "cell_type": "markdown",
   "metadata": {},
   "source": []
  }
 ],
 "metadata": {
  "kernelspec": {
   "display_name": "python3",
   "language": "python",
   "name": "python3"
  }
 },
 "nbformat": 4,
 "nbformat_minor": 4
}
