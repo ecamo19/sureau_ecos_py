{
 "cells": [
  {
   "cell_type": "raw",
   "metadata": {},
   "source": [
    "---\n",
    "description: 'AUTHORS: __Julien Ruffault (julien.ruff@gmail.com), Nicolas Martin-StPaul\n",
    "  (nicolas.martin@inrae.fr)__'\n",
    "output-file: create_vegetation_parameters.html\n",
    "title: Create stand parameters\n",
    "\n",
    "---\n",
    "\n"
   ]
  },
  {
   "cell_type": "code",
   "execution_count": null,
   "metadata": {},
   "outputs": [],
   "source": [
    "# | default_exp create_vegetation_parameters"
   ]
  },
  {
   "cell_type": "code",
   "execution_count": null,
   "metadata": {},
   "outputs": [],
   "source": [
    "# | hide\n",
    "from nbdev.showdoc import *\n",
    "from fastcore.test import *\n",
    "from fastcore.utils import *"
   ]
  },
  {
   "cell_type": "code",
   "execution_count": null,
   "metadata": {},
   "outputs": [],
   "source": [
    "# | export\n",
    "import os\n",
    "from pathlib import Path\n",
    "from typing import Dict, List\n",
    "from sureau_ecos_py.plant_utils import read_vegetation_file\n",
    "from sureau_ecos_py.create_modeling_options import create_modeling_options\n",
    "from sureau_ecos_py.create_stand_parameters import create_stand_parameters"
   ]
  },
  {
   "cell_type": "code",
   "execution_count": null,
   "metadata": {},
   "outputs": [],
   "source": [
    "# | export\n",
    "\n",
    "def create_vegetation_parameters(\n",
    "    stand_parameters:Dict, # Dictionary created using the `create_stand_parameters` function\n",
    "    file_path: Path = None,  # Path to a csv file containing lai_max, latitude and longitude values i.e path/to/parameter_values.csv\n",
    "    list_of_parameters: List = None,  # A list containing the necessary input parameters instead of reading them in file. Will only be used if 'file_path' arguement is not provided\n",
    "    modeling_options: Dict = None,  # Dictionary created using the `create_modeling_options` function\n",
    "    sep: str = \";\",  # CSV file separator can be ',' or ';'\n",
    "\n",
    "\n",
    ") -> Dict:  # Dictionary containing parameters to run the model\n",
    "\n",
    "    \"Create a dictionary with the vegetation parameters to run \\code{run.SurEauR}\"\n",
    "\n",
    "    # Assert parameters ---------------------------------------------------------\n",
    "\n",
    "    # Make sure the file_path exist or is None\n",
    "    assert file_path is None or os.path.exists(\n",
    "        file_path\n",
    "    ), f\"Path: {file_path} not found, check spelling or set file_path = None\"\n",
    "\n",
    "\n",
    "    # Raise error if file_path and list_of_parameters both are missing\n",
    "    if file_path is None and list_of_parameters is None:\n",
    "        raise ValueError(\n",
    "            \"Both file_path and list_of_parameters are missing, provide one of them\"\n",
    "        )\n",
    "\n",
    "    # Raise error if file_path and list_of_parameters both are provided\n",
    "    if file_path is not None and list_of_parameters is not None:\n",
    "        raise ValueError(\n",
    "            \"Both file_path and list_of_parameters are provided, only one of these two arguments should be used\"\n",
    "        )\n",
    "\n",
    "    # Delete as soon the option is implemented\n",
    "    if list_of_parameters is not None:\n",
    "        raise ValueError(\n",
    "            \"Option for including list_of_parameters not implemented yet\"\n",
    "        )\n",
    "\n",
    "\n",
    "    # Make sure that modeling_options is a dictionary\n",
    "    assert isinstance(\n",
    "        modeling_options, Dict\n",
    "    ), f\"modeling_options must be a dictionary not a {type(modeling_options)}\"\n",
    "\n",
    "    # Make sure that stand_parameters is a dictionary\n",
    "    assert isinstance(\n",
    "        stand_parameters, Dict\n",
    "    ), f\"stand_parameters must be a dictionary not a {type(stand_parameters)}\"\n",
    "\n",
    "\n",
    "    # Create vegetation_parameters from function inputs -------------------------\n",
    "    vegetation_parameters = read_vegetation_file(file_path = file_path,\n",
    "                                                 modeling_options = modeling_options,\n",
    "                                                 sep = sep)\n",
    "\n",
    "    # Compute stomatal response parameters for the sigmoid from P12_gs and P88_gs\n",
    "    # provided in the file\n",
    "    if modeling_options[\"stomatal_reg_formulation\"] == \"sigmoid\":\n",
    "\n",
    "        # Calculate p50\n",
    "        if \"p50_gs\" not in vegetation_parameters:\n",
    "            vegetation_parameters[\"p50_gs\"] = (vegetation_parameters[\"p88_gs\"] + vegetation_parameters[\"p12_gs\"])/2\n",
    "            vegetation_parameters[\"slope_gs\"] = 100/(vegetation_parameters[\"p12_gs\"] - vegetation_parameters[\"p88_gs\"])\n",
    "\n",
    "\n",
    "    # Get  maximum leaf area index of the stand (LAImax) from stand parameters\n",
    "    #vegetation_parameters[\"lai_max\"] = stand_parameters[\"lai_max\"]\n",
    "\n",
    "\n",
    "\n",
    "\n",
    "    #if modeling_options['']\n",
    "    return vegetation_parameters"
   ]
  },
  {
   "cell_type": "markdown",
   "metadata": {},
   "source": [
    "## Create vegetation parameters "
   ]
  },
  {
   "cell_type": "code",
   "execution_count": null,
   "metadata": {},
   "outputs": [],
   "source": [
    "modeling_options_dict_campbell = create_modeling_options(\n",
    "    time_step_for_evapo=2,\n",
    "    reset_swc=True,\n",
    "    avoid_water_soil_transfer=True,\n",
    "    constant_climate=False,\n",
    "    defoliation=True,\n",
    "    soil_evapo=True,\n",
    "    threshold_mortality=51,\n",
    "    etp_formulation=\"pt\",\n",
    "    rn_formulation=\"linear\",\n",
    "    comp_options_for_evapo=\"custom\",\n",
    "    stomatal_reg_formulation=\"sigmoid\",\n",
    "    transpiration_model=\"jarvis\",\n",
    "    numerical_scheme=\"implicit\",\n",
    "    pedo_transfer_formulation=\"campbell\",\n",
    ")"
   ]
  },
  {
   "cell_type": "code",
   "execution_count": null,
   "metadata": {},
   "outputs": [
    {
     "data": {
      "text/plain": [
       "[]"
      ]
     },
     "execution_count": null,
     "metadata": {},
     "output_type": "execute_result"
    }
   ],
   "source": [
    "stand_params_from_csv = create_stand_parameters(\n",
    "    file_path=\"./sample_data/stand_example.csv\",\n",
    "    lai_max=None,\n",
    "    latitude=None,\n",
    "    longitude=None,\n",
    "    sep=\";\",\n",
    ")\n",
    "#stand_params_from_csv[\"lai_max\"]"
   ]
  },
  {
   "cell_type": "code",
   "execution_count": null,
   "metadata": {},
   "outputs": [
    {
     "name": "stdout",
     "output_type": "stream",
     "text": [
      "frac_leaf_sym' set to 0.4\n"
     ]
    },
    {
     "name": "stderr",
     "output_type": "stream",
     "text": [
      "/workspaces/sureau_ecos_py/sureau_ecos_py/plant_utils.py:805: UserWarning: Foliage evergreen has no params\n",
      "  warnings.warn(\"Foliage evergreen has no params\")\n"
     ]
    },
    {
     "data": {
      "text/plain": [
       "defaultdict(list,\n",
       "            {'c_lapoinit': 1e-05,\n",
       "             'c_sapoinit': 2e-05,\n",
       "             'fcrit': 450,\n",
       "             'foliage': 'evergreen',\n",
       "             'jarvis_par': 0.006,\n",
       "             'k': 0.5,\n",
       "             'k_plantinit': 0.62,\n",
       "             'k_ssyminit': 0.26,\n",
       "             'ldmc': 570,\n",
       "             'lma': 106,\n",
       "             'p12_gs': -2.07,\n",
       "             'p50_vc_leaf': -3.4,\n",
       "             'p50_vc_stem': -3.4,\n",
       "             'p88_gs': -2.62,\n",
       "             'pt_coeff': 1.14,\n",
       "             'pifullturgor_leaf': -2.1,\n",
       "             'pifullturgor_stem': -2.1,\n",
       "             'psi_close': -2,\n",
       "             'psi_start_closing': -0.5,\n",
       "             'q10_1_gmin': 1.2,\n",
       "             'q10_2_gmin': 4.8,\n",
       "             'tphase_gmin': 37.5,\n",
       "             'tbase': 3,\n",
       "             'tgs_optim': 25,\n",
       "             'tgs_sens': 17,\n",
       "             'apofrac_leaf': 0.4,\n",
       "             'apofrac_stem': 0.4,\n",
       "             'betarootprofile': 0.97,\n",
       "             'canopystorageparam': 1.5,\n",
       "             'daystart': 55,\n",
       "             'epsilonsym_leaf': 10,\n",
       "             'epsilonsym_stem': 10,\n",
       "             'froottoleaf': 1,\n",
       "             'ftrbtoleaf': 0.8,\n",
       "             'g_crown0': 45,\n",
       "             'gmin20': 4,\n",
       "             'gmin_s': 3,\n",
       "             'gs_max': 200,\n",
       "             'gs_night': 20,\n",
       "             'nbdaylai': 21,\n",
       "             'rootradius': 0.0002,\n",
       "             'slope_vc_leaf': 60,\n",
       "             'slope_vc_stem': 60,\n",
       "             'symfrac_stem': 0.2,\n",
       "             'turgor_pressure_at_gs_max': 2,\n",
       "             'vol_stem': 40,\n",
       "             'test': nan,\n",
       "             'frac_leaf_sym': 0.4,\n",
       "             'p50_gs': -2.3449999999999998,\n",
       "             'slope_gs': 181.81818181818173,\n",
       "             'lai_max': []})"
      ]
     },
     "execution_count": null,
     "metadata": {},
     "output_type": "execute_result"
    }
   ],
   "source": [
    "create_vegetation_parameters(\n",
    "    file_path=\"./sample_data/vegetation_example_wide.csv\",\n",
    "    list_of_parameters = None,\n",
    "    stand_parameters = stand_params_from_csv,\n",
    "    modeling_options = modeling_options_dict_campbell,\n",
    "    sep = \",\",\n",
    ")"
   ]
  }
 ],
 "metadata": {
  "kernelspec": {
   "display_name": "python3",
   "language": "python",
   "name": "python3"
  }
 },
 "nbformat": 4,
 "nbformat_minor": 4
}
