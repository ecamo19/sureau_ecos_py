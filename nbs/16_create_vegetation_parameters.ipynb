{
 "cells": [
  {
   "cell_type": "raw",
   "metadata": {},
   "source": [
    "---\n",
    "description: 'AUTHORS: __Julien Ruffault (julien.ruff@gmail.com), Nicolas Martin-StPaul\n",
    "  (nicolas.martin@inrae.fr)__'\n",
    "output-file: create_vegetation_parameters.html\n",
    "title: Create stand parameters\n",
    "\n",
    "---\n",
    "\n"
   ]
  },
  {
   "cell_type": "code",
   "execution_count": null,
   "metadata": {
    "vscode": {
     "languageId": "python"
    }
   },
   "outputs": [],
   "source": [
    "# | default_exp create_vegetation_parameters"
   ]
  },
  {
   "cell_type": "code",
   "execution_count": null,
   "metadata": {
    "vscode": {
     "languageId": "python"
    }
   },
   "outputs": [],
   "source": [
    "# | hide\n",
    "from nbdev.showdoc import *\n",
    "from fastcore.test import *\n",
    "from fastcore.utils import *"
   ]
  },
  {
   "cell_type": "code",
   "execution_count": null,
   "metadata": {
    "vscode": {
     "languageId": "python"
    }
   },
   "outputs": [],
   "source": [
    "# | export\n",
    "import os\n",
    "import warnings\n",
    "import numpy as np\n",
    "from pathlib import Path\n",
    "from typing import Dict, List\n",
    "from sureau_ecos_py.soil_utils import (\n",
    "    compute_theta_at_given_p_soil,\n",
    "    compute_theta_at_given_p_soil_camp,\n",
    ")\n",
    "from sureau_ecos_py.plant_utils import read_vegetation_file\n",
    "from sureau_ecos_py.plant_utils import convert_f_cm3_to_v_mm\n",
    "from sureau_ecos_py.create_soil_parameters import create_soil_parameters\n",
    "from sureau_ecos_py.create_modeling_options import create_modeling_options\n",
    "from sureau_ecos_py.create_stand_parameters import create_stand_parameters"
   ]
  },
  {
   "cell_type": "code",
   "execution_count": null,
   "metadata": {
    "vscode": {
     "languageId": "python"
    }
   },
   "outputs": [],
   "source": [
    "# | export\n",
    "\n",
    "def create_vegetation_parameters(\n",
    "    stand_parameters:Dict, # Dictionary created using the `create_stand_parameters` function\n",
    "    soil_parameters:Dict, # Dictionary created using the `create_soil_parameters` function\n",
    "    file_path: Path = None,  # Path to a csv file containing lai_max, latitude and longitude values i.e path/to/parameter_values.csv\n",
    "    list_of_parameters: List = None,  # A list containing the necessary input parameters instead of reading them in file. Will only be used if 'file_path' arguement is not provided\n",
    "    modeling_options: Dict = None,  # Dictionary created using the `create_modeling_options` function\n",
    "    sep: str = \";\",  # CSV file separator can be ',' or ';'\n",
    "\n",
    "\n",
    ") -> Dict:  # Dictionary containing parameters to run the model\n",
    "\n",
    "    \"Create a dictionary with the vegetation parameters to run \\code{run.SurEauR}\"\n",
    "\n",
    "    # Assert parameters ---------------------------------------------------------\n",
    "\n",
    "    # Make sure the file_path exist or is None\n",
    "    assert file_path is None or os.path.exists(\n",
    "        file_path\n",
    "    ), f\"Path: {file_path} not found, check spelling or set file_path = None\"\n",
    "\n",
    "\n",
    "    # Raise error if file_path and list_of_parameters both are missing\n",
    "    if file_path is None and list_of_parameters is None:\n",
    "        raise ValueError(\n",
    "            \"Both file_path and list_of_parameters are missing, provide one of them\"\n",
    "        )\n",
    "\n",
    "    # Raise error if file_path and list_of_parameters both are provided\n",
    "    if file_path is not None and list_of_parameters is not None:\n",
    "        raise ValueError(\n",
    "            \"Both file_path and list_of_parameters are provided, only one of these two arguments should be used\"\n",
    "        )\n",
    "\n",
    "    # Delete as soon the option is implemented\n",
    "    if list_of_parameters is not None:\n",
    "        raise ValueError(\n",
    "            \"Option for including list_of_parameters not implemented yet\"\n",
    "        )\n",
    "\n",
    "\n",
    "    # Make sure that modeling_options is a dictionary\n",
    "    assert isinstance(\n",
    "        modeling_options, Dict\n",
    "    ), f\"modeling_options must be a dictionary not a {type(modeling_options)}\"\n",
    "\n",
    "    # Make sure that stand_parameters is a dictionary\n",
    "    assert isinstance(\n",
    "        stand_parameters, Dict\n",
    "    ), f\"stand_parameters must be a dictionary not a {type(stand_parameters)}\"\n",
    "\n",
    "    # Make sure that soil_parameters is a dictionary\n",
    "    assert isinstance(\n",
    "        soil_parameters, Dict\n",
    "    ), f\"soil_parameters must be a dictionary not a {type(soil_parameters)}\"\n",
    "\n",
    "\n",
    "    # Create vegetation_parameters from function inputs -------------------------\n",
    "\n",
    "    # Read CSV file\n",
    "    vegetation_parameters = read_vegetation_file(file_path = file_path,\n",
    "                                                 modeling_options = modeling_options,\n",
    "                                                 sep = sep)\n",
    "\n",
    "    # Compute stomatal response parameters for the sigmoid from P12_gs and P88_gs\n",
    "    # provided in the CSV file\n",
    "    if modeling_options[\"stomatal_reg_formulation\"] == \"sigmoid\":\n",
    "\n",
    "        # Calculate p50_gs\n",
    "        if \"p50_gs\" not in vegetation_parameters:\n",
    "            vegetation_parameters[\"p50_gs\"] = (vegetation_parameters[\"p88_gs\"] + vegetation_parameters[\"p12_gs\"])/2\n",
    "            vegetation_parameters[\"slope_gs\"] = 100/(vegetation_parameters[\"p12_gs\"] - vegetation_parameters[\"p88_gs\"])\n",
    "\n",
    "\n",
    "    # Get maximum leaf area index of the stand (LAImax) from stand parameters\n",
    "    vegetation_parameters[\"lai_max\"] = stand_parameters[\"lai_max\"]\n",
    "\n",
    "    # Calculate root distribution within each soil layer (Jackson et al. 1996)\n",
    "    warnings.warn(\"Make sure that depth from soil_parameters is in meters\")\n",
    "\n",
    "    # Create numpy array\n",
    "    vegetation_parameters[\"root_distribution\"] = np.array([0, 0, 0], dtype=float)\n",
    "\n",
    "    # soil_parameters[\"depth\"][n] is multiplied by 100 to convert it from meters\n",
    "    # to centimeters\n",
    "\n",
    "    # Layer 1\n",
    "    vegetation_parameters[\"root_distribution\"][0] = 1 - vegetation_parameters[\"betarootprofile\"]**(soil_parameters[\"soil_depths\"][0]*100)\n",
    "\n",
    "    # Layer 2\n",
    "    vegetation_parameters[\"root_distribution\"][1] = (1 - vegetation_parameters[\"betarootprofile\"]**(soil_parameters[\"soil_depths\"][1]*100)) - vegetation_parameters[\"root_distribution\"][0]\n",
    "\n",
    "    # Layer 3\n",
    "    vegetation_parameters[\"root_distribution\"][2] = 1 - (vegetation_parameters[\"root_distribution\"][0] + vegetation_parameters[\"root_distribution\"][1])\n",
    "\n",
    "    # Calculate turgor loss point (tlp)\n",
    "    tlp = (vegetation_parameters[\"pifullturgor_leaf\"]*vegetation_parameters[\"epsilonsym_leaf\"])/vegetation_parameters[\"pifullturgor_leaf\"] + vegetation_parameters[\"epsilonsym_leaf\"]\n",
    "\n",
    "    # Pedotransfer function == vg\n",
    "    if modeling_options['pedo_transfer_formulation'] == \"vg\":\n",
    "\n",
    "        theta_at_tlp = compute_theta_at_given_p_soil(psi_target= np.abs(tlp),\n",
    "                                                     theta_res = soil_parameters['residual_capacity_vg'],\n",
    "                                                     theta_sat = soil_parameters['saturation_capacity_vg'],\n",
    "                                                     alpha_vg = soil_parameters['alpha_vg'],\n",
    "                                                     n_vg = soil_parameters['n_vg']\n",
    "                                                     )\n",
    "\n",
    "        theta_at_p50 = compute_theta_at_given_p_soil(psi_target= np.abs(vegetation_parameters['p50_vc_leaf']),\n",
    "                                                     theta_res = soil_parameters['residual_capacity_vg'],\n",
    "                                                     theta_sat = soil_parameters['saturation_capacity_vg'],\n",
    "                                                     alpha_vg = soil_parameters['alpha_vg'],\n",
    "                                                     n_vg = soil_parameters['n_vg']\n",
    "                                                     )\n",
    "\n",
    "        # Compute TAW @Tlp @P12 & @P50 (Diagnoostic)\n",
    "        vegetation_parameters['taw_at_tlp'] = np.sum(soil_parameters['v_field_capacity'] - convert_f_cm3_to_v_mm(x = theta_at_tlp,\n",
    "                                                                                                                 rock_fragment_content = soil_parameters['rock_fragment_content'],\n",
    "                                                                                                                 layer_thickness = soil_parameters['layer_thickness']\n",
    "                                                                                                                 )\n",
    "                                                     )\n",
    "\n",
    "        vegetation_parameters['taw_at_p50'] = np.sum(soil_parameters['v_field_capacity'] - convert_f_cm3_to_v_mm(x = theta_at_p50,\n",
    "                                                                                                                 rock_fragment_content = soil_parameters['rock_fragment_content'],\n",
    "                                                                                                                 layer_thickness = soil_parameters['layer_thickness']\n",
    "                                                                                                                 )\n",
    "                                                     )\n",
    "\n",
    "\n",
    "        print(f\"Available water capacity @Tlp (VG):{vegetation_parameters['taw_at_tlp']} mm\")\n",
    "        print(f\"Available water capacity @P50 (VG):{vegetation_parameters['taw_at_p50']} mm\")\n",
    "\n",
    "    # Pedotransfer function == Campbell\n",
    "    elif modeling_options['pedo_transfer_formulation'] == \"campbell\":\n",
    "        print(\"compute_theta_at_given_p_soil_camp\")\n",
    "\n",
    "\n",
    "\n",
    "\n",
    "    #if modeling_options['']\n",
    "    return vegetation_parameters"
   ]
  },
  {
   "cell_type": "markdown",
   "metadata": {},
   "source": [
    "## Create vegetation parameters "
   ]
  },
  {
   "cell_type": "code",
   "execution_count": null,
   "metadata": {
    "vscode": {
     "languageId": "python"
    }
   },
   "outputs": [
    {
     "data": {
      "text/plain": [
       "defaultdict(list,\n",
       "            {'constant_climate': False,\n",
       "             'etp_formulation': 'pt',\n",
       "             'rn_formulation': 'linear',\n",
       "             'pedo_transfer_formulation': 'vg',\n",
       "             'time_step_for_evapo': 2,\n",
       "             'time': array([ 0,  2,  4,  6,  8, 10, 12, 14, 16, 18, 20, 22]),\n",
       "             'reset_swc': True,\n",
       "             'avoid_water_soil_transfer': True,\n",
       "             'comp_options': defaultdict(list,\n",
       "                         {'numerical_scheme': 'implicit',\n",
       "                          'nsmalltimesteps': 12.0,\n",
       "                          'lsym': 1,\n",
       "                          'ssym': 1,\n",
       "                          'clapo': 1,\n",
       "                          'ctapo': 1,\n",
       "                          'eord': 1,\n",
       "                          'lcav': 1,\n",
       "                          'scav': 1}),\n",
       "             'stomatal_reg_formulation': 'sigmoid',\n",
       "             'soil_evapo': True,\n",
       "             'defoliation': True,\n",
       "             'threshold_mortality': 51,\n",
       "             'transpiration_model': 'jarvis',\n",
       "             'print_prog': True})"
      ]
     },
     "execution_count": null,
     "metadata": {},
     "output_type": "execute_result"
    }
   ],
   "source": [
    "modeling_options_dict = create_modeling_options(\n",
    "    time_step_for_evapo=2,\n",
    "    reset_swc=True,\n",
    "    avoid_water_soil_transfer=True,\n",
    "    constant_climate=False,\n",
    "    defoliation=True,\n",
    "    soil_evapo=True,\n",
    "    threshold_mortality=51,\n",
    "    etp_formulation=\"pt\",\n",
    "    rn_formulation=\"linear\",\n",
    "    comp_options_for_evapo=\"custom\",\n",
    "    stomatal_reg_formulation=\"sigmoid\",\n",
    "    transpiration_model=\"jarvis\",\n",
    "    numerical_scheme=\"implicit\",\n",
    "    pedo_transfer_formulation=\"vg\",\n",
    ")\n",
    "modeling_options_dict"
   ]
  },
  {
   "cell_type": "code",
   "execution_count": null,
   "metadata": {
    "vscode": {
     "languageId": "python"
    }
   },
   "outputs": [
    {
     "data": {
      "text/plain": [
       "defaultdict(list, {'lai_max': 4.5, 'latitude': 48.73, 'longitude': 6.23})"
      ]
     },
     "execution_count": null,
     "metadata": {},
     "output_type": "execute_result"
    }
   ],
   "source": [
    "stand_params = create_stand_parameters(\n",
    "    file_path=\"./sample_data/stand_example.csv\",\n",
    "    lai_max=None,\n",
    "    latitude=None,\n",
    "    longitude=None,\n",
    "    sep=\";\",\n",
    ")\n",
    "stand_params"
   ]
  },
  {
   "cell_type": "code",
   "execution_count": null,
   "metadata": {
    "vscode": {
     "languageId": "python"
    }
   },
   "outputs": [
    {
     "name": "stdout",
     "output_type": "stream",
     "text": [
      "There is an offset on Psoil of 1 MPa\n",
      "Psoil at field capacity = 0.001 MPa\n",
      "You are using vg pedotransfer formulation\n",
      "Available water capacity Wilting: 25.65230545095943 mm\n",
      "Available water capacity Residual: 135.33945663142987 mm\n",
      "Can soil_params[\"v_soil_storage_capacity\"] be negative?? Ask\n"
     ]
    },
    {
     "data": {
      "text/plain": [
       "defaultdict(list,\n",
       "            {'offset_psoil': 1,\n",
       "             'psoil_at_field_capacity': 0.001,\n",
       "             'pedo_transfer_formulation': 'vg',\n",
       "             'soil_depths': array([0.2, 1. , 4. ]),\n",
       "             'layer_thickness': array([0.2, 0.8, 3. ]),\n",
       "             'g_soil_0': 30.0,\n",
       "             'rock_fragment_content': array([75., 82., 94.]),\n",
       "             'alpha_vg': array([0.0005, 0.0005, 0.0005]),\n",
       "             'n_vg': array([1.55, 1.55, 1.55]),\n",
       "             'i_vg': array([0.5, 0.5, 0.5]),\n",
       "             'ksat_vg': array([10., 10., 10.]),\n",
       "             'saturation_capacity_vg': array([1., 1., 1.]),\n",
       "             'residual_capacity_vg': array([0.098, 0.098, 0.098]),\n",
       "             'wilting_point': 0.39128115288895826,\n",
       "             'field_capacity': 0.45987020489687114,\n",
       "             'v_field_capacity': array([22.99351024, 66.22130951, 82.77663688]),\n",
       "             'v_saturation_capacity_vg': array([ 50., 144., 180.]),\n",
       "             'v_residual_capacity_vg': array([ 4.9  , 14.112, 17.64 ]),\n",
       "             'v_wilting_point': array([19.56405764, 56.34448602, 70.43060752]),\n",
       "             'v_saturation_capacity': array([ 50., 144., 180.]),\n",
       "             'v_soil_storage_capacity_wilt': 25.65230545095943,\n",
       "             'v_soil_storage_capacity_res': 135.33945663142987,\n",
       "             'v_soil_storage_capacity': 25.65230545095943})"
      ]
     },
     "execution_count": null,
     "metadata": {},
     "output_type": "execute_result"
    }
   ],
   "source": [
    "soil_params = create_soil_parameters(\n",
    "    file_path=\"./sample_data/soil_example.csv\",\n",
    "    modeling_options = modeling_options_dict,\n",
    "    default_soil=False,\n",
    "    offset_psoil=1,\n",
    "    psoil_at_field_capacity=1,\n",
    ")\n",
    "soil_params"
   ]
  },
  {
   "cell_type": "code",
   "execution_count": null,
   "metadata": {
    "vscode": {
     "languageId": "python"
    }
   },
   "outputs": [
    {
     "name": "stdout",
     "output_type": "stream",
     "text": [
      "frac_leaf_sym' set to 0.4\n",
      "Available water capacity @Tlp (VG):108.5505012570013 mm\n",
      "Available water capacity @P50 (VG):64.63695676128677 mm\n"
     ]
    },
    {
     "name": "stderr",
     "output_type": "stream",
     "text": [
      "/workspaces/sureau_ecos_py/sureau_ecos_py/plant_utils.py:805: UserWarning: Foliage evergreen has no params\n",
      "  warnings.warn(\"Foliage evergreen has no params\")\n",
      "/tmp/ipykernel_493/692492318.py:78: UserWarning: Make sure that depth in from soil_parameters is in meters\n",
      "  warnings.warn(\"Make sure that depth in from soil_parameters is in meters\")\n"
     ]
    },
    {
     "data": {
      "text/plain": [
       "defaultdict(list,\n",
       "            {'c_lapoinit': 1e-05,\n",
       "             'c_sapoinit': 2e-05,\n",
       "             'fcrit': 450,\n",
       "             'foliage': 'evergreen',\n",
       "             'jarvis_par': 0.006,\n",
       "             'k': 0.5,\n",
       "             'k_plantinit': 0.62,\n",
       "             'k_ssyminit': 0.26,\n",
       "             'ldmc': 570,\n",
       "             'lma': 106,\n",
       "             'p12_gs': -2.07,\n",
       "             'p50_vc_leaf': -3.4,\n",
       "             'p50_vc_stem': -3.4,\n",
       "             'p88_gs': -2.62,\n",
       "             'pt_coeff': 1.14,\n",
       "             'pifullturgor_leaf': -2.1,\n",
       "             'pifullturgor_stem': -2.1,\n",
       "             'psi_close': -2,\n",
       "             'psi_start_closing': -0.5,\n",
       "             'q10_1_gmin': 1.2,\n",
       "             'q10_2_gmin': 4.8,\n",
       "             'tphase_gmin': 37.5,\n",
       "             'tbase': 3,\n",
       "             'tgs_optim': 25,\n",
       "             'tgs_sens': 17,\n",
       "             'apofrac_leaf': 0.4,\n",
       "             'apofrac_stem': 0.4,\n",
       "             'betarootprofile': 0.97,\n",
       "             'canopystorageparam': 1.5,\n",
       "             'daystart': 55,\n",
       "             'epsilonsym_leaf': 10,\n",
       "             'epsilonsym_stem': 10,\n",
       "             'froottoleaf': 1,\n",
       "             'ftrbtoleaf': 0.8,\n",
       "             'g_crown0': 45,\n",
       "             'gmin20': 4,\n",
       "             'gmin_s': 3,\n",
       "             'gs_max': 200,\n",
       "             'gs_night': 20,\n",
       "             'nbdaylai': 21,\n",
       "             'rootradius': 0.0002,\n",
       "             'slope_vc_leaf': 60,\n",
       "             'slope_vc_stem': 60,\n",
       "             'symfrac_stem': 0.2,\n",
       "             'turgor_pressure_at_gs_max': 2,\n",
       "             'vol_stem': 40,\n",
       "             'test': nan,\n",
       "             'frac_leaf_sym': 0.4,\n",
       "             'p50_gs': -2.3449999999999998,\n",
       "             'slope_gs': 181.81818181818173,\n",
       "             'lai_max': 4.5,\n",
       "             'root_distribution': array([0.45620566, 0.49624184, 0.04755251]),\n",
       "             'taw_at_tlp': 108.5505012570013,\n",
       "             'taw_at_p50': 64.63695676128677})"
      ]
     },
     "execution_count": null,
     "metadata": {},
     "output_type": "execute_result"
    }
   ],
   "source": [
    "create_vegetation_parameters(\n",
    "    file_path=\"./sample_data/vegetation_example_wide.csv\",\n",
    "    list_of_parameters = None,\n",
    "    soil_parameters = soil_params,\n",
    "    stand_parameters = stand_params,\n",
    "    modeling_options = modeling_options_dict,\n",
    "    sep = \",\",\n",
    ")"
   ]
  }
 ],
 "metadata": {
  "kernelspec": {
   "display_name": "python3",
   "language": "python",
   "name": "python3"
  }
 },
 "nbformat": 4,
 "nbformat_minor": 4
}
