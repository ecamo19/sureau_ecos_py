{
 "cells": [
  {
   "cell_type": "raw",
   "metadata": {},
   "source": [
    "---\n",
    "description: 'AUTHORS: __Julien Ruffault (julien.ruff@gmail.com), Nicolas Martin-StPaul\n",
    "  (nicolas.martin@inrae.fr)__'\n",
    "output-file: new_wb_clim.html\n",
    "title: wb_clim functions\n",
    "\n",
    "---"
   ]
  },
  {
   "cell_type": "code",
   "execution_count": null,
   "metadata": {},
   "outputs": [],
   "source": [
    "# | default_exp wb_clim"
   ]
  },
  {
   "cell_type": "code",
   "execution_count": null,
   "metadata": {},
   "outputs": [],
   "source": [
    "# | hide\n",
    "from nbdev.showdoc import *\n",
    "from fastcore.test import *\n",
    "from fastcore.utils import *"
   ]
  },
  {
   "cell_type": "code",
   "execution_count": null,
   "metadata": {},
   "outputs": [],
   "source": [
    "# | export\n",
    "import collections\n",
    "from typing import Dict\n",
    "from pandera.typing import DataFrame\n",
    "from sureau_ecos_py.climate_utils import compute_vpd_from_t_rh\n",
    "\n",
    "from sureau_ecos_py.create_simulation_parameters import (\n",
    "    create_simulation_parameters,\n",
    ")\n",
    "\n",
    "from sureau_ecos_py.create_climate_data import create_climate_data\n",
    "from sureau_ecos_py.create_modeling_options import create_modeling_options\n",
    "\n"
   ]
  },
  {
   "cell_type": "code",
   "execution_count": null,
   "metadata": {},
   "outputs": [],
   "source": [
    "# | export\n",
    "\n",
    "def new_wb_clim(\n",
    "    climate_data:DataFrame, # Dataframe created using the `create_climate_data` function\n",
    "    year:int, # Year, __No definition found__\n",
    "    day_of_year:int # Day of the year, __No definition found__\n",
    "\n",
    "\n",
    ") -> Dict:  # Dictionary containing parameters to run the model\n",
    "    \"Create a list with all necessary daily climate values to run SureauR from climate_data\"\n",
    "\n",
    "    # Assert parameters ---------------------------------------------------------\n",
    "\n",
    "    # Year\n",
    "    assert isinstance(\n",
    "        year, int\n",
    "    ) and 3000 >= year > 0,\"year must be a integer value between 0-3000\"\n",
    "\n",
    "    # Day of year\n",
    "    assert isinstance(\n",
    "        day_of_year, int\n",
    "    ) and 367 >= day_of_year >= 1, \"day_of_year must be a integer value between 1-365\"\n",
    "\n",
    "    # Create wb_clim dictionary -------------------------------------------------\n",
    "\n",
    "    # Check that year and day_of_year are present inside the dataframe\n",
    "    if year in climate_data['year'].values and day_of_year in climate_data['day_of_year'].values:\n",
    "\n",
    "        # Get row index in climate frame based on year and doy\n",
    "        row_index = climate_data[(climate_data['year'] == year) & (climate_data['day_of_year'] == day_of_year)].index[0]\n",
    "\n",
    "        # Transfrom row to a dictionary with params\n",
    "        wb_clim_dict = collections.defaultdict(list, dict(climate_data.loc[row_index]))\n",
    "\n",
    "    else:\n",
    "        raise ValueError(\n",
    "            f\"year:{year} and/or day_of_year:{day_of_year} not found in climate dataframe\"\n",
    "        )\n",
    "\n",
    "    # Add parameters to dictionary ----------------------------------------------\n",
    "    wb_clim_dict['net_radiation'] = float(\"NAN\")\n",
    "    wb_clim_dict['etp'] = float(\"NAN\")\n",
    "    wb_clim_dict['vpd'] = compute_vpd_from_t_rh(relative_humidity = wb_clim_dict['RHair_mean'],\n",
    "                                                temperature= wb_clim_dict['Tair_mean']\n",
    "                                                )\n",
    "\n",
    "    # Add Temperature from previous and next days\n",
    "\n",
    "\n",
    "\n",
    "\n",
    "\n",
    "    return wb_clim_dict\n",
    "\n",
    "\n",
    "\n",
    "    #print(index)\n",
    "\n",
    "    #return wb_clim_dict\n",
    "\n",
    "\n",
    "\n"
   ]
  },
  {
   "cell_type": "markdown",
   "metadata": {},
   "source": [
    "#### __Example: __"
   ]
  },
  {
   "cell_type": "code",
   "execution_count": null,
   "metadata": {},
   "outputs": [],
   "source": [
    "simulation_parameters_dict = create_simulation_parameters(\n",
    "    main_dir=\"./sample_data\",\n",
    "    start_year_simulation=1991,\n",
    "    end_year_simulation=1991,\n",
    "    output_type=None,\n",
    "    output_path=\"./sample_data\",\n",
    "    overwrite=True,\n",
    "    resolution_output=\"subdaily\",\n",
    ")"
   ]
  },
  {
   "cell_type": "code",
   "execution_count": null,
   "metadata": {},
   "outputs": [],
   "source": [
    "modeling_options_dict = create_modeling_options(\n",
    "    time_step_for_evapo=2,\n",
    "    reset_swc=True,\n",
    "    avoid_water_soil_transfer=True,\n",
    "    constant_climate=False,\n",
    "    defoliation=True,\n",
    "    soil_evapo=True,\n",
    "    threshold_mortality=51,\n",
    "    etp_formulation=\"pt\",\n",
    "    rn_formulation=\"linear\",\n",
    "    comp_options_for_evapo=\"custom\",\n",
    "    stomatal_reg_formulation=\"turgor\",\n",
    "    transpiration_model=\"jarvis\",\n",
    "    numerical_scheme=\"implicit\",\n",
    "    pedo_transfer_formulation=\"vg\",\n",
    ")"
   ]
  },
  {
   "cell_type": "code",
   "execution_count": null,
   "metadata": {},
   "outputs": [
    {
     "name": "stdout",
     "output_type": "stream",
     "text": [
      "365 days were selected in the input climate file, covering the period: 1991 - 1991\n"
     ]
    }
   ],
   "source": [
    "climate_dataframe = create_climate_data(\n",
    "    modeling_options=modeling_options_dict,\n",
    "    simulation_parameters=simulation_parameters_dict,\n",
    "    file_path=\"./sample_data/climat_example.csv\",\n",
    "    sep=\";\",\n",
    ")"
   ]
  },
  {
   "cell_type": "code",
   "execution_count": null,
   "metadata": {},
   "outputs": [
    {
     "data": {
      "text/plain": [
       "defaultdict(list,\n",
       "            {'DATE': Timestamp('1991-01-01 00:00:00'),\n",
       "             'Tair_min': 2.6,\n",
       "             'Tair_max': 7.3,\n",
       "             'Tair_mean': 4.95,\n",
       "             'RG_sum': 3.2,\n",
       "             'RHair_min': 95.16042122,\n",
       "             'RHair_max': 95.16042122,\n",
       "             'RHair_mean': 95.16042122,\n",
       "             'WS_mean': 3.1,\n",
       "             'PPT_sum': 1.2,\n",
       "             'day_of_year': 1,\n",
       "             'day_of_month': 1,\n",
       "             'month': 1,\n",
       "             'year': 1991,\n",
       "             'net_radiation': nan,\n",
       "             'ETP': nan,\n",
       "             'vpd': 0.042075189940294196})"
      ]
     },
     "execution_count": null,
     "metadata": {},
     "output_type": "execute_result"
    }
   ],
   "source": [
    "new_wb_clim(\n",
    "    climate_data = climate_dataframe,\n",
    "    year = 1991,\n",
    "    day_of_year = 1\n",
    ")\n"
   ]
  }
 ],
 "metadata": {
  "kernelspec": {
   "display_name": "python3",
   "language": "python",
   "name": "python3"
  }
 },
 "nbformat": 4,
 "nbformat_minor": 4
}
