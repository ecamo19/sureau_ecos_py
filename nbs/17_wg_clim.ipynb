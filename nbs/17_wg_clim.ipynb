{
 "cells": [
  {
   "cell_type": "raw",
   "metadata": {},
   "source": [
    "---\n",
    "description: 'AUTHORS: __Julien Ruffault (julien.ruff@gmail.com), Nicolas Martin-StPaul\n",
    "  (nicolas.martin@inrae.fr)__'\n",
    "output-file: new_wb_clim.html\n",
    "title: wb_clim functions\n",
    "\n",
    "---"
   ]
  },
  {
   "cell_type": "code",
   "execution_count": null,
   "metadata": {},
   "outputs": [],
   "source": [
    "# | default_exp wb_clim"
   ]
  },
  {
   "cell_type": "code",
   "execution_count": null,
   "metadata": {},
   "outputs": [],
   "source": [
    "# | hide\n",
    "from nbdev.showdoc import *\n",
    "from fastcore.test import *\n",
    "from fastcore.utils import *"
   ]
  },
  {
   "cell_type": "code",
   "execution_count": null,
   "metadata": {},
   "outputs": [
    {
     "ename": "ModuleNotFoundError",
     "evalue": "No module named 'sureau_ecos_py.create_stand_parameters'",
     "output_type": "error",
     "traceback": [
      "\u001b[0;31m---------------------------------------------------------------------------\u001b[0m",
      "\u001b[0;31mModuleNotFoundError\u001b[0m                       Traceback (most recent call last)",
      "Cell \u001b[0;32mIn[36], line 5\u001b[0m\n\u001b[1;32m      3\u001b[0m \u001b[38;5;28;01mfrom\u001b[39;00m \u001b[38;5;21;01mtyping\u001b[39;00m \u001b[38;5;28;01mimport\u001b[39;00m Dict\n\u001b[1;32m      4\u001b[0m \u001b[38;5;28;01mfrom\u001b[39;00m \u001b[38;5;21;01mpandera\u001b[39;00m\u001b[38;5;21;01m.\u001b[39;00m\u001b[38;5;21;01mtyping\u001b[39;00m \u001b[38;5;28;01mimport\u001b[39;00m DataFrame\n\u001b[0;32m----> 5\u001b[0m \u001b[38;5;28;01mfrom\u001b[39;00m \u001b[38;5;21;01msureau_ecos_py\u001b[39;00m\u001b[38;5;21;01m.\u001b[39;00m\u001b[38;5;21;01mcreate_stand_parameters\u001b[39;00m \u001b[38;5;28;01mimport\u001b[39;00m create_stand_parameters\n\u001b[1;32m      6\u001b[0m \u001b[38;5;28;01mfrom\u001b[39;00m \u001b[38;5;21;01msureau_ecos_py\u001b[39;00m\u001b[38;5;21;01m.\u001b[39;00m\u001b[38;5;21;01mcreate_climate_data\u001b[39;00m \u001b[38;5;28;01mimport\u001b[39;00m create_climate_data\n",
      "\u001b[0;31mModuleNotFoundError\u001b[0m: No module named 'sureau_ecos_py.create_stand_parameters'"
     ]
    }
   ],
   "source": [
    "# | export\n",
    "import collections\n",
    "from typing import Dict\n",
    "from pandera.typing import DataFrame\n",
    "from sureau_ecos_py.create_stand_parameters import create_stand_parameters\n",
    "from sureau_ecos_py.create_climate_data import create_climate_data\n"
   ]
  },
  {
   "cell_type": "code",
   "execution_count": null,
   "metadata": {},
   "outputs": [],
   "source": [
    "# | export\n",
    "\n",
    "\n",
    "def new_wb_clim(\n",
    "    climate_data:DataFrame, # Dataframe created using the `create_climate_data` function\n",
    "    year:int, # Year, __No definition found__\n",
    "    doy:int # Day of the year, __No definition found__\n",
    "\n",
    "\n",
    ") -> Dict:  # Dictionary containing parameters to run the model\n",
    "    \"Create a list with all necessary daily climate values to run SureauR from climate_data\"\n",
    "\n",
    "    # Assert parameters ---------------------------------------------------------\n",
    "\n",
    "    # Year\n",
    "    assert isinstance(\n",
    "        year, int\n",
    "    ) and 3000 >= year > 0,\"year must be a integer value between 0-3000\"\n",
    "\n",
    "    # Day of year\n",
    "    assert isinstance(\n",
    "        doy, int\n",
    "    ) and 368 >= doy >= 1, \"doy must be a integer value between 1-365\"\n",
    "\n",
    "    # Create wb_clim dictionary -------------------------------------------------\n",
    "    wb_clim_dict = collections.defaultdict(list)\n",
    "\n",
    "    # Add parameters ------------------------------------------------------------\n",
    "    wb_clim_dict['year'] = year\n",
    "    wb_clim_dict['doy'] = doy\n",
    "\n",
    "    return wb_clim_dict\n",
    "\n",
    "\n",
    "\n",
    "\n",
    "\n",
    "\n",
    "\n"
   ]
  },
  {
   "cell_type": "markdown",
   "metadata": {},
   "source": [
    "#### __Example: __"
   ]
  },
  {
   "cell_type": "code",
   "execution_count": null,
   "metadata": {},
   "outputs": [],
   "source": [
    "new_wb_clim(\n",
    "    climate_data = 1,\n",
    "    year = 3000,\n",
    "    doy = 1\n",
    ")\n"
   ]
  }
 ],
 "metadata": {
  "kernelspec": {
   "display_name": "python3",
   "language": "python",
   "name": "python3"
  }
 },
 "nbformat": 4,
 "nbformat_minor": 4
}
