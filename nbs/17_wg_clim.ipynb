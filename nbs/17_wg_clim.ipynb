{
 "cells": [
  {
   "cell_type": "raw",
   "metadata": {},
   "source": [
    "---\n",
    "description: 'AUTHORS: __Julien Ruffault (julien.ruff@gmail.com), Nicolas Martin-StPaul\n",
    "  (nicolas.martin@inrae.fr)__'\n",
    "output-file: new_wb_clim.html\n",
    "title: wb_clim functions\n",
    "\n",
    "---"
   ]
  },
  {
   "cell_type": "code",
   "execution_count": null,
   "metadata": {},
   "outputs": [],
   "source": [
    "# | default_exp wb_clim"
   ]
  },
  {
   "cell_type": "code",
   "execution_count": 2,
   "metadata": {},
   "outputs": [],
   "source": [
    "# | hide\n",
    "from nbdev.showdoc import *\n",
    "from fastcore.test import *\n",
    "from fastcore.utils import *"
   ]
  },
  {
   "cell_type": "code",
   "execution_count": 6,
   "metadata": {},
   "outputs": [],
   "source": [
    "# | export\n",
    "from typing import Dict\n",
    "from pandera.typing import DataFrame\n"
   ]
  },
  {
   "cell_type": "code",
   "execution_count": 26,
   "metadata": {},
   "outputs": [],
   "source": [
    "# | export\n",
    "\n",
    "\n",
    "def new_wb_clim(\n",
    "    climate_data:DataFrame, # Dataframe created using the `create_climate_data` function\n",
    "    year:int, # Year, __No definition found__\n",
    "    doy:int # Day of the year, __No definition found__\n",
    "\n",
    "\n",
    ") -> Dict:  # Dictionary containing parameters to run the model\n",
    "    \"Create a list with all necessary daily climate values to run SureauR from climate_data\"\n",
    "\n",
    "    # Assert parameters ---------------------------------------------------------\n",
    "\n",
    "    # Year\n",
    "    assert isinstance(\n",
    "        year, int\n",
    "    ) and 3000 >= year > 0,\"year must be a integer value between 0-3000\"\n",
    "\n",
    "    # Day of year\n",
    "    assert isinstance(\n",
    "        doy, int\n",
    "    ) and 368 >= doy >= 1, \"doy must be a integer value between 1-365\"\n",
    "\n"
   ]
  },
  {
   "cell_type": "markdown",
   "metadata": {},
   "source": [
    "#### __Example: __"
   ]
  },
  {
   "cell_type": "code",
   "execution_count": 27,
   "metadata": {},
   "outputs": [],
   "source": [
    "new_wb_clim(\n",
    "    climate_data = 1,\n",
    "    year = 3000,\n",
    "    doy = 1\n",
    ")\n"
   ]
  }
 ],
 "metadata": {
  "kernelspec": {
   "display_name": "python3",
   "language": "python",
   "name": "python3"
  },
  "language_info": {
   "codemirror_mode": {
    "name": "ipython",
    "version": 3
   },
   "file_extension": ".py",
   "mimetype": "text/x-python",
   "name": "python",
   "nbconvert_exporter": "python",
   "pygments_lexer": "ipython3",
   "version": "3.9.18"
  }
 },
 "nbformat": 4,
 "nbformat_minor": 4
}
