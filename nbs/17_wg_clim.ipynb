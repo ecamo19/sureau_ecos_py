{
 "cells": [
  {
   "cell_type": "raw",
   "metadata": {},
   "source": [
    "---\n",
    "description: 'AUTHORS: __Julien Ruffault (julien.ruff@gmail.com), Nicolas Martin-StPaul\n",
    "  (nicolas.martin@inrae.fr)__'\n",
    "output-file: new_wb_clim.html\n",
    "title: wb_clim functions\n",
    "\n",
    "---"
   ]
  },
  {
   "cell_type": "code",
   "execution_count": 1,
   "metadata": {},
   "outputs": [],
   "source": [
    "# | default_exp wb_clim"
   ]
  },
  {
   "cell_type": "code",
   "execution_count": 2,
   "metadata": {},
   "outputs": [],
   "source": [
    "# | hide\n",
    "from nbdev.showdoc import *\n",
    "from fastcore.test import *\n",
    "from fastcore.utils import *"
   ]
  },
  {
   "cell_type": "code",
   "execution_count": 31,
   "metadata": {},
   "outputs": [],
   "source": [
    "# | export\n",
    "import collections\n",
    "import numpy as np\n",
    "from typing import Dict\n",
    "from pandera.typing import DataFrame\n",
    "from sureau_ecos_py.climate_utils import compute_vpd_from_t_rh, day_length\n",
    "\n",
    "from sureau_ecos_py.create_simulation_parameters import (\n",
    "    create_simulation_parameters,\n",
    ")\n",
    "\n",
    "from sureau_ecos_py.create_climate_data import create_climate_data\n",
    "from sureau_ecos_py.create_modeling_options import create_modeling_options"
   ]
  },
  {
   "cell_type": "code",
   "execution_count": 4,
   "metadata": {},
   "outputs": [],
   "source": [
    "# | export\n",
    "\n",
    "\n",
    "def new_wb_clim(\n",
    "    climate_data: DataFrame,  # Dataframe created using the `create_climate_data` function\n",
    "    year: int,  # Year, __No definition found__\n",
    "    day_of_year: int,  # Day of the year\n",
    ") -> Dict:  # Dictionary containing parameters to run the model\n",
    "    \"Create a list with all necessary daily climate values to run SureauR from climate_data\"\n",
    "\n",
    "    # Assert parameters ---------------------------------------------------------\n",
    "\n",
    "    # Year\n",
    "    assert (\n",
    "        isinstance(year, int) and 3000 >= year > 0\n",
    "    ), \"year must be a integer value between 0-3000\"\n",
    "\n",
    "    # Day of year\n",
    "    assert (\n",
    "        isinstance(day_of_year, int) and 366 >= day_of_year >= 1\n",
    "    ), \"day_of_year must be a integer value between 1-366\"\n",
    "\n",
    "    # Create wb_clim dictionary -------------------------------------------------\n",
    "\n",
    "    # Check that year and day_of_year are present inside the dataframe\n",
    "    if (\n",
    "        year in climate_data[\"year\"].values\n",
    "        and day_of_year in climate_data[\"day_of_year\"].values\n",
    "    ):\n",
    "        # Get row index in climate frame based on year and doy\n",
    "        row_index = climate_data[\n",
    "            (climate_data[\"year\"] == year)\n",
    "            & (climate_data[\"day_of_year\"] == day_of_year)\n",
    "        ].index[0]\n",
    "\n",
    "        # Transfrom row to a dictionary with params\n",
    "        wb_clim_dict = collections.defaultdict(\n",
    "            list, dict(climate_data.loc[row_index])\n",
    "        )\n",
    "\n",
    "    else:\n",
    "        raise ValueError(\n",
    "            f\"year:{year} and/or day_of_year:{day_of_year} not found in climate dataframe\"\n",
    "        )\n",
    "\n",
    "    # Add parameters to dictionary ----------------------------------------------\n",
    "    wb_clim_dict[\"net_radiation\"] = float(\"NAN\")\n",
    "    wb_clim_dict[\"etp\"] = float(\"NAN\")\n",
    "    wb_clim_dict[\"vpd\"] = compute_vpd_from_t_rh(\n",
    "        relative_humidity=wb_clim_dict[\"RHair_mean\"],\n",
    "        temperature=wb_clim_dict[\"Tair_mean\"],\n",
    "    )\n",
    "\n",
    "    # Add Temperature from previous and next days\n",
    "\n",
    "    # cas normal\n",
    "\n",
    "    # if the row_index is not the first nor the last\n",
    "    if row_index != 0 and row_index != climate_data.shape[0]:\n",
    "        wb_clim_dict[\"Tair_min_prev\"] = climate_data.loc[row_index - 1][\n",
    "            \"Tair_min\"\n",
    "        ]\n",
    "        wb_clim_dict[\"Tair_min_next\"] = climate_data.loc[row_index + 1][\n",
    "            \"Tair_min\"\n",
    "        ]\n",
    "        wb_clim_dict[\"Tair_max_prev\"] = climate_data.loc[row_index - 1][\n",
    "            \"Tair_max\"\n",
    "        ]\n",
    "\n",
    "        return wb_clim_dict\n",
    "\n",
    "    # si premier jour de le la simu\n",
    "\n",
    "    # if the row_index is the first\n",
    "    elif row_index == 0:\n",
    "        print(\n",
    "            \"Firts day of the simulation, previous Tair is the same as the current\"\n",
    "        )\n",
    "\n",
    "        wb_clim_dict[\"Tair_min_prev\"] = climate_data.loc[row_index][\"Tair_min\"]\n",
    "        wb_clim_dict[\"Tair_min_next\"] = climate_data.loc[row_index + 1][\n",
    "            \"Tair_min\"\n",
    "        ]\n",
    "        wb_clim_dict[\"Tair_max_prev\"] = climate_data.loc[row_index][\"Tair_max\"]\n",
    "\n",
    "        return wb_clim_dict\n",
    "\n",
    "    elif row_index == climate_data.shape[0]:\n",
    "        print(\n",
    "            \"Last day of the simulation, next Tair_min_next is the same as the Tair_min\"\n",
    "        )\n",
    "\n",
    "        wb_clim_dict[\"Tair_min_prev\"] = climate_data.loc[row_index - 1][\n",
    "            \"Tair_min\"\n",
    "        ]\n",
    "        wb_clim_dict[\"Tair_min_next\"] = climate_data.loc[row_index][\"Tair_min\"]\n",
    "        wb_clim_dict[\"Tair_max_prev\"] = climate_data.loc[row_index - 1][\n",
    "            \"Tair_max\"\n",
    "        ]\n",
    "\n",
    "        return wb_clim_dict\n",
    "\n",
    "    else:\n",
    "        raise ValueError(\n",
    "            \"Error setting previous and following temperature conditions\"\n",
    "        )"
   ]
  },
  {
   "cell_type": "markdown",
   "metadata": {},
   "source": [
    "#### __Example: Create wb_clim dictionary__"
   ]
  },
  {
   "cell_type": "code",
   "execution_count": 5,
   "metadata": {},
   "outputs": [],
   "source": [
    "simulation_parameters_dict = create_simulation_parameters(\n",
    "    main_dir=\"./sample_data\",\n",
    "    start_year_simulation=1991,\n",
    "    end_year_simulation=1991,\n",
    "    output_type=None,\n",
    "    output_path=\"./sample_data\",\n",
    "    overwrite=True,\n",
    "    resolution_output=\"subdaily\",\n",
    ")"
   ]
  },
  {
   "cell_type": "code",
   "execution_count": 6,
   "metadata": {},
   "outputs": [],
   "source": [
    "modeling_options_dict = create_modeling_options(\n",
    "    time_step_for_evapo=2,\n",
    "    reset_swc=True,\n",
    "    avoid_water_soil_transfer=True,\n",
    "    constant_climate=False,\n",
    "    defoliation=True,\n",
    "    soil_evapo=True,\n",
    "    threshold_mortality=51,\n",
    "    etp_formulation=\"pt\",\n",
    "    rn_formulation=\"linear\",\n",
    "    comp_options_for_evapo=\"custom\",\n",
    "    stomatal_reg_formulation=\"turgor\",\n",
    "    transpiration_model=\"jarvis\",\n",
    "    numerical_scheme=\"implicit\",\n",
    "    pedo_transfer_formulation=\"vg\",\n",
    ")"
   ]
  },
  {
   "cell_type": "code",
   "execution_count": 7,
   "metadata": {},
   "outputs": [
    {
     "name": "stdout",
     "output_type": "stream",
     "text": [
      "365 days were selected in the input climate file, covering the period: 1991 - 1991\n"
     ]
    }
   ],
   "source": [
    "climate_dataframe = create_climate_data(\n",
    "    modeling_options=modeling_options_dict,\n",
    "    simulation_parameters=simulation_parameters_dict,\n",
    "    file_path=\"./sample_data/climat_example.csv\",\n",
    "    sep=\";\",\n",
    ")"
   ]
  },
  {
   "cell_type": "code",
   "execution_count": 8,
   "metadata": {},
   "outputs": [
    {
     "name": "stdout",
     "output_type": "stream",
     "text": [
      "Last day of the simulation, next Tair_min_next is the same as the Tair_min\n"
     ]
    },
    {
     "data": {
      "text/plain": [
       "defaultdict(list,\n",
       "            {'DATE': Timestamp('1991-12-31 00:00:00'),\n",
       "             'Tair_min': -0.2,\n",
       "             'Tair_max': 2.7,\n",
       "             'Tair_mean': 1.25,\n",
       "             'RG_sum': 0.71,\n",
       "             'RHair_min': 96.9151449,\n",
       "             'RHair_max': 96.9151449,\n",
       "             'RHair_mean': 96.9151449,\n",
       "             'WS_mean': 1.7,\n",
       "             'PPT_sum': 0.0,\n",
       "             'day_of_year': 365,\n",
       "             'day_of_month': 31,\n",
       "             'month': 12,\n",
       "             'year': 1991,\n",
       "             'net_radiation': nan,\n",
       "             'etp': nan,\n",
       "             'vpd': 0.020627738121622427,\n",
       "             'Tair_min_prev': 2.4,\n",
       "             'Tair_min_next': -0.2,\n",
       "             'Tair_max_prev': 4.4})"
      ]
     },
     "execution_count": 8,
     "metadata": {},
     "output_type": "execute_result"
    }
   ],
   "source": [
    "new_wb_clim(climate_data=climate_dataframe, year=1991, day_of_year=365)"
   ]
  },
  {
   "cell_type": "code",
   "execution_count": 34,
   "metadata": {},
   "outputs": [],
   "source": [
    "# | export\n",
    "\n",
    "\n",
    "def new_wb_clim_hour(\n",
    "    wb_clim: Dict,  # Dictionary created using the `new_wb_clim` function\n",
    "    wb_veg: Dict,  # __No definition found__\n",
    "    latitude: float,  # Value indicating the latitude of the stand\n",
    "    longitude: float,  # Value indicating the longitude of the stand\n",
    "    modeling_options: Dict,  # Dictionary created using the `create_modeling_options` function\n",
    "    pt_coeff: float,  # An empirical constant accounting for the vapor pressure deficit and resistance values Typically, α is 1.26 for open bodies of water, but has a wide range of values from less than 1 (humid conditions) to almost 2 (arid conditions).\n",
    ") -> Dict:  # Dictionary containing parameters to run the model\n",
    "    \"Create a list with interpolated climate data at the required time step\"\n",
    "\n",
    "    # Assert parameters ---------------------------------------------------------\n",
    "\n",
    "    # wb_clim\n",
    "    assert isinstance(\n",
    "        wb_clim, Dict\n",
    "    ), f\"wb_clim must be a Dictionary not a {type(wb_clim)}\"\n",
    "\n",
    "    # wb_veg\n",
    "    assert isinstance(\n",
    "        wb_veg, Dict\n",
    "    ), f\"wb_veg must be a Dictionary not a {type(wb_veg)}\"\n",
    "\n",
    "    # modeling_options\n",
    "    assert isinstance(\n",
    "        modeling_options, Dict\n",
    "    ), f\"modeling_options must be a Dictionary not a {type(modeling_options)}\"\n",
    "\n",
    "    # Latitude and longitude\n",
    "    assert (\n",
    "        isinstance(latitude, float) and isinstance(longitude, float)\n",
    "    ), \"Missing latitude and/or longitude. Provide latitude and/or longitude as Coordinates points i.e. latitude = 41.40338, longitude = 2.17403\"\n",
    "\n",
    "    # pt_coeff\n",
    "    assert isinstance(\n",
    "        pt_coeff, float\n",
    "    ), f\"pt_coeff must be a float i.e. 2.0001 not a {type(pt_coeff)}\"\n",
    "\n",
    "    # Create wb_clim_hour dictionary --------------------------------------------\n",
    "    wb_clim_hour = collections.defaultdict(list)\n",
    "\n",
    "    if modeling_options[\"constant_climate\"] is False:\n",
    "        # calculate sunrise, sunset and daylength (in seconds from midgnight)\n",
    "        # depends of DAY, latt and lon\n",
    "        # sunrise_sunset_daylen <- as.numeric(daylength(lat = lat, long = lon, jd = WBclim$DOY, 0)) * 3600 #\n",
    "\n",
    "        # Calculate day_length\n",
    "        sunrise_sunset_daylength_hours = day_length(latitude = latitude,\n",
    "                                                     day_of_year = wb_clim['day_of_year'])\n",
    "\n",
    "        # Transform day_length to seconds\n",
    "        sunrise_sunset_daylength_seconds = collections.defaultdict(list)\n",
    "\n",
    "        for each_key, each_array in sunrise_sunset_daylength_hours.items():\n",
    "            sunrise_sunset_daylength_seconds[each_key].append(each_array*3600)\n"
   ]
  },
  {
   "cell_type": "markdown",
   "metadata": {},
   "source": [
    "#### __Example:__"
   ]
  },
  {
   "cell_type": "code",
   "execution_count": 33,
   "metadata": {},
   "outputs": [
    {
     "name": "stdout",
     "output_type": "stream",
     "text": [
      "defaultdict(<class 'list'>, {'sunrise': array([99., 99., 99.]), 'sunset': array([99., 99., 99.]), 'day_length': array([24., 24., 24.])})\n"
     ]
    },
    {
     "name": "stderr",
     "output_type": "stream",
     "text": [
      "/workspaces/sureau_ecos_py/sureau_ecos_py/climate_utils.py:298: UserWarning: Double check if this function works for Australia\n",
      "  warnings.warn(\"Double check if this function works for Australia\")\n"
     ]
    },
    {
     "data": {
      "text/plain": [
       "defaultdict(list,\n",
       "            {'sunrise': [array([356400., 356400., 356400.])],\n",
       "             'sunset': [array([356400., 356400., 356400.])],\n",
       "             'day_length': [array([86400., 86400., 86400.])]})"
      ]
     },
     "execution_count": 33,
     "metadata": {},
     "output_type": "execute_result"
    }
   ],
   "source": [
    "\n",
    "\n"
   ]
  },
  {
   "cell_type": "code",
   "execution_count": null,
   "metadata": {},
   "outputs": [],
   "source": []
  }
 ],
 "metadata": {
  "kernelspec": {
   "display_name": "python3",
   "language": "python",
   "name": "python3"
  },
  "language_info": {
   "codemirror_mode": {
    "name": "ipython",
    "version": 3
   },
   "file_extension": ".py",
   "mimetype": "text/x-python",
   "name": "python",
   "nbconvert_exporter": "python",
   "pygments_lexer": "ipython3",
   "version": "3.9.18"
  }
 },
 "nbformat": 4,
 "nbformat_minor": 4
}
