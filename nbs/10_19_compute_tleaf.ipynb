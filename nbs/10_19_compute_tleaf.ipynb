{
 "cells": [
  {
   "cell_type": "raw",
   "metadata": {},
   "source": [
    "---\n",
    "description: 'AUTHORS: __Julien Ruffault (julien.ruff@gmail.com), Nicolas Martin-StPaul\n",
    "  (nicolas.martin@inrae.fr)__'\n",
    "output-file: compute_tleaf.html\n",
    "title: Compute tleaf\n",
    "---\n",
    "\n"
   ]
  },
  {
   "cell_type": "code",
   "execution_count": 2,
   "metadata": {},
   "outputs": [],
   "source": [
    "# | default_exp compute_tleaf"
   ]
  },
  {
   "cell_type": "code",
   "execution_count": 3,
   "metadata": {},
   "outputs": [],
   "source": [
    "# | hide\n",
    "from nbdev.showdoc import *\n",
    "from fastcore.test import *"
   ]
  },
  {
   "cell_type": "code",
   "execution_count": null,
   "metadata": {},
   "outputs": [],
   "source": [
    "# | export\n",
    "import numpy as np"
   ]
  },
  {
   "cell_type": "code",
   "execution_count": 3,
   "metadata": {},
   "outputs": [],
   "source": [
    "# | export\n",
    "\n",
    "def compute_tleaf(t_air:float, # Air temperature (degC)\n",
    "                  par:float, # Unknown parameter definition\n",
    "                  potential_par:float, # Unknown parameter definition Calculated using `potential_par` function?\n",
    "                  wind_speed:float, # Unknown parameter definition (m/s)\n",
    "                  relative_humidity:int, # Air relative_humidity(%)\n",
    "                  gs:float, # Stomatal conductance\n",
    "                  g_cuti:float, # leaf conductance\n",
    "                  e_inst:float, # Unknown parameter definition\n",
    "                  psi_leaf:float, # Unknown parameter definition\n",
    "                  leaf_size:float = 50, # Characteristic dimension from vegetation params in mm i.e. 1 (pine needle) to 3000 (banana leaf)\n",
    "                  leaf_angle:int = 45, # Leaf angle (depuis le plan horizontal : 0-90 deg)\n",
    "                  turn_off_eb:bool = False, # Unknown parameter definition\n",
    "                  transpiration_model: str = [\"jarvis\", \"granier\"], # Transpiration model type\n",
    "                  ) -> float:\n",
    "\n",
    "        \"Compute leaf temperature and Vapour Pressure deficit\"\n",
    "\n",
    "        # Assert parameters -----------------------------------------------------\n",
    "        assert  0 <= relative_humidity <= 100, 'relative_humidity must be a value between 0 and 100'\n",
    "\n",
    "        assert  0 <= leaf_angle <= 90, 'leaf_angle must be a value between 0 and 90'\n",
    "\n",
    "        assert transpiration_model in [\n",
    "        \"jarvis\",\n",
    "        \"granier\",\n",
    "        ], f'{transpiration_model} not a valid option, choose  \"jarvis\" or \"granier\"'\n"
   ]
  },
  {
   "cell_type": "code",
   "execution_count": 2,
   "metadata": {},
   "outputs": [
    {
     "data": {
      "text/plain": [
       "True"
      ]
     },
     "execution_count": 2,
     "metadata": {},
     "output_type": "execute_result"
    }
   ],
   "source": [
    "0 <= 50"
   ]
  }
 ],
 "metadata": {
  "kernelspec": {
   "display_name": "python3",
   "language": "python",
   "name": "python3"
  },
  "language_info": {
   "codemirror_mode": {
    "name": "ipython",
    "version": 3
   },
   "file_extension": ".py",
   "mimetype": "text/x-python",
   "name": "python",
   "nbconvert_exporter": "python",
   "pygments_lexer": "ipython3",
   "version": "3.9.18"
  }
 },
 "nbformat": 4,
 "nbformat_minor": 4
}
