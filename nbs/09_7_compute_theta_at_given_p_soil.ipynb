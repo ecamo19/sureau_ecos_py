{
 "cells": [
  {
   "cell_type": "raw",
   "metadata": {},
   "source": [
    "---\n",
    "description: 'AUTHORS: __Julien Ruffault (julien.ruff@gmail.com), Nicolas Martin-StPaul\n",
    "  (nicolas.martin@inrae.fr)__'\n",
    "output-file: compute_vpd.html\n",
    "title: Compute theta at given psoil\n",
    "\n",
    "---\n",
    "\n"
   ]
  },
  {
   "cell_type": "code",
   "execution_count": null,
   "metadata": {},
   "outputs": [],
   "source": [
    "# | default_exp compute_theta_at_given_p_soil"
   ]
  },
  {
   "cell_type": "code",
   "execution_count": null,
   "metadata": {},
   "outputs": [],
   "source": [
    "# | hide\n",
    "from nbdev.showdoc import *\n",
    "from fastcore.test import *"
   ]
  },
  {
   "cell_type": "code",
   "execution_count": null,
   "metadata": {},
   "outputs": [],
   "source": [
    "# | export\n",
    "def compute_theta_at_given_p_soil(\n",
    "    psi_target: float, # Unknown parameter definition\n",
    "    theta_res: float, # Unknown parameter definition\n",
    "    theta_sat: float, # Unknown parameter definition\n",
    "    alpha_vg: float, # Unknown parameter definition\n",
    "    n_vg: float # Unknown parameter definition\n",
    ") -> float:\n",
    "    return theta_res + (theta_sat - theta_res) / (\n",
    "        1 + (alpha_vg * psi_target * 10000) ** n_vg\n",
    "    ) ** (1 - 1 / n_vg)"
   ]
  }
 ],
 "metadata": {
  "kernelspec": {
   "display_name": "python3",
   "language": "python",
   "name": "python3"
  }
 },
 "nbformat": 4,
 "nbformat_minor": 4
}
