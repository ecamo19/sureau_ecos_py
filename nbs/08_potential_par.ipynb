{
 "cells": [
  {
   "cell_type": "raw",
   "metadata": {},
   "source": [
    "---\n",
    "description: 'AUTHORS: __Julien Ruffault (julien.ruff@gmail.com), Nicolas Martin-StPaul\n",
    "  (nicolas.martin@inrae.fr)__'\n",
    "output-file: potential_par.html\n",
    "title: Declination and potential PAR\n",
    "\n",
    "---\n",
    "\n"
   ]
  },
  {
   "cell_type": "code",
   "execution_count": null,
   "metadata": {},
   "outputs": [],
   "source": [
    "# | default_exp declination"
   ]
  },
  {
   "cell_type": "code",
   "execution_count": null,
   "metadata": {},
   "outputs": [],
   "source": [
    "# | hide\n",
    "from nbdev.showdoc import *\n",
    "from fastcore.test import *"
   ]
  },
  {
   "cell_type": "code",
   "execution_count": null,
   "metadata": {},
   "outputs": [],
   "source": [
    "# | export\n",
    "from math import cos, sin, atan"
   ]
  },
  {
   "cell_type": "code",
   "execution_count": null,
   "metadata": {},
   "outputs": [],
   "source": [
    "# | export\n",
    "\n",
    "\n",
    "def declination(doy: int):  # julian day (day of the year)\n",
    "    \"Calculate declination of sun (radians ? ) for a given julian day (DOY)\"\n",
    "\n",
    "    # Hervé's formula for solar declination\n",
    "\n",
    "    # Sin(23.5*pi/180), 23.5 = Earth declination\n",
    "\n",
    "    # Constans ----------------------------------------------------------------\n",
    "    c1 = 0.398749068925246\n",
    "\n",
    "    c2 = 2 * 3.1416 / 365\n",
    "\n",
    "    # date of spring\n",
    "    c3 = 80\n",
    "\n",
    "    x = c1 * sin((doy - c3) * c2)  # ;\n",
    "\n",
    "    # Return declination ------------------------------------------------------\n",
    "    return atan(x / ((1 - x * x) ^ 0.5))"
   ]
  },
  {
   "cell_type": "code",
   "execution_count": null,
   "metadata": {},
   "outputs": [],
   "source": [
    "def potential_par(time_of_day: float, lat: float, doy: float):\n",
    "    \"Determine potential for a given place and date /used to determine cloud cover return potential par in W.m2\"\n",
    "\n",
    "    # Constants ----------------------------------------------------------\n",
    "    diffuse_fraction = 0.1\n",
    "    solar_constant = 2084\n",
    "    attenuation_coef = -0.174353387144778\n",
    "\n",
    "    decl = declination(doy)\n",
    "\n",
    "    pn = -cos(lat * pi / 180)\n",
    "    pz = sin(lat * pi / 180)\n",
    "    h_rad = (time_of_day - 6) * 3.1416 / 12\n",
    "    se = cos(h_rad) * cos(decl)\n",
    "    sn = -pz * sin(h_rad) * cos(decl) - pn * sin(decl)\n",
    "    sz = -pn * sin(h_rad) * cos(decl) + pz * sin(decl)\n",
    "    alt = atan(sz / ((se * se + sn * sn) ^ 0.5))\n",
    "    azi = 3.1416 + atan(se / sn)\n",
    "\n",
    "    # azi[sn > 0] = azi[sn > 0] + 3.1416 I dont understand the meaning of this\n",
    "    if sn > 0:\n",
    "        azi = azi + pi\n",
    "\n",
    "    pfd = solar_constant * exp(attenuation_coef / sin(alt))\n",
    "\n",
    "    # pfd[alt < 0] = 0 I dont understand the meaning of this\n",
    "    dpfd = diffuse_fraction * pfd\n",
    "    # dpfd[alt<0] = 0 I dont understand the meaning of this\n",
    "\n",
    "    return dpfd + pfd * sin(alt)"
   ]
  }
 ],
 "metadata": {
  "kernelspec": {
   "display_name": "python3",
   "language": "python",
   "name": "python3"
  }
 },
 "nbformat": 4,
 "nbformat_minor": 4
}
