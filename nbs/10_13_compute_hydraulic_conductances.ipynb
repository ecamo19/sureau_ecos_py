{
 "cells": [
  {
   "cell_type": "raw",
   "metadata": {},
   "source": [
    "---\n",
    "description: 'AUTHORS: __Julien Ruffault (julien.ruff@gmail.com), Nicolas Martin-StPaul\n",
    "  (nicolas.martin@inrae.fr)__'\n",
    "output-file: distribute_conductances.html\n",
    "title: Compute hydraulic conductances\n",
    "---\n",
    "\n"
   ]
  },
  {
   "cell_type": "code",
   "execution_count": null,
   "metadata": {},
   "outputs": [],
   "source": [
    "# | default_exp distribute_conductances"
   ]
  },
  {
   "cell_type": "code",
   "execution_count": null,
   "metadata": {},
   "outputs": [],
   "source": [
    "# | hide\n",
    "from nbdev.showdoc import *\n",
    "from fastcore.test import *"
   ]
  },
  {
   "cell_type": "code",
   "execution_count": null,
   "metadata": {},
   "outputs": [],
   "source": [
    "# | export\n",
    "import collections\n",
    "from typing import Dict"
   ]
  },
  {
   "cell_type": "code",
   "execution_count": null,
   "metadata": {},
   "outputs": [],
   "source": [
    "# | export\n",
    "\n",
    "def distribute_conductances(k_plant_init: float, # Conductance of the plant from root to leaf\n",
    "                            ri:float, # Root distribution within the soil layers.\n",
    "                            frac_leaf_sym:float = 0.4 # Proportion of k_plant_init assigned to the leaf (apoplasm to symplasm pathway)\n",
    "                            ) -> Dict:\n",
    "\n",
    "        \"Calcultate hydraulic conductances in the different portions of the plant (trunk, leaf and root) according to predetermined rules\"\n",
    "\n",
    "        frac_rt = (2/3)*(1-frac_leaf_sym)\n",
    "\n",
    "        fract_tl = (1/3)*(1-frac_leaf_sym)\n",
    "\n",
    "        k_rsapo_init   = 1 /(frac_rt / k_plant_init) * ri\n",
    "\n",
    "        k_slapo_init = 1/(fract_tl/k_plant_init)\n",
    "\n",
    "        k_lsym_init = 1/(frac_leaf_sym/k_plant_init)\n",
    "\n",
    "        # TODO: AJOUTE UN CALCUL DES CONDUCTANCE ICI POUR CHECK DU CALCUL? e.g.:\n",
    "        # k_PlantInit <-  1/ (1 /sum(k_RSApoInit) + 1/k_SLApoInit + 1/k_LSymInit)\n",
    "\n",
    "        dictionary = {\"k_slapo_init\": k_slapo_init,\n",
    "                          \"k_lsym_init\": k_lsym_init,\n",
    "                          \"k_rsapo_init\": k_rsapo_init,\n",
    "                          \"k_plant_init\": k_plant_init}\n",
    "\n",
    "\n",
    "\n",
    "        return collections.defaultdict(list,dictionary)\n",
    "\n"
   ]
  },
  {
   "cell_type": "code",
   "execution_count": null,
   "metadata": {},
   "outputs": [
    {
     "data": {
      "text/plain": [
       "defaultdict(list,\n",
       "            {'k_slapo_init': 5.0,\n",
       "             'k_lsym_init': 2.5,\n",
       "             'k_rsapo_init': 5.0,\n",
       "             'k_plant_init': 1})"
      ]
     },
     "execution_count": null,
     "metadata": {},
     "output_type": "execute_result"
    }
   ],
   "source": [
    "distribute_conductances(k_plant_init = 1,\n",
    "                        ri = 2,\n",
    "                        frac_leaf_sym = 0.4\n",
    "                        )"
   ]
  }
 ],
 "metadata": {
  "kernelspec": {
   "display_name": "python3",
   "language": "python",
   "name": "python3"
  },
  "language_info": {
   "name": "python",
   "version": "3.9.18"
  }
 },
 "nbformat": 4,
 "nbformat_minor": 4
}
