{
 "cells": [
  {
   "cell_type": "raw",
   "metadata": {},
   "source": [
    "---\n",
    "description: 'AUTHORS: __Julien Ruffault (julien.ruff@gmail.com), Nicolas Martin-StPaul\n",
    "  (nicolas.martin@inrae.fr)__'\n",
    "output-file: convert_f_cm3_to_v_mm.html\n",
    "title: Convert f(cm3) to v(mm)\n",
    "---\n",
    "\n"
   ]
  },
  {
   "cell_type": "code",
   "execution_count": 2,
   "metadata": {},
   "outputs": [],
   "source": [
    "# | default_exp convert_f_cm3_to_v_mm"
   ]
  },
  {
   "cell_type": "code",
   "execution_count": 3,
   "metadata": {},
   "outputs": [],
   "source": [
    "# | hide\n",
    "from nbdev.showdoc import *\n",
    "from fastcore.test import *"
   ]
  },
  {
   "cell_type": "code",
   "execution_count": 4,
   "metadata": {},
   "outputs": [],
   "source": [
    "# | export\n",
    "\n",
    "def convert_f_cm3_to_v_mm(x:float, # Soil value to be converted (in m3.m-3)\n",
    "                          rock_fragment_content:float, # Rock fragment content of the soil layer (%)\n",
    "                          layer_thickness:float  # Thickness of the soil layer (in m)\n",
    "                        ) -> float: # y soil parameter in mm\n",
    "\n",
    "        \"Convert soil parameter from from cm3.cm-3 to mm according to thickness and rock fragment content\"\n",
    "        return x * (1 - (rock_fragment_content / 100)) * layer_thickness * 1000"
   ]
  }
 ],
 "metadata": {
  "kernelspec": {
   "display_name": "python3",
   "language": "python",
   "name": "python3"
  },
  "language_info": {
   "codemirror_mode": {
    "name": "ipython",
    "version": 3
   },
   "file_extension": ".py",
   "mimetype": "text/x-python",
   "name": "python",
   "nbconvert_exporter": "python",
   "pygments_lexer": "ipython3",
   "version": "3.9.18"
  }
 },
 "nbformat": 4,
 "nbformat_minor": 4
}
