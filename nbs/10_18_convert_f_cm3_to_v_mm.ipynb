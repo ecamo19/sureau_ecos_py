{
 "cells": [
  {
   "cell_type": "raw",
   "metadata": {},
   "source": [
    "---\n",
    "description: 'AUTHORS: __Julien Ruffault (julien.ruff@gmail.com), Nicolas Martin-StPaul\n",
    "  (nicolas.martin@inrae.fr)__'\n",
    "output-file: convert_f_cm3_to_v_mm.html\n",
    "title: Convert f(cm3) to v(mm)\n",
    "---\n",
    "\n"
   ]
  },
  {
   "cell_type": "code",
   "execution_count": null,
   "metadata": {},
   "outputs": [],
   "source": [
    "# | default_exp convert_f_cm3_to_v_mm"
   ]
  },
  {
   "cell_type": "code",
   "execution_count": null,
   "metadata": {},
   "outputs": [],
   "source": [
    "# | hide\n",
    "from nbdev.showdoc import *\n",
    "from fastcore.test import *"
   ]
  },
  {
   "cell_type": "code",
   "execution_count": null,
   "metadata": {},
   "outputs": [],
   "source": [
    "# | export\n",
    "\n",
    "def convert_f_cm3_to_v_mm(x:float, # Soil value to be converted (in m3.m-3)\n",
    "                          rock_fragment_content:float, # Rock fragment content of the soil layer (%)\n",
    "                          layer_thickness:float  # Thickness of the soil layer (in m)\n",
    "                        ) -> float: # y soil parameter in mm\n",
    "\n",
    "        \"Convert soil parameter from from cm3.cm-3 to mm according to thickness and rock fragment content\"\n",
    "        return x * (1 - (rock_fragment_content / 100)) * layer_thickness * 1000"
   ]
  }
 ],
 "metadata": {
  "kernelspec": {
   "display_name": "python3",
   "language": "python",
   "name": "python3"
  }
 },
 "nbformat": 4,
 "nbformat_minor": 4
}
