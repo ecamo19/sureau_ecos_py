{
 "cells": [
  {
   "cell_type": "raw",
   "metadata": {},
   "source": [
    "---\n",
    "description: 'AUTHORS: __Julien Ruffault (julien.ruff@gmail.com), Nicolas Martin-StPaul\n",
    "  (nicolas.martin@inrae.fr)__'\n",
    "output-file: soil_utils.html\n",
    "title: Soil utils functions\n",
    "\n",
    "---\n",
    "\n"
   ]
  },
  {
   "cell_type": "code",
   "execution_count": null,
   "metadata": {},
   "outputs": [],
   "source": [
    "# | default_exp soil_utils"
   ]
  },
  {
   "cell_type": "code",
   "execution_count": null,
   "metadata": {},
   "outputs": [],
   "source": [
    "# | hide\n",
    "from nbdev.showdoc import *\n",
    "from fastcore.test import *"
   ]
  },
  {
   "cell_type": "code",
   "execution_count": null,
   "metadata": {},
   "outputs": [],
   "source": [
    "# | export\n",
    "import numpy as np\n",
    "from math import pi\n",
    "import operator\n",
    "import collections\n",
    "from pathlib import Path\n",
    "import os\n",
    "import pandas as pd\n",
    "from typing import Dict\n",
    "from sureau_ecos_py.create_modeling_options import create_modeling_options\n",
    "from pandera.typing import Series\n",
    "import pandera as pa\n",
    "from pandera.errors import SchemaErrors"
   ]
  },
  {
   "cell_type": "code",
   "execution_count": null,
   "metadata": {},
   "outputs": [],
   "source": [
    "# | export\n",
    "def compute_b(\n",
    "    lv: float,  # length of fine root per unit volume\n",
    ") -> float:\n",
    "    \"Calculate b used to compute the B of the Gardnar-Cowen model\"\n",
    "\n",
    "    return 1 / np.sqrt(pi * lv)"
   ]
  },
  {
   "cell_type": "code",
   "execution_count": null,
   "metadata": {},
   "outputs": [],
   "source": [
    "# | export\n",
    "def compute_b_gc(\n",
    "    la: float,  # Unknown parameter definition\n",
    "    b: float,  # Unknown parameter definition\n",
    "    root_radius: float,  # Calculated using the `compute_b` function\n",
    ") -> float:\n",
    "    \"Calculate B Gardner cowen thhe scaling factor for soil conductance\"\n",
    "\n",
    "    return la * 2 * pi / np.log(b / root_radius)"
   ]
  },
  {
   "cell_type": "code",
   "execution_count": null,
   "metadata": {},
   "outputs": [],
   "source": [
    "# | export\n",
    "def compute_k_soil(\n",
    "    rew: float,  # Unknown parameter definition\n",
    "    i_vg: float,  # Unknown parameter definition\n",
    "    n_vg: float,  # Unknown parameter definition\n",
    "    k_sat_vg: float,  # Unknown parameter definition\n",
    "    b_gc: float,  # Calculated using the `compute_b_gc` function\n",
    ") -> float:\n",
    "    # Create empty dict for storing params --------------------------------------\n",
    "    k_soil_parameters = collections.defaultdict(list)\n",
    "\n",
    "    # Compute k_soil ------------------------------------------------------------\n",
    "    m = 1 - (1 / n_vg)\n",
    "\n",
    "    k_soil = k_sat_vg * rew ** (i_vg) * (1 - (1 - rew ** (1 / m)) ** m) ** 2\n",
    "\n",
    "    k_soil_gc = 1000 * b_gc * k_soil\n",
    "\n",
    "    # Append to dictionary ------------------------------------------------------\n",
    "    k_soil_parameters[\"k_soil\"] = k_soil\n",
    "    k_soil_parameters[\"k_soil_gc\"] = k_soil_gc\n",
    "\n",
    "    return k_soil_parameters"
   ]
  },
  {
   "cell_type": "code",
   "execution_count": null,
   "metadata": {},
   "outputs": [],
   "source": [
    "# | export\n",
    "def compute_k_soil_camp(\n",
    "    sws: float,  # Unknown parameter definition\n",
    "    tsc: float,  # Unknown parameter definition\n",
    "    b_camp: float,  # Unknown parameter definition\n",
    "    k_sat_campbell: float,  # Unknown parameter definition\n",
    ") -> float:\n",
    "    return k_sat_campbell * (sws / tsc) ** (-b_camp * 2 + 2)"
   ]
  },
  {
   "cell_type": "code",
   "execution_count": null,
   "metadata": {},
   "outputs": [],
   "source": [
    "# | export\n",
    "def compute_p_soil(\n",
    "    rew: float,  # Unknown parameter definition\n",
    "    alpha_vg: float,  # Unknown parameter definition\n",
    "    n_vg: float,  # Unknown parameter definition\n",
    ") -> float:\n",
    "    m = 1 - (1 / n_vg)\n",
    "\n",
    "    # diviser par 10000 pour passer de cm à MPa\n",
    "    return -1 * ((((1 / rew) ** (1 / m)) - 1) ** (1 / n_vg)) / alpha_vg / 10000"
   ]
  },
  {
   "cell_type": "code",
   "execution_count": null,
   "metadata": {},
   "outputs": [],
   "source": [
    "# | export\n",
    "def compute_p_soil_camp(\n",
    "    sws: float,  # Unknown parameter definition\n",
    "    tsc: float,  # Unknown parameter definition\n",
    "    b_camp: float,  # Unknown parameter definition\n",
    "    psie: float,  # Unknown parameter definition\n",
    ") -> float:\n",
    "    return -1 * (psie * ((sws / tsc) ** -b_camp))"
   ]
  },
  {
   "cell_type": "code",
   "execution_count": null,
   "metadata": {},
   "outputs": [],
   "source": [
    "# | export\n",
    "def compute_theta_at_given_p_soil(\n",
    "    psi_target: float,  # Unknown parameter definition\n",
    "    theta_res: float,  # Unknown parameter definition\n",
    "    theta_sat: float,  # Unknown parameter definition\n",
    "    alpha_vg: float,  # Unknown parameter definition\n",
    "    n_vg: float,  # Unknown parameter definition\n",
    ") -> float:\n",
    "    # Assert that values are positive.\n",
    "    # Using np.testing instead of assert because parameters can be np.arrays OR\n",
    "    # single values (i.e. 1). assert only works when params are always one\n",
    "    # type\n",
    "    # Solution from:\n",
    "    # https://stackoverflow.com/questions/45987962/why-arent-there-numpy-testing-assert-array-greater-assert-array-less-equal-as\n",
    "\n",
    "    np.testing.assert_array_compare(\n",
    "        operator.__gt__,\n",
    "        np.array(psi_target),\n",
    "        0,\n",
    "        err_msg=\"\\nError: psi_target values must be greater thatn 0\\n\",\n",
    "    )\n",
    "\n",
    "    return theta_res + (theta_sat - theta_res) / (\n",
    "        1 + (alpha_vg * psi_target * 10000) ** n_vg\n",
    "    ) ** (1 - 1 / n_vg)"
   ]
  },
  {
   "cell_type": "code",
   "execution_count": null,
   "metadata": {},
   "outputs": [
    {
     "data": {
      "text/plain": [
       "3.316227675107904"
      ]
     },
     "execution_count": null,
     "metadata": {},
     "output_type": "execute_result"
    }
   ],
   "source": [
    "compute_theta_at_given_p_soil(\n",
    "    psi_target=2, theta_res=3, theta_sat=4, alpha_vg=5, n_vg=1.1\n",
    ")"
   ]
  },
  {
   "cell_type": "code",
   "execution_count": null,
   "metadata": {},
   "outputs": [
    {
     "data": {
      "text/plain": [
       "array([-5.99999970e+000, -6.51316634e+303])"
      ]
     },
     "execution_count": null,
     "metadata": {},
     "output_type": "execute_result"
    }
   ],
   "source": [
    "compute_theta_at_given_p_soil(\n",
    "    psi_target=np.array([1.5, 2]),\n",
    "    theta_res=np.array([3, -2]),\n",
    "    theta_sat=np.array([-6, -7]),\n",
    "    alpha_vg=np.array([9.02, 2.9]),\n",
    "    n_vg=np.array([-1.5, 0.001]),\n",
    ")"
   ]
  },
  {
   "cell_type": "code",
   "execution_count": null,
   "metadata": {},
   "outputs": [],
   "source": [
    "# | export\n",
    "def compute_theta_at_given_p_soil_camp(\n",
    "    theta_sat: float,  # Unknown parameter definition\n",
    "    psi_target: float,  # Unknown parameter definition\n",
    "    psie: float,  # Unknown parameter definition\n",
    "    b_camp: float,  # Unknown parameter definition\n",
    ") -> float:\n",
    "    # Assert that values are negative.\n",
    "    # Using np.testing instead of assert because parameters can be np.arrays OR\n",
    "    # single values (i.e. 1). assert only works when params are always one\n",
    "    # type\n",
    "\n",
    "    np.testing.assert_array_less(\n",
    "        np.array(psie), 0, err_msg=\"\\nError: psie values must be negative\\n\"\n",
    "    )\n",
    "\n",
    "    np.testing.assert_array_less(\n",
    "        np.array(b_camp), 0, err_msg=\"\\nError: b_camp values must be negative\\n\"\n",
    "    )\n",
    "\n",
    "    np.testing.assert_array_less(\n",
    "        np.array(psi_target),\n",
    "        0,\n",
    "        err_msg=\"\\nError: psi_target values must be negative\\n\",\n",
    "    )\n",
    "\n",
    "    return theta_sat * (psi_target / psie) ** (1 / b_camp)"
   ]
  },
  {
   "cell_type": "code",
   "execution_count": null,
   "metadata": {},
   "outputs": [
    {
     "data": {
      "text/plain": [
       "0.14012860366560284"
      ]
     },
     "execution_count": null,
     "metadata": {},
     "output_type": "execute_result"
    }
   ],
   "source": [
    "compute_theta_at_given_p_soil_camp(\n",
    "    psi_target=-1.5, theta_sat=0.39, psie=-0.025, b_camp=-4.0\n",
    ")"
   ]
  },
  {
   "cell_type": "code",
   "execution_count": null,
   "metadata": {},
   "outputs": [
    {
     "data": {
      "text/plain": [
       "array([0.25151288, 0.78572343])"
      ]
     },
     "execution_count": null,
     "metadata": {},
     "output_type": "execute_result"
    }
   ],
   "source": [
    "compute_theta_at_given_p_soil_camp(\n",
    "    psi_target=np.array([-1.5, -2]),\n",
    "    theta_sat=np.array([0.70]),\n",
    "    psie=np.array([-0.025, -4]),\n",
    "    b_camp=np.array([-4.0, -6]),\n",
    ")"
   ]
  },
  {
   "cell_type": "code",
   "execution_count": null,
   "metadata": {},
   "outputs": [],
   "source": [
    "# | export\n",
    "\n",
    "# This class was created for validating the input dataframe\n",
    "# If the data don't follow the structure specified the function will fail\n",
    "class SoilFile(pa.SchemaModel):\n",
    "    \"Schema for validating the input soil parameter file\"\n",
    "\n",
    "    Name: Series[str] = pa.Field(description=\"Parameter names\")\n",
    "    Value: Series[float] = pa.Field(description=\"Parameter values\")\n",
    "\n",
    "    # Added for making sure that it only accepts the columns specified above\n",
    "    class Config:\n",
    "        strict = True\n",
    "\n",
    "\n",
    "\n",
    "def read_soil_file(\n",
    "    file_path: Path,  # Path to a csv file containing parameter values i.e path/to/file_name.csv\n",
    "    modeling_options: Dict = None,  # Dictionary created using the `create_modeling_options` function\n",
    "    sep: str = \";\",  # CSV file separator can be ',' or ';'\n",
    ") -> Dict:\n",
    "    \"Function for reading a data frame containing information about soil characteristics\"\n",
    "\n",
    "\n",
    "    # Assert parameters ---------------------------------------------------------\n",
    "    # Make sure that modeling_options is a dictionary\n",
    "    assert isinstance(\n",
    "        modeling_options, Dict\n",
    "    ), f\"modeling_options must be a dictionary not a {type(modeling_options)}\"\n",
    "\n",
    "    # Make sure the file_path exist\n",
    "    assert os.path.exists(file_path\n",
    "                           ), f\"Path: {file_path} not found, check spelling\"\n",
    "\n",
    "    # Read data frame -----------------------------------------------------------\n",
    "\n",
    "\n",
    "    soil_data = pd.read_csv(file_path, header=0, sep=sep)\n",
    "\n",
    "    # Raise error if soil data don't follow the SoilFile Schema\n",
    "    SoilFile.validate(soil_data, lazy=True)\n",
    "\n",
    "    # Setting common parameters for WB_soil (regardless of the options) ---------\n",
    "    if modeling_options[\"pedo_transfer_formulation\"] == \"vg\":\n",
    "        # 14 params\n",
    "        params = np.array(\n",
    "            [\n",
    "                \"rfc_1\",\n",
    "                \"rfc_2\",\n",
    "                \"rfc_3\",\n",
    "                \"depth_1\",\n",
    "                \"depth_2\",\n",
    "                \"depth_3\",\n",
    "                \"wilting_point\",\n",
    "                \"alpha_vg\",\n",
    "                \"n_vg\",\n",
    "                \"i_vg\",\n",
    "                \"ksat_vg\",\n",
    "                \"saturation_capacity_vg\",\n",
    "                \"residual_capacity_vg\",\n",
    "                \"g_soil_0\",\n",
    "            ],\n",
    "            dtype=object,\n",
    "        )\n",
    "\n",
    "    if modeling_options[\"pedo_transfer_formulation\"] == \"campbell\":\n",
    "        # 12 params\n",
    "        params = np.array(\n",
    "            [\n",
    "                \"rfc_1\",\n",
    "                \"rfc_2\",\n",
    "                \"rfc_3\",\n",
    "                \"depth_1\",\n",
    "                \"depth_2\",\n",
    "                \"depth_3\",\n",
    "                \"wilting_point\",\n",
    "                \"ksat_campbell\",\n",
    "                \"saturation_capacity_campbell\",\n",
    "                \"b_camp\",\n",
    "                \"psie\",\n",
    "                \"g_soil_0\",\n",
    "            ],\n",
    "            dtype=object,\n",
    "        )\n",
    "\n",
    "    # Get only the required params ----------------------------------------------\n",
    "    soil_data = soil_data[soil_data[\"Name\"].isin(params)]\n",
    "\n",
    "    # Make sure that no parameters are missing (12 or 14) -----------------------\n",
    "    for each_parameter in params:\n",
    "        # Raise error if a parameter is missing from params\n",
    "        if each_parameter not in np.array(soil_data[\"Name\"]):\n",
    "            raise ValueError(\n",
    "                f\"{each_parameter} not provided in input soil parameter CSV file, check presence or spelling\\n\"\n",
    "            )\n",
    "\n",
    "    # Make sure there are no duplicate parameters -------------------------------\n",
    "    if len(soil_data[\"Name\"]) is not len(set(soil_data[\"Name\"])):\n",
    "        raise ValueError(\n",
    "            \"Parameter repeated several times in input soil parameter file\"\n",
    "        )\n",
    "\n",
    "    # Get values in the dataframe and get rid of the colnames. Save everything\n",
    "    # in to a list for later convert it to a Dictionary\n",
    "    soil_data = soil_data.values.tolist()\n",
    "\n",
    "    return collections.defaultdict(list, dict(soil_data))"
   ]
  },
  {
   "cell_type": "code",
   "execution_count": null,
   "metadata": {},
   "outputs": [],
   "source": [
    "modeling_options_dict = create_modeling_options(\n",
    "    time_step_for_evapo=2,\n",
    "    reset_swc=True,\n",
    "    avoid_water_soil_transfer=True,\n",
    "    constant_climate=False,\n",
    "    defoliation=True,\n",
    "    soil_evapo=True,\n",
    "    threshold_mortality=51,\n",
    "    etp_formulation=\"pt\",\n",
    "    rn_formulation=\"linear\",\n",
    "    comp_options_for_evapo=\"custom\",\n",
    "    stomatal_reg_formulation=\"turgor\",\n",
    "    transpiration_model=\"jarvis\",\n",
    "    numerical_scheme=\"implicit\",\n",
    "    pedo_transfer_formulation=\"vg\",\n",
    ")"
   ]
  },
  {
   "cell_type": "code",
   "execution_count": null,
   "metadata": {},
   "outputs": [
    {
     "data": {
      "text/plain": [
       "defaultdict(list,\n",
       "            {'rfc_1': 75.0,\n",
       "             'rfc_2': 82.0,\n",
       "             'rfc_3': 94.0,\n",
       "             'wilting_point': 0.12379,\n",
       "             'alpha_vg': 0.0005,\n",
       "             'n_vg': 1.55,\n",
       "             'i_vg': 0.5,\n",
       "             'ksat_vg': 10.0,\n",
       "             'saturation_capacity_vg': 1.0,\n",
       "             'residual_capacity_vg': 0.098,\n",
       "             'g_soil_0': 30.0,\n",
       "             'depth_1': 0.2,\n",
       "             'depth_2': 1.0,\n",
       "             'depth_3': 4.0})"
      ]
     },
     "execution_count": null,
     "metadata": {},
     "output_type": "execute_result"
    }
   ],
   "source": [
    "read_soil_file(\n",
    "    \"./sample_data/soil_example.csv\",\n",
    "    modeling_options=modeling_options_dict,\n",
    "    sep=\";\",\n",
    ")"
   ]
  }
 ],
 "metadata": {
  "kernelspec": {
   "display_name": "python3",
   "language": "python",
   "name": "python3"
  }
 },
 "nbformat": 4,
 "nbformat_minor": 4
}
