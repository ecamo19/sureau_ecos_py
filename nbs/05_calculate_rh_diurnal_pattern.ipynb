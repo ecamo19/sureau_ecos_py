{
 "cells": [
  {
   "cell_type": "raw",
   "metadata": {},
   "source": [
    "---\n",
    "description: 'AUTHORS: __Julien Ruffault (julien.ruff@gmail.com), Nicolas Martin-StPaul\n",
    "  (nicolas.martin@inrae.fr)__'\n",
    "output-file: calculate_rh_diurnal_pattern.html\n",
    "title: Calculate relative humidity diurnal pattern\n",
    "\n",
    "---\n",
    "\n"
   ]
  },
  {
   "cell_type": "code",
   "execution_count": null,
   "metadata": {},
   "outputs": [],
   "source": [
    "# | default_exp calculate_rh_diurnal_pattern"
   ]
  },
  {
   "cell_type": "code",
   "execution_count": null,
   "metadata": {},
   "outputs": [],
   "source": [
    "# | hide\n",
    "from nbdev.showdoc import *\n",
    "from fastcore.test import *"
   ]
  },
  {
   "cell_type": "code",
   "execution_count": null,
   "metadata": {},
   "outputs": [],
   "source": [
    "# | export\n",
    "\n",
    "\n",
    "def calculate_rh_diurnal_pattern(\n",
    "    temperature: float, # Unknown parameter definition\n",
    "    rhmin: float,  # Unknown parameter definition\n",
    "    rhmax: float,  # Unknown parameter definition\n",
    "    tmin: float,  # Unknown parameter definition\n",
    "    tmax: float,  # Unknown parameter definition\n",
    ")->float:\n",
    "    \"Calculate diurnal pattern of relative humidity from temperature\"\n",
    "\n",
    "    # calculate rh diurnal pattern ----------------------------------------------\n",
    "    return rhmax + ((temperature - tmin) / (tmax - tmin)) * (rhmin - rhmax)"
   ]
  }
 ],
 "metadata": {
  "kernelspec": {
   "display_name": "python3",
   "language": "python",
   "name": "python3"
  }
 },
 "nbformat": 4,
 "nbformat_minor": 4
}
