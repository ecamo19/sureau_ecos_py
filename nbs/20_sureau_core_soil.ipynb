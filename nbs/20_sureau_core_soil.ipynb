{
 "cells": [
  {
   "cell_type": "raw",
   "metadata": {},
   "source": [
    "---\n",
    "description: 'AUTHORS: __Julien Ruffault (julien.ruff@gmail.com), Nicolas Martin-StPaul\n",
    "  (nicolas.martin@inrae.fr)__'\n",
    "output-file: sureau_core_soil.html\n",
    "title: SurEau core soil functions\n",
    "\n",
    "---"
   ]
  },
  {
   "cell_type": "code",
   "execution_count": null,
   "metadata": {
    "vscode": {
     "languageId": "python"
    }
   },
   "outputs": [],
   "source": [
    "# | default_exp sureau_core_soil"
   ]
  },
  {
   "cell_type": "code",
   "execution_count": null,
   "metadata": {
    "vscode": {
     "languageId": "python"
    }
   },
   "outputs": [],
   "source": [
    "# | hide\n",
    "from nbdev.showdoc import *\n",
    "from fastcore.test import *\n",
    "from fastcore.utils import *"
   ]
  },
  {
   "cell_type": "code",
   "execution_count": null,
   "metadata": {
    "vscode": {
     "languageId": "python"
    }
   },
   "outputs": [],
   "source": [
    "# | export\n",
    "\n",
    "import warnings\n",
    "import collections\n",
    "import numpy as np\n",
    "from typing import Dict\n",
    "from pandera.typing import DataFrame\n",
    "from sureau_ecos_py.climate_utils import (\n",
    "    day_length,\n",
    "    compute_pet,\n",
    "    potential_par,\n",
    "    rg_units_conversion,\n",
    "    compute_vpd_from_t_rh,\n",
    "    calculate_rh_diurnal_pattern,\n",
    "    rg_watt_ppfd_umol_conversions,\n",
    "    calculate_radiation_diurnal_pattern,\n",
    "    calculate_temperature_diurnal_pattern,\n",
    ")\n",
    "from sureau_ecos_py.create_simulation_parameters import (\n",
    "    create_simulation_parameters,\n",
    ")\n",
    "from sureau_ecos_py.create_climate_data import create_climate_data\n",
    "from sureau_ecos_py.create_modeling_options import create_modeling_options"
   ]
  },
  {
   "cell_type": "code",
   "execution_count": null,
   "metadata": {
    "vscode": {
     "languageId": "python"
    }
   },
   "outputs": [],
   "source": [
    "# | export\n",
    "\n",
    "\n",
    "#def new_sureau_soil(\n",
    "#    climate_data: DataFrame,  # Dataframe created using the `create_climate_data` function\n",
    "#    year: int,  # Year,\n",
    "#    day_of_year: int,  # Day of the year\n",
    "#) -> Dict:  # Dictionary containing parameters to run the model\n",
    "#    'Create a list with all necessary daily climate values to run SureauR from climate_data'\n",
    "#\n",
    "#    # Assert parameters ---------------------------------------------------------\n",
    "#    pass\n"
   ]
  },
  {
   "cell_type": "markdown",
   "metadata": {},
   "source": [
    "#### __Example: __"
   ]
  },
  {
   "cell_type": "code",
   "execution_count": null,
   "metadata": {
    "vscode": {
     "languageId": "python"
    }
   },
   "outputs": [],
   "source": []
  }
 ],
 "metadata": {
  "kernelspec": {
   "display_name": "python3",
   "language": "python",
   "name": "python3"
  }
 },
 "nbformat": 4,
 "nbformat_minor": 4
}
