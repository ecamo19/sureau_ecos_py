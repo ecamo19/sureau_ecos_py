{
 "cells": [
  {
   "cell_type": "raw",
   "metadata": {},
   "source": [
    "---\n",
    "description: 'AUTHORS: __Julien Ruffault (julien.ruff@gmail.com), Nicolas Martin-StPaul\n",
    "  (nicolas.martin@inrae.fr)__'\n",
    "output-file: compute_gmin.html\n",
    "title: Compute minimun conductance\n",
    "\n",
    "---\n",
    "\n"
   ]
  },
  {
   "cell_type": "code",
   "execution_count": null,
   "metadata": {},
   "outputs": [],
   "source": [
    "# | default_exp compute_gmin"
   ]
  },
  {
   "cell_type": "code",
   "execution_count": null,
   "metadata": {},
   "outputs": [],
   "source": [
    "# | hide\n",
    "from nbdev.showdoc import *\n",
    "from fastcore.test import *"
   ]
  },
  {
   "cell_type": "code",
   "execution_count": null,
   "metadata": {},
   "outputs": [],
   "source": [
    "# | export\n",
    "import numpy as np"
   ]
  },
  {
   "cell_type": "code",
   "execution_count": null,
   "metadata": {},
   "outputs": [],
   "source": [
    "# | export\n",
    "\n",
    "# Osmotic potential\n",
    "def compute_gmin(leaf_temp:float, # Temperature of the leaf (degC)\n",
    "                 gmin_20:float, # leaf conductance at 20 degC\n",
    "                 t_phase:float,  # Temperature for phase transition of gmin\n",
    "                 q10_1:float, # Q10 values for gmin= f(T) below T_phase\n",
    "                 q10_2:float, # Q10 values for gcuti = f(T) above T_phase\n",
    "                 gmin_temp_off = False, # # Unknown parameter definition\n",
    "                 ) -> float:\n",
    "\n",
    "        \"Calculate minimum conductance (gmin) following Cochard et al. (2019)\"\n",
    "\n",
    "        print('original R code have a ambiguous gmin_temp_off specification')\n",
    "        if gmin_temp_off is False:\n",
    "\n",
    "            if leaf_temp <= t_phase:\n",
    "                gmin = gmin_20 * q10_1**((leaf_temp - 20)/10)\n",
    "                return gmin\n",
    "\n",
    "            elif leaf_temp > t_phase:\n",
    "                gmin = gmin_20 * q10_1**((t_phase - 20) / 10) * q10_2**((leaf_temp - t_phase) / 10)\n",
    "                return gmin\n",
    "\n",
    "        else:\n",
    "            gmin = gmin_20\n",
    "            return gmin\n"
   ]
  }
 ],
 "metadata": {
  "kernelspec": {
   "display_name": "python3",
   "language": "python",
   "name": "python3"
  }
 },
 "nbformat": 4,
 "nbformat_minor": 4
}
