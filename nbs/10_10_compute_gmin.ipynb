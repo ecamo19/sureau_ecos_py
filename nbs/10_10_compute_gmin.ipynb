{
 "cells": [
  {
   "cell_type": "raw",
   "metadata": {},
   "source": [
    "---\n",
    "description: 'AUTHORS: __Julien Ruffault (julien.ruff@gmail.com), Nicolas Martin-StPaul\n",
    "  (nicolas.martin@inrae.fr)__'\n",
    "output-file: compute_gmin.html\n",
    "title: Compute minimun conductance\n",
    "\n",
    "---\n",
    "\n"
   ]
  },
  {
   "cell_type": "code",
   "execution_count": null,
   "metadata": {
    "vscode": {
     "languageId": "python"
    }
   },
   "outputs": [],
   "source": [
    "# | default_exp compute_gmin"
   ]
  },
  {
   "cell_type": "code",
   "execution_count": null,
   "metadata": {
    "vscode": {
     "languageId": "python"
    }
   },
   "outputs": [],
   "source": [
    "# | hide\n",
    "from nbdev.showdoc import *\n",
    "from fastcore.test import *"
   ]
  },
  {
   "cell_type": "code",
   "execution_count": null,
   "metadata": {
    "vscode": {
     "languageId": "python"
    }
   },
   "outputs": [],
   "source": [
    "# | export\n",
    "import numpy as np\n"
   ]
  },
  {
   "cell_type": "code",
   "execution_count": null,
   "metadata": {
    "vscode": {
     "languageId": "python"
    }
   },
   "outputs": [],
   "source": [
    "# | export\n",
    "\n",
    "# Osmotic potential\n",
    "def compute_gmin(leaf_temp:float, # Temperature of the leaf (degC)\n",
    "                 gmin_20:float, # leaf conductance at 20 degC\n",
    "                 t_phase:float,  # Temperature for phase transition of gmin\n",
    "                 q10_1:float, # Q10 values for gmin= f(T) below T_phase\n",
    "                 q10_2:float, # Q10 values for gcuti = f(T) above T_phase\n",
    "                 ) -> float:\n",
    "\n",
    "        \"Calculate minimum conductance (gmin) following Cochard et al. (2019)\"\n"
   ]
  }
 ],
 "metadata": {
  "kernelspec": {
   "display_name": "python3",
   "language": "python",
   "name": "python3"
  }
 },
 "nbformat": 4,
 "nbformat_minor": 4
}
