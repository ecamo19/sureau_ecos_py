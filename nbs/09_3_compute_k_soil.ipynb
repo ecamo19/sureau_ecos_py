{
 "cells": [
  {
   "cell_type": "raw",
   "metadata": {},
   "source": [
    "---\n",
    "description: 'AUTHORS: __Julien Ruffault (julien.ruff@gmail.com), Nicolas Martin-StPaul\n",
    "  (nicolas.martin@inrae.fr)__'\n",
    "output-file: compute_vpd.html\n",
    "title: Soil utils functions\n",
    "\n",
    "---\n",
    "\n"
   ]
  },
  {
   "cell_type": "code",
   "execution_count": null,
   "metadata": {},
   "outputs": [],
   "source": [
    "# | default_exp compute_k_soil"
   ]
  },
  {
   "cell_type": "code",
   "execution_count": null,
   "metadata": {},
   "outputs": [],
   "source": [
    "# | hide\n",
    "from nbdev.showdoc import *\n",
    "from fastcore.test import *"
   ]
  },
  {
   "cell_type": "code",
   "execution_count": null,
   "metadata": {},
   "outputs": [],
   "source": [
    "# | export\n",
    "import collections"
   ]
  },
  {
   "cell_type": "code",
   "execution_count": null,
   "metadata": {},
   "outputs": [],
   "source": [
    "# | export\n",
    "def compute_k_soil(\n",
    "    rew: float,\n",
    "    i_vg: float,\n",
    "    n_vg: float,\n",
    "    k_sat_vg: float,\n",
    "    b_gc: float,  # Calculated using the `compute_b_gc` function\n",
    "):\n",
    "    # Create empty dict for storing params\n",
    "    k_soil_parameters = collections.defaultdict(list)\n",
    "\n",
    "    m = 1 - (1 / n_vg)\n",
    "\n",
    "    k_soil = k_sat_vg * rew ** (i_vg) * (1 - (1 - rew ** (1 / m)) ** m) ** 2\n",
    "\n",
    "    k_soil_gc = 1000 * b_gc * k_soil\n",
    "\n",
    "    k_soil_parameters[\"k_soil\"] = k_soil\n",
    "    k_soil_parameters[\"k_soil_gc\"] = k_soil_gc\n",
    "\n",
    "    return k_soil_parameters"
   ]
  }
 ],
 "metadata": {
  "kernelspec": {
   "display_name": "python3",
   "language": "python",
   "name": "python3"
  }
 },
 "nbformat": 4,
 "nbformat_minor": 4
}
