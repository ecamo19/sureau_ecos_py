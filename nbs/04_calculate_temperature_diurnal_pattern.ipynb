{
 "cells": [
  {
   "cell_type": "raw",
   "metadata": {},
   "source": [
    "---\n",
    "description: 'AUTHORS: __Julien Ruffault (julien.ruff@gmail.com), Nicolas Martin-StPaul\n",
    "  (nicolas.martin@inrae.fr)__'\n",
    "output-file: calculate_temperature_diurnal_pattern.html\n",
    "title: Calculate temperature diurnal pattern\n",
    "\n",
    "---\n",
    "\n"
   ]
  },
  {
   "cell_type": "code",
   "execution_count": null,
   "metadata": {},
   "outputs": [],
   "source": [
    "# | default_exp calculate_temperature_diurnal_pattern"
   ]
  },
  {
   "cell_type": "code",
   "execution_count": null,
   "metadata": {},
   "outputs": [],
   "source": [
    "# | hide\n",
    "from nbdev.showdoc import *\n",
    "from fastcore.test import *"
   ]
  },
  {
   "cell_type": "code",
   "execution_count": null,
   "metadata": {},
   "outputs": [],
   "source": [
    "# | export\n",
    "from typing import List\n",
    "from math import pi, cos"
   ]
  },
  {
   "cell_type": "code",
   "execution_count": null,
   "metadata": {},
   "outputs": [],
   "source": [
    "# | export\n",
    "\n",
    "\n",
    "def calculate_temperature_diurnal_pattern(\n",
    "    time_of_the_day: List[\n",
    "        int\n",
    "    ],  # a numeric value of vector indicating the time of the day (in seconds from sunrise)\n",
    "    day_length: int,  # value indicating the duration of the day (in seconds)\n",
    "    tmin: float,  # No info in source code\n",
    "    tmax: float,  # No info in source code\n",
    "    tmin_prev: float,  # No info in source code\n",
    "    tmax_prev: float,  # No info in source code\n",
    "    tmin_next: float,  # No info in source code\n",
    "):\n",
    "    \"Calculated diurnal pattern of temperature assuming a sinusoidal pattern with T = tmin at sunrise and T = (tmin+tmax)/2 at sunset. From sunset to sunrise follows a linear trend\"\n",
    "\n",
    "    # calculate_temperature_diurnal_pattern -------------------------------------\n",
    "\n",
    "    if time_of_the_day < 0.0 or time_of_the_day > day_length:\n",
    "        tfin = 86400.0 - day_length\n",
    "\n",
    "        if time_of_the_day < 0.0:\n",
    "            time_of_the_day = time_of_the_day + 86400.0 - day_length\n",
    "\n",
    "            # Return Temp\n",
    "            return 0.5 * (tmax_prev + tmin_prev) * (\n",
    "                1.0 - (time_of_the_day / tfin)\n",
    "            ) + tmin * (time_of_the_day / tfin)\n",
    "\n",
    "        else:\n",
    "            time_of_the_day = time_of_the_day - day_length\n",
    "\n",
    "            # Return Temp\n",
    "            return 0.5 * (tmax + tmin) * (\n",
    "                1.0 - (time_of_the_day / tfin)\n",
    "            ) + tmin_next * (time_of_the_day / tfin)\n",
    "\n",
    "    else:\n",
    "        ct = cos(1.5 * pi * time_of_the_day / day_length)\n",
    "\n",
    "        # Return Temp\n",
    "        return 0.5 * (tmin + tmax - (tmax - tmin) * ct)"
   ]
  }
 ],
 "metadata": {
  "kernelspec": {
   "display_name": "python3",
   "language": "python",
   "name": "python3"
  }
 },
 "nbformat": 4,
 "nbformat_minor": 4
}
