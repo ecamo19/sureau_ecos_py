{
 "cells": [
  {
   "cell_type": "raw",
   "metadata": {},
   "source": [
    "---\n",
    "description: 'AUTHORS: __Julien Ruffault (julien.ruff@gmail.com), Nicolas Martin-StPaul\n",
    "  (nicolas.martin@inrae.fr)__'\n",
    "output-file: compute_vpd.html\n",
    "title: Compute a stomatal conductance curve\n",
    "---\n",
    "\n"
   ]
  },
  {
   "cell_type": "code",
   "execution_count": null,
   "metadata": {},
   "outputs": [],
   "source": [
    "# | default_exp gs_curve"
   ]
  },
  {
   "cell_type": "code",
   "execution_count": null,
   "metadata": {},
   "outputs": [],
   "source": [
    "# | hide\n",
    "from nbdev.showdoc import *\n",
    "from fastcore.test import *"
   ]
  },
  {
   "cell_type": "code",
   "execution_count": null,
   "metadata": {},
   "outputs": [],
   "source": [
    "# | export\n",
    "import numpy as np\n",
    "#from sureau_ecos_py.plc_comp import plc_comp"
   ]
  },
  {
   "cell_type": "code",
   "execution_count": null,
   "metadata": {},
   "outputs": [],
   "source": [
    "# | export\n",
    "def gs_curve(x:float, # Unknown parameter definition\n",
    "             slope_gs:float, # Unknown parameter definition\n",
    "             p50_gs:float, # Unknown parameter definition\n",
    "             psi_start_closing:float, # Unknown parameter definition\n",
    "             psi_close:float, # Unknown parameter definition\n",
    "             pi_ft:float, # Osmotic potential at full turgor (MPa)\n",
    "             e_symp:float, # Modulus of elastoicoty of the Symplasm (MPa/%)\n",
    "             turgor_pressure_at_gs_max:float, # Unknown parameter definition\n",
    "             gs_max:float, # Unknown parameter definition\n",
    "             transpiration_model: str = [\"jarvis\", \"granier\"], # Transpiration model type\n",
    "             stomatal_reg_formulation: str = [\n",
    "                 \"sigmoid\",\n",
    "                 \"piecewise_linear\",\n",
    "                 \"turgor\",\n",
    "                 ],  # type of regulation to be used for stomatal response to leaf symplasmic water potential, either `sigmoid` or `piecewise_linear`\n",
    "             ) -> float:\n",
    "\n",
    "    \"To obtain plots of the gs regulation curve\"\n",
    "\n",
    "    assert stomatal_reg_formulation in [\n",
    "        \"sigmoid\",\n",
    "        \"piecewise_linear\",\n",
    "        \"turgor\",\n",
    "    ], f'{stomatal_reg_formulation} not a valid option, choose \"sigmoid\", \"piecewise_linear\" or \"turgor\" '\n",
    "\n",
    "    assert transpiration_model in [\n",
    "        \"jarvis\",\n",
    "        \"granier\",\n",
    "    ], f'{transpiration_model} not a valid option, choose  \"jarvis\" or \"granier\"'\n",
    "\n",
    "\n",
    "    if transpiration_model == \"granier\":\n",
    "        gs_max = 1\n",
    "\n",
    "    if stomatal_reg_formulation == \"sigmoid\":\n",
    "        pl_gs = 1 / (1 + np.exp(slope_gs / 25 * (x - p50_gs)))\n",
    "        regul_fact = (1 - pl_gs)\n",
    "\n",
    "    if stomatal_reg_formulation == \"piecewise_linear\":\n",
    "        regul_fact = (x - psi_close) / (psi_start_closing - psi_close)\n",
    "\n",
    "        if regul_fact < 0:\n",
    "            regul_fact = 0\n",
    "\n",
    "        elif regul_fact > 1:\n",
    "            regul_fact = 1\n",
    "\n",
    "        else:\n",
    "            print(\"Original code don't take into account regul_fact between 0 and 1\")\n",
    "\n",
    "    if stomatal_reg_formulation == \"turgor\":\n",
    "        # Only Rs1 is needed above TLP\n",
    "        rs1 = (-1 * (x + pi_ft - e_symp) - np.sqrt((x + pi_ft - e_symp)**2 + 4 * (x * e_symp))) / (2 * e_symp)\n",
    "\n",
    "        # turgor loss point variable created but not used\n",
    "        turgor_loss_point = (pi_ft * e_symp)/(pi_ft + e_symp)\n",
    "\n",
    "        turgor = - pi_ft - e_symp * rs1\n",
    "        regul_fact <- turgor/turgor_pressure_at_gs_max\n",
    "\n",
    "        if regul_fact < 0:\n",
    "            regul_fact = 0\n",
    "\n",
    "        elif regul_fact > 1:\n",
    "            regul_fact = 1\n",
    "\n",
    "        else:\n",
    "            print(\"Original code don't take into account regul_fact between 0 and 1\")\n",
    "\n",
    "    return regul_fact*gs_max"
   ]
  }
 ],
 "metadata": {
  "kernelspec": {
   "display_name": "python3",
   "language": "python",
   "name": "python3"
  }
 },
 "nbformat": 4,
 "nbformat_minor": 4
}
