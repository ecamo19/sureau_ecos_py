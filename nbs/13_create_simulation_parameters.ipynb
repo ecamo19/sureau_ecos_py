{
 "cells": [
  {
   "cell_type": "raw",
   "metadata": {},
   "source": [
    "---\n",
    "description: 'AUTHORS: __Julien Ruffault (julien.ruff@gmail.com), Nicolas Martin-StPaul\n",
    "  (nicolas.martin@inrae.fr)__'\n",
    "output-file: create_simulation_parameters.html\n",
    "title: Create simulation parameters\n",
    "\n",
    "---\n",
    "\n"
   ]
  },
  {
   "cell_type": "code",
   "execution_count": 1,
   "metadata": {},
   "outputs": [],
   "source": [
    "# | default_exp create_simulation_parameters"
   ]
  },
  {
   "cell_type": "code",
   "execution_count": 2,
   "metadata": {},
   "outputs": [],
   "source": [
    "# | hide\n",
    "from nbdev.showdoc import *\n",
    "from fastcore.test import *\n",
    "from fastcore.utils import *"
   ]
  },
  {
   "cell_type": "code",
   "execution_count": 3,
   "metadata": {},
   "outputs": [],
   "source": [
    "# | export\n",
    "import collections\n",
    "import os\n",
    "import shutil\n",
    "from typing import Dict"
   ]
  },
  {
   "cell_type": "code",
   "execution_count": 4,
   "metadata": {},
   "outputs": [],
   "source": [
    "# | export\n",
    "\n",
    "\n",
    "def create_simulation_parameters(\n",
    "    main_dir: str,  # Unknown parameter definition\n",
    "    start_year_simulation: int,  # Integer indicating the starting year for the simulation\n",
    "    end_year_simulation: int,  # Integer indicating the ending year for the simulation (must match the dates of the input climate data file)\n",
    "    output_path: str,  # Path of output result file.\n",
    "    output_type: str = None,  # The output variables of the model that should be written in the output model file.\n",
    "    resolution_output: str = \"subdaily\",  # the resolution chosen to write variables in files, `subdaily`, `daily` or `yearly`.\n",
    "    overwrite: bool = False,  # Indicates whether the output result file can be overwritten if it already exists\n",
    ") -> Dict:\n",
    "    \"Create a dictionary with the simulation parameters to run SureauEcos. Can be used as an input in\"\n",
    "\n",
    "    # Assert parameters ---------------------------------------------------------\n",
    "\n",
    "    # Make sure output_path and main_dir are str\n",
    "    assert isinstance(\n",
    "        output_path, str\n",
    "    ),f\"output_path must be a string not a {type(output_path)}\"\n",
    "\n",
    "    assert isinstance(\n",
    "        main_dir, str\n",
    "    ), f\"main_dir must be a string not a {type(main_dir)}\"\n",
    "\n",
    "    if not os.path.isdir(main_dir):\n",
    "        raise ValueError(\n",
    "            f\"Directory: {main_dir}, does not exist, check presence or spelling\"\n",
    "        )\n",
    "\n",
    "    # Make sure that resolution output only has three options\n",
    "    assert (\n",
    "        resolution_output\n",
    "        in [\n",
    "            \"subdaily\",\n",
    "            \"daily\",\n",
    "            \"yearly\",\n",
    "        ]\n",
    "    ), f'{resolution_output} not a valid option, select \"subdaily\", \"daily\" or \"yearly\"'\n",
    "\n",
    "    # Make sure that output_type only has four options\n",
    "    assert (\n",
    "        output_type\n",
    "        in [\n",
    "            None,\n",
    "            \"simple_subdaily\",\n",
    "            \"simple_daily\",\n",
    "            \"simple_yearly\",\n",
    "        ]\n",
    "    ), f'{output_type} not a valid option, select  None, \"simple_subdaily\", \"simple_daily\" or \"simple_yearly\"'\n",
    "\n",
    "    # Compare end_year_simulation is larger than start_year_simulation\n",
    "    assert (\n",
    "        start_year_simulation <= end_year_simulation\n",
    "    ), f\"start_year_simulation ({start_year_simulation}) is larger than end_year_simulation ({end_year_simulation})  \"\n",
    "\n",
    "    # Create simulation paramters -----------------------------------------------\n",
    "    simulation_parameters = collections.defaultdict(list)\n",
    "\n",
    "    # Add parameters\n",
    "    simulation_parameters[\"main_dir\"] = main_dir\n",
    "    simulation_parameters[\"resolution_output\"] = resolution_output\n",
    "    simulation_parameters[\"start_year_simulation\"] = start_year_simulation\n",
    "    simulation_parameters[\"end_year_simulation\"] = end_year_simulation\n",
    "    simulation_parameters[\"output_path\"] = output_path\n",
    "\n",
    "\n",
    "    if output_type is None:\n",
    "        if resolution_output == \"subdaily\":\n",
    "            simulation_parameters[\"output_type\"] = \"simple_subdaily\"\n",
    "\n",
    "        elif resolution_output == \"daily\":\n",
    "            simulation_parameters[\"output_type\"] = \"simple_daily\"\n",
    "\n",
    "        elif resolution_output == \"yearly\":\n",
    "            simulation_parameters[\"output_type\"] = \"simple_yearly\"\n",
    "    else:\n",
    "        simulation_parameters[\"output_type\"] = output_type\n",
    "\n",
    "    # Create folder for storing output ------------------------------------------\n",
    "\n",
    "    # Join path for storing output\n",
    "    output_path = os.path.join(output_path, \"sureau_output\")\n",
    "\n",
    "    # New folder\n",
    "    if not os.path.exists(output_path):\n",
    "\n",
    "        # Create folder\n",
    "        os.mkdir(output_path)\n",
    "        print(\"Directory for storing output created at {output_path}\")\n",
    "\n",
    "    # Overwrite folder\n",
    "    elif os.path.exists(output_path) and overwrite is True:\n",
    "        shutil.rmtree(output_path)\n",
    "        os.makedirs(output_path)\n",
    "        simulation_parameters[\"output_path\"] = output_path\n",
    "        print(f'Directory ({output_path}) for storing output overwritten')\n",
    "\n",
    "    # Errors\n",
    "    elif os.path.exists(output_path) and overwrite is False:\n",
    "        raise ValueError(\n",
    "            \"File already exists and 'overwrite' option is set to False, change 'output_path' or set 'overwrite' to True\"\n",
    "        )\n",
    "\n",
    "    else:\n",
    "        raise ValueError(\n",
    "            \"Error creating folder in simulation_parameters function\"\n",
    "        )\n",
    "\n",
    "    return simulation_parameters"
   ]
  },
  {
   "cell_type": "markdown",
   "metadata": {},
   "source": [
    "#### __Example: Create simulation parameters dictionary__"
   ]
  },
  {
   "cell_type": "code",
   "execution_count": 5,
   "metadata": {},
   "outputs": [
    {
     "ename": "AssertionError",
     "evalue": "subdail not a valid option, select \"subdaily\", \"daily\" or \"yearly\"",
     "output_type": "error",
     "traceback": [
      "\u001b[0;31m---------------------------------------------------------------------------\u001b[0m",
      "\u001b[0;31mAssertionError\u001b[0m                            Traceback (most recent call last)",
      "Cell \u001b[0;32mIn[5], line 1\u001b[0m\n\u001b[0;32m----> 1\u001b[0m \u001b[43mcreate_simulation_parameters\u001b[49m\u001b[43m(\u001b[49m\n\u001b[1;32m      2\u001b[0m \u001b[43m    \u001b[49m\u001b[43mmain_dir\u001b[49m\u001b[38;5;241;43m=\u001b[39;49m\u001b[38;5;124;43m\"\u001b[39;49m\u001b[38;5;124;43m./sample_data\u001b[39;49m\u001b[38;5;124;43m\"\u001b[39;49m\u001b[43m,\u001b[49m\n\u001b[1;32m      3\u001b[0m \u001b[43m    \u001b[49m\u001b[43mstart_year_simulation\u001b[49m\u001b[38;5;241;43m=\u001b[39;49m\u001b[38;5;241;43m1991\u001b[39;49m\u001b[43m,\u001b[49m\n\u001b[1;32m      4\u001b[0m \u001b[43m    \u001b[49m\u001b[43mend_year_simulation\u001b[49m\u001b[38;5;241;43m=\u001b[39;49m\u001b[38;5;241;43m1991\u001b[39;49m\u001b[43m,\u001b[49m\n\u001b[1;32m      5\u001b[0m \u001b[43m    \u001b[49m\u001b[43moutput_type\u001b[49m\u001b[38;5;241;43m=\u001b[39;49m\u001b[38;5;124;43m\"\u001b[39;49m\u001b[38;5;124;43msimple_daily\u001b[39;49m\u001b[38;5;124;43m\"\u001b[39;49m\u001b[43m,\u001b[49m\n\u001b[1;32m      6\u001b[0m \u001b[43m    \u001b[49m\u001b[43moutput_path\u001b[49m\u001b[38;5;241;43m=\u001b[39;49m\u001b[38;5;124;43m\"\u001b[39;49m\u001b[38;5;124;43m./sample_data\u001b[39;49m\u001b[38;5;124;43m\"\u001b[39;49m\u001b[43m,\u001b[49m\n\u001b[1;32m      7\u001b[0m \u001b[43m    \u001b[49m\u001b[43moverwrite\u001b[49m\u001b[38;5;241;43m=\u001b[39;49m\u001b[38;5;28;43;01mTrue\u001b[39;49;00m\u001b[43m,\u001b[49m\n\u001b[1;32m      8\u001b[0m \u001b[43m    \u001b[49m\u001b[43mresolution_output\u001b[49m\u001b[38;5;241;43m=\u001b[39;49m\u001b[38;5;124;43m\"\u001b[39;49m\u001b[38;5;124;43msubdail\u001b[39;49m\u001b[38;5;124;43m\"\u001b[39;49m\u001b[43m,\u001b[49m\n\u001b[1;32m      9\u001b[0m \u001b[43m)\u001b[49m\n",
      "Cell \u001b[0;32mIn[4], line 32\u001b[0m, in \u001b[0;36mcreate_simulation_parameters\u001b[0;34m(main_dir, start_year_simulation, end_year_simulation, output_path, output_type, resolution_output, overwrite)\u001b[0m\n\u001b[1;32m     27\u001b[0m     \u001b[38;5;28;01mraise\u001b[39;00m \u001b[38;5;167;01mValueError\u001b[39;00m(\n\u001b[1;32m     28\u001b[0m         \u001b[38;5;124mf\u001b[39m\u001b[38;5;124m\"\u001b[39m\u001b[38;5;124mDirectory: \u001b[39m\u001b[38;5;132;01m{\u001b[39;00mmain_dir\u001b[38;5;132;01m}\u001b[39;00m\u001b[38;5;124m, does not exist, check presence or spelling\u001b[39m\u001b[38;5;124m\"\u001b[39m\n\u001b[1;32m     29\u001b[0m     )\n\u001b[1;32m     31\u001b[0m \u001b[38;5;66;03m# Make sure that resolution output only has three options\u001b[39;00m\n\u001b[0;32m---> 32\u001b[0m \u001b[38;5;28;01massert\u001b[39;00m (\n\u001b[1;32m     33\u001b[0m     resolution_output\n\u001b[1;32m     34\u001b[0m     \u001b[38;5;129;01min\u001b[39;00m [\n\u001b[1;32m     35\u001b[0m         \u001b[38;5;124m\"\u001b[39m\u001b[38;5;124msubdaily\u001b[39m\u001b[38;5;124m\"\u001b[39m,\n\u001b[1;32m     36\u001b[0m         \u001b[38;5;124m\"\u001b[39m\u001b[38;5;124mdaily\u001b[39m\u001b[38;5;124m\"\u001b[39m,\n\u001b[1;32m     37\u001b[0m         \u001b[38;5;124m\"\u001b[39m\u001b[38;5;124myearly\u001b[39m\u001b[38;5;124m\"\u001b[39m,\n\u001b[1;32m     38\u001b[0m     ]\n\u001b[1;32m     39\u001b[0m ), \u001b[38;5;124mf\u001b[39m\u001b[38;5;124m'\u001b[39m\u001b[38;5;132;01m{\u001b[39;00mresolution_output\u001b[38;5;132;01m}\u001b[39;00m\u001b[38;5;124m not a valid option, select \u001b[39m\u001b[38;5;124m\"\u001b[39m\u001b[38;5;124msubdaily\u001b[39m\u001b[38;5;124m\"\u001b[39m\u001b[38;5;124m, \u001b[39m\u001b[38;5;124m\"\u001b[39m\u001b[38;5;124mdaily\u001b[39m\u001b[38;5;124m\"\u001b[39m\u001b[38;5;124m or \u001b[39m\u001b[38;5;124m\"\u001b[39m\u001b[38;5;124myearly\u001b[39m\u001b[38;5;124m\"\u001b[39m\u001b[38;5;124m'\u001b[39m\n\u001b[1;32m     41\u001b[0m \u001b[38;5;66;03m# Make sure that output_type only has four options\u001b[39;00m\n\u001b[1;32m     42\u001b[0m \u001b[38;5;28;01massert\u001b[39;00m (\n\u001b[1;32m     43\u001b[0m     output_type\n\u001b[1;32m     44\u001b[0m     \u001b[38;5;129;01min\u001b[39;00m [\n\u001b[0;32m   (...)\u001b[0m\n\u001b[1;32m     49\u001b[0m     ]\n\u001b[1;32m     50\u001b[0m ), \u001b[38;5;124mf\u001b[39m\u001b[38;5;124m'\u001b[39m\u001b[38;5;132;01m{\u001b[39;00moutput_type\u001b[38;5;132;01m}\u001b[39;00m\u001b[38;5;124m not a valid option, select  None, \u001b[39m\u001b[38;5;124m\"\u001b[39m\u001b[38;5;124msimple_subdaily\u001b[39m\u001b[38;5;124m\"\u001b[39m\u001b[38;5;124m, \u001b[39m\u001b[38;5;124m\"\u001b[39m\u001b[38;5;124msimple_daily\u001b[39m\u001b[38;5;124m\"\u001b[39m\u001b[38;5;124m or \u001b[39m\u001b[38;5;124m\"\u001b[39m\u001b[38;5;124msimple_yearly\u001b[39m\u001b[38;5;124m\"\u001b[39m\u001b[38;5;124m'\u001b[39m\n",
      "\u001b[0;31mAssertionError\u001b[0m: subdail not a valid option, select \"subdaily\", \"daily\" or \"yearly\""
     ]
    }
   ],
   "source": [
    "create_simulation_parameters(\n",
    "    main_dir=\"./sample_data\",\n",
    "    start_year_simulation=1991,\n",
    "    end_year_simulation=1991,\n",
    "    output_type=\"simple_daily\",\n",
    "    output_path=\"./sample_data\",\n",
    "    overwrite=True,\n",
    "    resolution_output=\"subdaily\",\n",
    ")"
   ]
  }
 ],
 "metadata": {
  "kernelspec": {
   "display_name": "python3",
   "language": "python",
   "name": "python3"
  },
  "language_info": {
   "codemirror_mode": {
    "name": "ipython",
    "version": 3
   },
   "file_extension": ".py",
   "mimetype": "text/x-python",
   "name": "python",
   "nbconvert_exporter": "python",
   "pygments_lexer": "ipython3",
   "version": "3.9.18"
  }
 },
 "nbformat": 4,
 "nbformat_minor": 4
}
