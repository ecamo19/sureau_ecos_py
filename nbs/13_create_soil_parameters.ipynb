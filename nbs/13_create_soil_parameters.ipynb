{
 "cells": [
  {
   "cell_type": "raw",
   "metadata": {},
   "source": [
    "---\n",
    "description: 'AUTHORS: __Julien Ruffault (julien.ruff@gmail.com), Nicolas Martin-StPaul\n",
    "  (nicolas.martin@inrae.fr)__'\n",
    "output-file: create_soil_parameters.html\n",
    "title: Create soil parameters\n",
    "\n",
    "---\n",
    "\n"
   ]
  },
  {
   "cell_type": "code",
   "execution_count": 6,
   "metadata": {},
   "outputs": [],
   "source": [
    "# | default_exp create_soil_parameters"
   ]
  },
  {
   "cell_type": "code",
   "execution_count": 7,
   "metadata": {},
   "outputs": [],
   "source": [
    "# | hide\n",
    "from nbdev.showdoc import *\n",
    "from fastcore.test import *\n",
    "from fastcore.utils import *"
   ]
  },
  {
   "cell_type": "code",
   "execution_count": 9,
   "metadata": {},
   "outputs": [],
   "source": [
    "# | export\n",
    "from typing import Dict\n",
    "from pathlib import Path\n",
    "import collections\n",
    "import os\n",
    "import warnings\n",
    "import numpy as np\n",
    "from sureau_ecos_py.create_modeling_options import create_modeling_options\n",
    "from sureau_ecos_py.compute_theta_at_given_p_soil import compute_theta_at_given_p_soil\n",
    "from sureau_ecos_py.read_soil_file import read_soil_file"
   ]
  },
  {
   "cell_type": "code",
   "execution_count": 54,
   "metadata": {},
   "outputs": [],
   "source": [
    "# | export\n",
    "def create_soil_parameters(\n",
    "    file_path: Path,  # Path to a csv file containing parameter values i.e path/to/parameter_values.csv\n",
    "    modeling_options: Dict = None,  # Dictionary created using the `create_modeling_options` function\n",
    "    list_of_parameters:List = None,  # A list containing the necessary input parameters instead of reading them in file. Will only be used if 'file_path' arguement is not provided\n",
    "    default_soil: bool = False,  # A logical value indicating whether a default soil should be used  to run tests\n",
    "    offset_psoil: int = 0,  # A numerical value indicating the offset in soil water potential (MPa)\n",
    "    psoil_at_field_capacity:int = 33,\n",
    ") -> Dict:\n",
    "\n",
    "    \"Create a Dictionary with soil parameters to run SureauR\"\n",
    "\n",
    "    # Create empty dictionary\n",
    "    soil_params = collections.defaultdict(list)\n",
    "\n",
    "    # file_path -----------------------------------------------------------------\n",
    "\n",
    "    # Make sure the file_path exist or is None\n",
    "    assert(\n",
    "        file_path is None or os.path.exists(file_path)\n",
    "    ), f'Path: {file_path} not found, check spelling or set file_path = None'\n",
    "\n",
    "\n",
    "    # offset_psoil --------------------------------------------------------------\n",
    "    assert (\n",
    "        offset_psoil >= 0\n",
    "    ), \"offset_psoil must be an integer greater than or equal to 0\"\n",
    "\n",
    "    print(f\"There is an offset on Psoil of {offset_psoil} MPa\")\n",
    "    soil_params[\"offset_psoil\"] = offset_psoil\n",
    "\n",
    "    # psoil_at_field_capacity ---------------------------------------------------\n",
    "    assert (\n",
    "        100 >= psoil_at_field_capacity >= 0\n",
    "    ), \"psoil_at_field_capacity must be an integer in the range between 0 and 100\"\n",
    "\n",
    "    print(f\"Psoil at field capacity = {psoil_at_field_capacity/1000} MPa\")\n",
    "    soil_params[\"psoil_at_field_capacity\"] = psoil_at_field_capacity / 1000\n",
    "\n",
    "    # default soil for tests ----------------------------------------------------\n",
    "    if default_soil is True:\n",
    "        warnings.warn(\"Default soil used (Van-Genuchten Formulation)\")\n",
    "\n",
    "        soil_params[\"pedo_transfer_formulation\"] = \"vg\"\n",
    "        soil_params[\"rock_fragment_content\"] = np.array([40, 75, 90])\n",
    "        soil_params[\"depth\"] = np.array([0.3, 1, 4], dtype=float)\n",
    "\n",
    "        soil_params[\"layer_thickness\"] = np.array([0, 0, 0], dtype=float)\n",
    "\n",
    "        # Get the values of each soil depth\n",
    "        soil_params[\"layer_thickness\"][0] = soil_params[\"depth\"][0]\n",
    "        soil_params[\"layer_thickness\"][1] = (\n",
    "\n",
    "            soil_params[\"depth\"][1] - soil_params[\"depth\"][0]\n",
    "        )\n",
    "        soil_params[\"layer_thickness\"][2] = (\n",
    "            soil_params[\"depth\"][2] - soil_params[\"depth\"][1]\n",
    "        )\n",
    "        soil_params[\"g_soil0\"] = 30\n",
    "\n",
    "        # Van Genuchten parameters\n",
    "\n",
    "        # Shape parameters of the relationship between soil water content and\n",
    "        # soil water potential\n",
    "        soil_params[\"alpha_vg\"] = np.repeat(0.0035, 3)\n",
    "\n",
    "        # Shape parameters of the relationship betwen soil water content and\n",
    "        # soil water potential\n",
    "        soil_params[\"n_vg\"] = np.repeat(1.55, 3)\n",
    "\n",
    "        # m parameters Van Genuchten equations\n",
    "        soil_params[\"m\"] = 1 - (1 / soil_params[\"n_vg\"])\n",
    "\n",
    "        # Shape parameters of the relationship between soil water content and\n",
    "        # soil water potential\n",
    "        soil_params[\"i_vg\"] = np.repeat(0.5, 3)\n",
    "\n",
    "        # Soil conductivity at saturation (mol/m/s/Mpa)\n",
    "        soil_params[\"ksat_vg\"] = np.repeat(1.69, 3)\n",
    "\n",
    "        # Fraction of water at saturation capacity (cm3/cm3)\n",
    "        soil_params[\"saturation_capacity_vg\"] = np.repeat(0.5, 3)\n",
    "\n",
    "        # Fraction of residual water (cm3/cm3)\n",
    "        soil_params[\"residual_capacity_vg\"] = np.repeat(0.1, 3)\n",
    "\n",
    "        # add computation of wilting\n",
    "        soil_params[\"wilting_point\"] = compute_theta_at_given_p_soil(\n",
    "            psi_target=1.5,\n",
    "            theta_res=soil_params[\"residual_capacity_vg\"],\n",
    "            theta_sat=soil_params[\"saturation_capacity_vg\"],\n",
    "            alpha_vg=soil_params[\"alpha_vg\"],\n",
    "            n_vg=soil_params[\"n_vg\"],\n",
    "        )\n",
    "        # add computation of field capacity from functions\n",
    "        soil_params[\"field_capacity\"] = compute_theta_at_given_p_soil(\n",
    "            psi_target=psoil_at_field_capacity,\n",
    "            theta_res=soil_params[\"residual_capacity_vg\"],\n",
    "            theta_sat=soil_params[\"saturation_capacity_vg\"],\n",
    "            alpha_vg=soil_params[\"alpha_vg\"],\n",
    "            n_vg=soil_params[\"n_vg\"],\n",
    "        )\n",
    "        # Soil offset_psoil\n",
    "        soil_params[\"offset_psoil\"] = offset_psoil\n",
    "\n",
    "    if default_soil is False and modeling_options is None:\n",
    "        warnings.warn(\"modeling_options' is missing. Van Genuchten used as default\")\n",
    "        soil_params[\"pedo_transfer_formulation\"] = \"vg\"\n",
    "\n",
    "    if default_soil is False and modeling_options is not None:\n",
    "        print(\n",
    "            f'You are using {modeling_options[\"pedo_transfer_formulation\"]} pedotransfer formulation'\n",
    "        )\n",
    "        soil_params[\"pedo_transfer_formulation\"] = modeling_options[\"pedo_transfer_formulation\"]\n",
    "\n",
    "\n",
    "    # Read soil file ------------------------------------------------------------\n",
    "    if file_path is not None:\n",
    "       soil_params_file = read_soil_file(file_path, modeling_options)\n",
    "\n",
    "    # Read list_of_parameters  --------------------------------------------------\n",
    "    if file_path is None and list_of_parameters is not None:\n",
    "        soil_params_file = list_of_parameters\n",
    "\n",
    "    # Raise error if file_path and list_of_parameters both are missing ----------\n",
    "    if file_path is None and list_of_parameters is None:\n",
    "        raise ValueError(\"Both file_path and list_of_parameters are missing, provide one of them\"\n",
    "        )\n",
    "\n",
    "    # Raise error if file_path and list_of_parameters both are provided ---------\n",
    "    if file_path is not None and list_of_parameters is not None:\n",
    "        raise ValueError(\"Both file_path and list_of_parameters are provided, only one of these two arguments should be used\"\n",
    "        )\n",
    "\n",
    "\n",
    "    return soil_params"
   ]
  },
  {
   "cell_type": "markdown",
   "metadata": {},
   "source": [
    "## Create modeling options dictionary"
   ]
  },
  {
   "cell_type": "code",
   "execution_count": 44,
   "metadata": {},
   "outputs": [],
   "source": [
    "modeling_options_dict = create_modeling_options(\n",
    "    time_step_for_evapo=2,\n",
    "    reset_swc=True,\n",
    "    avoid_water_soil_transfer=True,\n",
    "    constant_climate=False,\n",
    "    defoliation=True,\n",
    "    soil_evapo=True,\n",
    "    threshold_mortality=51,\n",
    "    etp_formulation=\"pt\",\n",
    "    rn_formulation=\"linear\",\n",
    "    comp_options_for_evapo=\"custom\",\n",
    "    stomatal_reg_formulation=\"turgor\",\n",
    "    transpiration_model=\"jarvis\",\n",
    "    numerical_scheme=\"implicit\",\n",
    "    pedo_transfer_formulation=\"campbell\",\n",
    ")\n",
    "\n"
   ]
  },
  {
   "cell_type": "markdown",
   "metadata": {},
   "source": [
    "## Create Soil parameters dictionary"
   ]
  },
  {
   "cell_type": "code",
   "execution_count": 56,
   "metadata": {},
   "outputs": [
    {
     "name": "stdout",
     "output_type": "stream",
     "text": [
      "There is an offset on Psoil of 1 MPa\n",
      "Psoil at field capacity = 0.033 MPa\n"
     ]
    },
    {
     "name": "stderr",
     "output_type": "stream",
     "text": [
      "/tmp/ipykernel_60651/3945327640.py:42: UserWarning: Default soil used (Van-Genuchten Formulation)\n",
      "  warnings.warn(\"Default soil used (Van-Genuchten Formulation)\")\n"
     ]
    },
    {
     "ename": "ValueError",
     "evalue": "Both file_path and list_of_parameters are provided, only one of these two arguments should be used",
     "output_type": "error",
     "traceback": [
      "\u001b[0;31m---------------------------------------------------------------------------\u001b[0m",
      "\u001b[0;31mValueError\u001b[0m                                Traceback (most recent call last)",
      "\u001b[1;32m/workspaces/sureau_ecos_py/nbs/13_create_soil_parameters.ipynb Cell 9\u001b[0m line \u001b[0;36m1\n\u001b[0;32m----> <a href='vscode-notebook-cell://dev-container%2B7b22686f737450617468223a222f55736572732f6563616d6f31392f446f63756d656e74732f70726f6a656374732f7375726561752f7375726561755f65636f735f7079222c226c6f63616c446f636b6572223a66616c73652c2273657474696e6773223a7b22636f6e74657874223a226465736b746f702d6c696e7578227d2c22636f6e66696746696c65223a7b22246d6964223a312c22667350617468223a222f55736572732f6563616d6f31392f446f63756d656e74732f70726f6a656374732f7375726561752f7375726561755f65636f735f70792f2e646576636f6e7461696e65722f646576636f6e7461696e65722e6a736f6e222c2265787465726e616c223a2266696c653a2f2f2f55736572732f6563616d6f31392f446f63756d656e74732f70726f6a656374732f7375726561752f7375726561755f65636f735f70792f2e646576636f6e7461696e65722f646576636f6e7461696e65722e6a736f6e222c2270617468223a222f55736572732f6563616d6f31392f446f63756d656e74732f70726f6a656374732f7375726561752f7375726561755f65636f735f70792f2e646576636f6e7461696e65722f646576636f6e7461696e65722e6a736f6e222c22736368656d65223a2266696c65227d7d/workspaces/sureau_ecos_py/nbs/13_create_soil_parameters.ipynb#W6sdnNjb2RlLXJlbW90ZQ%3D%3D?line=0'>1</a>\u001b[0m create_soil_parameters(\n\u001b[1;32m      <a href='vscode-notebook-cell://dev-container%2B7b22686f737450617468223a222f55736572732f6563616d6f31392f446f63756d656e74732f70726f6a656374732f7375726561752f7375726561755f65636f735f7079222c226c6f63616c446f636b6572223a66616c73652c2273657474696e6773223a7b22636f6e74657874223a226465736b746f702d6c696e7578227d2c22636f6e66696746696c65223a7b22246d6964223a312c22667350617468223a222f55736572732f6563616d6f31392f446f63756d656e74732f70726f6a656374732f7375726561752f7375726561755f65636f735f70792f2e646576636f6e7461696e65722f646576636f6e7461696e65722e6a736f6e222c2265787465726e616c223a2266696c653a2f2f2f55736572732f6563616d6f31392f446f63756d656e74732f70726f6a656374732f7375726561752f7375726561755f65636f735f70792f2e646576636f6e7461696e65722f646576636f6e7461696e65722e6a736f6e222c2270617468223a222f55736572732f6563616d6f31392f446f63756d656e74732f70726f6a656374732f7375726561752f7375726561755f65636f735f70792f2e646576636f6e7461696e65722f646576636f6e7461696e65722e6a736f6e222c22736368656d65223a2266696c65227d7d/workspaces/sureau_ecos_py/nbs/13_create_soil_parameters.ipynb#W6sdnNjb2RlLXJlbW90ZQ%3D%3D?line=1'>2</a>\u001b[0m     file_path\u001b[39m=\u001b[39;49m\u001b[39m\"\u001b[39;49m\u001b[39m./sample_data/soil_example.csv\u001b[39;49m\u001b[39m\"\u001b[39;49m,\n\u001b[1;32m      <a href='vscode-notebook-cell://dev-container%2B7b22686f737450617468223a222f55736572732f6563616d6f31392f446f63756d656e74732f70726f6a656374732f7375726561752f7375726561755f65636f735f7079222c226c6f63616c446f636b6572223a66616c73652c2273657474696e6773223a7b22636f6e74657874223a226465736b746f702d6c696e7578227d2c22636f6e66696746696c65223a7b22246d6964223a312c22667350617468223a222f55736572732f6563616d6f31392f446f63756d656e74732f70726f6a656374732f7375726561752f7375726561755f65636f735f70792f2e646576636f6e7461696e65722f646576636f6e7461696e65722e6a736f6e222c2265787465726e616c223a2266696c653a2f2f2f55736572732f6563616d6f31392f446f63756d656e74732f70726f6a656374732f7375726561752f7375726561755f65636f735f70792f2e646576636f6e7461696e65722f646576636f6e7461696e65722e6a736f6e222c2270617468223a222f55736572732f6563616d6f31392f446f63756d656e74732f70726f6a656374732f7375726561752f7375726561755f65636f735f70792f2e646576636f6e7461696e65722f646576636f6e7461696e65722e6a736f6e222c22736368656d65223a2266696c65227d7d/workspaces/sureau_ecos_py/nbs/13_create_soil_parameters.ipynb#W6sdnNjb2RlLXJlbW90ZQ%3D%3D?line=2'>3</a>\u001b[0m     \u001b[39m#file_path=None,\u001b[39;49;00m\n\u001b[1;32m      <a href='vscode-notebook-cell://dev-container%2B7b22686f737450617468223a222f55736572732f6563616d6f31392f446f63756d656e74732f70726f6a656374732f7375726561752f7375726561755f65636f735f7079222c226c6f63616c446f636b6572223a66616c73652c2273657474696e6773223a7b22636f6e74657874223a226465736b746f702d6c696e7578227d2c22636f6e66696746696c65223a7b22246d6964223a312c22667350617468223a222f55736572732f6563616d6f31392f446f63756d656e74732f70726f6a656374732f7375726561752f7375726561755f65636f735f70792f2e646576636f6e7461696e65722f646576636f6e7461696e65722e6a736f6e222c2265787465726e616c223a2266696c653a2f2f2f55736572732f6563616d6f31392f446f63756d656e74732f70726f6a656374732f7375726561752f7375726561755f65636f735f70792f2e646576636f6e7461696e65722f646576636f6e7461696e65722e6a736f6e222c2270617468223a222f55736572732f6563616d6f31392f446f63756d656e74732f70726f6a656374732f7375726561752f7375726561755f65636f735f70792f2e646576636f6e7461696e65722f646576636f6e7461696e65722e6a736f6e222c22736368656d65223a2266696c65227d7d/workspaces/sureau_ecos_py/nbs/13_create_soil_parameters.ipynb#W6sdnNjb2RlLXJlbW90ZQ%3D%3D?line=3'>4</a>\u001b[0m     modeling_options\u001b[39m=\u001b[39;49mmodeling_options_dict,\n\u001b[1;32m      <a href='vscode-notebook-cell://dev-container%2B7b22686f737450617468223a222f55736572732f6563616d6f31392f446f63756d656e74732f70726f6a656374732f7375726561752f7375726561755f65636f735f7079222c226c6f63616c446f636b6572223a66616c73652c2273657474696e6773223a7b22636f6e74657874223a226465736b746f702d6c696e7578227d2c22636f6e66696746696c65223a7b22246d6964223a312c22667350617468223a222f55736572732f6563616d6f31392f446f63756d656e74732f70726f6a656374732f7375726561752f7375726561755f65636f735f70792f2e646576636f6e7461696e65722f646576636f6e7461696e65722e6a736f6e222c2265787465726e616c223a2266696c653a2f2f2f55736572732f6563616d6f31392f446f63756d656e74732f70726f6a656374732f7375726561752f7375726561755f65636f735f70792f2e646576636f6e7461696e65722f646576636f6e7461696e65722e6a736f6e222c2270617468223a222f55736572732f6563616d6f31392f446f63756d656e74732f70726f6a656374732f7375726561752f7375726561755f65636f735f70792f2e646576636f6e7461696e65722f646576636f6e7461696e65722e6a736f6e222c22736368656d65223a2266696c65227d7d/workspaces/sureau_ecos_py/nbs/13_create_soil_parameters.ipynb#W6sdnNjb2RlLXJlbW90ZQ%3D%3D?line=4'>5</a>\u001b[0m     \u001b[39m#modeling_options=None,\u001b[39;49;00m\n\u001b[1;32m      <a href='vscode-notebook-cell://dev-container%2B7b22686f737450617468223a222f55736572732f6563616d6f31392f446f63756d656e74732f70726f6a656374732f7375726561752f7375726561755f65636f735f7079222c226c6f63616c446f636b6572223a66616c73652c2273657474696e6773223a7b22636f6e74657874223a226465736b746f702d6c696e7578227d2c22636f6e66696746696c65223a7b22246d6964223a312c22667350617468223a222f55736572732f6563616d6f31392f446f63756d656e74732f70726f6a656374732f7375726561752f7375726561755f65636f735f70792f2e646576636f6e7461696e65722f646576636f6e7461696e65722e6a736f6e222c2265787465726e616c223a2266696c653a2f2f2f55736572732f6563616d6f31392f446f63756d656e74732f70726f6a656374732f7375726561752f7375726561755f65636f735f70792f2e646576636f6e7461696e65722f646576636f6e7461696e65722e6a736f6e222c2270617468223a222f55736572732f6563616d6f31392f446f63756d656e74732f70726f6a656374732f7375726561752f7375726561755f65636f735f70792f2e646576636f6e7461696e65722f646576636f6e7461696e65722e6a736f6e222c22736368656d65223a2266696c65227d7d/workspaces/sureau_ecos_py/nbs/13_create_soil_parameters.ipynb#W6sdnNjb2RlLXJlbW90ZQ%3D%3D?line=5'>6</a>\u001b[0m     list_of_parameters\u001b[39m=\u001b[39;49m\u001b[39m\"\u001b[39;49m\u001b[39ma\u001b[39;49m\u001b[39m\"\u001b[39;49m,\n\u001b[1;32m      <a href='vscode-notebook-cell://dev-container%2B7b22686f737450617468223a222f55736572732f6563616d6f31392f446f63756d656e74732f70726f6a656374732f7375726561752f7375726561755f65636f735f7079222c226c6f63616c446f636b6572223a66616c73652c2273657474696e6773223a7b22636f6e74657874223a226465736b746f702d6c696e7578227d2c22636f6e66696746696c65223a7b22246d6964223a312c22667350617468223a222f55736572732f6563616d6f31392f446f63756d656e74732f70726f6a656374732f7375726561752f7375726561755f65636f735f70792f2e646576636f6e7461696e65722f646576636f6e7461696e65722e6a736f6e222c2265787465726e616c223a2266696c653a2f2f2f55736572732f6563616d6f31392f446f63756d656e74732f70726f6a656374732f7375726561752f7375726561755f65636f735f70792f2e646576636f6e7461696e65722f646576636f6e7461696e65722e6a736f6e222c2270617468223a222f55736572732f6563616d6f31392f446f63756d656e74732f70726f6a656374732f7375726561752f7375726561755f65636f735f70792f2e646576636f6e7461696e65722f646576636f6e7461696e65722e6a736f6e222c22736368656d65223a2266696c65227d7d/workspaces/sureau_ecos_py/nbs/13_create_soil_parameters.ipynb#W6sdnNjb2RlLXJlbW90ZQ%3D%3D?line=6'>7</a>\u001b[0m     default_soil\u001b[39m=\u001b[39;49m\u001b[39mTrue\u001b[39;49;00m,\n\u001b[1;32m      <a href='vscode-notebook-cell://dev-container%2B7b22686f737450617468223a222f55736572732f6563616d6f31392f446f63756d656e74732f70726f6a656374732f7375726561752f7375726561755f65636f735f7079222c226c6f63616c446f636b6572223a66616c73652c2273657474696e6773223a7b22636f6e74657874223a226465736b746f702d6c696e7578227d2c22636f6e66696746696c65223a7b22246d6964223a312c22667350617468223a222f55736572732f6563616d6f31392f446f63756d656e74732f70726f6a656374732f7375726561752f7375726561755f65636f735f70792f2e646576636f6e7461696e65722f646576636f6e7461696e65722e6a736f6e222c2265787465726e616c223a2266696c653a2f2f2f55736572732f6563616d6f31392f446f63756d656e74732f70726f6a656374732f7375726561752f7375726561755f65636f735f70792f2e646576636f6e7461696e65722f646576636f6e7461696e65722e6a736f6e222c2270617468223a222f55736572732f6563616d6f31392f446f63756d656e74732f70726f6a656374732f7375726561752f7375726561755f65636f735f70792f2e646576636f6e7461696e65722f646576636f6e7461696e65722e6a736f6e222c22736368656d65223a2266696c65227d7d/workspaces/sureau_ecos_py/nbs/13_create_soil_parameters.ipynb#W6sdnNjb2RlLXJlbW90ZQ%3D%3D?line=7'>8</a>\u001b[0m     offset_psoil\u001b[39m=\u001b[39;49m\u001b[39m1\u001b[39;49m,\n\u001b[1;32m      <a href='vscode-notebook-cell://dev-container%2B7b22686f737450617468223a222f55736572732f6563616d6f31392f446f63756d656e74732f70726f6a656374732f7375726561752f7375726561755f65636f735f7079222c226c6f63616c446f636b6572223a66616c73652c2273657474696e6773223a7b22636f6e74657874223a226465736b746f702d6c696e7578227d2c22636f6e66696746696c65223a7b22246d6964223a312c22667350617468223a222f55736572732f6563616d6f31392f446f63756d656e74732f70726f6a656374732f7375726561752f7375726561755f65636f735f70792f2e646576636f6e7461696e65722f646576636f6e7461696e65722e6a736f6e222c2265787465726e616c223a2266696c653a2f2f2f55736572732f6563616d6f31392f446f63756d656e74732f70726f6a656374732f7375726561752f7375726561755f65636f735f70792f2e646576636f6e7461696e65722f646576636f6e7461696e65722e6a736f6e222c2270617468223a222f55736572732f6563616d6f31392f446f63756d656e74732f70726f6a656374732f7375726561752f7375726561755f65636f735f70792f2e646576636f6e7461696e65722f646576636f6e7461696e65722e6a736f6e222c22736368656d65223a2266696c65227d7d/workspaces/sureau_ecos_py/nbs/13_create_soil_parameters.ipynb#W6sdnNjb2RlLXJlbW90ZQ%3D%3D?line=8'>9</a>\u001b[0m     psoil_at_field_capacity\u001b[39m=\u001b[39;49m\u001b[39m33\u001b[39;49m,\n\u001b[1;32m     <a href='vscode-notebook-cell://dev-container%2B7b22686f737450617468223a222f55736572732f6563616d6f31392f446f63756d656e74732f70726f6a656374732f7375726561752f7375726561755f65636f735f7079222c226c6f63616c446f636b6572223a66616c73652c2273657474696e6773223a7b22636f6e74657874223a226465736b746f702d6c696e7578227d2c22636f6e66696746696c65223a7b22246d6964223a312c22667350617468223a222f55736572732f6563616d6f31392f446f63756d656e74732f70726f6a656374732f7375726561752f7375726561755f65636f735f70792f2e646576636f6e7461696e65722f646576636f6e7461696e65722e6a736f6e222c2265787465726e616c223a2266696c653a2f2f2f55736572732f6563616d6f31392f446f63756d656e74732f70726f6a656374732f7375726561752f7375726561755f65636f735f70792f2e646576636f6e7461696e65722f646576636f6e7461696e65722e6a736f6e222c2270617468223a222f55736572732f6563616d6f31392f446f63756d656e74732f70726f6a656374732f7375726561752f7375726561755f65636f735f70792f2e646576636f6e7461696e65722f646576636f6e7461696e65722e6a736f6e222c22736368656d65223a2266696c65227d7d/workspaces/sureau_ecos_py/nbs/13_create_soil_parameters.ipynb#W6sdnNjb2RlLXJlbW90ZQ%3D%3D?line=9'>10</a>\u001b[0m )\n",
      "\u001b[1;32m/workspaces/sureau_ecos_py/nbs/13_create_soil_parameters.ipynb Cell 9\u001b[0m line \u001b[0;36m1\n\u001b[1;32m    <a href='vscode-notebook-cell://dev-container%2B7b22686f737450617468223a222f55736572732f6563616d6f31392f446f63756d656e74732f70726f6a656374732f7375726561752f7375726561755f65636f735f7079222c226c6f63616c446f636b6572223a66616c73652c2273657474696e6773223a7b22636f6e74657874223a226465736b746f702d6c696e7578227d2c22636f6e66696746696c65223a7b22246d6964223a312c22667350617468223a222f55736572732f6563616d6f31392f446f63756d656e74732f70726f6a656374732f7375726561752f7375726561755f65636f735f70792f2e646576636f6e7461696e65722f646576636f6e7461696e65722e6a736f6e222c2265787465726e616c223a2266696c653a2f2f2f55736572732f6563616d6f31392f446f63756d656e74732f70726f6a656374732f7375726561752f7375726561755f65636f735f70792f2e646576636f6e7461696e65722f646576636f6e7461696e65722e6a736f6e222c2270617468223a222f55736572732f6563616d6f31392f446f63756d656e74732f70726f6a656374732f7375726561752f7375726561755f65636f735f70792f2e646576636f6e7461696e65722f646576636f6e7461696e65722e6a736f6e222c22736368656d65223a2266696c65227d7d/workspaces/sureau_ecos_py/nbs/13_create_soil_parameters.ipynb#W6sdnNjb2RlLXJlbW90ZQ%3D%3D?line=129'>130</a>\u001b[0m \u001b[39m# Raise error if file_path and list_of_parameters both are provided ---------\u001b[39;00m\n\u001b[1;32m    <a href='vscode-notebook-cell://dev-container%2B7b22686f737450617468223a222f55736572732f6563616d6f31392f446f63756d656e74732f70726f6a656374732f7375726561752f7375726561755f65636f735f7079222c226c6f63616c446f636b6572223a66616c73652c2273657474696e6773223a7b22636f6e74657874223a226465736b746f702d6c696e7578227d2c22636f6e66696746696c65223a7b22246d6964223a312c22667350617468223a222f55736572732f6563616d6f31392f446f63756d656e74732f70726f6a656374732f7375726561752f7375726561755f65636f735f70792f2e646576636f6e7461696e65722f646576636f6e7461696e65722e6a736f6e222c2265787465726e616c223a2266696c653a2f2f2f55736572732f6563616d6f31392f446f63756d656e74732f70726f6a656374732f7375726561752f7375726561755f65636f735f70792f2e646576636f6e7461696e65722f646576636f6e7461696e65722e6a736f6e222c2270617468223a222f55736572732f6563616d6f31392f446f63756d656e74732f70726f6a656374732f7375726561752f7375726561755f65636f735f70792f2e646576636f6e7461696e65722f646576636f6e7461696e65722e6a736f6e222c22736368656d65223a2266696c65227d7d/workspaces/sureau_ecos_py/nbs/13_create_soil_parameters.ipynb#W6sdnNjb2RlLXJlbW90ZQ%3D%3D?line=130'>131</a>\u001b[0m \u001b[39mif\u001b[39;00m file_path \u001b[39mis\u001b[39;00m \u001b[39mnot\u001b[39;00m \u001b[39mNone\u001b[39;00m \u001b[39mand\u001b[39;00m list_of_parameters \u001b[39mis\u001b[39;00m \u001b[39mnot\u001b[39;00m \u001b[39mNone\u001b[39;00m:\n\u001b[0;32m--> <a href='vscode-notebook-cell://dev-container%2B7b22686f737450617468223a222f55736572732f6563616d6f31392f446f63756d656e74732f70726f6a656374732f7375726561752f7375726561755f65636f735f7079222c226c6f63616c446f636b6572223a66616c73652c2273657474696e6773223a7b22636f6e74657874223a226465736b746f702d6c696e7578227d2c22636f6e66696746696c65223a7b22246d6964223a312c22667350617468223a222f55736572732f6563616d6f31392f446f63756d656e74732f70726f6a656374732f7375726561752f7375726561755f65636f735f70792f2e646576636f6e7461696e65722f646576636f6e7461696e65722e6a736f6e222c2265787465726e616c223a2266696c653a2f2f2f55736572732f6563616d6f31392f446f63756d656e74732f70726f6a656374732f7375726561752f7375726561755f65636f735f70792f2e646576636f6e7461696e65722f646576636f6e7461696e65722e6a736f6e222c2270617468223a222f55736572732f6563616d6f31392f446f63756d656e74732f70726f6a656374732f7375726561752f7375726561755f65636f735f70792f2e646576636f6e7461696e65722f646576636f6e7461696e65722e6a736f6e222c22736368656d65223a2266696c65227d7d/workspaces/sureau_ecos_py/nbs/13_create_soil_parameters.ipynb#W6sdnNjb2RlLXJlbW90ZQ%3D%3D?line=131'>132</a>\u001b[0m     \u001b[39mraise\u001b[39;00m \u001b[39mValueError\u001b[39;00m(\u001b[39m\"\u001b[39m\u001b[39mBoth file_path and list_of_parameters are provided, only one of these two arguments should be used\u001b[39m\u001b[39m\"\u001b[39m\n\u001b[1;32m    <a href='vscode-notebook-cell://dev-container%2B7b22686f737450617468223a222f55736572732f6563616d6f31392f446f63756d656e74732f70726f6a656374732f7375726561752f7375726561755f65636f735f7079222c226c6f63616c446f636b6572223a66616c73652c2273657474696e6773223a7b22636f6e74657874223a226465736b746f702d6c696e7578227d2c22636f6e66696746696c65223a7b22246d6964223a312c22667350617468223a222f55736572732f6563616d6f31392f446f63756d656e74732f70726f6a656374732f7375726561752f7375726561755f65636f735f70792f2e646576636f6e7461696e65722f646576636f6e7461696e65722e6a736f6e222c2265787465726e616c223a2266696c653a2f2f2f55736572732f6563616d6f31392f446f63756d656e74732f70726f6a656374732f7375726561752f7375726561755f65636f735f70792f2e646576636f6e7461696e65722f646576636f6e7461696e65722e6a736f6e222c2270617468223a222f55736572732f6563616d6f31392f446f63756d656e74732f70726f6a656374732f7375726561752f7375726561755f65636f735f70792f2e646576636f6e7461696e65722f646576636f6e7461696e65722e6a736f6e222c22736368656d65223a2266696c65227d7d/workspaces/sureau_ecos_py/nbs/13_create_soil_parameters.ipynb#W6sdnNjb2RlLXJlbW90ZQ%3D%3D?line=132'>133</a>\u001b[0m     )\n\u001b[1;32m    <a href='vscode-notebook-cell://dev-container%2B7b22686f737450617468223a222f55736572732f6563616d6f31392f446f63756d656e74732f70726f6a656374732f7375726561752f7375726561755f65636f735f7079222c226c6f63616c446f636b6572223a66616c73652c2273657474696e6773223a7b22636f6e74657874223a226465736b746f702d6c696e7578227d2c22636f6e66696746696c65223a7b22246d6964223a312c22667350617468223a222f55736572732f6563616d6f31392f446f63756d656e74732f70726f6a656374732f7375726561752f7375726561755f65636f735f70792f2e646576636f6e7461696e65722f646576636f6e7461696e65722e6a736f6e222c2265787465726e616c223a2266696c653a2f2f2f55736572732f6563616d6f31392f446f63756d656e74732f70726f6a656374732f7375726561752f7375726561755f65636f735f70792f2e646576636f6e7461696e65722f646576636f6e7461696e65722e6a736f6e222c2270617468223a222f55736572732f6563616d6f31392f446f63756d656e74732f70726f6a656374732f7375726561752f7375726561755f65636f735f70792f2e646576636f6e7461696e65722f646576636f6e7461696e65722e6a736f6e222c22736368656d65223a2266696c65227d7d/workspaces/sureau_ecos_py/nbs/13_create_soil_parameters.ipynb#W6sdnNjb2RlLXJlbW90ZQ%3D%3D?line=135'>136</a>\u001b[0m \u001b[39mreturn\u001b[39;00m soil_params\n",
      "\u001b[0;31mValueError\u001b[0m: Both file_path and list_of_parameters are provided, only one of these two arguments should be used"
     ]
    }
   ],
   "source": [
    "create_soil_parameters(\n",
    "    file_path=\"./sample_data/soil_example.csv\",\n",
    "    modeling_options=modeling_options_dict,\n",
    "    list_of_parameters=\"a\",\n",
    "    default_soil=True,\n",
    "    offset_psoil=1,\n",
    "    psoil_at_field_capacity=33,\n",
    ")"
   ]
  }
 ],
 "metadata": {
  "kernelspec": {
   "display_name": "python3",
   "language": "python",
   "name": "python3"
  },
  "language_info": {
   "codemirror_mode": {
    "name": "ipython",
    "version": 3
   },
   "file_extension": ".py",
   "mimetype": "text/x-python",
   "name": "python",
   "nbconvert_exporter": "python",
   "pygments_lexer": "ipython3",
   "version": "3.9.18"
  }
 },
 "nbformat": 4,
 "nbformat_minor": 4
}
