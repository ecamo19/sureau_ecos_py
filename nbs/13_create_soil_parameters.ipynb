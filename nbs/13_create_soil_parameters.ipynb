{
 "cells": [
  {
   "cell_type": "raw",
   "metadata": {},
   "source": [
    "---\n",
    "description: 'AUTHORS: __Julien Ruffault (julien.ruff@gmail.com), Nicolas Martin-StPaul\n",
    "  (nicolas.martin@inrae.fr)__'\n",
    "output-file: create_soil_parameters.html\n",
    "title: Create soil parameters\n",
    "\n",
    "---\n",
    "\n"
   ]
  },
  {
   "cell_type": "code",
   "execution_count": null,
   "metadata": {},
   "outputs": [],
   "source": [
    "# | default_exp create_soil_parameters"
   ]
  },
  {
   "cell_type": "code",
   "execution_count": null,
   "metadata": {},
   "outputs": [],
   "source": [
    "# | hide\n",
    "from nbdev.showdoc import *\n",
    "from fastcore.test import *\n",
    "from fastcore.utils import *"
   ]
  },
  {
   "cell_type": "code",
   "execution_count": null,
   "metadata": {},
   "outputs": [],
   "source": [
    "# | export\n",
    "from typing import Dict\n",
    "from pathlib import Path\n",
    "import collections\n",
    "import warnings\n",
    "import numpy as np\n",
    "from sureau_ecos_py.create_modeling_options import create_modeling_options\n",
    "#from sureau_ecos_py.soi"
   ]
  },
  {
   "cell_type": "code",
   "execution_count": null,
   "metadata": {},
   "outputs": [],
   "source": [
    "# | export\n",
    "def create_soil_parameters(\n",
    "    file_path: Path = None,  # Path to a csv file containing parameter values i.e path/to/parameter_values.csv\n",
    "    modeling_options: Dict = None,  # Dictionary created using the `create_modeling_options` function\n",
    "    list_of_parameters=None,  # A list containing the necessary input parameters instead of reading them in file. Will only be used if 'filePath' arguement is not provided\n",
    "    default_soil: bool = False,  # A logical value indicating whether a default soil should be used  to run tests\n",
    "    offset_psoil: int = 0,  # A numerical value indicating the offset in soil water potential (MPa)\n",
    "    psoil_at_field_capacity=33,\n",
    ") -> Dict:\n",
    "    \"\"\"\n",
    "    Create a list with soil parameters to run SureauR\n",
    "    \"\"\"\n",
    "    # Create empty dictionary\n",
    "    soil_params = collections.defaultdict(list)\n",
    "\n",
    "    # offset_psoil -----------------------------------------------------------------------------------\n",
    "    assert (\n",
    "        offset_psoil >= 0\n",
    "    ), \"offset_psoil must be an integer greater than or equal to 0\"\n",
    "    print(f\"There is an offset on Psoil of {offset_psoil} MPa\")\n",
    "    soil_params[\"offset_psoil\"] = offset_psoil\n",
    "\n",
    "    # psoil_at_field_capacity -------------------------------------------------------------------------\n",
    "    assert (\n",
    "        100 >= psoil_at_field_capacity >= 0\n",
    "    ), \"psoil_at_field_capacity must be an integer in the range between 0 and 100\"\n",
    "    print(f\"Psoil at field capacity = {psoil_at_field_capacity/1000} MPa\")\n",
    "    soil_params[\"psoil_at_field_capacity\"] = psoil_at_field_capacity / 1000\n",
    "\n",
    "    # default soil for tests --------------------------------------------------------------------------\n",
    "    if default_soil is True:\n",
    "        warnings.warn(\"Default soil used (Van-Genuchten Formulation)\")\n",
    "\n",
    "        soil_params[\"pedo_transfer_formulation\"] = \"vg\"\n",
    "        soil_params[\"rock_fragment_content\"] = np.array([40, 75, 90])\n",
    "        soil_params[\"depth\"] = np.array([0.3, 1, 4], dtype=float)\n",
    "        soil_params[\"layer_thickness\"] = np.array([0, 0, 0], dtype=float)\n",
    "        soil_params[\"layer_thickness\"][0] = soil_params[\"depth\"][0]\n",
    "        soil_params[\"layer_thickness\"][1] = (\n",
    "            soil_params[\"depth\"][1] - soil_params[\"depth\"][0]\n",
    "        )\n",
    "        soil_params[\"layer_thickness\"][2] = (\n",
    "            soil_params[\"depth\"][2] - soil_params[\"depth\"][1]\n",
    "        )\n",
    "        soil_params[\"g_soil0\"] = 30\n",
    "\n",
    "        # Van Genuchten parameters\n",
    "\n",
    "        # Shape parameters of the relationship between soil water content and soil water potential\n",
    "        soil_params[\"alpha_vg\"] = np.repeat(0.0035, 3)\n",
    "\n",
    "        # Shape parameters of the relationship betwen soil water content and soil water potential\n",
    "        soil_params[\"n_vg\"] = np.repeat(1.55, 3)\n",
    "\n",
    "        # m parameters Van Genuchten equations\n",
    "        soil_params[\"m\"] = 1 - (1 / soil_params[\"n_vg\"])\n",
    "\n",
    "        # Shape parameters of the relationship between soil water content and soil water potential\n",
    "        soil_params[\"i_vg\"] = np.repeat(0.5, 3)\n",
    "\n",
    "        # Soil conductivity at saturation (mol/m/s/Mpa)\n",
    "        soil_params[\"ksat_vg\"] = np.repeat(1.69, 3)\n",
    "\n",
    "        # Fraction of water at saturation capacity (cm3/cm3)\n",
    "        soil_params[\"saturation_capacity_vg\"] = np.repeat(0.5, 3)\n",
    "\n",
    "        # Fraction of residual water (cm3/cm3)\n",
    "        soil_params[\"residual_capacity_vg\"] = np.repeat(0.1, 3)\n",
    "\n",
    "        # add computation of wilting and field capacity from functions\n",
    "        # soil_params[\"wilting_point\"] = compute_theta_at_given_psoil(psi_target = 1.5,\n",
    "        #                                                            theta_res = soil_params[\"residual_capacity_vg\"],\n",
    "        #                                                            theta_sat = soil_params[\"saturation_capacity_vg\"],\n",
    "        #                                                            alpha_vg = soil_params[\"alpha_vg\"],\n",
    "        #                                                            n_vg = soil_params[\"n_vg\"]\n",
    "        #                                                            )\n",
    "\n",
    "    return soil_params"
   ]
  },
  {
   "cell_type": "code",
   "execution_count": null,
   "metadata": {},
   "outputs": [
    {
     "name": "stdout",
     "output_type": "stream",
     "text": [
      "There is an offset on Psoil of 1 MPa\n",
      "Psoil at field capacity = 0.033 MPa\n"
     ]
    },
    {
     "name": "stderr",
     "output_type": "stream",
     "text": [
      "/tmp/ipykernel_9129/1702863119.py:29: UserWarning: Default soil used (Van-Genuchten Formulation)\n",
      "  warnings.warn(\"Default soil used (Van-Genuchten Formulation)\")\n"
     ]
    },
    {
     "data": {
      "text/plain": [
       "defaultdict(list,\n",
       "            {'offset_psoil': 1,\n",
       "             'psoil_at_field_capacity': 0.033,\n",
       "             'pedo_transfer_formulation': 'vg',\n",
       "             'rock_fragment_content': array([40, 75, 90]),\n",
       "             'depth': array([0.3, 1. , 4. ]),\n",
       "             'layer_thickness': array([0.3, 0.7, 3. ]),\n",
       "             'g_soil0': 30,\n",
       "             'alpha_vg': array([0.0035, 0.0035, 0.0035]),\n",
       "             'n_vg': array([1.55, 1.55, 1.55]),\n",
       "             'm': array([0.35483871, 0.35483871, 0.35483871]),\n",
       "             'i_vg': array([0.5, 0.5, 0.5]),\n",
       "             'ksat_vg': array([1.69, 1.69, 1.69]),\n",
       "             'saturation_capacity_vg': array([0.5, 0.5, 0.5]),\n",
       "             'residual_capacity_vg': array([0.1, 0.1, 0.1])})"
      ]
     },
     "execution_count": null,
     "metadata": {},
     "output_type": "execute_result"
    }
   ],
   "source": [
    "create_soil_parameters(\n",
    "    file_path=\"a\",\n",
    "    modeling_options=None,\n",
    "    list_of_parameters=None,\n",
    "    default_soil=True,\n",
    "    offset_psoil=1,\n",
    "    psoil_at_field_capacity=33,\n",
    ")"
   ]
  },
  {
   "cell_type": "code",
   "execution_count": null,
   "metadata": {},
   "outputs": [
    {
     "data": {
      "text/plain": [
       "0.3548387096774194"
      ]
     },
     "execution_count": null,
     "metadata": {},
     "output_type": "execute_result"
    }
   ],
   "source": [
    "1 - (1 / 1.55)"
   ]
  }
 ],
 "metadata": {
  "kernelspec": {
   "display_name": "python3",
   "language": "python",
   "name": "python3"
  }
 },
 "nbformat": 4,
 "nbformat_minor": 4
}
