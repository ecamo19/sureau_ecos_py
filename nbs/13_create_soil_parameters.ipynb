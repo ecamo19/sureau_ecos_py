{
 "cells": [
  {
   "cell_type": "raw",
   "metadata": {},
   "source": [
    "---\n",
    "description: 'AUTHORS: __Julien Ruffault (julien.ruff@gmail.com), Nicolas Martin-StPaul\n",
    "  (nicolas.martin@inrae.fr)__'\n",
    "output-file: create_soil_parameters.html\n",
    "title: Create soil parameters\n",
    "\n",
    "---\n",
    "\n"
   ]
  },
  {
   "cell_type": "code",
   "execution_count": null,
   "metadata": {
    "vscode": {
     "languageId": "python"
    }
   },
   "outputs": [],
   "source": [
    "# | default_exp create_soil_parameters"
   ]
  },
  {
   "cell_type": "code",
   "execution_count": null,
   "metadata": {
    "vscode": {
     "languageId": "python"
    }
   },
   "outputs": [],
   "source": [
    "# | hide\n",
    "from nbdev.showdoc import *\n",
    "from fastcore.test import *\n",
    "from fastcore.utils import *"
   ]
  },
  {
   "cell_type": "code",
   "execution_count": 69,
   "metadata": {
    "vscode": {
     "languageId": "python"
    }
   },
   "outputs": [],
   "source": [
    "# | export\n",
    "from typing import Dict\n",
    "from pathlib import Path\n",
    "import collections\n",
    "import warnings\n",
    "import numpy as np\n",
    "from sureau_ecos_py.create_modeling_options import create_modeling_options\n",
    "from sureau_ecos_py.compute_theta_at_given_p_soil import compute_theta_at_given_p_soil"
   ]
  },
  {
   "cell_type": "code",
   "execution_count": 74,
   "metadata": {
    "vscode": {
     "languageId": "python"
    }
   },
   "outputs": [],
   "source": [
    "# | export\n",
    "def create_soil_parameters(\n",
    "    file_path: Path,  # Path to a csv file containing parameter values i.e path/to/parameter_values.csv\n",
    "    modeling_options: Dict = None,  # Dictionary created using the `create_modeling_options` function\n",
    "    list_of_parameters=None,  # A list containing the necessary input parameters instead of reading them in file. Will only be used if 'filePath' arguement is not provided\n",
    "    default_soil: bool = False,  # A logical value indicating whether a default soil should be used  to run tests\n",
    "    offset_psoil: int = 0,  # A numerical value indicating the offset in soil water potential (MPa)\n",
    "    psoil_at_field_capacity=33,\n",
    ") -> Dict:\n",
    "\n",
    "    \"\"\"\n",
    "    Create a list with soil parameters to run SureauR\n",
    "    \"\"\"\n",
    "    # Create empty dictionary\n",
    "    soil_params = collections.defaultdict(list)\n",
    "\n",
    "    # file_path -----------------------------------------------------------------\n",
    "\n",
    "    #TTT = read_soil_file(file_path, modeling_options)\n",
    "\n",
    "    # offset_psoil --------------------------------------------------------------\n",
    "    assert (\n",
    "        offset_psoil >= 0\n",
    "    ), \"offset_psoil must be an integer greater than or equal to 0\"\n",
    "\n",
    "    print(f\"There is an offset on Psoil of {offset_psoil} MPa\")\n",
    "    soil_params[\"offset_psoil\"] = offset_psoil\n",
    "\n",
    "    # psoil_at_field_capacity ---------------------------------------------------\n",
    "    assert (\n",
    "        100 >= psoil_at_field_capacity >= 0\n",
    "    ), \"psoil_at_field_capacity must be an integer in the range between 0 and 100\"\n",
    "\n",
    "    print(f\"Psoil at field capacity = {psoil_at_field_capacity/1000} MPa\")\n",
    "    soil_params[\"psoil_at_field_capacity\"] = psoil_at_field_capacity / 1000\n",
    "\n",
    "    # default soil for tests ----------------------------------------------------\n",
    "    if default_soil is True:\n",
    "        warnings.warn(\"Default soil used (Van-Genuchten Formulation)\")\n",
    "\n",
    "        soil_params[\"pedo_transfer_formulation\"] = \"vg\"\n",
    "        soil_params[\"rock_fragment_content\"] = np.array([40, 75, 90])\n",
    "        soil_params[\"depth\"] = np.array([0.3, 1, 4], dtype=float)\n",
    "        soil_params[\"layer_thickness\"] = np.array([0, 0, 0], dtype=float)\n",
    "        soil_params[\"layer_thickness\"][0] = soil_params[\"depth\"][0]\n",
    "        soil_params[\"layer_thickness\"][1] = (\n",
    "            soil_params[\"depth\"][1] - soil_params[\"depth\"][0]\n",
    "        )\n",
    "        soil_params[\"layer_thickness\"][2] = (\n",
    "            soil_params[\"depth\"][2] - soil_params[\"depth\"][1]\n",
    "        )\n",
    "        soil_params[\"g_soil0\"] = 30\n",
    "\n",
    "        # Van Genuchten parameters\n",
    "\n",
    "        # Shape parameters of the relationship between soil water content and\n",
    "        # soil water potential\n",
    "        soil_params[\"alpha_vg\"] = np.repeat(0.0035, 3)\n",
    "\n",
    "        # Shape parameters of the relationship betwen soil water content and\n",
    "        # soil water potential\n",
    "        soil_params[\"n_vg\"] = np.repeat(1.55, 3)\n",
    "\n",
    "        # m parameters Van Genuchten equations\n",
    "        soil_params[\"m\"] = 1 - (1 / soil_params[\"n_vg\"])\n",
    "\n",
    "        # Shape parameters of the relationship between soil water content and\n",
    "        # soil water potential\n",
    "        soil_params[\"i_vg\"] = np.repeat(0.5, 3)\n",
    "\n",
    "        # Soil conductivity at saturation (mol/m/s/Mpa)\n",
    "        soil_params[\"ksat_vg\"] = np.repeat(1.69, 3)\n",
    "\n",
    "        # Fraction of water at saturation capacity (cm3/cm3)\n",
    "        soil_params[\"saturation_capacity_vg\"] = np.repeat(0.5, 3)\n",
    "\n",
    "        # Fraction of residual water (cm3/cm3)\n",
    "        soil_params[\"residual_capacity_vg\"] = np.repeat(0.1, 3)\n",
    "\n",
    "        # add computation of wilting\n",
    "        soil_params[\"wilting_point\"] = compute_theta_at_given_p_soil(psi_target = 1.5,\n",
    "                                                                    theta_res = soil_params[\"residual_capacity_vg\"],\n",
    "                                                                    theta_sat = soil_params[\"saturation_capacity_vg\"],\n",
    "                                                                    alpha_vg = soil_params[\"alpha_vg\"],\n",
    "                                                                    n_vg = soil_params[\"n_vg\"]\n",
    "                                                                    )\n",
    "        # add computation of field capacity from functions\n",
    "        soil_params[\"field_capacity\"] = compute_theta_at_given_p_soil(psi_target = psoil_at_field_capacity,\n",
    "                                                                    theta_res = soil_params[\"residual_capacity_vg\"],\n",
    "                                                                    theta_sat = soil_params[\"saturation_capacity_vg\"],\n",
    "                                                                    alpha_vg = soil_params[\"alpha_vg\"],\n",
    "                                                                    n_vg = soil_params[\"n_vg\"]\n",
    "                                                                    )\n",
    "        # Soil offset_psoil\n",
    "        soil_params[\"offset_psoil\"] = offset_psoil\n",
    "\n",
    "    if default_soil is False and modeling_options is None:\n",
    "        warnings.warn(\"modeling_options' is missing. Van Genuchten used as default\")\n",
    "        soil_params[\"pedo_transfer_formulation\"] = \"vg\"\n",
    "\n",
    "    if default_soil is False and modeling_options is not None:\n",
    "        print(f'You are using {modeling_options[\"pedo_transfer_formulation\"]} pedotransfer formulation')\n",
    "\n",
    "\n",
    "    # Read soil file\n",
    "    if file_path is None:\n",
    "        print(\"path not found\")\n",
    "\n",
    "\n",
    "    return soil_params"
   ]
  },
  {
   "cell_type": "code",
   "execution_count": 81,
   "metadata": {
    "vscode": {
     "languageId": "python"
    }
   },
   "outputs": [
    {
     "ename": "AssertionError",
     "evalue": "aa not a valid option, choose \"vg\" or \"campbell\" ",
     "output_type": "error",
     "traceback": [
      "\u001b[0;31m---------------------------------------------------------------------------\u001b[0m",
      "\u001b[0;31mAssertionError\u001b[0m                            Traceback (most recent call last)",
      "\u001b[1;32m/workspaces/sureau_ecos_py/nbs/13_create_soil_parameters.ipynb Cell 6\u001b[0m line \u001b[0;36m1\n\u001b[0;32m----> <a href='vscode-notebook-cell://dev-container%2B7b22686f737450617468223a222f55736572732f6563616d6f31392f446f63756d656e74732f70726f6a656374732f7375726561752f7375726561755f65636f735f7079222c226c6f63616c446f636b6572223a66616c73652c2273657474696e6773223a7b22636f6e74657874223a226465736b746f702d6c696e7578227d2c22636f6e66696746696c65223a7b22246d6964223a312c22667350617468223a222f55736572732f6563616d6f31392f446f63756d656e74732f70726f6a656374732f7375726561752f7375726561755f65636f735f70792f2e646576636f6e7461696e65722f646576636f6e7461696e65722e6a736f6e222c2265787465726e616c223a2266696c653a2f2f2f55736572732f6563616d6f31392f446f63756d656e74732f70726f6a656374732f7375726561752f7375726561755f65636f735f70792f2e646576636f6e7461696e65722f646576636f6e7461696e65722e6a736f6e222c2270617468223a222f55736572732f6563616d6f31392f446f63756d656e74732f70726f6a656374732f7375726561752f7375726561755f65636f735f70792f2e646576636f6e7461696e65722f646576636f6e7461696e65722e6a736f6e222c22736368656d65223a2266696c65227d7d/workspaces/sureau_ecos_py/nbs/13_create_soil_parameters.ipynb#X15sdnNjb2RlLXJlbW90ZQ%3D%3D?line=0'>1</a>\u001b[0m modeling_options_dict \u001b[39m=\u001b[39m create_modeling_options(\n\u001b[1;32m      <a href='vscode-notebook-cell://dev-container%2B7b22686f737450617468223a222f55736572732f6563616d6f31392f446f63756d656e74732f70726f6a656374732f7375726561752f7375726561755f65636f735f7079222c226c6f63616c446f636b6572223a66616c73652c2273657474696e6773223a7b22636f6e74657874223a226465736b746f702d6c696e7578227d2c22636f6e66696746696c65223a7b22246d6964223a312c22667350617468223a222f55736572732f6563616d6f31392f446f63756d656e74732f70726f6a656374732f7375726561752f7375726561755f65636f735f70792f2e646576636f6e7461696e65722f646576636f6e7461696e65722e6a736f6e222c2265787465726e616c223a2266696c653a2f2f2f55736572732f6563616d6f31392f446f63756d656e74732f70726f6a656374732f7375726561752f7375726561755f65636f735f70792f2e646576636f6e7461696e65722f646576636f6e7461696e65722e6a736f6e222c2270617468223a222f55736572732f6563616d6f31392f446f63756d656e74732f70726f6a656374732f7375726561752f7375726561755f65636f735f70792f2e646576636f6e7461696e65722f646576636f6e7461696e65722e6a736f6e222c22736368656d65223a2266696c65227d7d/workspaces/sureau_ecos_py/nbs/13_create_soil_parameters.ipynb#X15sdnNjb2RlLXJlbW90ZQ%3D%3D?line=1'>2</a>\u001b[0m     time_step_for_evapo\u001b[39m=\u001b[39;49m\u001b[39m2\u001b[39;49m,\n\u001b[1;32m      <a href='vscode-notebook-cell://dev-container%2B7b22686f737450617468223a222f55736572732f6563616d6f31392f446f63756d656e74732f70726f6a656374732f7375726561752f7375726561755f65636f735f7079222c226c6f63616c446f636b6572223a66616c73652c2273657474696e6773223a7b22636f6e74657874223a226465736b746f702d6c696e7578227d2c22636f6e66696746696c65223a7b22246d6964223a312c22667350617468223a222f55736572732f6563616d6f31392f446f63756d656e74732f70726f6a656374732f7375726561752f7375726561755f65636f735f70792f2e646576636f6e7461696e65722f646576636f6e7461696e65722e6a736f6e222c2265787465726e616c223a2266696c653a2f2f2f55736572732f6563616d6f31392f446f63756d656e74732f70726f6a656374732f7375726561752f7375726561755f65636f735f70792f2e646576636f6e7461696e65722f646576636f6e7461696e65722e6a736f6e222c2270617468223a222f55736572732f6563616d6f31392f446f63756d656e74732f70726f6a656374732f7375726561752f7375726561755f65636f735f70792f2e646576636f6e7461696e65722f646576636f6e7461696e65722e6a736f6e222c22736368656d65223a2266696c65227d7d/workspaces/sureau_ecos_py/nbs/13_create_soil_parameters.ipynb#X15sdnNjb2RlLXJlbW90ZQ%3D%3D?line=2'>3</a>\u001b[0m     reset_swc\u001b[39m=\u001b[39;49m\u001b[39mTrue\u001b[39;49;00m,\n\u001b[1;32m      <a href='vscode-notebook-cell://dev-container%2B7b22686f737450617468223a222f55736572732f6563616d6f31392f446f63756d656e74732f70726f6a656374732f7375726561752f7375726561755f65636f735f7079222c226c6f63616c446f636b6572223a66616c73652c2273657474696e6773223a7b22636f6e74657874223a226465736b746f702d6c696e7578227d2c22636f6e66696746696c65223a7b22246d6964223a312c22667350617468223a222f55736572732f6563616d6f31392f446f63756d656e74732f70726f6a656374732f7375726561752f7375726561755f65636f735f70792f2e646576636f6e7461696e65722f646576636f6e7461696e65722e6a736f6e222c2265787465726e616c223a2266696c653a2f2f2f55736572732f6563616d6f31392f446f63756d656e74732f70726f6a656374732f7375726561752f7375726561755f65636f735f70792f2e646576636f6e7461696e65722f646576636f6e7461696e65722e6a736f6e222c2270617468223a222f55736572732f6563616d6f31392f446f63756d656e74732f70726f6a656374732f7375726561752f7375726561755f65636f735f70792f2e646576636f6e7461696e65722f646576636f6e7461696e65722e6a736f6e222c22736368656d65223a2266696c65227d7d/workspaces/sureau_ecos_py/nbs/13_create_soil_parameters.ipynb#X15sdnNjb2RlLXJlbW90ZQ%3D%3D?line=3'>4</a>\u001b[0m     avoid_water_soil_transfer\u001b[39m=\u001b[39;49m\u001b[39mTrue\u001b[39;49;00m,\n\u001b[1;32m      <a href='vscode-notebook-cell://dev-container%2B7b22686f737450617468223a222f55736572732f6563616d6f31392f446f63756d656e74732f70726f6a656374732f7375726561752f7375726561755f65636f735f7079222c226c6f63616c446f636b6572223a66616c73652c2273657474696e6773223a7b22636f6e74657874223a226465736b746f702d6c696e7578227d2c22636f6e66696746696c65223a7b22246d6964223a312c22667350617468223a222f55736572732f6563616d6f31392f446f63756d656e74732f70726f6a656374732f7375726561752f7375726561755f65636f735f70792f2e646576636f6e7461696e65722f646576636f6e7461696e65722e6a736f6e222c2265787465726e616c223a2266696c653a2f2f2f55736572732f6563616d6f31392f446f63756d656e74732f70726f6a656374732f7375726561752f7375726561755f65636f735f70792f2e646576636f6e7461696e65722f646576636f6e7461696e65722e6a736f6e222c2270617468223a222f55736572732f6563616d6f31392f446f63756d656e74732f70726f6a656374732f7375726561752f7375726561755f65636f735f70792f2e646576636f6e7461696e65722f646576636f6e7461696e65722e6a736f6e222c22736368656d65223a2266696c65227d7d/workspaces/sureau_ecos_py/nbs/13_create_soil_parameters.ipynb#X15sdnNjb2RlLXJlbW90ZQ%3D%3D?line=4'>5</a>\u001b[0m     constant_climate\u001b[39m=\u001b[39;49m\u001b[39mFalse\u001b[39;49;00m,\n\u001b[1;32m      <a href='vscode-notebook-cell://dev-container%2B7b22686f737450617468223a222f55736572732f6563616d6f31392f446f63756d656e74732f70726f6a656374732f7375726561752f7375726561755f65636f735f7079222c226c6f63616c446f636b6572223a66616c73652c2273657474696e6773223a7b22636f6e74657874223a226465736b746f702d6c696e7578227d2c22636f6e66696746696c65223a7b22246d6964223a312c22667350617468223a222f55736572732f6563616d6f31392f446f63756d656e74732f70726f6a656374732f7375726561752f7375726561755f65636f735f70792f2e646576636f6e7461696e65722f646576636f6e7461696e65722e6a736f6e222c2265787465726e616c223a2266696c653a2f2f2f55736572732f6563616d6f31392f446f63756d656e74732f70726f6a656374732f7375726561752f7375726561755f65636f735f70792f2e646576636f6e7461696e65722f646576636f6e7461696e65722e6a736f6e222c2270617468223a222f55736572732f6563616d6f31392f446f63756d656e74732f70726f6a656374732f7375726561752f7375726561755f65636f735f70792f2e646576636f6e7461696e65722f646576636f6e7461696e65722e6a736f6e222c22736368656d65223a2266696c65227d7d/workspaces/sureau_ecos_py/nbs/13_create_soil_parameters.ipynb#X15sdnNjb2RlLXJlbW90ZQ%3D%3D?line=5'>6</a>\u001b[0m     defoliation\u001b[39m=\u001b[39;49m\u001b[39mTrue\u001b[39;49;00m,\n\u001b[1;32m      <a href='vscode-notebook-cell://dev-container%2B7b22686f737450617468223a222f55736572732f6563616d6f31392f446f63756d656e74732f70726f6a656374732f7375726561752f7375726561755f65636f735f7079222c226c6f63616c446f636b6572223a66616c73652c2273657474696e6773223a7b22636f6e74657874223a226465736b746f702d6c696e7578227d2c22636f6e66696746696c65223a7b22246d6964223a312c22667350617468223a222f55736572732f6563616d6f31392f446f63756d656e74732f70726f6a656374732f7375726561752f7375726561755f65636f735f70792f2e646576636f6e7461696e65722f646576636f6e7461696e65722e6a736f6e222c2265787465726e616c223a2266696c653a2f2f2f55736572732f6563616d6f31392f446f63756d656e74732f70726f6a656374732f7375726561752f7375726561755f65636f735f70792f2e646576636f6e7461696e65722f646576636f6e7461696e65722e6a736f6e222c2270617468223a222f55736572732f6563616d6f31392f446f63756d656e74732f70726f6a656374732f7375726561752f7375726561755f65636f735f70792f2e646576636f6e7461696e65722f646576636f6e7461696e65722e6a736f6e222c22736368656d65223a2266696c65227d7d/workspaces/sureau_ecos_py/nbs/13_create_soil_parameters.ipynb#X15sdnNjb2RlLXJlbW90ZQ%3D%3D?line=6'>7</a>\u001b[0m     soil_evapo\u001b[39m=\u001b[39;49m\u001b[39mTrue\u001b[39;49;00m,\n\u001b[1;32m      <a href='vscode-notebook-cell://dev-container%2B7b22686f737450617468223a222f55736572732f6563616d6f31392f446f63756d656e74732f70726f6a656374732f7375726561752f7375726561755f65636f735f7079222c226c6f63616c446f636b6572223a66616c73652c2273657474696e6773223a7b22636f6e74657874223a226465736b746f702d6c696e7578227d2c22636f6e66696746696c65223a7b22246d6964223a312c22667350617468223a222f55736572732f6563616d6f31392f446f63756d656e74732f70726f6a656374732f7375726561752f7375726561755f65636f735f70792f2e646576636f6e7461696e65722f646576636f6e7461696e65722e6a736f6e222c2265787465726e616c223a2266696c653a2f2f2f55736572732f6563616d6f31392f446f63756d656e74732f70726f6a656374732f7375726561752f7375726561755f65636f735f70792f2e646576636f6e7461696e65722f646576636f6e7461696e65722e6a736f6e222c2270617468223a222f55736572732f6563616d6f31392f446f63756d656e74732f70726f6a656374732f7375726561752f7375726561755f65636f735f70792f2e646576636f6e7461696e65722f646576636f6e7461696e65722e6a736f6e222c22736368656d65223a2266696c65227d7d/workspaces/sureau_ecos_py/nbs/13_create_soil_parameters.ipynb#X15sdnNjb2RlLXJlbW90ZQ%3D%3D?line=7'>8</a>\u001b[0m     threshold_mortality\u001b[39m=\u001b[39;49m\u001b[39m51\u001b[39;49m,\n\u001b[1;32m      <a href='vscode-notebook-cell://dev-container%2B7b22686f737450617468223a222f55736572732f6563616d6f31392f446f63756d656e74732f70726f6a656374732f7375726561752f7375726561755f65636f735f7079222c226c6f63616c446f636b6572223a66616c73652c2273657474696e6773223a7b22636f6e74657874223a226465736b746f702d6c696e7578227d2c22636f6e66696746696c65223a7b22246d6964223a312c22667350617468223a222f55736572732f6563616d6f31392f446f63756d656e74732f70726f6a656374732f7375726561752f7375726561755f65636f735f70792f2e646576636f6e7461696e65722f646576636f6e7461696e65722e6a736f6e222c2265787465726e616c223a2266696c653a2f2f2f55736572732f6563616d6f31392f446f63756d656e74732f70726f6a656374732f7375726561752f7375726561755f65636f735f70792f2e646576636f6e7461696e65722f646576636f6e7461696e65722e6a736f6e222c2270617468223a222f55736572732f6563616d6f31392f446f63756d656e74732f70726f6a656374732f7375726561752f7375726561755f65636f735f70792f2e646576636f6e7461696e65722f646576636f6e7461696e65722e6a736f6e222c22736368656d65223a2266696c65227d7d/workspaces/sureau_ecos_py/nbs/13_create_soil_parameters.ipynb#X15sdnNjb2RlLXJlbW90ZQ%3D%3D?line=8'>9</a>\u001b[0m     etp_formulation\u001b[39m=\u001b[39;49m\u001b[39m\"\u001b[39;49m\u001b[39mpt\u001b[39;49m\u001b[39m\"\u001b[39;49m,\n\u001b[1;32m     <a href='vscode-notebook-cell://dev-container%2B7b22686f737450617468223a222f55736572732f6563616d6f31392f446f63756d656e74732f70726f6a656374732f7375726561752f7375726561755f65636f735f7079222c226c6f63616c446f636b6572223a66616c73652c2273657474696e6773223a7b22636f6e74657874223a226465736b746f702d6c696e7578227d2c22636f6e66696746696c65223a7b22246d6964223a312c22667350617468223a222f55736572732f6563616d6f31392f446f63756d656e74732f70726f6a656374732f7375726561752f7375726561755f65636f735f70792f2e646576636f6e7461696e65722f646576636f6e7461696e65722e6a736f6e222c2265787465726e616c223a2266696c653a2f2f2f55736572732f6563616d6f31392f446f63756d656e74732f70726f6a656374732f7375726561752f7375726561755f65636f735f70792f2e646576636f6e7461696e65722f646576636f6e7461696e65722e6a736f6e222c2270617468223a222f55736572732f6563616d6f31392f446f63756d656e74732f70726f6a656374732f7375726561752f7375726561755f65636f735f70792f2e646576636f6e7461696e65722f646576636f6e7461696e65722e6a736f6e222c22736368656d65223a2266696c65227d7d/workspaces/sureau_ecos_py/nbs/13_create_soil_parameters.ipynb#X15sdnNjb2RlLXJlbW90ZQ%3D%3D?line=9'>10</a>\u001b[0m     rn_formulation\u001b[39m=\u001b[39;49m\u001b[39m\"\u001b[39;49m\u001b[39mlinear\u001b[39;49m\u001b[39m\"\u001b[39;49m,\n\u001b[1;32m     <a href='vscode-notebook-cell://dev-container%2B7b22686f737450617468223a222f55736572732f6563616d6f31392f446f63756d656e74732f70726f6a656374732f7375726561752f7375726561755f65636f735f7079222c226c6f63616c446f636b6572223a66616c73652c2273657474696e6773223a7b22636f6e74657874223a226465736b746f702d6c696e7578227d2c22636f6e66696746696c65223a7b22246d6964223a312c22667350617468223a222f55736572732f6563616d6f31392f446f63756d656e74732f70726f6a656374732f7375726561752f7375726561755f65636f735f70792f2e646576636f6e7461696e65722f646576636f6e7461696e65722e6a736f6e222c2265787465726e616c223a2266696c653a2f2f2f55736572732f6563616d6f31392f446f63756d656e74732f70726f6a656374732f7375726561752f7375726561755f65636f735f70792f2e646576636f6e7461696e65722f646576636f6e7461696e65722e6a736f6e222c2270617468223a222f55736572732f6563616d6f31392f446f63756d656e74732f70726f6a656374732f7375726561752f7375726561755f65636f735f70792f2e646576636f6e7461696e65722f646576636f6e7461696e65722e6a736f6e222c22736368656d65223a2266696c65227d7d/workspaces/sureau_ecos_py/nbs/13_create_soil_parameters.ipynb#X15sdnNjb2RlLXJlbW90ZQ%3D%3D?line=10'>11</a>\u001b[0m     comp_options_for_evapo\u001b[39m=\u001b[39;49m\u001b[39m\"\u001b[39;49m\u001b[39mcustom\u001b[39;49m\u001b[39m\"\u001b[39;49m,\n\u001b[1;32m     <a href='vscode-notebook-cell://dev-container%2B7b22686f737450617468223a222f55736572732f6563616d6f31392f446f63756d656e74732f70726f6a656374732f7375726561752f7375726561755f65636f735f7079222c226c6f63616c446f636b6572223a66616c73652c2273657474696e6773223a7b22636f6e74657874223a226465736b746f702d6c696e7578227d2c22636f6e66696746696c65223a7b22246d6964223a312c22667350617468223a222f55736572732f6563616d6f31392f446f63756d656e74732f70726f6a656374732f7375726561752f7375726561755f65636f735f70792f2e646576636f6e7461696e65722f646576636f6e7461696e65722e6a736f6e222c2265787465726e616c223a2266696c653a2f2f2f55736572732f6563616d6f31392f446f63756d656e74732f70726f6a656374732f7375726561752f7375726561755f65636f735f70792f2e646576636f6e7461696e65722f646576636f6e7461696e65722e6a736f6e222c2270617468223a222f55736572732f6563616d6f31392f446f63756d656e74732f70726f6a656374732f7375726561752f7375726561755f65636f735f70792f2e646576636f6e7461696e65722f646576636f6e7461696e65722e6a736f6e222c22736368656d65223a2266696c65227d7d/workspaces/sureau_ecos_py/nbs/13_create_soil_parameters.ipynb#X15sdnNjb2RlLXJlbW90ZQ%3D%3D?line=11'>12</a>\u001b[0m     stomatal_reg_formulation\u001b[39m=\u001b[39;49m\u001b[39m\"\u001b[39;49m\u001b[39mturgor\u001b[39;49m\u001b[39m\"\u001b[39;49m,\n\u001b[1;32m     <a href='vscode-notebook-cell://dev-container%2B7b22686f737450617468223a222f55736572732f6563616d6f31392f446f63756d656e74732f70726f6a656374732f7375726561752f7375726561755f65636f735f7079222c226c6f63616c446f636b6572223a66616c73652c2273657474696e6773223a7b22636f6e74657874223a226465736b746f702d6c696e7578227d2c22636f6e66696746696c65223a7b22246d6964223a312c22667350617468223a222f55736572732f6563616d6f31392f446f63756d656e74732f70726f6a656374732f7375726561752f7375726561755f65636f735f70792f2e646576636f6e7461696e65722f646576636f6e7461696e65722e6a736f6e222c2265787465726e616c223a2266696c653a2f2f2f55736572732f6563616d6f31392f446f63756d656e74732f70726f6a656374732f7375726561752f7375726561755f65636f735f70792f2e646576636f6e7461696e65722f646576636f6e7461696e65722e6a736f6e222c2270617468223a222f55736572732f6563616d6f31392f446f63756d656e74732f70726f6a656374732f7375726561752f7375726561755f65636f735f70792f2e646576636f6e7461696e65722f646576636f6e7461696e65722e6a736f6e222c22736368656d65223a2266696c65227d7d/workspaces/sureau_ecos_py/nbs/13_create_soil_parameters.ipynb#X15sdnNjb2RlLXJlbW90ZQ%3D%3D?line=12'>13</a>\u001b[0m     transpiration_model\u001b[39m=\u001b[39;49m\u001b[39m\"\u001b[39;49m\u001b[39mjarvis\u001b[39;49m\u001b[39m\"\u001b[39;49m,\n\u001b[1;32m     <a href='vscode-notebook-cell://dev-container%2B7b22686f737450617468223a222f55736572732f6563616d6f31392f446f63756d656e74732f70726f6a656374732f7375726561752f7375726561755f65636f735f7079222c226c6f63616c446f636b6572223a66616c73652c2273657474696e6773223a7b22636f6e74657874223a226465736b746f702d6c696e7578227d2c22636f6e66696746696c65223a7b22246d6964223a312c22667350617468223a222f55736572732f6563616d6f31392f446f63756d656e74732f70726f6a656374732f7375726561752f7375726561755f65636f735f70792f2e646576636f6e7461696e65722f646576636f6e7461696e65722e6a736f6e222c2265787465726e616c223a2266696c653a2f2f2f55736572732f6563616d6f31392f446f63756d656e74732f70726f6a656374732f7375726561752f7375726561755f65636f735f70792f2e646576636f6e7461696e65722f646576636f6e7461696e65722e6a736f6e222c2270617468223a222f55736572732f6563616d6f31392f446f63756d656e74732f70726f6a656374732f7375726561752f7375726561755f65636f735f70792f2e646576636f6e7461696e65722f646576636f6e7461696e65722e6a736f6e222c22736368656d65223a2266696c65227d7d/workspaces/sureau_ecos_py/nbs/13_create_soil_parameters.ipynb#X15sdnNjb2RlLXJlbW90ZQ%3D%3D?line=13'>14</a>\u001b[0m     numerical_scheme\u001b[39m=\u001b[39;49m\u001b[39m\"\u001b[39;49m\u001b[39mimplicit\u001b[39;49m\u001b[39m\"\u001b[39;49m,\n\u001b[1;32m     <a href='vscode-notebook-cell://dev-container%2B7b22686f737450617468223a222f55736572732f6563616d6f31392f446f63756d656e74732f70726f6a656374732f7375726561752f7375726561755f65636f735f7079222c226c6f63616c446f636b6572223a66616c73652c2273657474696e6773223a7b22636f6e74657874223a226465736b746f702d6c696e7578227d2c22636f6e66696746696c65223a7b22246d6964223a312c22667350617468223a222f55736572732f6563616d6f31392f446f63756d656e74732f70726f6a656374732f7375726561752f7375726561755f65636f735f70792f2e646576636f6e7461696e65722f646576636f6e7461696e65722e6a736f6e222c2265787465726e616c223a2266696c653a2f2f2f55736572732f6563616d6f31392f446f63756d656e74732f70726f6a656374732f7375726561752f7375726561755f65636f735f70792f2e646576636f6e7461696e65722f646576636f6e7461696e65722e6a736f6e222c2270617468223a222f55736572732f6563616d6f31392f446f63756d656e74732f70726f6a656374732f7375726561752f7375726561755f65636f735f70792f2e646576636f6e7461696e65722f646576636f6e7461696e65722e6a736f6e222c22736368656d65223a2266696c65227d7d/workspaces/sureau_ecos_py/nbs/13_create_soil_parameters.ipynb#X15sdnNjb2RlLXJlbW90ZQ%3D%3D?line=14'>15</a>\u001b[0m     pedo_transfer_formulation\u001b[39m=\u001b[39;49m\u001b[39m\"\u001b[39;49m\u001b[39maa\u001b[39;49m\u001b[39m\"\u001b[39;49m,\n\u001b[1;32m     <a href='vscode-notebook-cell://dev-container%2B7b22686f737450617468223a222f55736572732f6563616d6f31392f446f63756d656e74732f70726f6a656374732f7375726561752f7375726561755f65636f735f7079222c226c6f63616c446f636b6572223a66616c73652c2273657474696e6773223a7b22636f6e74657874223a226465736b746f702d6c696e7578227d2c22636f6e66696746696c65223a7b22246d6964223a312c22667350617468223a222f55736572732f6563616d6f31392f446f63756d656e74732f70726f6a656374732f7375726561752f7375726561755f65636f735f70792f2e646576636f6e7461696e65722f646576636f6e7461696e65722e6a736f6e222c2265787465726e616c223a2266696c653a2f2f2f55736572732f6563616d6f31392f446f63756d656e74732f70726f6a656374732f7375726561752f7375726561755f65636f735f70792f2e646576636f6e7461696e65722f646576636f6e7461696e65722e6a736f6e222c2270617468223a222f55736572732f6563616d6f31392f446f63756d656e74732f70726f6a656374732f7375726561752f7375726561755f65636f735f70792f2e646576636f6e7461696e65722f646576636f6e7461696e65722e6a736f6e222c22736368656d65223a2266696c65227d7d/workspaces/sureau_ecos_py/nbs/13_create_soil_parameters.ipynb#X15sdnNjb2RlLXJlbW90ZQ%3D%3D?line=15'>16</a>\u001b[0m )\n\u001b[1;32m     <a href='vscode-notebook-cell://dev-container%2B7b22686f737450617468223a222f55736572732f6563616d6f31392f446f63756d656e74732f70726f6a656374732f7375726561752f7375726561755f65636f735f7079222c226c6f63616c446f636b6572223a66616c73652c2273657474696e6773223a7b22636f6e74657874223a226465736b746f702d6c696e7578227d2c22636f6e66696746696c65223a7b22246d6964223a312c22667350617468223a222f55736572732f6563616d6f31392f446f63756d656e74732f70726f6a656374732f7375726561752f7375726561755f65636f735f70792f2e646576636f6e7461696e65722f646576636f6e7461696e65722e6a736f6e222c2265787465726e616c223a2266696c653a2f2f2f55736572732f6563616d6f31392f446f63756d656e74732f70726f6a656374732f7375726561752f7375726561755f65636f735f70792f2e646576636f6e7461696e65722f646576636f6e7461696e65722e6a736f6e222c2270617468223a222f55736572732f6563616d6f31392f446f63756d656e74732f70726f6a656374732f7375726561752f7375726561755f65636f735f70792f2e646576636f6e7461696e65722f646576636f6e7461696e65722e6a736f6e222c22736368656d65223a2266696c65227d7d/workspaces/sureau_ecos_py/nbs/13_create_soil_parameters.ipynb#X15sdnNjb2RlLXJlbW90ZQ%3D%3D?line=17'>18</a>\u001b[0m modeling_options_dict\n",
      "File \u001b[0;32m/workspaces/sureau_ecos_py/sureau_ecos_py/create_modeling_options.py:105\u001b[0m, in \u001b[0;36mcreate_modeling_options\u001b[0;34m(time_step_for_evapo, reset_swc, avoid_water_soil_transfer, soil_evapo, defoliation, threshold_mortality, transpiration_model, etp_formulation, rn_formulation, pedo_transfer_formulation, constant_climate, comp_options_for_evapo, custom_small_time_step_in_sec, lcav, scav, eord, numerical_scheme, stomatal_reg_formulation, print_prog)\u001b[0m\n\u001b[1;32m     94\u001b[0m \u001b[39massert\u001b[39;00m transpiration_model \u001b[39min\u001b[39;00m [\n\u001b[1;32m     95\u001b[0m     \u001b[39m\"\u001b[39m\u001b[39mjarvis\u001b[39m\u001b[39m\"\u001b[39m,\n\u001b[1;32m     96\u001b[0m     \u001b[39m\"\u001b[39m\u001b[39mgranier\u001b[39m\u001b[39m\"\u001b[39m,\n\u001b[1;32m     97\u001b[0m ], \u001b[39mf\u001b[39m\u001b[39m'\u001b[39m\u001b[39m{\u001b[39;00mtranspiration_model\u001b[39m}\u001b[39;00m\u001b[39m not a valid option, choose  \u001b[39m\u001b[39m\"\u001b[39m\u001b[39mjarvis\u001b[39m\u001b[39m\"\u001b[39m\u001b[39m or \u001b[39m\u001b[39m\"\u001b[39m\u001b[39mgranier\u001b[39m\u001b[39m\"\u001b[39m\u001b[39m'\u001b[39m\n\u001b[1;32m     99\u001b[0m \u001b[39massert\u001b[39;00m numerical_scheme \u001b[39min\u001b[39;00m [\n\u001b[1;32m    100\u001b[0m     \u001b[39m\"\u001b[39m\u001b[39mimplicit\u001b[39m\u001b[39m\"\u001b[39m,\n\u001b[1;32m    101\u001b[0m     \u001b[39m\"\u001b[39m\u001b[39msemi-implicit\u001b[39m\u001b[39m\"\u001b[39m,\n\u001b[1;32m    102\u001b[0m     \u001b[39m\"\u001b[39m\u001b[39mexplicit\u001b[39m\u001b[39m\"\u001b[39m,\n\u001b[1;32m    103\u001b[0m ], \u001b[39mf\u001b[39m\u001b[39m'\u001b[39m\u001b[39m{\u001b[39;00mnumerical_scheme\u001b[39m}\u001b[39;00m\u001b[39m not a valid option, choose  \u001b[39m\u001b[39m\"\u001b[39m\u001b[39mimplicit\u001b[39m\u001b[39m\"\u001b[39m\u001b[39m, \u001b[39m\u001b[39m\"\u001b[39m\u001b[39msemi-implicit\u001b[39m\u001b[39m\"\u001b[39m\u001b[39m or \u001b[39m\u001b[39m\"\u001b[39m\u001b[39mexplicit\u001b[39m\u001b[39m\"\u001b[39m\u001b[39m'\u001b[39m\n\u001b[0;32m--> 105\u001b[0m \u001b[39massert\u001b[39;00m pedo_transfer_formulation \u001b[39min\u001b[39;00m [\n\u001b[1;32m    106\u001b[0m     \u001b[39m\"\u001b[39m\u001b[39mvg\u001b[39m\u001b[39m\"\u001b[39m,\n\u001b[1;32m    107\u001b[0m     \u001b[39m\"\u001b[39m\u001b[39mcampbell\u001b[39m\u001b[39m\"\u001b[39m,\n\u001b[1;32m    108\u001b[0m ], \u001b[39mf\u001b[39m\u001b[39m'\u001b[39m\u001b[39m{\u001b[39;00mpedo_transfer_formulation\u001b[39m}\u001b[39;00m\u001b[39m not a valid option, choose \u001b[39m\u001b[39m\"\u001b[39m\u001b[39mvg\u001b[39m\u001b[39m\"\u001b[39m\u001b[39m or \u001b[39m\u001b[39m\"\u001b[39m\u001b[39mcampbell\u001b[39m\u001b[39m\"\u001b[39m\u001b[39m \u001b[39m\u001b[39m'\u001b[39m\n\u001b[1;32m    110\u001b[0m \u001b[39massert\u001b[39;00m time_step_for_evapo \u001b[39min\u001b[39;00m [\n\u001b[1;32m    111\u001b[0m     \u001b[39mNone\u001b[39;00m,\n\u001b[1;32m    112\u001b[0m     \u001b[39m1\u001b[39m,\n\u001b[0;32m   (...)\u001b[0m\n\u001b[1;32m    115\u001b[0m     \u001b[39m6\u001b[39m,\n\u001b[1;32m    116\u001b[0m ], \u001b[39m\"\u001b[39m\u001b[39mtime_step_for_evap must be equal to 1, 2, 4, 6 or None\u001b[39m\u001b[39m\"\u001b[39m\n\u001b[1;32m    118\u001b[0m \u001b[39m# Create array with time steps for the evapo ---------------------------------\u001b[39;00m\n",
      "\u001b[0;31mAssertionError\u001b[0m: aa not a valid option, choose \"vg\" or \"campbell\" "
     ]
    }
   ],
   "source": [
    "modeling_options_dict = create_modeling_options(\n",
    "    time_step_for_evapo=2,\n",
    "    reset_swc=True,\n",
    "    avoid_water_soil_transfer=True,\n",
    "    constant_climate=False,\n",
    "    defoliation=True,\n",
    "    soil_evapo=True,\n",
    "    threshold_mortality=51,\n",
    "    etp_formulation=\"pt\",\n",
    "    rn_formulation=\"linear\",\n",
    "    comp_options_for_evapo=\"custom\",\n",
    "    stomatal_reg_formulation=\"turgor\",\n",
    "    transpiration_model=\"jarvis\",\n",
    "    numerical_scheme=\"implicit\",\n",
    "    pedo_transfer_formulation=\"vg\",\n",
    ")\n",
    "\n",
    "modeling_options_dict\n"
   ]
  },
  {
   "cell_type": "code",
   "execution_count": 80,
   "metadata": {
    "vscode": {
     "languageId": "python"
    }
   },
   "outputs": [
    {
     "name": "stdout",
     "output_type": "stream",
     "text": [
      "There is an offset on Psoil of 1 MPa\n",
      "Psoil at field capacity = 0.033 MPa\n"
     ]
    },
    {
     "name": "stderr",
     "output_type": "stream",
     "text": [
      "/tmp/ipykernel_869/3500600826.py:40: UserWarning: Default soil used (Van-Genuchten Formulation)\n",
      "  warnings.warn(\"Default soil used (Van-Genuchten Formulation)\")\n"
     ]
    },
    {
     "data": {
      "text/plain": [
       "defaultdict(list,\n",
       "            {'offset_psoil': 1,\n",
       "             'psoil_at_field_capacity': 0.033,\n",
       "             'pedo_transfer_formulation': 'vg',\n",
       "             'rock_fragment_content': array([40, 75, 90]),\n",
       "             'depth': array([0.3, 1. , 4. ]),\n",
       "             'layer_thickness': array([0.3, 0.7, 3. ]),\n",
       "             'g_soil0': 30,\n",
       "             'alpha_vg': array([0.0035, 0.0035, 0.0035]),\n",
       "             'n_vg': array([1.55, 1.55, 1.55]),\n",
       "             'm': array([0.35483871, 0.35483871, 0.35483871]),\n",
       "             'i_vg': array([0.5, 0.5, 0.5]),\n",
       "             'ksat_vg': array([1.69, 1.69, 1.69]),\n",
       "             'saturation_capacity_vg': array([0.5, 0.5, 0.5]),\n",
       "             'residual_capacity_vg': array([0.1, 0.1, 0.1]),\n",
       "             'wilting_point': array([0.14525227, 0.14525227, 0.14525227]),\n",
       "             'field_capacity': array([0.10827251, 0.10827251, 0.10827251])})"
      ]
     },
     "execution_count": 80,
     "metadata": {},
     "output_type": "execute_result"
    }
   ],
   "source": [
    "create_soil_parameters(\n",
    "    file_path=\"./test_folder/climat_example.csv\",\n",
    "    modeling_options=modeling_options_dict,\n",
    "    #modeling_options=None,\n",
    "    list_of_parameters=None,\n",
    "    default_soil=True,\n",
    "    offset_psoil=1,\n",
    "    psoil_at_field_capacity=33,\n",
    "\n",
    ")"
   ]
  },
  {
   "cell_type": "code",
   "execution_count": 9,
   "metadata": {
    "vscode": {
     "languageId": "python"
    }
   },
   "outputs": [
    {
     "data": {
      "text/plain": [
       "array([0.14525227, 0.14525227, 0.14525227])"
      ]
     },
     "execution_count": 9,
     "metadata": {},
     "output_type": "execute_result"
    }
   ],
   "source": []
  }
 ],
 "metadata": {
  "kernelspec": {
   "display_name": "python3",
   "language": "python",
   "name": "python3"
  }
 },
 "nbformat": 4,
 "nbformat_minor": 4
}
