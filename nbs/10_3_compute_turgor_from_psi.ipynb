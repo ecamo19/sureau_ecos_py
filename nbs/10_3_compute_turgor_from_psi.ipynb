{
 "cells": [
  {
   "cell_type": "raw",
   "metadata": {},
   "source": [
    "---\n",
    "description: 'AUTHORS: __Julien Ruffault (julien.ruff@gmail.com), Nicolas Martin-StPaul\n",
    "  (nicolas.martin@inrae.fr)__'\n",
    "output-file: compute_vpd.html\n",
    "title: compute_turgor_from_psi\n",
    "\n",
    "---\n",
    "\n"
   ]
  },
  {
   "cell_type": "code",
   "execution_count": null,
   "metadata": {},
   "outputs": [],
   "source": [
    "# | default_exp compute_turgor_from_psi"
   ]
  },
  {
   "cell_type": "code",
   "execution_count": null,
   "metadata": {},
   "outputs": [],
   "source": [
    "# | hide\n",
    "from nbdev.showdoc import *\n",
    "from fastcore.test import *"
   ]
  },
  {
   "cell_type": "code",
   "execution_count": 1,
   "metadata": {},
   "outputs": [],
   "source": [
    "# | export\n",
    "#from sureau_ecos_py.create_modeling_options import create_modeling_options\n",
    "import numpy as np\n",
    "from typing import List"
   ]
  },
  {
   "cell_type": "code",
   "execution_count": 89,
   "metadata": {},
   "outputs": [],
   "source": [
    "# | export\n",
    "\n",
    "def compute_turgor_from_psi(pi_ft:float, # Osmotic potential at full turgor (MPa)\n",
    "                            e_symp:float, # Modulus of elastoicoty of the Symplasm (MPa/%)\n",
    "                            psi:List # Array of Water potential of the organ (MPa)\n",
    "                            ) -> float:\n",
    "    \"Computes Turgor pressure from Pressure-Volume curves parameters and water potential\"\n",
    "\n",
    "    # Compute symplasm relative water deficit (rwd) from each psi value\n",
    "\n",
    "    # Generates and array of length psi\n",
    "    rwd_1 = (-1 * (np.array(psi) + pi_ft - e_symp) - np.sqrt((np.array(psi) + pi_ft - e_symp)**2 + 4 * (np.array(psi) * e_symp))) / (2 * e_symp)\n",
    "\n",
    "    # Generates and array of length psi\n",
    "    rwd_2 = (1 - pi_ft / np.array(psi))\n",
    "\n",
    "\n",
    "\n",
    "    # Compare relative_water_deficit_1 and relative_water_deficit_2 and store the\n",
    "    # larger one\n",
    "\n",
    "    rs = np.zeros(len(psi), dtype=float)\n",
    "    for each_rwd_1, each_rwd_2 in zip(rwd_1,rwd_2):\n",
    "\n",
    "        # Get the largest value between rwd_1 and rwd_2\n",
    "        print(np.array([max(each_rwd_1, each_rwd_2)]))\n",
    "\n",
    "        # Save values into new array"
   ]
  },
  {
   "cell_type": "code",
   "execution_count": 90,
   "metadata": {},
   "outputs": [
    {
     "name": "stdout",
     "output_type": "stream",
     "text": [
      "[-0.57735027]\n",
      "[0.]\n",
      "[0.33333333]\n"
     ]
    }
   ],
   "source": [
    "\n",
    "compute_turgor_from_psi(pi_ft=2, e_symp=3, psi=[1,2,3])\n"
   ]
  },
  {
   "cell_type": "code",
   "execution_count": 31,
   "metadata": {},
   "outputs": [
    {
     "data": {
      "text/plain": [
       "array([2, 4, 6])"
      ]
     },
     "execution_count": 31,
     "metadata": {},
     "output_type": "execute_result"
    }
   ],
   "source": [
    "np.array([1,2,3])*2"
   ]
  },
  {
   "cell_type": "code",
   "execution_count": null,
   "metadata": {},
   "outputs": [],
   "source": []
  }
 ],
 "metadata": {
  "kernelspec": {
   "display_name": "python3",
   "language": "python",
   "name": "python3"
  },
  "language_info": {
   "codemirror_mode": {
    "name": "ipython",
    "version": 3
   },
   "file_extension": ".py",
   "mimetype": "text/x-python",
   "name": "python",
   "nbconvert_exporter": "python",
   "pygments_lexer": "ipython3",
   "version": "3.9.18"
  }
 },
 "nbformat": 4,
 "nbformat_minor": 4
}
