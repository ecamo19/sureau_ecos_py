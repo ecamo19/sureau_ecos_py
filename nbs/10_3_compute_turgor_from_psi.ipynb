{
 "cells": [
  {
   "cell_type": "raw",
   "metadata": {},
   "source": [
    "---\n",
    "description: 'AUTHORS: __Julien Ruffault (julien.ruff@gmail.com), Nicolas Martin-StPaul\n",
    "  (nicolas.martin@inrae.fr)__'\n",
    "output-file: compute_turgor_from_psi.html\n",
    "title: Compute turgor from psi\n",
    "\n",
    "---\n",
    "\n"
   ]
  },
  {
   "cell_type": "code",
   "execution_count": null,
   "metadata": {},
   "outputs": [],
   "source": [
    "# | default_exp compute_turgor_from_psi"
   ]
  },
  {
   "cell_type": "code",
   "execution_count": null,
   "metadata": {},
   "outputs": [],
   "source": [
    "# | hide\n",
    "from nbdev.showdoc import *\n",
    "from fastcore.test import *"
   ]
  },
  {
   "cell_type": "code",
   "execution_count": null,
   "metadata": {},
   "outputs": [],
   "source": [
    "# | export\n",
    "import numpy as np\n",
    "from typing import List"
   ]
  },
  {
   "cell_type": "code",
   "execution_count": null,
   "metadata": {},
   "outputs": [],
   "source": [
    "# | export\n",
    "\n",
    "def compute_turgor_from_psi(pi_ft:float, # Osmotic potential at full turgor (MPa)\n",
    "                            e_symp:float, # Modulus of elastoicoty of the Symplasm (MPa/%)\n",
    "                            psi:List # List of Water potential of the organ (MPa)\n",
    "                            ) -> np.array:\n",
    "\n",
    "    \"Computes Turgor pressure from Pressure-Volume curves parameters and water potential\"\n",
    "\n",
    "    # Make sure psi is a list\n",
    "    assert isinstance(\n",
    "        psi, List\n",
    "    ), f\"psi must be a List with float values (i.e [1] or [1,2,..]) not a {type(psi)}\"\n",
    "\n",
    "    # Compute symplasm relative water deficit (rwd) from each psi value\n",
    "\n",
    "    # Generates an array of length psi\n",
    "    rwd_1 = (-1 * (np.array(psi) + pi_ft - e_symp) - np.sqrt((np.array(psi) + pi_ft - e_symp)**2 + 4 * (np.array(psi) * e_symp))) / (2 * e_symp)\n",
    "\n",
    "    # Generates an array of length psi\n",
    "    rwd_2 = (1 - pi_ft / np.array(psi))\n",
    "\n",
    "\n",
    "    # Create empty array for storing values\n",
    "    rs_array = np.zeros(0, dtype=float)\n",
    "\n",
    "    for each_rwd_1, each_rwd_2 in zip(rwd_1,rwd_2):\n",
    "\n",
    "        # Compare relative_water_deficit_1 and relative_water_deficit_2 and store\n",
    "        # the largest one into array\n",
    "        rs_array = np.append(rs_array, max(each_rwd_1, each_rwd_2))\n",
    "\n",
    "    # Calculate turgor\n",
    "    turgor_array = -pi_ft - e_symp * rs_array\n",
    "\n",
    "    # Replace negative values inside the turgor array with 0's\n",
    "    turgor_array[(turgor_array < 0)] = 0\n",
    "\n",
    "    return turgor_array"
   ]
  },
  {
   "cell_type": "code",
   "execution_count": null,
   "metadata": {},
   "outputs": [
    {
     "data": {
      "text/plain": [
       "array([0., 0., 0.])"
      ]
     },
     "execution_count": null,
     "metadata": {},
     "output_type": "execute_result"
    }
   ],
   "source": [
    "\n",
    "compute_turgor_from_psi(pi_ft=2, e_symp=3, psi=[1, 2, 3])\n"
   ]
  },
  {
   "cell_type": "markdown",
   "metadata": {},
   "source": [
    "## Function only return zeros"
   ]
  },
  {
   "cell_type": "code",
   "execution_count": null,
   "metadata": {},
   "outputs": [
    {
     "name": "stdout",
     "output_type": "stream",
     "text": [
      "[0.]\n",
      "[0.]\n",
      "[0.]\n",
      "[0.]\n",
      "[0.]\n",
      "[0.]\n",
      "[0.]\n",
      "[0.]\n",
      "[0.]\n"
     ]
    }
   ],
   "source": [
    "for each_psi in range(1,10):\n",
    "    print(compute_turgor_from_psi(pi_ft=2, e_symp=3, psi=[each_psi]))\n",
    "\n"
   ]
  }
 ],
 "metadata": {
  "kernelspec": {
   "display_name": "python3",
   "language": "python",
   "name": "python3"
  },
  "language_info": {
   "name": "python",
   "version": "3.9.18"
  }
 },
 "nbformat": 4,
 "nbformat_minor": 4
}
