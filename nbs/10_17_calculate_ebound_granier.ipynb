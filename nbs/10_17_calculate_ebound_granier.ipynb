{
 "cells": [
  {
   "cell_type": "raw",
   "metadata": {},
   "source": [
    "---\n",
    "description: 'AUTHORS: __Julien Ruffault (julien.ruff@gmail.com), Nicolas Martin-StPaul\n",
    "  (nicolas.martin@inrae.fr)__'\n",
    "output-file: calculate_ebound_granier.html\n",
    "title: Calculate ebound Granier\n",
    "---\n",
    "\n"
   ]
  },
  {
   "cell_type": "code",
   "execution_count": null,
   "metadata": {},
   "outputs": [],
   "source": [
    "# | default_exp calculate_ebound_granier"
   ]
  },
  {
   "cell_type": "code",
   "execution_count": null,
   "metadata": {},
   "outputs": [],
   "source": [
    "# | hide\n",
    "from nbdev.showdoc import *\n",
    "from fastcore.test import *"
   ]
  },
  {
   "cell_type": "code",
   "execution_count": null,
   "metadata": {},
   "outputs": [],
   "source": [
    "# | export\n",
    "import numpy as np\n",
    "from sureau_ecos_py.calculate_ebound_mm_granier import calculate_ebound_mm_granier\n",
    "from sureau_ecos_py.convert_flux_from_mm_to_mmolm2s import convert_flux_from_mm_to_mmolm2s"
   ]
  },
  {
   "cell_type": "code",
   "execution_count": null,
   "metadata": {},
   "outputs": [],
   "source": [
    "# | export\n",
    "\n",
    "def calculate_ebound_granier(etp:float, # Unknown parameter definition\n",
    "                            lai:float, # Leaf area index of the stand (m2leaf.m-2soil)\n",
    "                            time_step:float, # Time step (in hours)\n",
    "                            ) -> float:\n",
    "\n",
    "        \"No description found in R source code\"\n",
    "\n",
    "        ebound_mm = calculate_ebound_mm_granier(etp = etp,\n",
    "                                                lai = lai)\n",
    "\n",
    "        return convert_flux_from_mm_to_mmolm2s(x = ebound_mm,\n",
    "                                               time_step = time_step,\n",
    "                                               lai = lai)\n"
   ]
  },
  {
   "cell_type": "markdown",
   "metadata": {},
   "source": [
    "## Run function"
   ]
  },
  {
   "cell_type": "code",
   "execution_count": null,
   "metadata": {},
   "outputs": [
    {
     "name": "stdout",
     "output_type": "stream",
     "text": [
      "0.6275720164609054\n"
     ]
    }
   ],
   "source": [
    "print(calculate_ebound_granier(etp = 1,\n",
    "                               lai = 2,\n",
    "                               time_step= 3\n",
    "                               ))"
   ]
  }
 ],
 "metadata": {
  "kernelspec": {
   "display_name": "python3",
   "language": "python",
   "name": "python3"
  }
 },
 "nbformat": 4,
 "nbformat_minor": 4
}
