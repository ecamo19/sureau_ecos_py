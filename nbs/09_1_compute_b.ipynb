{
 "cells": [
  {
   "cell_type": "raw",
   "metadata": {},
   "source": [
    "---\n",
    "description: 'AUTHORS: __Julien Ruffault (julien.ruff@gmail.com), Nicolas Martin-StPaul\n",
    "  (nicolas.martin@inrae.fr)__'\n",
    "output-file: compute_b.html\n",
    "title: Compute b\n",
    "\n",
    "---\n",
    "\n"
   ]
  },
  {
   "cell_type": "code",
   "execution_count": null,
   "metadata": {},
   "outputs": [],
   "source": [
    "# | default_exp compute_b"
   ]
  },
  {
   "cell_type": "code",
   "execution_count": null,
   "metadata": {},
   "outputs": [],
   "source": [
    "# | hide\n",
    "from nbdev.showdoc import *\n",
    "from fastcore.test import *"
   ]
  },
  {
   "cell_type": "code",
   "execution_count": null,
   "metadata": {},
   "outputs": [],
   "source": [
    "# | export\n",
    "import numpy as np\n",
    "from math import pi"
   ]
  },
  {
   "cell_type": "code",
   "execution_count": null,
   "metadata": {},
   "outputs": [],
   "source": [
    "# | export\n",
    "def compute_b(lv: float # length of fine root per unit volume\n",
    "              )->float:\n",
    "\n",
    "    \"Calculate b used to compute the B of the Gardnar-Cowen model\"\n",
    "\n",
    "    return 1 / np.sqrt(pi * lv)"
   ]
  }
 ],
 "metadata": {
  "kernelspec": {
   "display_name": "python3",
   "language": "python",
   "name": "python3"
  }
 },
 "nbformat": 4,
 "nbformat_minor": 4
}
