{
 "cells": [
  {
   "cell_type": "raw",
   "metadata": {},
   "source": [
    "---\n",
    "description: 'AUTHORS: __Julien Ruffault (julien.ruff@gmail.com), Nicolas Martin-StPaul\n",
    "  (nicolas.martin@inrae.fr)__'\n",
    "output-file: compute_vpd.html\n",
    "title: Compute Vapour Pressure Deficit\n",
    "\n",
    "---\n",
    "\n"
   ]
  },
  {
   "cell_type": "code",
   "execution_count": null,
   "metadata": {
    "vscode": {
     "languageId": "python"
    }
   },
   "outputs": [],
   "source": [
    "# | default_exp compute_vpd_from_t_rh"
   ]
  },
  {
   "cell_type": "code",
   "execution_count": null,
   "metadata": {
    "vscode": {
     "languageId": "python"
    }
   },
   "outputs": [],
   "source": [
    "# | hide\n",
    "from nbdev.showdoc import *\n",
    "from fastcore.test import *"
   ]
  },
  {
   "cell_type": "code",
   "execution_count": null,
   "metadata": {
    "vscode": {
     "languageId": "python"
    }
   },
   "outputs": [],
   "source": [
    "# | export\n",
    "import numpy as np"
   ]
  },
  {
   "cell_type": "code",
   "execution_count": null,
   "metadata": {
    "vscode": {
     "languageId": "python"
    }
   },
   "outputs": [],
   "source": [
    "# | export\n",
    "\n",
    "\n",
    "def compute_vpd_from_t_rh(\n",
    "    relative_humidity: float,  # Air `relative_humidity` (%)\n",
    "    temperature: float,  # Air `temperature` (degrees Celsius)\n",
    "    air_pressure: float = 101325, # Unknown parameter definition\n",
    ")-> float:  # Air `pressure`, used?\n",
    "    \"Compute vapor pressure deficit (VPD) from air `relative humidity` and air `temperature`\"\n",
    "\n",
    "    # Constants -----------------------------------------------------------------\n",
    "\n",
    "    # molar weight dry air (g/mol)\n",
    "    mass = 28.966\n",
    "\n",
    "    # molar weight H20 H2O(g/mol) Mh2o not used in this function??\n",
    "    mass_h2o = 18\n",
    "\n",
    "    # Perfect gas constant %J/mol/K\n",
    "    rgz = 8.314472\n",
    "\n",
    "    # conversion of temperature in K\n",
    "    temp_kelvin = temperature + 273.15\n",
    "\n",
    "    # D_air not used in this function??\n",
    "    d_air = ((air_pressure) / (rgz * (temp_kelvin))) * mass\n",
    "\n",
    "    # Compute VPD -------------------------------------------------------------\n",
    "    es = 6.108 * np.exp(17.27 * temperature / (237.2 + temperature)) * 100\n",
    "\n",
    "    ea = relative_humidity * es / 100\n",
    "\n",
    "    vpd = (es - ea) / 1000\n",
    "\n",
    "    if vpd < 0:\n",
    "        vpd = 0\n",
    "\n",
    "    return vpd"
   ]
  },
  {
   "cell_type": "markdown",
   "metadata": {},
   "source": [
    "## Compute VPD"
   ]
  },
  {
   "cell_type": "code",
   "execution_count": null,
   "metadata": {
    "vscode": {
     "languageId": "python"
    }
   },
   "outputs": [
    {
     "data": {
      "text/plain": [
       "0.6339533962744358"
      ]
     },
     "execution_count": null,
     "metadata": {},
     "output_type": "execute_result"
    }
   ],
   "source": [
    "compute_vpd_from_t_rh(relative_humidity=80, temperature=25)"
   ]
  },
  {
   "cell_type": "code",
   "execution_count": null,
   "metadata": {
    "vscode": {
     "languageId": "python"
    }
   },
   "outputs": [],
   "source": [
    "# | hide\n",
    "\n",
    "# Test that function return a positive value\n",
    "assert compute_vpd_from_t_rh(relative_humidity=80, temperature=25) > 0"
   ]
  },
  {
   "cell_type": "code",
   "execution_count": null,
   "metadata": {
    "vscode": {
     "languageId": "python"
    }
   },
   "outputs": [
    {
     "data": {
      "text/plain": [
       "True"
      ]
     },
     "execution_count": null,
     "metadata": {},
     "output_type": "execute_result"
    }
   ],
   "source": [
    "# | hide\n",
    "\n",
    "# Test that function return a known anwser\n",
    "is_close(\n",
    "    compute_vpd_from_t_rh(relative_humidity=80, temperature=25),\n",
    "    # Value from https://cales.arizona.edu/vpdcalc/\n",
    "    0.634,\n",
    "    eps=1e-02,\n",
    ")"
   ]
  }
 ],
 "metadata": {
  "kernelspec": {
   "display_name": "python3",
   "language": "python",
   "name": "python3"
  }
 },
 "nbformat": 4,
 "nbformat_minor": 4
}
