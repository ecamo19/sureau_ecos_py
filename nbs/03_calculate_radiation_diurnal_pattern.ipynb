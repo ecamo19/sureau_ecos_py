{
 "cells": [
  {
   "cell_type": "raw",
   "metadata": {},
   "source": [
    "---\n",
    "description: 'AUTHORS: __Julien Ruffault (julien.ruff@gmail.com), Nicolas Martin-StPaul\n",
    "  (nicolas.martin@inrae.fr)__'\n",
    "output-file: calculate_radiation_diurnal_pattern.html\n",
    "title: Calculate radiation diurnal pattern\n",
    "\n",
    "---\n",
    "\n"
   ]
  },
  {
   "cell_type": "code",
   "execution_count": null,
   "metadata": {},
   "outputs": [],
   "source": [
    "# | default_exp calculate_radiation_diurnal_pattern"
   ]
  },
  {
   "cell_type": "code",
   "execution_count": null,
   "metadata": {},
   "outputs": [],
   "source": [
    "# | hide\n",
    "from nbdev.showdoc import *\n",
    "from fastcore.test import *"
   ]
  },
  {
   "cell_type": "code",
   "execution_count": null,
   "metadata": {},
   "outputs": [],
   "source": [
    "# | export\n",
    "from typing import List\n",
    "from math import pi, cos, sin"
   ]
  },
  {
   "cell_type": "code",
   "execution_count": null,
   "metadata": {},
   "outputs": [],
   "source": [
    "# | export\n",
    "\n",
    "\n",
    "def calculate_radiation_diurnal_pattern(\n",
    "    time_of_the_day: List[\n",
    "        int\n",
    "    ],  # a numeric value of vector indicating the time of the day (in seconds)\n",
    "    day_length: int,  # value indicating the duration of the day (in seconds)\n",
    "):\n",
    "    \"Calculated diurnal pattern of temperature assuming a sinusoidal pattern with T = tmin at sunrise and T = (tmin + tmax)/2 at sunset. From sunset to sunrise follows a linear trend\"\n",
    "\n",
    "    # calculate_radiation_diurnal_pattern ----------------------------------\n",
    "\n",
    "    # sunrise\n",
    "    ws = (day_length / 3600.0) * (pi / 24.0)\n",
    "    w = ws - (time_of_the_day / day_length) * (ws * 2.0)\n",
    "\n",
    "    prop = ((pi / 24.0) * (cos(w) - cos(ws))) / (sin(ws) - ws * cos(ws))\n",
    "\n",
    "    return prop / 3600.0"
   ]
  },
  {
   "cell_type": "code",
   "execution_count": null,
   "metadata": {},
   "outputs": [
    {
     "data": {
      "text/plain": [
       "0.0036562495459173377"
      ]
     },
     "execution_count": null,
     "metadata": {},
     "output_type": "execute_result"
    }
   ],
   "source": [
    "calculate_radiation_diurnal_pattern(time_of_the_day=1, day_length=40)"
   ]
  }
 ],
 "metadata": {
  "kernelspec": {
   "display_name": "python3",
   "language": "python",
   "name": "python3"
  }
 },
 "nbformat": 4,
 "nbformat_minor": 4
}
