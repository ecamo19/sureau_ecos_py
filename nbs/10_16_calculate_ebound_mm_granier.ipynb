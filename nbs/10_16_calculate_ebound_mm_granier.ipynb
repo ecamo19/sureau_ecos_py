{
 "cells": [
  {
   "cell_type": "raw",
   "metadata": {},
   "source": [
    "---\n",
    "description: 'AUTHORS: __Julien Ruffault (julien.ruff@gmail.com), Nicolas Martin-StPaul\n",
    "  (nicolas.martin@inrae.fr)__'\n",
    "output-file: calculate_ebound_mm_granier.html\n",
    "title: Calculate ebound mm granier\n",
    "---\n",
    "\n"
   ]
  },
  {
   "cell_type": "code",
   "execution_count": null,
   "metadata": {},
   "outputs": [],
   "source": [
    "# | default_exp calculate_ebound_mm_granier"
   ]
  },
  {
   "cell_type": "code",
   "execution_count": null,
   "metadata": {},
   "outputs": [],
   "source": [
    "# | hide\n",
    "from nbdev.showdoc import *\n",
    "from fastcore.test import *"
   ]
  },
  {
   "cell_type": "code",
   "execution_count": 2,
   "metadata": {},
   "outputs": [],
   "source": [
    "# | export\n",
    "import numpy as np"
   ]
  },
  {
   "cell_type": "code",
   "execution_count": 4,
   "metadata": {},
   "outputs": [],
   "source": [
    "# | export\n",
    "\n",
    "def calculate_ebound_mm_granier(etp:float, # Unknown parameter definition\n",
    "                                lai:float, # Leaf area index of the stand (m2leaf.m-2soil)\n",
    "                                a:float = -0.006, # Unknown parameter definition\n",
    "                                b:float = 0.134, # Unknown parameter definition\n",
    "                                c:float = 0 # Unknown parameter definition\n",
    "    ) -> float:\n",
    "\n",
    "        \"No description found in R source code\"\n",
    "\n",
    "        # Get the maximum value\n",
    "        # Example of np.maximum: np.maximum(5, [1,2,6]) == array([5, 5, 6])\n",
    "        return np.maximum(0, etp * (a * lai**2 + b * lai + c))\n",
    "\n"
   ]
  }
 ],
 "metadata": {
  "kernelspec": {
   "display_name": "python3",
   "language": "python",
   "name": "python3"
  },
  "language_info": {
   "codemirror_mode": {
    "name": "ipython",
    "version": 3
   },
   "file_extension": ".py",
   "mimetype": "text/x-python",
   "name": "python",
   "nbconvert_exporter": "python",
   "pygments_lexer": "ipython3",
   "version": "3.9.18"
  }
 },
 "nbformat": 4,
 "nbformat_minor": 4
}
