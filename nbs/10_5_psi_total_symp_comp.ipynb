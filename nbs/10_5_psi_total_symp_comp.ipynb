{
 "cells": [
  {
   "cell_type": "raw",
   "metadata": {},
   "source": [
    "---\n",
    "description: 'AUTHORS: __Julien Ruffault (julien.ruff@gmail.com), Nicolas Martin-StPaul\n",
    "  (nicolas.martin@inrae.fr)__'\n",
    "output-file: psi_total_symp_comp.html\n",
    "title: Compute total potential\n",
    "\n",
    "---\n",
    "\n"
   ]
  },
  {
   "cell_type": "code",
   "execution_count": null,
   "metadata": {},
   "outputs": [],
   "source": [
    "# | default_exp psi_total_symp_comp"
   ]
  },
  {
   "cell_type": "code",
   "execution_count": null,
   "metadata": {},
   "outputs": [],
   "source": [
    "# | hide\n",
    "from nbdev.showdoc import *\n",
    "from fastcore.test import *"
   ]
  },
  {
   "cell_type": "code",
   "execution_count": null,
   "metadata": {},
   "outputs": [],
   "source": [
    "# | export\n",
    "from sureau_ecos_py.turgor_comp import turgor_comp\n",
    "from sureau_ecos_py.osmo_comp import osmo_comp\n",
    "import numpy as np\n"
   ]
  },
  {
   "cell_type": "code",
   "execution_count": null,
   "metadata": {},
   "outputs": [],
   "source": [
    "# | export\n",
    "def psi_total_symp_comp(pi_ft:float, # Osmotic potential at full turgor (MPa)\n",
    "                        e_symp:float, # Modulus of elastoicoty of the Symplasm (MPa/%)\n",
    "                        r_stemp:float # Unknown parameter definition\n",
    "                        ) -> float:\n",
    "\n",
    "        \"Compute Total potential\"\n",
    "        turgor_comp = turgor_comp(pi_ft = pi_ft,\n",
    "                           e_symp = e_symp,\n",
    "                           r_stemp = r_stemp)\n",
    "\n",
    "        osmo_comp = osmo_comp(pi_ft = pi_ft,\n",
    "                              r_stemp = r_stemp)\n",
    "\n",
    "        return turgor_comp + osmo_comp"
   ]
  }
 ],
 "metadata": {
  "kernelspec": {
   "display_name": "python3",
   "language": "python",
   "name": "python3"
  },
  "language_info": {
   "name": "python",
   "version": "3.9.18"
  }
 },
 "nbformat": 4,
 "nbformat_minor": 4
}
